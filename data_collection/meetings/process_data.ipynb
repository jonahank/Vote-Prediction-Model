{
 "cells": [
  {
   "cell_type": "code",
   "execution_count": 1,
   "metadata": {},
   "outputs": [],
   "source": [
    "import os\n",
    "os.chdir(\"../../\")"
   ]
  },
  {
   "cell_type": "code",
   "execution_count": 2,
   "metadata": {},
   "outputs": [],
   "source": [
    "## Imports\n",
    "import pandas as pd\n"
   ]
  },
  {
   "cell_type": "code",
   "execution_count": 56,
   "metadata": {},
   "outputs": [],
   "source": [
    "## Load FT meetings\n",
    "df1 = pd.read_pickle(\"./data_collection/meetings/ft_meetings_2012-2021.pkl\")\n",
    "df = pd.read_pickle(\"./data_collection/meetings/ft_meetings_latest_2years.pkl\")"
   ]
  },
  {
   "cell_type": "code",
   "execution_count": 57,
   "metadata": {},
   "outputs": [
    {
     "name": "stdout",
     "output_type": "stream",
     "text": [
      "72551\n"
     ]
    },
    {
     "data": {
      "text/html": [
       "<div>\n",
       "<style scoped>\n",
       "    .dataframe tbody tr th:only-of-type {\n",
       "        vertical-align: middle;\n",
       "    }\n",
       "\n",
       "    .dataframe tbody tr th {\n",
       "        vertical-align: top;\n",
       "    }\n",
       "\n",
       "    .dataframe thead th {\n",
       "        text-align: right;\n",
       "    }\n",
       "</style>\n",
       "<table border=\"1\" class=\"dataframe\">\n",
       "  <thead>\n",
       "    <tr style=\"text-align: right;\">\n",
       "      <th></th>\n",
       "      <th>speaker</th>\n",
       "      <th>time</th>\n",
       "      <th>text</th>\n",
       "      <th>year</th>\n",
       "      <th>month</th>\n",
       "    </tr>\n",
       "  </thead>\n",
       "  <tbody>\n",
       "    <tr>\n",
       "      <th>0</th>\n",
       "      <td>Formanden Henrik Dam Kristensen</td>\n",
       "      <td>2020-11-25 H13:00</td>\n",
       "      <td>Mødet er åbnet.</td>\n",
       "      <td>2020</td>\n",
       "      <td>11</td>\n",
       "    </tr>\n",
       "  </tbody>\n",
       "</table>\n",
       "</div>"
      ],
      "text/plain": [
       "                           speaker               time             text  year  \\\n",
       "0  Formanden Henrik Dam Kristensen  2020-11-25 H13:00  Mødet er åbnet.  2020   \n",
       "\n",
       "   month  \n",
       "0     11  "
      ]
     },
     "execution_count": 57,
     "metadata": {},
     "output_type": "execute_result"
    }
   ],
   "source": [
    "df[\"year\"] = df[\"time\"].str[:4].astype(int)\n",
    "df[\"month\"] = df[\"time\"].str[5:7].astype(int)\n",
    "print(len(df))\n",
    "df.head(1)"
   ]
  },
  {
   "cell_type": "code",
   "execution_count": 58,
   "metadata": {},
   "outputs": [
    {
     "name": "stdout",
     "output_type": "stream",
     "text": [
      "61139\n"
     ]
    },
    {
     "data": {
      "text/html": [
       "<div>\n",
       "<style scoped>\n",
       "    .dataframe tbody tr th:only-of-type {\n",
       "        vertical-align: middle;\n",
       "    }\n",
       "\n",
       "    .dataframe tbody tr th {\n",
       "        vertical-align: top;\n",
       "    }\n",
       "\n",
       "    .dataframe thead th {\n",
       "        text-align: right;\n",
       "    }\n",
       "</style>\n",
       "<table border=\"1\" class=\"dataframe\">\n",
       "  <thead>\n",
       "    <tr style=\"text-align: right;\">\n",
       "      <th></th>\n",
       "      <th>speaker</th>\n",
       "      <th>time</th>\n",
       "      <th>text</th>\n",
       "      <th>year</th>\n",
       "      <th>month</th>\n",
       "    </tr>\n",
       "  </thead>\n",
       "  <tbody>\n",
       "    <tr>\n",
       "      <th>11412</th>\n",
       "      <td>Den fg. formand Christian Juhl</td>\n",
       "      <td>2021-01-12 H13:15</td>\n",
       "      <td>Forhandlingen er åbnet, og den første, der får...</td>\n",
       "      <td>2021</td>\n",
       "      <td>1</td>\n",
       "    </tr>\n",
       "  </tbody>\n",
       "</table>\n",
       "</div>"
      ],
      "text/plain": [
       "                              speaker               time  \\\n",
       "11412  Den fg. formand Christian Juhl  2021-01-12 H13:15   \n",
       "\n",
       "                                                    text  year  month  \n",
       "11412  Forhandlingen er åbnet, og den første, der får...  2021      1  "
      ]
     },
     "execution_count": 58,
     "metadata": {},
     "output_type": "execute_result"
    }
   ],
   "source": [
    "df = df[df[\"year\"]>2020]\n",
    "print(len(df))\n",
    "df.head(1)"
   ]
  },
  {
   "cell_type": "code",
   "execution_count": 59,
   "metadata": {},
   "outputs": [
    {
     "name": "stdout",
     "output_type": "stream",
     "text": [
      "21698\n"
     ]
    },
    {
     "data": {
      "text/html": [
       "<div>\n",
       "<style scoped>\n",
       "    .dataframe tbody tr th:only-of-type {\n",
       "        vertical-align: middle;\n",
       "    }\n",
       "\n",
       "    .dataframe tbody tr th {\n",
       "        vertical-align: top;\n",
       "    }\n",
       "\n",
       "    .dataframe thead th {\n",
       "        text-align: right;\n",
       "    }\n",
       "</style>\n",
       "<table border=\"1\" class=\"dataframe\">\n",
       "  <thead>\n",
       "    <tr style=\"text-align: right;\">\n",
       "      <th></th>\n",
       "      <th>speaker</th>\n",
       "      <th>time</th>\n",
       "      <th>text</th>\n",
       "      <th>year</th>\n",
       "      <th>month</th>\n",
       "    </tr>\n",
       "  </thead>\n",
       "  <tbody>\n",
       "    <tr>\n",
       "      <th>50853</th>\n",
       "      <td>Første næstformand Karen Ellemann</td>\n",
       "      <td>2021-08-26 H13:00</td>\n",
       "      <td>Forhandlingen er åbnet, og den første ordfører...</td>\n",
       "      <td>2021</td>\n",
       "      <td>8</td>\n",
       "    </tr>\n",
       "  </tbody>\n",
       "</table>\n",
       "</div>"
      ],
      "text/plain": [
       "                                 speaker               time  \\\n",
       "50853  Første næstformand Karen Ellemann  2021-08-26 H13:00   \n",
       "\n",
       "                                                    text  year  month  \n",
       "50853  Forhandlingen er åbnet, og den første ordfører...  2021      8  "
      ]
     },
     "execution_count": 59,
     "metadata": {},
     "output_type": "execute_result"
    }
   ],
   "source": [
    "df = df[(df[\"year\"]>2021) | (df[\"month\"]>=7)]\n",
    "print(len(df))\n",
    "df.head(1)"
   ]
  },
  {
   "cell_type": "code",
   "execution_count": 60,
   "metadata": {},
   "outputs": [],
   "source": [
    "## Clean speaker col\n",
    "from utils.functions import load_speaker_fix_dict, load_fix_party_affiliations\n",
    "import re\n",
    "pattern, rep = load_speaker_fix_dict()\n",
    "replace_dict = {'Tredje næstformand':'', 'Anden næstformand':'', 'Skatteministeren':'',\n",
    "                       'Miljøministeren':'', 'Fødevareministeren':'', 'Statsministeren':'', 'Kirkeministeren':'',\n",
    "                       'Uddannelses- og forskningsministeren':'', 'Ministeren for sundhed og forebyggelse':'','og kirke':'',\n",
    "                       'Erhvervs- og vækstministeren':'', 'Undervisningsministeren':'', 'Udenrigsministeren':'',\n",
    "                       'Den fg. formand':'', 'Forsvarsministeren':'', 'Fjerde næstformand':'', 'Formanden':'',\n",
    "                       'Handels- og udviklingsministeren': '', 'Transportministeren':'','Udviklingsministeren':'',\n",
    "                       'Aldersformanden (Bertel Haarder)':'','Aldersformanden':'','Ministeren for ligestilling og kirke':'',\n",
    "                       'Ministeren for børn, ligestilling, integration og sociale forhold':'','Kulturministeren':'',\n",
    "                       'Ministeren for by, bolig og landdistrikter':'', 'Ministeren for nordisk samarbejde':'',\n",
    "                       'Justitsministeren':'', 'Økonomi- og indenrigsministeren':'', 'Finansministeren':'',\n",
    "                       'Første næstformand':'', 'Beskæftigelsesministeren':'','Ældreministeren':'',\n",
    "                       'Klima-, energi- og bygningsministeren':'', 'Miljø- og fødevareministeren':'',\n",
    "                       'Udlændinge-, integrations- og boligministeren':'', 'Social- og indenrigsministeren':'',\n",
    "                       'Miljø- og fødevareministeren':'','Sundheds- og ældreministeren':'',\n",
    "                       'Ministeren for børn, undervisning og ligestilling':'','Transport- og bygningsministeren':'', \n",
    "                       'Energi-, forsynings- og klimaministeren':'','Børne- og socialministeren':'',\n",
    "                       'Sundhedsministeren':'','Ministeren for offentlig innovation':'','Erhvervsministeren':'',\n",
    "                       'Transport-, bygnings- og boligministeren':'','Udlændinge- og integrationsministeren':'',\n",
    "                       'Ministeren for ligestilling':'','Ministeren for udviklingssamarbejde':'',\n",
    "                       'Ministeren for fiskeri og ligestilling':'','Social-, børne- og integrationsministeren':'',\n",
    "                       'Ministeren for forskning, innovation og videregående uddannelser':'',\n",
    "                       'Handels- og europaministeren':'','Ministeren for fødevarer, fiskeri og ligestilling':'',\n",
    "                       'Boligministeren':'','Børne- og undervisningsministeren':'',\n",
    "                        'Klima-, energi- og forsyningsministeren':'','Ministeren for fødevarer, landbrug og fiskeri':'',\n",
    "                        'Beskæftigelsesminister og minister for ligestilling':'',\n",
    "\n",
    "                    # also fix other strange things in data\n",
    "                       '(Bertel Haarder) Bertel Haarder': 'Bertel Haarder (V)',\n",
    "                       'Hans Christian Schmidt Hans Christian Schmidt':'Hans Christian Schmidt (V)',\n",
    "                       'Karen Ellemann Karen Ellemann':'Karen Ellemann (V)',\n",
    "                       'Peter Christensen Peter Christensen':'Peter Christensen (V)', \n",
    "                       'Karsten Lauritzen Karsten Lauritzen':'Karsten Lauritzen (V)',\n",
    "                       'Kristian Jensen Kristian Jensen':'Kristian Jensen (V)',\n",
    "                       'Søren Pape Poulsen Søren Pape Poulsen':'Søren Pape Poulsen (KF)',\n",
    "                       'Ole Birk Olesen Ole Birk Olesen':'Ole Birk Olesen (LA)',\n",
    "                       'Eva Kjer Hansen Eva Kjer Hansen':'Eva Kjer Hansen (V)',\n",
    "                       'Morten Østergaard Morten Østergaard':'Morten Østergaard (RV)',\n",
    "                       'Nick Hækkerup Nick Hækkerup':'Nick Hækkerup (S)',\n",
    "                       'Rasmus Helveg Petersen Rasmus Helveg Petersen':'Rasmus Helveg Petersen (RV)',\n",
    "                       'Benny Engelbrecht Benny Engelbrecht':'Benny Engelbrecht','Rasmus Prehn Rasmus Prehn':'Rasmus Prehn',\n",
    "                       'Mette Frederiksen Mette Frederiksen':'Mette Frederiksen','Mogens Jensen Mogens Jensen':'Mogens Jensen',\n",
    "                       'Morten Bødskov Morten Bødskov':'Morten Bødskov'}\n"
   ]
  },
  {
   "cell_type": "code",
   "execution_count": 61,
   "metadata": {},
   "outputs": [],
   "source": [
    "def clean_names2(row):\n",
    "    match = re.findall(pattern, row)\n",
    "    if len(match) > 0:\n",
    "        clean1 = row[len(match[0]):].strip()\n",
    "        if clean1 == \"\":\n",
    "            match = re.findall(pattern, row)\n",
    "            if len(match) > 0 :\n",
    "                return re.sub(pattern, replace_dict.get(match[0]), row)\n",
    "            else: return \"MISSING\"\n",
    "        else: return clean1\n",
    "    else: return row\n"
   ]
  },
  {
   "cell_type": "code",
   "execution_count": 62,
   "metadata": {},
   "outputs": [],
   "source": [
    "\n",
    "df[\"speaker_clean\"] = df.apply(lambda row: clean_names2(row[\"speaker\"]), axis=1)"
   ]
  },
  {
   "cell_type": "code",
   "execution_count": 63,
   "metadata": {},
   "outputs": [
    {
     "data": {
      "text/html": [
       "<div>\n",
       "<style scoped>\n",
       "    .dataframe tbody tr th:only-of-type {\n",
       "        vertical-align: middle;\n",
       "    }\n",
       "\n",
       "    .dataframe tbody tr th {\n",
       "        vertical-align: top;\n",
       "    }\n",
       "\n",
       "    .dataframe thead th {\n",
       "        text-align: right;\n",
       "    }\n",
       "</style>\n",
       "<table border=\"1\" class=\"dataframe\">\n",
       "  <thead>\n",
       "    <tr style=\"text-align: right;\">\n",
       "      <th></th>\n",
       "      <th>speaker</th>\n",
       "      <th>time</th>\n",
       "      <th>text</th>\n",
       "      <th>year</th>\n",
       "      <th>month</th>\n",
       "      <th>speaker_clean</th>\n",
       "    </tr>\n",
       "  </thead>\n",
       "  <tbody>\n",
       "    <tr>\n",
       "      <th>50853</th>\n",
       "      <td>Første næstformand Karen Ellemann</td>\n",
       "      <td>2021-08-26 H13:00</td>\n",
       "      <td>Forhandlingen er åbnet, og den første ordfører...</td>\n",
       "      <td>2021</td>\n",
       "      <td>8</td>\n",
       "      <td>Karen Ellemann</td>\n",
       "    </tr>\n",
       "  </tbody>\n",
       "</table>\n",
       "</div>"
      ],
      "text/plain": [
       "                                 speaker               time  \\\n",
       "50853  Første næstformand Karen Ellemann  2021-08-26 H13:00   \n",
       "\n",
       "                                                    text  year  month  \\\n",
       "50853  Forhandlingen er åbnet, og den første ordfører...  2021      8   \n",
       "\n",
       "        speaker_clean  \n",
       "50853  Karen Ellemann  "
      ]
     },
     "execution_count": 63,
     "metadata": {},
     "output_type": "execute_result"
    }
   ],
   "source": [
    "df.head(1)"
   ]
  },
  {
   "cell_type": "code",
   "execution_count": 64,
   "metadata": {},
   "outputs": [
    {
     "data": {
      "text/plain": [
       "'(S)'"
      ]
     },
     "execution_count": 64,
     "metadata": {},
     "output_type": "execute_result"
    }
   ],
   "source": [
    "parties = load_fix_party_affiliations()\n",
    "def party_affil1(row):\n",
    "    if parties.get(row) == None:\n",
    "        return row\n",
    "    else:\n",
    "        return row + \" \" + parties.get(row)\n",
    "\n",
    "def party_affil2(row):\n",
    "    return row.split(\" \")[-1]\n",
    "\n",
    "parties.get(\"Henrik Dam Kristensen\")"
   ]
  },
  {
   "cell_type": "code",
   "execution_count": 65,
   "metadata": {},
   "outputs": [
    {
     "data": {
      "text/html": [
       "<div>\n",
       "<style scoped>\n",
       "    .dataframe tbody tr th:only-of-type {\n",
       "        vertical-align: middle;\n",
       "    }\n",
       "\n",
       "    .dataframe tbody tr th {\n",
       "        vertical-align: top;\n",
       "    }\n",
       "\n",
       "    .dataframe thead th {\n",
       "        text-align: right;\n",
       "    }\n",
       "</style>\n",
       "<table border=\"1\" class=\"dataframe\">\n",
       "  <thead>\n",
       "    <tr style=\"text-align: right;\">\n",
       "      <th></th>\n",
       "      <th>speaker</th>\n",
       "      <th>time</th>\n",
       "      <th>text</th>\n",
       "      <th>year</th>\n",
       "      <th>month</th>\n",
       "      <th>speaker_clean</th>\n",
       "      <th>speaker_cleaner</th>\n",
       "    </tr>\n",
       "  </thead>\n",
       "  <tbody>\n",
       "    <tr>\n",
       "      <th>50853</th>\n",
       "      <td>Første næstformand Karen Ellemann</td>\n",
       "      <td>2021-08-26 H13:00</td>\n",
       "      <td>Forhandlingen er åbnet, og den første ordfører...</td>\n",
       "      <td>2021</td>\n",
       "      <td>8</td>\n",
       "      <td>Karen Ellemann</td>\n",
       "      <td>Karen Ellemann (V)</td>\n",
       "    </tr>\n",
       "  </tbody>\n",
       "</table>\n",
       "</div>"
      ],
      "text/plain": [
       "                                 speaker               time  \\\n",
       "50853  Første næstformand Karen Ellemann  2021-08-26 H13:00   \n",
       "\n",
       "                                                    text  year  month  \\\n",
       "50853  Forhandlingen er åbnet, og den første ordfører...  2021      8   \n",
       "\n",
       "        speaker_clean     speaker_cleaner  \n",
       "50853  Karen Ellemann  Karen Ellemann (V)  "
      ]
     },
     "execution_count": 65,
     "metadata": {},
     "output_type": "execute_result"
    }
   ],
   "source": [
    "df[\"speaker_cleaner\"] = df.apply(lambda row: party_affil1(row[\"speaker_clean\"]), axis=1)\n",
    "df.head(1)"
   ]
  },
  {
   "cell_type": "code",
   "execution_count": 66,
   "metadata": {},
   "outputs": [
    {
     "data": {
      "text/html": [
       "<div>\n",
       "<style scoped>\n",
       "    .dataframe tbody tr th:only-of-type {\n",
       "        vertical-align: middle;\n",
       "    }\n",
       "\n",
       "    .dataframe tbody tr th {\n",
       "        vertical-align: top;\n",
       "    }\n",
       "\n",
       "    .dataframe thead th {\n",
       "        text-align: right;\n",
       "    }\n",
       "</style>\n",
       "<table border=\"1\" class=\"dataframe\">\n",
       "  <thead>\n",
       "    <tr style=\"text-align: right;\">\n",
       "      <th></th>\n",
       "      <th>speaker</th>\n",
       "      <th>time</th>\n",
       "      <th>text</th>\n",
       "      <th>year</th>\n",
       "      <th>month</th>\n",
       "      <th>speaker_clean</th>\n",
       "      <th>speaker_cleaner</th>\n",
       "      <th>party</th>\n",
       "    </tr>\n",
       "  </thead>\n",
       "  <tbody>\n",
       "    <tr>\n",
       "      <th>50853</th>\n",
       "      <td>Første næstformand Karen Ellemann</td>\n",
       "      <td>2021-08-26 H13:00</td>\n",
       "      <td>Forhandlingen er åbnet, og den første ordfører...</td>\n",
       "      <td>2021</td>\n",
       "      <td>8</td>\n",
       "      <td>Karen Ellemann</td>\n",
       "      <td>Karen Ellemann (V)</td>\n",
       "      <td>(V)</td>\n",
       "    </tr>\n",
       "  </tbody>\n",
       "</table>\n",
       "</div>"
      ],
      "text/plain": [
       "                                 speaker               time  \\\n",
       "50853  Første næstformand Karen Ellemann  2021-08-26 H13:00   \n",
       "\n",
       "                                                    text  year  month  \\\n",
       "50853  Forhandlingen er åbnet, og den første ordfører...  2021      8   \n",
       "\n",
       "        speaker_clean     speaker_cleaner party  \n",
       "50853  Karen Ellemann  Karen Ellemann (V)   (V)  "
      ]
     },
     "execution_count": 66,
     "metadata": {},
     "output_type": "execute_result"
    }
   ],
   "source": [
    "df[\"party\"] = df.apply(lambda row: party_affil2(row[\"speaker_cleaner\"]), axis=1)\n",
    "df.head(1)"
   ]
  },
  {
   "cell_type": "code",
   "execution_count": 67,
   "metadata": {},
   "outputs": [
    {
     "data": {
      "text/plain": [
       "speaker            0\n",
       "time               0\n",
       "text               0\n",
       "year               0\n",
       "month              0\n",
       "speaker_clean      0\n",
       "speaker_cleaner    0\n",
       "party              0\n",
       "dtype: int64"
      ]
     },
     "execution_count": 67,
     "metadata": {},
     "output_type": "execute_result"
    }
   ],
   "source": [
    "df.isnull().sum()"
   ]
  },
  {
   "cell_type": "code",
   "execution_count": 68,
   "metadata": {},
   "outputs": [
    {
     "data": {
      "text/html": [
       "<div>\n",
       "<style scoped>\n",
       "    .dataframe tbody tr th:only-of-type {\n",
       "        vertical-align: middle;\n",
       "    }\n",
       "\n",
       "    .dataframe tbody tr th {\n",
       "        vertical-align: top;\n",
       "    }\n",
       "\n",
       "    .dataframe thead th {\n",
       "        text-align: right;\n",
       "    }\n",
       "</style>\n",
       "<table border=\"1\" class=\"dataframe\">\n",
       "  <thead>\n",
       "    <tr style=\"text-align: right;\">\n",
       "      <th></th>\n",
       "      <th>speaker</th>\n",
       "      <th>time</th>\n",
       "      <th>text</th>\n",
       "      <th>year</th>\n",
       "      <th>month</th>\n",
       "      <th>speaker_clean</th>\n",
       "      <th>speaker_cleaner</th>\n",
       "      <th>party</th>\n",
       "    </tr>\n",
       "  </thead>\n",
       "  <tbody>\n",
       "    <tr>\n",
       "      <th>50853</th>\n",
       "      <td>Første næstformand Karen Ellemann</td>\n",
       "      <td>2021-08-26 H13:00</td>\n",
       "      <td>Forhandlingen er åbnet, og den første ordfører...</td>\n",
       "      <td>2021</td>\n",
       "      <td>8</td>\n",
       "      <td>Karen Ellemann</td>\n",
       "      <td>Karen Ellemann</td>\n",
       "      <td>(V)</td>\n",
       "    </tr>\n",
       "  </tbody>\n",
       "</table>\n",
       "</div>"
      ],
      "text/plain": [
       "                                 speaker               time  \\\n",
       "50853  Første næstformand Karen Ellemann  2021-08-26 H13:00   \n",
       "\n",
       "                                                    text  year  month  \\\n",
       "50853  Forhandlingen er åbnet, og den første ordfører...  2021      8   \n",
       "\n",
       "        speaker_clean  speaker_cleaner party  \n",
       "50853  Karen Ellemann  Karen Ellemann    (V)  "
      ]
     },
     "execution_count": 68,
     "metadata": {},
     "output_type": "execute_result"
    }
   ],
   "source": [
    "def clean_names3(row):\n",
    "    return row.split(\"(\")[0]\n",
    "\n",
    "df[\"speaker_cleaner\"] = df.apply(lambda row: clean_names3(row[\"speaker_cleaner\"]), axis=1)\n",
    "df.head(1)"
   ]
  },
  {
   "cell_type": "code",
   "execution_count": 69,
   "metadata": {},
   "outputs": [
    {
     "data": {
      "text/html": [
       "<div>\n",
       "<style scoped>\n",
       "    .dataframe tbody tr th:only-of-type {\n",
       "        vertical-align: middle;\n",
       "    }\n",
       "\n",
       "    .dataframe tbody tr th {\n",
       "        vertical-align: top;\n",
       "    }\n",
       "\n",
       "    .dataframe thead th {\n",
       "        text-align: right;\n",
       "    }\n",
       "</style>\n",
       "<table border=\"1\" class=\"dataframe\">\n",
       "  <thead>\n",
       "    <tr style=\"text-align: right;\">\n",
       "      <th></th>\n",
       "      <th>speaker</th>\n",
       "      <th>time</th>\n",
       "      <th>text</th>\n",
       "      <th>year</th>\n",
       "      <th>month</th>\n",
       "      <th>speaker_clean</th>\n",
       "      <th>speaker_cleaner</th>\n",
       "      <th>party</th>\n",
       "      <th>date</th>\n",
       "    </tr>\n",
       "  </thead>\n",
       "  <tbody>\n",
       "    <tr>\n",
       "      <th>50853</th>\n",
       "      <td>Første næstformand Karen Ellemann</td>\n",
       "      <td>2021-08-26 H13:00</td>\n",
       "      <td>Forhandlingen er åbnet, og den første ordfører...</td>\n",
       "      <td>2021</td>\n",
       "      <td>8</td>\n",
       "      <td>Karen Ellemann</td>\n",
       "      <td>Karen Ellemann</td>\n",
       "      <td>(V)</td>\n",
       "      <td>2021-08-26</td>\n",
       "    </tr>\n",
       "  </tbody>\n",
       "</table>\n",
       "</div>"
      ],
      "text/plain": [
       "                                 speaker               time  \\\n",
       "50853  Første næstformand Karen Ellemann  2021-08-26 H13:00   \n",
       "\n",
       "                                                    text  year  month  \\\n",
       "50853  Forhandlingen er åbnet, og den første ordfører...  2021      8   \n",
       "\n",
       "        speaker_clean  speaker_cleaner party       date  \n",
       "50853  Karen Ellemann  Karen Ellemann    (V) 2021-08-26  "
      ]
     },
     "execution_count": 69,
     "metadata": {},
     "output_type": "execute_result"
    }
   ],
   "source": [
    "def get_time(row):\n",
    "    return row.split(\" \")[0].replace(\"-\", \"\")\n",
    "\n",
    "df[\"date\"] = df.apply(lambda row: get_time(row[\"time\"]), axis=1)\n",
    "df[\"date\"] = pd.to_datetime(df['date'], format='%Y%m%d')\n",
    "df.head(1)"
   ]
  },
  {
   "cell_type": "code",
   "execution_count": 70,
   "metadata": {},
   "outputs": [
    {
     "data": {
      "text/html": [
       "<div>\n",
       "<style scoped>\n",
       "    .dataframe tbody tr th:only-of-type {\n",
       "        vertical-align: middle;\n",
       "    }\n",
       "\n",
       "    .dataframe tbody tr th {\n",
       "        vertical-align: top;\n",
       "    }\n",
       "\n",
       "    .dataframe thead th {\n",
       "        text-align: right;\n",
       "    }\n",
       "</style>\n",
       "<table border=\"1\" class=\"dataframe\">\n",
       "  <thead>\n",
       "    <tr style=\"text-align: right;\">\n",
       "      <th></th>\n",
       "      <th>speaker</th>\n",
       "      <th>time</th>\n",
       "      <th>text</th>\n",
       "      <th>year</th>\n",
       "      <th>month</th>\n",
       "      <th>speaker_clean</th>\n",
       "      <th>speaker_cleaner</th>\n",
       "      <th>party</th>\n",
       "      <th>date</th>\n",
       "      <th>lower</th>\n",
       "    </tr>\n",
       "  </thead>\n",
       "  <tbody>\n",
       "    <tr>\n",
       "      <th>50853</th>\n",
       "      <td>Første næstformand Karen Ellemann</td>\n",
       "      <td>2021-08-26 H13:00</td>\n",
       "      <td>Forhandlingen er åbnet, og den første ordfører...</td>\n",
       "      <td>2021</td>\n",
       "      <td>8</td>\n",
       "      <td>Karen Ellemann</td>\n",
       "      <td>Karen Ellemann</td>\n",
       "      <td>(V)</td>\n",
       "      <td>2021-08-26</td>\n",
       "      <td>første næstformand karen ellemann</td>\n",
       "    </tr>\n",
       "  </tbody>\n",
       "</table>\n",
       "</div>"
      ],
      "text/plain": [
       "                                 speaker               time  \\\n",
       "50853  Første næstformand Karen Ellemann  2021-08-26 H13:00   \n",
       "\n",
       "                                                    text  year  month  \\\n",
       "50853  Forhandlingen er åbnet, og den første ordfører...  2021      8   \n",
       "\n",
       "        speaker_clean  speaker_cleaner party       date  \\\n",
       "50853  Karen Ellemann  Karen Ellemann    (V) 2021-08-26   \n",
       "\n",
       "                                   lower  \n",
       "50853  første næstformand karen ellemann  "
      ]
     },
     "execution_count": 70,
     "metadata": {},
     "output_type": "execute_result"
    }
   ],
   "source": [
    "df[\"lower\"] = df[[\"speaker\"]].applymap(str.lower)\n",
    "df.head(1)"
   ]
  },
  {
   "cell_type": "code",
   "execution_count": 71,
   "metadata": {},
   "outputs": [
    {
     "name": "stdout",
     "output_type": "stream",
     "text": [
      "21698\n",
      "10491\n"
     ]
    }
   ],
   "source": [
    "#drop all forman /facilitator quotes\n",
    "print(len(df))\n",
    "df = df[df['lower'].str.contains(\"formand\")==False]\n",
    "print(len(df))"
   ]
  },
  {
   "cell_type": "code",
   "execution_count": 72,
   "metadata": {},
   "outputs": [
    {
     "data": {
      "text/html": [
       "<div>\n",
       "<style scoped>\n",
       "    .dataframe tbody tr th:only-of-type {\n",
       "        vertical-align: middle;\n",
       "    }\n",
       "\n",
       "    .dataframe tbody tr th {\n",
       "        vertical-align: top;\n",
       "    }\n",
       "\n",
       "    .dataframe thead th {\n",
       "        text-align: right;\n",
       "    }\n",
       "</style>\n",
       "<table border=\"1\" class=\"dataframe\">\n",
       "  <thead>\n",
       "    <tr style=\"text-align: right;\">\n",
       "      <th></th>\n",
       "      <th>speaker</th>\n",
       "      <th>politician</th>\n",
       "      <th>party</th>\n",
       "      <th>text</th>\n",
       "      <th>date</th>\n",
       "    </tr>\n",
       "  </thead>\n",
       "  <tbody>\n",
       "    <tr>\n",
       "      <th>50854</th>\n",
       "      <td>Henrik Møller (S)</td>\n",
       "      <td>Henrik Møller</td>\n",
       "      <td>(S)</td>\n",
       "      <td>Tak for det. Det er jo noget af et syn hernede...</td>\n",
       "      <td>2021-08-26</td>\n",
       "    </tr>\n",
       "  </tbody>\n",
       "</table>\n",
       "</div>"
      ],
      "text/plain": [
       "                 speaker      politician party  \\\n",
       "50854  Henrik Møller (S)  Henrik Møller    (S)   \n",
       "\n",
       "                                                    text       date  \n",
       "50854  Tak for det. Det er jo noget af et syn hernede... 2021-08-26  "
      ]
     },
     "execution_count": 72,
     "metadata": {},
     "output_type": "execute_result"
    }
   ],
   "source": [
    "df_clean = df\n",
    "df_clean = df_clean[[\"speaker\",\"speaker_cleaner\", \"party\", \"text\", \"date\"]].rename(columns={\"speaker_cleaner\":\"politician\"})\n",
    "df_clean.head(1)"
   ]
  },
  {
   "cell_type": "code",
   "execution_count": 73,
   "metadata": {},
   "outputs": [
    {
     "data": {
      "text/html": [
       "<div>\n",
       "<style scoped>\n",
       "    .dataframe tbody tr th:only-of-type {\n",
       "        vertical-align: middle;\n",
       "    }\n",
       "\n",
       "    .dataframe tbody tr th {\n",
       "        vertical-align: top;\n",
       "    }\n",
       "\n",
       "    .dataframe thead th {\n",
       "        text-align: right;\n",
       "    }\n",
       "</style>\n",
       "<table border=\"1\" class=\"dataframe\">\n",
       "  <thead>\n",
       "    <tr style=\"text-align: right;\">\n",
       "      <th></th>\n",
       "      <th>speaker</th>\n",
       "      <th>politician</th>\n",
       "      <th>party</th>\n",
       "      <th>text</th>\n",
       "      <th>date</th>\n",
       "    </tr>\n",
       "  </thead>\n",
       "  <tbody>\n",
       "    <tr>\n",
       "      <th>72546</th>\n",
       "      <td>Jette Gottlieb (EL)</td>\n",
       "      <td>Jette Gottlieb</td>\n",
       "      <td>(EL)</td>\n",
       "      <td>Mange tak. Hele den her debat handler om noget...</td>\n",
       "      <td>2022-03-16</td>\n",
       "    </tr>\n",
       "    <tr>\n",
       "      <th>72468</th>\n",
       "      <td>Torsten Gejl (ALT)</td>\n",
       "      <td>Torsten Gejl</td>\n",
       "      <td>(ALT)</td>\n",
       "      <td>Hvis man nu bruger 2 mia. kr. fra udviklingsbi...</td>\n",
       "      <td>2022-03-16</td>\n",
       "    </tr>\n",
       "    <tr>\n",
       "      <th>72432</th>\n",
       "      <td>Anne Sophie Callesen (RV)</td>\n",
       "      <td>Anne Sophie Callesen</td>\n",
       "      <td>(RV)</td>\n",
       "      <td>Vi har ikke, da vi forhandler om loven, altså ...</td>\n",
       "      <td>2022-03-16</td>\n",
       "    </tr>\n",
       "    <tr>\n",
       "      <th>72434</th>\n",
       "      <td>Morten Messerschmidt (DF)</td>\n",
       "      <td>Morten Messerschmidt</td>\n",
       "      <td>(DF)</td>\n",
       "      <td>Tak, formand. Nu skal jeg jo ikke på den måde ...</td>\n",
       "      <td>2022-03-16</td>\n",
       "    </tr>\n",
       "    <tr>\n",
       "      <th>72436</th>\n",
       "      <td>Anne Sophie Callesen (RV)</td>\n",
       "      <td>Anne Sophie Callesen</td>\n",
       "      <td>(RV)</td>\n",
       "      <td>Jamen tak for forslaget. Men nej, vi kunne ald...</td>\n",
       "      <td>2022-03-16</td>\n",
       "    </tr>\n",
       "  </tbody>\n",
       "</table>\n",
       "</div>"
      ],
      "text/plain": [
       "                         speaker             politician  party  \\\n",
       "72546        Jette Gottlieb (EL)        Jette Gottlieb    (EL)   \n",
       "72468         Torsten Gejl (ALT)          Torsten Gejl   (ALT)   \n",
       "72432  Anne Sophie Callesen (RV)  Anne Sophie Callesen    (RV)   \n",
       "72434  Morten Messerschmidt (DF)  Morten Messerschmidt    (DF)   \n",
       "72436  Anne Sophie Callesen (RV)  Anne Sophie Callesen    (RV)   \n",
       "\n",
       "                                                    text       date  \n",
       "72546  Mange tak. Hele den her debat handler om noget... 2022-03-16  \n",
       "72468  Hvis man nu bruger 2 mia. kr. fra udviklingsbi... 2022-03-16  \n",
       "72432  Vi har ikke, da vi forhandler om loven, altså ... 2022-03-16  \n",
       "72434  Tak, formand. Nu skal jeg jo ikke på den måde ... 2022-03-16  \n",
       "72436  Jamen tak for forslaget. Men nej, vi kunne ald... 2022-03-16  "
      ]
     },
     "execution_count": 73,
     "metadata": {},
     "output_type": "execute_result"
    }
   ],
   "source": [
    "df_clean.sort_values(by=\"date\", ascending=False).head(5)"
   ]
  },
  {
   "cell_type": "code",
   "execution_count": 75,
   "metadata": {},
   "outputs": [],
   "source": [
    "#df.to_pickle(\"ft_meetings_2012-2021_clean.pkl\")\n",
    "df_clean.to_pickle(\"ft_meetings_2021new-2022_clean_v2_p4.pkl\",protocol=4)"
   ]
  },
  {
   "cell_type": "code",
   "execution_count": 40,
   "metadata": {},
   "outputs": [],
   "source": [
    "df_load = pd.read_pickle(\"./ft_meetings_2012-2021_clean_v2.pkl\")"
   ]
  },
  {
   "cell_type": "code",
   "execution_count": 41,
   "metadata": {},
   "outputs": [
    {
     "data": {
      "text/html": [
       "<div>\n",
       "<style scoped>\n",
       "    .dataframe tbody tr th:only-of-type {\n",
       "        vertical-align: middle;\n",
       "    }\n",
       "\n",
       "    .dataframe tbody tr th {\n",
       "        vertical-align: top;\n",
       "    }\n",
       "\n",
       "    .dataframe thead th {\n",
       "        text-align: right;\n",
       "    }\n",
       "</style>\n",
       "<table border=\"1\" class=\"dataframe\">\n",
       "  <thead>\n",
       "    <tr style=\"text-align: right;\">\n",
       "      <th></th>\n",
       "      <th>speaker</th>\n",
       "      <th>politician</th>\n",
       "      <th>party</th>\n",
       "      <th>text</th>\n",
       "      <th>date</th>\n",
       "    </tr>\n",
       "  </thead>\n",
       "  <tbody>\n",
       "    <tr>\n",
       "      <th>8</th>\n",
       "      <td>Statsministeren Helle Thorning-Schmidt</td>\n",
       "      <td>Helle Thorning-Schmidt</td>\n",
       "      <td>(S)</td>\n",
       "      <td>(Talen er under udarbejdelse) (Talen er under ...</td>\n",
       "      <td>2012-10-02</td>\n",
       "    </tr>\n",
       "    <tr>\n",
       "      <th>9</th>\n",
       "      <td>Statsministeren Helle Thorning-Schmidt</td>\n",
       "      <td>Helle Thorning-Schmidt</td>\n",
       "      <td>(S)</td>\n",
       "      <td>Vi skal bringe Danmark godt og trygt gennem kr...</td>\n",
       "      <td>2012-10-02</td>\n",
       "    </tr>\n",
       "    <tr>\n",
       "      <th>15</th>\n",
       "      <td>Kim Andersen (V)</td>\n",
       "      <td>Kim Andersen</td>\n",
       "      <td>(V)</td>\n",
       "      <td>Tak for det. Jeg vil gerne spørge erhvervsmini...</td>\n",
       "      <td>2012-10-03</td>\n",
       "    </tr>\n",
       "    <tr>\n",
       "      <th>17</th>\n",
       "      <td>Erhvervs- og vækstministeren Ole Sohn</td>\n",
       "      <td>Ole Sohn</td>\n",
       "      <td>Sohn</td>\n",
       "      <td>Jeg er helt enig med spørgeren i, at vi har en...</td>\n",
       "      <td>2012-10-03</td>\n",
       "    </tr>\n",
       "    <tr>\n",
       "      <th>19</th>\n",
       "      <td>Kim Andersen (V)</td>\n",
       "      <td>Kim Andersen</td>\n",
       "      <td>(V)</td>\n",
       "      <td>Jeg er helt med på de initiativer, der er tage...</td>\n",
       "      <td>2012-10-03</td>\n",
       "    </tr>\n",
       "  </tbody>\n",
       "</table>\n",
       "</div>"
      ],
      "text/plain": [
       "                                   speaker               politician party  \\\n",
       "8   Statsministeren Helle Thorning-Schmidt  Helle Thorning-Schmidt    (S)   \n",
       "9   Statsministeren Helle Thorning-Schmidt  Helle Thorning-Schmidt    (S)   \n",
       "15                        Kim Andersen (V)            Kim Andersen    (V)   \n",
       "17   Erhvervs- og vækstministeren Ole Sohn                 Ole Sohn  Sohn   \n",
       "19                        Kim Andersen (V)            Kim Andersen    (V)   \n",
       "\n",
       "                                                 text       date  \n",
       "8   (Talen er under udarbejdelse) (Talen er under ... 2012-10-02  \n",
       "9   Vi skal bringe Danmark godt og trygt gennem kr... 2012-10-02  \n",
       "15  Tak for det. Jeg vil gerne spørge erhvervsmini... 2012-10-03  \n",
       "17  Jeg er helt enig med spørgeren i, at vi har en... 2012-10-03  \n",
       "19  Jeg er helt med på de initiativer, der er tage... 2012-10-03  "
      ]
     },
     "execution_count": 41,
     "metadata": {},
     "output_type": "execute_result"
    }
   ],
   "source": [
    "df_load.head()"
   ]
  },
  {
   "cell_type": "code",
   "execution_count": 76,
   "metadata": {},
   "outputs": [
    {
     "ename": "FileNotFoundError",
     "evalue": "[Errno 2] No such file or directory: '../../climate_classifier/scored_data/ft_meetings_climate_all_2.1.csv'",
     "output_type": "error",
     "traceback": [
      "\u001b[1;31m---------------------------------------------------------------------------\u001b[0m",
      "\u001b[1;31mFileNotFoundError\u001b[0m                         Traceback (most recent call last)",
      "\u001b[1;32mc:\\Users\\COBOD\\OneDrive\\CBS doku\\ITU\\4semester\\Repo\\NLP-Climate-Politics-DK\\data_collection\\meetings\\process_data.ipynb Cell 24'\u001b[0m in \u001b[0;36m<module>\u001b[1;34m\u001b[0m\n\u001b[1;32m----> <a href='vscode-notebook-cell:/c%3A/Users/COBOD/OneDrive/CBS%20doku/ITU/4semester/Repo/NLP-Climate-Politics-DK/data_collection/meetings/process_data.ipynb#ch0000021?line=0'>1</a>\u001b[0m df1_cl \u001b[39m=\u001b[39m pd\u001b[39m.\u001b[39;49mread_csv(\u001b[39m\"\u001b[39;49m\u001b[39m../../climate_classifier/scored_data/ft_meetings_climate_all_2.1.csv\u001b[39;49m\u001b[39m\"\u001b[39;49m)\n",
      "File \u001b[1;32m~\\AppData\\Local\\Programs\\Python\\Python39\\lib\\site-packages\\pandas\\util\\_decorators.py:311\u001b[0m, in \u001b[0;36mdeprecate_nonkeyword_arguments.<locals>.decorate.<locals>.wrapper\u001b[1;34m(*args, **kwargs)\u001b[0m\n\u001b[0;32m    <a href='file:///c%3A/Users/COBOD/AppData/Local/Programs/Python/Python39/lib/site-packages/pandas/util/_decorators.py?line=304'>305</a>\u001b[0m \u001b[39mif\u001b[39;00m \u001b[39mlen\u001b[39m(args) \u001b[39m>\u001b[39m num_allow_args:\n\u001b[0;32m    <a href='file:///c%3A/Users/COBOD/AppData/Local/Programs/Python/Python39/lib/site-packages/pandas/util/_decorators.py?line=305'>306</a>\u001b[0m     warnings\u001b[39m.\u001b[39mwarn(\n\u001b[0;32m    <a href='file:///c%3A/Users/COBOD/AppData/Local/Programs/Python/Python39/lib/site-packages/pandas/util/_decorators.py?line=306'>307</a>\u001b[0m         msg\u001b[39m.\u001b[39mformat(arguments\u001b[39m=\u001b[39marguments),\n\u001b[0;32m    <a href='file:///c%3A/Users/COBOD/AppData/Local/Programs/Python/Python39/lib/site-packages/pandas/util/_decorators.py?line=307'>308</a>\u001b[0m         \u001b[39mFutureWarning\u001b[39;00m,\n\u001b[0;32m    <a href='file:///c%3A/Users/COBOD/AppData/Local/Programs/Python/Python39/lib/site-packages/pandas/util/_decorators.py?line=308'>309</a>\u001b[0m         stacklevel\u001b[39m=\u001b[39mstacklevel,\n\u001b[0;32m    <a href='file:///c%3A/Users/COBOD/AppData/Local/Programs/Python/Python39/lib/site-packages/pandas/util/_decorators.py?line=309'>310</a>\u001b[0m     )\n\u001b[1;32m--> <a href='file:///c%3A/Users/COBOD/AppData/Local/Programs/Python/Python39/lib/site-packages/pandas/util/_decorators.py?line=310'>311</a>\u001b[0m \u001b[39mreturn\u001b[39;00m func(\u001b[39m*\u001b[39margs, \u001b[39m*\u001b[39m\u001b[39m*\u001b[39mkwargs)\n",
      "File \u001b[1;32m~\\AppData\\Local\\Programs\\Python\\Python39\\lib\\site-packages\\pandas\\io\\parsers\\readers.py:586\u001b[0m, in \u001b[0;36mread_csv\u001b[1;34m(filepath_or_buffer, sep, delimiter, header, names, index_col, usecols, squeeze, prefix, mangle_dupe_cols, dtype, engine, converters, true_values, false_values, skipinitialspace, skiprows, skipfooter, nrows, na_values, keep_default_na, na_filter, verbose, skip_blank_lines, parse_dates, infer_datetime_format, keep_date_col, date_parser, dayfirst, cache_dates, iterator, chunksize, compression, thousands, decimal, lineterminator, quotechar, quoting, doublequote, escapechar, comment, encoding, encoding_errors, dialect, error_bad_lines, warn_bad_lines, on_bad_lines, delim_whitespace, low_memory, memory_map, float_precision, storage_options)\u001b[0m\n\u001b[0;32m    <a href='file:///c%3A/Users/COBOD/AppData/Local/Programs/Python/Python39/lib/site-packages/pandas/io/parsers/readers.py?line=570'>571</a>\u001b[0m kwds_defaults \u001b[39m=\u001b[39m _refine_defaults_read(\n\u001b[0;32m    <a href='file:///c%3A/Users/COBOD/AppData/Local/Programs/Python/Python39/lib/site-packages/pandas/io/parsers/readers.py?line=571'>572</a>\u001b[0m     dialect,\n\u001b[0;32m    <a href='file:///c%3A/Users/COBOD/AppData/Local/Programs/Python/Python39/lib/site-packages/pandas/io/parsers/readers.py?line=572'>573</a>\u001b[0m     delimiter,\n\u001b[1;32m   (...)\u001b[0m\n\u001b[0;32m    <a href='file:///c%3A/Users/COBOD/AppData/Local/Programs/Python/Python39/lib/site-packages/pandas/io/parsers/readers.py?line=581'>582</a>\u001b[0m     defaults\u001b[39m=\u001b[39m{\u001b[39m\"\u001b[39m\u001b[39mdelimiter\u001b[39m\u001b[39m\"\u001b[39m: \u001b[39m\"\u001b[39m\u001b[39m,\u001b[39m\u001b[39m\"\u001b[39m},\n\u001b[0;32m    <a href='file:///c%3A/Users/COBOD/AppData/Local/Programs/Python/Python39/lib/site-packages/pandas/io/parsers/readers.py?line=582'>583</a>\u001b[0m )\n\u001b[0;32m    <a href='file:///c%3A/Users/COBOD/AppData/Local/Programs/Python/Python39/lib/site-packages/pandas/io/parsers/readers.py?line=583'>584</a>\u001b[0m kwds\u001b[39m.\u001b[39mupdate(kwds_defaults)\n\u001b[1;32m--> <a href='file:///c%3A/Users/COBOD/AppData/Local/Programs/Python/Python39/lib/site-packages/pandas/io/parsers/readers.py?line=585'>586</a>\u001b[0m \u001b[39mreturn\u001b[39;00m _read(filepath_or_buffer, kwds)\n",
      "File \u001b[1;32m~\\AppData\\Local\\Programs\\Python\\Python39\\lib\\site-packages\\pandas\\io\\parsers\\readers.py:482\u001b[0m, in \u001b[0;36m_read\u001b[1;34m(filepath_or_buffer, kwds)\u001b[0m\n\u001b[0;32m    <a href='file:///c%3A/Users/COBOD/AppData/Local/Programs/Python/Python39/lib/site-packages/pandas/io/parsers/readers.py?line=478'>479</a>\u001b[0m _validate_names(kwds\u001b[39m.\u001b[39mget(\u001b[39m\"\u001b[39m\u001b[39mnames\u001b[39m\u001b[39m\"\u001b[39m, \u001b[39mNone\u001b[39;00m))\n\u001b[0;32m    <a href='file:///c%3A/Users/COBOD/AppData/Local/Programs/Python/Python39/lib/site-packages/pandas/io/parsers/readers.py?line=480'>481</a>\u001b[0m \u001b[39m# Create the parser.\u001b[39;00m\n\u001b[1;32m--> <a href='file:///c%3A/Users/COBOD/AppData/Local/Programs/Python/Python39/lib/site-packages/pandas/io/parsers/readers.py?line=481'>482</a>\u001b[0m parser \u001b[39m=\u001b[39m TextFileReader(filepath_or_buffer, \u001b[39m*\u001b[39m\u001b[39m*\u001b[39mkwds)\n\u001b[0;32m    <a href='file:///c%3A/Users/COBOD/AppData/Local/Programs/Python/Python39/lib/site-packages/pandas/io/parsers/readers.py?line=483'>484</a>\u001b[0m \u001b[39mif\u001b[39;00m chunksize \u001b[39mor\u001b[39;00m iterator:\n\u001b[0;32m    <a href='file:///c%3A/Users/COBOD/AppData/Local/Programs/Python/Python39/lib/site-packages/pandas/io/parsers/readers.py?line=484'>485</a>\u001b[0m     \u001b[39mreturn\u001b[39;00m parser\n",
      "File \u001b[1;32m~\\AppData\\Local\\Programs\\Python\\Python39\\lib\\site-packages\\pandas\\io\\parsers\\readers.py:811\u001b[0m, in \u001b[0;36mTextFileReader.__init__\u001b[1;34m(self, f, engine, **kwds)\u001b[0m\n\u001b[0;32m    <a href='file:///c%3A/Users/COBOD/AppData/Local/Programs/Python/Python39/lib/site-packages/pandas/io/parsers/readers.py?line=807'>808</a>\u001b[0m \u001b[39mif\u001b[39;00m \u001b[39m\"\u001b[39m\u001b[39mhas_index_names\u001b[39m\u001b[39m\"\u001b[39m \u001b[39min\u001b[39;00m kwds:\n\u001b[0;32m    <a href='file:///c%3A/Users/COBOD/AppData/Local/Programs/Python/Python39/lib/site-packages/pandas/io/parsers/readers.py?line=808'>809</a>\u001b[0m     \u001b[39mself\u001b[39m\u001b[39m.\u001b[39moptions[\u001b[39m\"\u001b[39m\u001b[39mhas_index_names\u001b[39m\u001b[39m\"\u001b[39m] \u001b[39m=\u001b[39m kwds[\u001b[39m\"\u001b[39m\u001b[39mhas_index_names\u001b[39m\u001b[39m\"\u001b[39m]\n\u001b[1;32m--> <a href='file:///c%3A/Users/COBOD/AppData/Local/Programs/Python/Python39/lib/site-packages/pandas/io/parsers/readers.py?line=810'>811</a>\u001b[0m \u001b[39mself\u001b[39m\u001b[39m.\u001b[39m_engine \u001b[39m=\u001b[39m \u001b[39mself\u001b[39;49m\u001b[39m.\u001b[39;49m_make_engine(\u001b[39mself\u001b[39;49m\u001b[39m.\u001b[39;49mengine)\n",
      "File \u001b[1;32m~\\AppData\\Local\\Programs\\Python\\Python39\\lib\\site-packages\\pandas\\io\\parsers\\readers.py:1040\u001b[0m, in \u001b[0;36mTextFileReader._make_engine\u001b[1;34m(self, engine)\u001b[0m\n\u001b[0;32m   <a href='file:///c%3A/Users/COBOD/AppData/Local/Programs/Python/Python39/lib/site-packages/pandas/io/parsers/readers.py?line=1035'>1036</a>\u001b[0m     \u001b[39mraise\u001b[39;00m \u001b[39mValueError\u001b[39;00m(\n\u001b[0;32m   <a href='file:///c%3A/Users/COBOD/AppData/Local/Programs/Python/Python39/lib/site-packages/pandas/io/parsers/readers.py?line=1036'>1037</a>\u001b[0m         \u001b[39mf\u001b[39m\u001b[39m\"\u001b[39m\u001b[39mUnknown engine: \u001b[39m\u001b[39m{\u001b[39;00mengine\u001b[39m}\u001b[39;00m\u001b[39m (valid options are \u001b[39m\u001b[39m{\u001b[39;00mmapping\u001b[39m.\u001b[39mkeys()\u001b[39m}\u001b[39;00m\u001b[39m)\u001b[39m\u001b[39m\"\u001b[39m\n\u001b[0;32m   <a href='file:///c%3A/Users/COBOD/AppData/Local/Programs/Python/Python39/lib/site-packages/pandas/io/parsers/readers.py?line=1037'>1038</a>\u001b[0m     )\n\u001b[0;32m   <a href='file:///c%3A/Users/COBOD/AppData/Local/Programs/Python/Python39/lib/site-packages/pandas/io/parsers/readers.py?line=1038'>1039</a>\u001b[0m \u001b[39m# error: Too many arguments for \"ParserBase\"\u001b[39;00m\n\u001b[1;32m-> <a href='file:///c%3A/Users/COBOD/AppData/Local/Programs/Python/Python39/lib/site-packages/pandas/io/parsers/readers.py?line=1039'>1040</a>\u001b[0m \u001b[39mreturn\u001b[39;00m mapping[engine](\u001b[39mself\u001b[39m\u001b[39m.\u001b[39mf, \u001b[39m*\u001b[39m\u001b[39m*\u001b[39m\u001b[39mself\u001b[39m\u001b[39m.\u001b[39moptions)\n",
      "File \u001b[1;32m~\\AppData\\Local\\Programs\\Python\\Python39\\lib\\site-packages\\pandas\\io\\parsers\\c_parser_wrapper.py:51\u001b[0m, in \u001b[0;36mCParserWrapper.__init__\u001b[1;34m(self, src, **kwds)\u001b[0m\n\u001b[0;32m     <a href='file:///c%3A/Users/COBOD/AppData/Local/Programs/Python/Python39/lib/site-packages/pandas/io/parsers/c_parser_wrapper.py?line=47'>48</a>\u001b[0m kwds[\u001b[39m\"\u001b[39m\u001b[39musecols\u001b[39m\u001b[39m\"\u001b[39m] \u001b[39m=\u001b[39m \u001b[39mself\u001b[39m\u001b[39m.\u001b[39musecols\n\u001b[0;32m     <a href='file:///c%3A/Users/COBOD/AppData/Local/Programs/Python/Python39/lib/site-packages/pandas/io/parsers/c_parser_wrapper.py?line=49'>50</a>\u001b[0m \u001b[39m# open handles\u001b[39;00m\n\u001b[1;32m---> <a href='file:///c%3A/Users/COBOD/AppData/Local/Programs/Python/Python39/lib/site-packages/pandas/io/parsers/c_parser_wrapper.py?line=50'>51</a>\u001b[0m \u001b[39mself\u001b[39;49m\u001b[39m.\u001b[39;49m_open_handles(src, kwds)\n\u001b[0;32m     <a href='file:///c%3A/Users/COBOD/AppData/Local/Programs/Python/Python39/lib/site-packages/pandas/io/parsers/c_parser_wrapper.py?line=51'>52</a>\u001b[0m \u001b[39massert\u001b[39;00m \u001b[39mself\u001b[39m\u001b[39m.\u001b[39mhandles \u001b[39mis\u001b[39;00m \u001b[39mnot\u001b[39;00m \u001b[39mNone\u001b[39;00m\n\u001b[0;32m     <a href='file:///c%3A/Users/COBOD/AppData/Local/Programs/Python/Python39/lib/site-packages/pandas/io/parsers/c_parser_wrapper.py?line=53'>54</a>\u001b[0m \u001b[39m# Have to pass int, would break tests using TextReader directly otherwise :(\u001b[39;00m\n",
      "File \u001b[1;32m~\\AppData\\Local\\Programs\\Python\\Python39\\lib\\site-packages\\pandas\\io\\parsers\\base_parser.py:222\u001b[0m, in \u001b[0;36mParserBase._open_handles\u001b[1;34m(self, src, kwds)\u001b[0m\n\u001b[0;32m    <a href='file:///c%3A/Users/COBOD/AppData/Local/Programs/Python/Python39/lib/site-packages/pandas/io/parsers/base_parser.py?line=217'>218</a>\u001b[0m \u001b[39mdef\u001b[39;00m \u001b[39m_open_handles\u001b[39m(\u001b[39mself\u001b[39m, src: FilePathOrBuffer, kwds: \u001b[39mdict\u001b[39m[\u001b[39mstr\u001b[39m, Any]) \u001b[39m-\u001b[39m\u001b[39m>\u001b[39m \u001b[39mNone\u001b[39;00m:\n\u001b[0;32m    <a href='file:///c%3A/Users/COBOD/AppData/Local/Programs/Python/Python39/lib/site-packages/pandas/io/parsers/base_parser.py?line=218'>219</a>\u001b[0m     \u001b[39m\"\"\"\u001b[39;00m\n\u001b[0;32m    <a href='file:///c%3A/Users/COBOD/AppData/Local/Programs/Python/Python39/lib/site-packages/pandas/io/parsers/base_parser.py?line=219'>220</a>\u001b[0m \u001b[39m    Let the readers open IOHandles after they are done with their potential raises.\u001b[39;00m\n\u001b[0;32m    <a href='file:///c%3A/Users/COBOD/AppData/Local/Programs/Python/Python39/lib/site-packages/pandas/io/parsers/base_parser.py?line=220'>221</a>\u001b[0m \u001b[39m    \"\"\"\u001b[39;00m\n\u001b[1;32m--> <a href='file:///c%3A/Users/COBOD/AppData/Local/Programs/Python/Python39/lib/site-packages/pandas/io/parsers/base_parser.py?line=221'>222</a>\u001b[0m     \u001b[39mself\u001b[39m\u001b[39m.\u001b[39mhandles \u001b[39m=\u001b[39m get_handle(\n\u001b[0;32m    <a href='file:///c%3A/Users/COBOD/AppData/Local/Programs/Python/Python39/lib/site-packages/pandas/io/parsers/base_parser.py?line=222'>223</a>\u001b[0m         src,\n\u001b[0;32m    <a href='file:///c%3A/Users/COBOD/AppData/Local/Programs/Python/Python39/lib/site-packages/pandas/io/parsers/base_parser.py?line=223'>224</a>\u001b[0m         \u001b[39m\"\u001b[39;49m\u001b[39mr\u001b[39;49m\u001b[39m\"\u001b[39;49m,\n\u001b[0;32m    <a href='file:///c%3A/Users/COBOD/AppData/Local/Programs/Python/Python39/lib/site-packages/pandas/io/parsers/base_parser.py?line=224'>225</a>\u001b[0m         encoding\u001b[39m=\u001b[39;49mkwds\u001b[39m.\u001b[39;49mget(\u001b[39m\"\u001b[39;49m\u001b[39mencoding\u001b[39;49m\u001b[39m\"\u001b[39;49m, \u001b[39mNone\u001b[39;49;00m),\n\u001b[0;32m    <a href='file:///c%3A/Users/COBOD/AppData/Local/Programs/Python/Python39/lib/site-packages/pandas/io/parsers/base_parser.py?line=225'>226</a>\u001b[0m         compression\u001b[39m=\u001b[39;49mkwds\u001b[39m.\u001b[39;49mget(\u001b[39m\"\u001b[39;49m\u001b[39mcompression\u001b[39;49m\u001b[39m\"\u001b[39;49m, \u001b[39mNone\u001b[39;49;00m),\n\u001b[0;32m    <a href='file:///c%3A/Users/COBOD/AppData/Local/Programs/Python/Python39/lib/site-packages/pandas/io/parsers/base_parser.py?line=226'>227</a>\u001b[0m         memory_map\u001b[39m=\u001b[39;49mkwds\u001b[39m.\u001b[39;49mget(\u001b[39m\"\u001b[39;49m\u001b[39mmemory_map\u001b[39;49m\u001b[39m\"\u001b[39;49m, \u001b[39mFalse\u001b[39;49;00m),\n\u001b[0;32m    <a href='file:///c%3A/Users/COBOD/AppData/Local/Programs/Python/Python39/lib/site-packages/pandas/io/parsers/base_parser.py?line=227'>228</a>\u001b[0m         storage_options\u001b[39m=\u001b[39;49mkwds\u001b[39m.\u001b[39;49mget(\u001b[39m\"\u001b[39;49m\u001b[39mstorage_options\u001b[39;49m\u001b[39m\"\u001b[39;49m, \u001b[39mNone\u001b[39;49;00m),\n\u001b[0;32m    <a href='file:///c%3A/Users/COBOD/AppData/Local/Programs/Python/Python39/lib/site-packages/pandas/io/parsers/base_parser.py?line=228'>229</a>\u001b[0m         errors\u001b[39m=\u001b[39;49mkwds\u001b[39m.\u001b[39;49mget(\u001b[39m\"\u001b[39;49m\u001b[39mencoding_errors\u001b[39;49m\u001b[39m\"\u001b[39;49m, \u001b[39m\"\u001b[39;49m\u001b[39mstrict\u001b[39;49m\u001b[39m\"\u001b[39;49m),\n\u001b[0;32m    <a href='file:///c%3A/Users/COBOD/AppData/Local/Programs/Python/Python39/lib/site-packages/pandas/io/parsers/base_parser.py?line=229'>230</a>\u001b[0m     )\n",
      "File \u001b[1;32m~\\AppData\\Local\\Programs\\Python\\Python39\\lib\\site-packages\\pandas\\io\\common.py:702\u001b[0m, in \u001b[0;36mget_handle\u001b[1;34m(path_or_buf, mode, encoding, compression, memory_map, is_text, errors, storage_options)\u001b[0m\n\u001b[0;32m    <a href='file:///c%3A/Users/COBOD/AppData/Local/Programs/Python/Python39/lib/site-packages/pandas/io/common.py?line=696'>697</a>\u001b[0m \u001b[39melif\u001b[39;00m \u001b[39misinstance\u001b[39m(handle, \u001b[39mstr\u001b[39m):\n\u001b[0;32m    <a href='file:///c%3A/Users/COBOD/AppData/Local/Programs/Python/Python39/lib/site-packages/pandas/io/common.py?line=697'>698</a>\u001b[0m     \u001b[39m# Check whether the filename is to be opened in binary mode.\u001b[39;00m\n\u001b[0;32m    <a href='file:///c%3A/Users/COBOD/AppData/Local/Programs/Python/Python39/lib/site-packages/pandas/io/common.py?line=698'>699</a>\u001b[0m     \u001b[39m# Binary mode does not support 'encoding' and 'newline'.\u001b[39;00m\n\u001b[0;32m    <a href='file:///c%3A/Users/COBOD/AppData/Local/Programs/Python/Python39/lib/site-packages/pandas/io/common.py?line=699'>700</a>\u001b[0m     \u001b[39mif\u001b[39;00m ioargs\u001b[39m.\u001b[39mencoding \u001b[39mand\u001b[39;00m \u001b[39m\"\u001b[39m\u001b[39mb\u001b[39m\u001b[39m\"\u001b[39m \u001b[39mnot\u001b[39;00m \u001b[39min\u001b[39;00m ioargs\u001b[39m.\u001b[39mmode:\n\u001b[0;32m    <a href='file:///c%3A/Users/COBOD/AppData/Local/Programs/Python/Python39/lib/site-packages/pandas/io/common.py?line=700'>701</a>\u001b[0m         \u001b[39m# Encoding\u001b[39;00m\n\u001b[1;32m--> <a href='file:///c%3A/Users/COBOD/AppData/Local/Programs/Python/Python39/lib/site-packages/pandas/io/common.py?line=701'>702</a>\u001b[0m         handle \u001b[39m=\u001b[39m \u001b[39mopen\u001b[39;49m(\n\u001b[0;32m    <a href='file:///c%3A/Users/COBOD/AppData/Local/Programs/Python/Python39/lib/site-packages/pandas/io/common.py?line=702'>703</a>\u001b[0m             handle,\n\u001b[0;32m    <a href='file:///c%3A/Users/COBOD/AppData/Local/Programs/Python/Python39/lib/site-packages/pandas/io/common.py?line=703'>704</a>\u001b[0m             ioargs\u001b[39m.\u001b[39;49mmode,\n\u001b[0;32m    <a href='file:///c%3A/Users/COBOD/AppData/Local/Programs/Python/Python39/lib/site-packages/pandas/io/common.py?line=704'>705</a>\u001b[0m             encoding\u001b[39m=\u001b[39;49mioargs\u001b[39m.\u001b[39;49mencoding,\n\u001b[0;32m    <a href='file:///c%3A/Users/COBOD/AppData/Local/Programs/Python/Python39/lib/site-packages/pandas/io/common.py?line=705'>706</a>\u001b[0m             errors\u001b[39m=\u001b[39;49merrors,\n\u001b[0;32m    <a href='file:///c%3A/Users/COBOD/AppData/Local/Programs/Python/Python39/lib/site-packages/pandas/io/common.py?line=706'>707</a>\u001b[0m             newline\u001b[39m=\u001b[39;49m\u001b[39m\"\u001b[39;49m\u001b[39m\"\u001b[39;49m,\n\u001b[0;32m    <a href='file:///c%3A/Users/COBOD/AppData/Local/Programs/Python/Python39/lib/site-packages/pandas/io/common.py?line=707'>708</a>\u001b[0m         )\n\u001b[0;32m    <a href='file:///c%3A/Users/COBOD/AppData/Local/Programs/Python/Python39/lib/site-packages/pandas/io/common.py?line=708'>709</a>\u001b[0m     \u001b[39melse\u001b[39;00m:\n\u001b[0;32m    <a href='file:///c%3A/Users/COBOD/AppData/Local/Programs/Python/Python39/lib/site-packages/pandas/io/common.py?line=709'>710</a>\u001b[0m         \u001b[39m# Binary mode\u001b[39;00m\n\u001b[0;32m    <a href='file:///c%3A/Users/COBOD/AppData/Local/Programs/Python/Python39/lib/site-packages/pandas/io/common.py?line=710'>711</a>\u001b[0m         handle \u001b[39m=\u001b[39m \u001b[39mopen\u001b[39m(handle, ioargs\u001b[39m.\u001b[39mmode)\n",
      "\u001b[1;31mFileNotFoundError\u001b[0m: [Errno 2] No such file or directory: '../../climate_classifier/scored_data/ft_meetings_climate_all_2.1.csv'"
     ]
    }
   ],
   "source": [
    "df1_cl = pd.read_csv(\"../../climate_classifier/scored_data/ft_meetings_climate_all_2.1.csv\")"
   ]
  },
  {
   "cell_type": "code",
   "execution_count": null,
   "metadata": {},
   "outputs": [],
   "source": [
    "df2_cl = pd.read_"
   ]
  },
  {
   "cell_type": "code",
   "execution_count": 2,
   "metadata": {},
   "outputs": [],
   "source": [
    "import pandas as pd\n",
    "df_test = pd.read_pickle(\"./ft_meetings_2021new-2022_clean_v2.pkl\")"
   ]
  },
  {
   "cell_type": "code",
   "execution_count": 3,
   "metadata": {},
   "outputs": [
    {
     "data": {
      "text/html": [
       "<div>\n",
       "<style scoped>\n",
       "    .dataframe tbody tr th:only-of-type {\n",
       "        vertical-align: middle;\n",
       "    }\n",
       "\n",
       "    .dataframe tbody tr th {\n",
       "        vertical-align: top;\n",
       "    }\n",
       "\n",
       "    .dataframe thead th {\n",
       "        text-align: right;\n",
       "    }\n",
       "</style>\n",
       "<table border=\"1\" class=\"dataframe\">\n",
       "  <thead>\n",
       "    <tr style=\"text-align: right;\">\n",
       "      <th></th>\n",
       "      <th>speaker</th>\n",
       "      <th>politician</th>\n",
       "      <th>party</th>\n",
       "      <th>text</th>\n",
       "      <th>date</th>\n",
       "    </tr>\n",
       "  </thead>\n",
       "  <tbody>\n",
       "    <tr>\n",
       "      <th>50854</th>\n",
       "      <td>Henrik Møller (S)</td>\n",
       "      <td>Henrik Møller</td>\n",
       "      <td>(S)</td>\n",
       "      <td>Tak for det. Det er jo noget af et syn hernede...</td>\n",
       "      <td>2021-08-26</td>\n",
       "    </tr>\n",
       "    <tr>\n",
       "      <th>50856</th>\n",
       "      <td>Victoria Velasquez (EL)</td>\n",
       "      <td>Victoria Velasquez</td>\n",
       "      <td>(EL)</td>\n",
       "      <td>Tak for det. Jeg må indrømme, at jeg synes, de...</td>\n",
       "      <td>2021-08-26</td>\n",
       "    </tr>\n",
       "    <tr>\n",
       "      <th>50858</th>\n",
       "      <td>Henrik Møller (S)</td>\n",
       "      <td>Henrik Møller</td>\n",
       "      <td>(S)</td>\n",
       "      <td>Vi har jo sagt, at vi nu laver den her lønstru...</td>\n",
       "      <td>2021-08-26</td>\n",
       "    </tr>\n",
       "    <tr>\n",
       "      <th>50860</th>\n",
       "      <td>Victoria Velasquez (EL)</td>\n",
       "      <td>Victoria Velasquez</td>\n",
       "      <td>(EL)</td>\n",
       "      <td>Men man kunne jo sagtens stemme for det ændrin...</td>\n",
       "      <td>2021-08-26</td>\n",
       "    </tr>\n",
       "    <tr>\n",
       "      <th>50862</th>\n",
       "      <td>Henrik Møller (S)</td>\n",
       "      <td>Henrik Møller</td>\n",
       "      <td>(S)</td>\n",
       "      <td>Jamen altså, når vi snakker om parterne, handl...</td>\n",
       "      <td>2021-08-26</td>\n",
       "    </tr>\n",
       "    <tr>\n",
       "      <th>...</th>\n",
       "      <td>...</td>\n",
       "      <td>...</td>\n",
       "      <td>...</td>\n",
       "      <td>...</td>\n",
       "      <td>...</td>\n",
       "    </tr>\n",
       "    <tr>\n",
       "      <th>72538</th>\n",
       "      <td>Christian Juhl (EL)</td>\n",
       "      <td>Christian Juhl</td>\n",
       "      <td>(EL)</td>\n",
       "      <td>Nej.</td>\n",
       "      <td>2022-03-16</td>\n",
       "    </tr>\n",
       "    <tr>\n",
       "      <th>72540</th>\n",
       "      <td>Morten Messerschmidt (DF)</td>\n",
       "      <td>Morten Messerschmidt</td>\n",
       "      <td>(DF)</td>\n",
       "      <td>Jeg blev bare også inspireret af det svar, som...</td>\n",
       "      <td>2022-03-16</td>\n",
       "    </tr>\n",
       "    <tr>\n",
       "      <th>72542</th>\n",
       "      <td>Christian Juhl (EL)</td>\n",
       "      <td>Christian Juhl</td>\n",
       "      <td>(EL)</td>\n",
       "      <td>Jamen det vil jeg gerne gøre. Jeg vil opfordre...</td>\n",
       "      <td>2022-03-16</td>\n",
       "    </tr>\n",
       "    <tr>\n",
       "      <th>72544</th>\n",
       "      <td>Jens Rohde (KD)</td>\n",
       "      <td>Jens Rohde</td>\n",
       "      <td>(KD)</td>\n",
       "      <td>Tak for det. Jeg har bedt om ordet, fordi jeg ...</td>\n",
       "      <td>2022-03-16</td>\n",
       "    </tr>\n",
       "    <tr>\n",
       "      <th>72546</th>\n",
       "      <td>Jette Gottlieb (EL)</td>\n",
       "      <td>Jette Gottlieb</td>\n",
       "      <td>(EL)</td>\n",
       "      <td>Mange tak. Hele den her debat handler om noget...</td>\n",
       "      <td>2022-03-16</td>\n",
       "    </tr>\n",
       "  </tbody>\n",
       "</table>\n",
       "<p>10491 rows × 5 columns</p>\n",
       "</div>"
      ],
      "text/plain": [
       "                         speaker             politician party  \\\n",
       "50854          Henrik Møller (S)         Henrik Møller    (S)   \n",
       "50856    Victoria Velasquez (EL)    Victoria Velasquez   (EL)   \n",
       "50858          Henrik Møller (S)         Henrik Møller    (S)   \n",
       "50860    Victoria Velasquez (EL)    Victoria Velasquez   (EL)   \n",
       "50862          Henrik Møller (S)         Henrik Møller    (S)   \n",
       "...                          ...                    ...   ...   \n",
       "72538        Christian Juhl (EL)        Christian Juhl   (EL)   \n",
       "72540  Morten Messerschmidt (DF)  Morten Messerschmidt   (DF)   \n",
       "72542        Christian Juhl (EL)        Christian Juhl   (EL)   \n",
       "72544            Jens Rohde (KD)            Jens Rohde   (KD)   \n",
       "72546        Jette Gottlieb (EL)        Jette Gottlieb   (EL)   \n",
       "\n",
       "                                                    text       date  \n",
       "50854  Tak for det. Det er jo noget af et syn hernede... 2021-08-26  \n",
       "50856  Tak for det. Jeg må indrømme, at jeg synes, de... 2021-08-26  \n",
       "50858  Vi har jo sagt, at vi nu laver den her lønstru... 2021-08-26  \n",
       "50860  Men man kunne jo sagtens stemme for det ændrin... 2021-08-26  \n",
       "50862  Jamen altså, når vi snakker om parterne, handl... 2021-08-26  \n",
       "...                                                  ...        ...  \n",
       "72538                                               Nej. 2022-03-16  \n",
       "72540  Jeg blev bare også inspireret af det svar, som... 2022-03-16  \n",
       "72542  Jamen det vil jeg gerne gøre. Jeg vil opfordre... 2022-03-16  \n",
       "72544  Tak for det. Jeg har bedt om ordet, fordi jeg ... 2022-03-16  \n",
       "72546  Mange tak. Hele den her debat handler om noget... 2022-03-16  \n",
       "\n",
       "[10491 rows x 5 columns]"
      ]
     },
     "execution_count": 3,
     "metadata": {},
     "output_type": "execute_result"
    }
   ],
   "source": [
    "df_test"
   ]
  },
  {
   "cell_type": "code",
   "execution_count": null,
   "metadata": {},
   "outputs": [],
   "source": []
  }
 ],
 "metadata": {
  "interpreter": {
   "hash": "6c394272594a68b0a5bd03bbb8469a449c9402c12c87bbd02bc40bbbc1d6f707"
  },
  "kernelspec": {
   "display_name": "Python 3.9.2 64-bit",
   "language": "python",
   "name": "python3"
  },
  "language_info": {
   "codemirror_mode": {
    "name": "ipython",
    "version": 3
   },
   "file_extension": ".py",
   "mimetype": "text/x-python",
   "name": "python",
   "nbconvert_exporter": "python",
   "pygments_lexer": "ipython3",
   "version": "3.9.2"
  },
  "orig_nbformat": 4
 },
 "nbformat": 4,
 "nbformat_minor": 2
}
