{
 "cells": [
  {
   "cell_type": "code",
   "execution_count": 1,
   "metadata": {},
   "outputs": [],
   "source": [
    "import pandas as pd\n",
    "import json\n",
    "import matplotlib.pyplot as plt\n",
    "from datetime import datetime"
   ]
  },
  {
   "cell_type": "code",
   "execution_count": 10,
   "metadata": {},
   "outputs": [
    {
     "name": "stdout",
     "output_type": "stream",
     "text": [
      "7425\n",
      "208479\n",
      "215904\n"
     ]
    },
    {
     "data": {
      "text/html": [
       "<div>\n",
       "<style scoped>\n",
       "    .dataframe tbody tr th:only-of-type {\n",
       "        vertical-align: middle;\n",
       "    }\n",
       "\n",
       "    .dataframe tbody tr th {\n",
       "        vertical-align: top;\n",
       "    }\n",
       "\n",
       "    .dataframe thead th {\n",
       "        text-align: right;\n",
       "    }\n",
       "</style>\n",
       "<table border=\"1\" class=\"dataframe\">\n",
       "  <thead>\n",
       "    <tr style=\"text-align: right;\">\n",
       "      <th></th>\n",
       "      <th>speaker</th>\n",
       "      <th>politician</th>\n",
       "      <th>party</th>\n",
       "      <th>text</th>\n",
       "      <th>date</th>\n",
       "      <th>y_pred</th>\n",
       "    </tr>\n",
       "  </thead>\n",
       "  <tbody>\n",
       "    <tr>\n",
       "      <th>0</th>\n",
       "      <td>Transportministeren Henrik Dam Kristensen</td>\n",
       "      <td>Henrik Dam Kristensen</td>\n",
       "      <td>(S)</td>\n",
       "      <td>Jeg synes, det er lidt ærgerligt, at hr. Lars ...</td>\n",
       "      <td>2012-10-03</td>\n",
       "      <td>climate</td>\n",
       "    </tr>\n",
       "    <tr>\n",
       "      <th>1</th>\n",
       "      <td>Lars Christian Lilleholt (V)</td>\n",
       "      <td>Lars Christian Lilleholt</td>\n",
       "      <td>(V)</td>\n",
       "      <td>Det får jo ganske alvorlige konsekvenser både ...</td>\n",
       "      <td>2012-10-03</td>\n",
       "      <td>climate</td>\n",
       "    </tr>\n",
       "    <tr>\n",
       "      <th>2</th>\n",
       "      <td>Ellen Trane Nørby (V)</td>\n",
       "      <td>Ellen Trane Nørby</td>\n",
       "      <td>(V)</td>\n",
       "      <td>Jeg tror i hvert fald, at det ofte er sådan fo...</td>\n",
       "      <td>2012-10-04</td>\n",
       "      <td>climate</td>\n",
       "    </tr>\n",
       "    <tr>\n",
       "      <th>3</th>\n",
       "      <td>Magnus Heunicke (S)</td>\n",
       "      <td>Magnus Heunicke</td>\n",
       "      <td>(S)</td>\n",
       "      <td>Altså, det er jo svært at blive enig, jeg tror...</td>\n",
       "      <td>2012-10-04</td>\n",
       "      <td>climate</td>\n",
       "    </tr>\n",
       "    <tr>\n",
       "      <th>4</th>\n",
       "      <td>Kisser Franciska Lehnert (LA)</td>\n",
       "      <td>Kisser Franciska Lehnert</td>\n",
       "      <td>(LA)</td>\n",
       "      <td>Tak. Nu kalder Enhedslisten sig jo for et arbe...</td>\n",
       "      <td>2012-10-04</td>\n",
       "      <td>climate</td>\n",
       "    </tr>\n",
       "  </tbody>\n",
       "</table>\n",
       "</div>"
      ],
      "text/plain": [
       "                                     speaker                 politician party  \\\n",
       "0  Transportministeren Henrik Dam Kristensen     Henrik Dam Kristensen    (S)   \n",
       "1               Lars Christian Lilleholt (V)  Lars Christian Lilleholt    (V)   \n",
       "2                      Ellen Trane Nørby (V)         Ellen Trane Nørby    (V)   \n",
       "3                        Magnus Heunicke (S)           Magnus Heunicke    (S)   \n",
       "4              Kisser Franciska Lehnert (LA)  Kisser Franciska Lehnert   (LA)   \n",
       "\n",
       "                                                text        date   y_pred  \n",
       "0  Jeg synes, det er lidt ærgerligt, at hr. Lars ...  2012-10-03  climate  \n",
       "1  Det får jo ganske alvorlige konsekvenser både ...  2012-10-03  climate  \n",
       "2  Jeg tror i hvert fald, at det ofte er sådan fo...  2012-10-04  climate  \n",
       "3  Altså, det er jo svært at blive enig, jeg tror...  2012-10-04  climate  \n",
       "4  Tak. Nu kalder Enhedslisten sig jo for et arbe...  2012-10-04  climate  "
      ]
     },
     "execution_count": 10,
     "metadata": {},
     "output_type": "execute_result"
    }
   ],
   "source": [
    "#climate = pd.read_csv(\"../climate_classifier/scored_data/ft_meetings_climate_all_v2.1.csv\")\n",
    "#non_climate = pd.read_csv(\"../climate_classifier/scored_data/ft_meetings_non_climate_all_v2.1.csv\")\n",
    "all = pd.read_pickle(\"../climate_classifier/scored_data/ft_meetings_total_2012-2022_2.1.pkl\")\n",
    "climate = all[all[\"y_pred\"]==\"climate\"]\n",
    "non_climate = all[all[\"y_pred\"]==\"non-climate\"]\n",
    "print(len(climate))\n",
    "print(len(non_climate))\n",
    "print(len(all))\n",
    "climate.head(5)"
   ]
  },
  {
   "cell_type": "code",
   "execution_count": 10,
   "metadata": {},
   "outputs": [],
   "source": [
    "climate.drop(columns='Unnamed: 0', inplace=True)\n",
    "non_climate.drop(columns='Unnamed: 0', inplace=True)"
   ]
  },
  {
   "cell_type": "code",
   "execution_count": 11,
   "metadata": {},
   "outputs": [],
   "source": [
    "frames = [climate, non_climate]\n",
    "full = pd.concat(frames)"
   ]
  },
  {
   "cell_type": "markdown",
   "metadata": {},
   "source": [
    "### Climate Temporal Dynamics for the Meeting data\n",
    "\n",
    "1. Convert date to datetime\n",
    "2. Try to group by months or quarters to get a an aggregated view of when there has been the most climate fuzz going on over time"
   ]
  },
  {
   "cell_type": "code",
   "execution_count": 12,
   "metadata": {},
   "outputs": [
    {
     "data": {
      "text/plain": [
       "3    Altså, det er jo svært at blive enig, jeg tror...\n",
       "3    Det der med at udstikke garantier i forhold ti...\n",
       "Name: text, dtype: object"
      ]
     },
     "execution_count": 12,
     "metadata": {},
     "output_type": "execute_result"
    }
   ],
   "source": [
    "climate['text'][3]"
   ]
  },
  {
   "cell_type": "code",
   "execution_count": 18,
   "metadata": {},
   "outputs": [
    {
     "name": "stderr",
     "output_type": "stream",
     "text": [
      "C:\\Users\\COBOD\\AppData\\Local\\Temp\\ipykernel_8888\\3327704326.py:1: SettingWithCopyWarning: \n",
      "A value is trying to be set on a copy of a slice from a DataFrame.\n",
      "Try using .loc[row_indexer,col_indexer] = value instead\n",
      "\n",
      "See the caveats in the documentation: https://pandas.pydata.org/pandas-docs/stable/user_guide/indexing.html#returning-a-view-versus-a-copy\n",
      "  climate[\"date\"] = climate[\"date\"].str.replace(\"-\", \"\")\n"
     ]
    },
    {
     "data": {
      "text/html": [
       "<div>\n",
       "<style scoped>\n",
       "    .dataframe tbody tr th:only-of-type {\n",
       "        vertical-align: middle;\n",
       "    }\n",
       "\n",
       "    .dataframe tbody tr th {\n",
       "        vertical-align: top;\n",
       "    }\n",
       "\n",
       "    .dataframe thead th {\n",
       "        text-align: right;\n",
       "    }\n",
       "</style>\n",
       "<table border=\"1\" class=\"dataframe\">\n",
       "  <thead>\n",
       "    <tr style=\"text-align: right;\">\n",
       "      <th></th>\n",
       "      <th>speaker</th>\n",
       "      <th>politician</th>\n",
       "      <th>party</th>\n",
       "      <th>text</th>\n",
       "      <th>date</th>\n",
       "      <th>y_pred</th>\n",
       "    </tr>\n",
       "  </thead>\n",
       "  <tbody>\n",
       "    <tr>\n",
       "      <th>0</th>\n",
       "      <td>Transportministeren Henrik Dam Kristensen</td>\n",
       "      <td>Henrik Dam Kristensen</td>\n",
       "      <td>(S)</td>\n",
       "      <td>Jeg synes, det er lidt ærgerligt, at hr. Lars ...</td>\n",
       "      <td>20121003</td>\n",
       "      <td>climate</td>\n",
       "    </tr>\n",
       "  </tbody>\n",
       "</table>\n",
       "</div>"
      ],
      "text/plain": [
       "                                     speaker              politician party  \\\n",
       "0  Transportministeren Henrik Dam Kristensen  Henrik Dam Kristensen    (S)   \n",
       "\n",
       "                                                text      date   y_pred  \n",
       "0  Jeg synes, det er lidt ærgerligt, at hr. Lars ...  20121003  climate  "
      ]
     },
     "execution_count": 18,
     "metadata": {},
     "output_type": "execute_result"
    }
   ],
   "source": [
    "climate[\"date\"] = pd.to_datetime(climate['date'])\n",
    "climate.head(1)"
   ]
  },
  {
   "cell_type": "code",
   "execution_count": 19,
   "metadata": {},
   "outputs": [
    {
     "ename": "AttributeError",
     "evalue": "Can only use .dt accessor with datetimelike values",
     "output_type": "error",
     "traceback": [
      "\u001b[1;31m---------------------------------------------------------------------------\u001b[0m",
      "\u001b[1;31mAttributeError\u001b[0m                            Traceback (most recent call last)",
      "\u001b[1;32mc:\\Users\\COBOD\\OneDrive\\CBS doku\\ITU\\4semester\\finalRepo\\Vote-Prediction-Model\\data_analysis\\temporal_dynamics.ipynb Cell 8'\u001b[0m in \u001b[0;36m<module>\u001b[1;34m\u001b[0m\n\u001b[1;32m----> <a href='vscode-notebook-cell:/c%3A/Users/COBOD/OneDrive/CBS%20doku/ITU/4semester/finalRepo/Vote-Prediction-Model/data_analysis/temporal_dynamics.ipynb#ch0000006?line=0'>1</a>\u001b[0m stacked \u001b[39m=\u001b[39m climate\u001b[39m.\u001b[39mgroupby([\u001b[39m'\u001b[39m\u001b[39mparty\u001b[39m\u001b[39m'\u001b[39m, climate[\u001b[39m'\u001b[39;49m\u001b[39mdate\u001b[39;49m\u001b[39m'\u001b[39;49m]\u001b[39m.\u001b[39;49mdt\u001b[39m.\u001b[39mto_period(\u001b[39m'\u001b[39m\u001b[39mY\u001b[39m\u001b[39m'\u001b[39m)],axis\u001b[39m=\u001b[39m(\u001b[39m0\u001b[39m))\u001b[39m.\u001b[39mcount()\n\u001b[0;32m      <a href='vscode-notebook-cell:/c%3A/Users/COBOD/OneDrive/CBS%20doku/ITU/4semester/finalRepo/Vote-Prediction-Model/data_analysis/temporal_dynamics.ipynb#ch0000006?line=2'>3</a>\u001b[0m stacked \u001b[39m=\u001b[39m stacked[[\u001b[39m'\u001b[39m\u001b[39mtext\u001b[39m\u001b[39m'\u001b[39m]]\n\u001b[0;32m      <a href='vscode-notebook-cell:/c%3A/Users/COBOD/OneDrive/CBS%20doku/ITU/4semester/finalRepo/Vote-Prediction-Model/data_analysis/temporal_dynamics.ipynb#ch0000006?line=4'>5</a>\u001b[0m stacked\u001b[39m.\u001b[39mrename({\u001b[39m'\u001b[39m\u001b[39mtext\u001b[39m\u001b[39m'\u001b[39m:\u001b[39m'\u001b[39m\u001b[39mquotes\u001b[39m\u001b[39m'\u001b[39m}, inplace\u001b[39m=\u001b[39m\u001b[39mTrue\u001b[39;00m, axis\u001b[39m=\u001b[39m\u001b[39m1\u001b[39m)\n",
      "File \u001b[1;32m~\\AppData\\Local\\Programs\\Python\\Python39\\lib\\site-packages\\pandas\\core\\generic.py:5487\u001b[0m, in \u001b[0;36mNDFrame.__getattr__\u001b[1;34m(self, name)\u001b[0m\n\u001b[0;32m   <a href='file:///c%3A/Users/COBOD/AppData/Local/Programs/Python/Python39/lib/site-packages/pandas/core/generic.py?line=5479'>5480</a>\u001b[0m \u001b[39mif\u001b[39;00m (\n\u001b[0;32m   <a href='file:///c%3A/Users/COBOD/AppData/Local/Programs/Python/Python39/lib/site-packages/pandas/core/generic.py?line=5480'>5481</a>\u001b[0m     name \u001b[39mnot\u001b[39;00m \u001b[39min\u001b[39;00m \u001b[39mself\u001b[39m\u001b[39m.\u001b[39m_internal_names_set\n\u001b[0;32m   <a href='file:///c%3A/Users/COBOD/AppData/Local/Programs/Python/Python39/lib/site-packages/pandas/core/generic.py?line=5481'>5482</a>\u001b[0m     \u001b[39mand\u001b[39;00m name \u001b[39mnot\u001b[39;00m \u001b[39min\u001b[39;00m \u001b[39mself\u001b[39m\u001b[39m.\u001b[39m_metadata\n\u001b[0;32m   <a href='file:///c%3A/Users/COBOD/AppData/Local/Programs/Python/Python39/lib/site-packages/pandas/core/generic.py?line=5482'>5483</a>\u001b[0m     \u001b[39mand\u001b[39;00m name \u001b[39mnot\u001b[39;00m \u001b[39min\u001b[39;00m \u001b[39mself\u001b[39m\u001b[39m.\u001b[39m_accessors\n\u001b[0;32m   <a href='file:///c%3A/Users/COBOD/AppData/Local/Programs/Python/Python39/lib/site-packages/pandas/core/generic.py?line=5483'>5484</a>\u001b[0m     \u001b[39mand\u001b[39;00m \u001b[39mself\u001b[39m\u001b[39m.\u001b[39m_info_axis\u001b[39m.\u001b[39m_can_hold_identifiers_and_holds_name(name)\n\u001b[0;32m   <a href='file:///c%3A/Users/COBOD/AppData/Local/Programs/Python/Python39/lib/site-packages/pandas/core/generic.py?line=5484'>5485</a>\u001b[0m ):\n\u001b[0;32m   <a href='file:///c%3A/Users/COBOD/AppData/Local/Programs/Python/Python39/lib/site-packages/pandas/core/generic.py?line=5485'>5486</a>\u001b[0m     \u001b[39mreturn\u001b[39;00m \u001b[39mself\u001b[39m[name]\n\u001b[1;32m-> <a href='file:///c%3A/Users/COBOD/AppData/Local/Programs/Python/Python39/lib/site-packages/pandas/core/generic.py?line=5486'>5487</a>\u001b[0m \u001b[39mreturn\u001b[39;00m \u001b[39mobject\u001b[39;49m\u001b[39m.\u001b[39;49m\u001b[39m__getattribute__\u001b[39;49m(\u001b[39mself\u001b[39;49m, name)\n",
      "File \u001b[1;32m~\\AppData\\Local\\Programs\\Python\\Python39\\lib\\site-packages\\pandas\\core\\accessor.py:181\u001b[0m, in \u001b[0;36mCachedAccessor.__get__\u001b[1;34m(self, obj, cls)\u001b[0m\n\u001b[0;32m    <a href='file:///c%3A/Users/COBOD/AppData/Local/Programs/Python/Python39/lib/site-packages/pandas/core/accessor.py?line=177'>178</a>\u001b[0m \u001b[39mif\u001b[39;00m obj \u001b[39mis\u001b[39;00m \u001b[39mNone\u001b[39;00m:\n\u001b[0;32m    <a href='file:///c%3A/Users/COBOD/AppData/Local/Programs/Python/Python39/lib/site-packages/pandas/core/accessor.py?line=178'>179</a>\u001b[0m     \u001b[39m# we're accessing the attribute of the class, i.e., Dataset.geo\u001b[39;00m\n\u001b[0;32m    <a href='file:///c%3A/Users/COBOD/AppData/Local/Programs/Python/Python39/lib/site-packages/pandas/core/accessor.py?line=179'>180</a>\u001b[0m     \u001b[39mreturn\u001b[39;00m \u001b[39mself\u001b[39m\u001b[39m.\u001b[39m_accessor\n\u001b[1;32m--> <a href='file:///c%3A/Users/COBOD/AppData/Local/Programs/Python/Python39/lib/site-packages/pandas/core/accessor.py?line=180'>181</a>\u001b[0m accessor_obj \u001b[39m=\u001b[39m \u001b[39mself\u001b[39;49m\u001b[39m.\u001b[39;49m_accessor(obj)\n\u001b[0;32m    <a href='file:///c%3A/Users/COBOD/AppData/Local/Programs/Python/Python39/lib/site-packages/pandas/core/accessor.py?line=181'>182</a>\u001b[0m \u001b[39m# Replace the property with the accessor object. Inspired by:\u001b[39;00m\n\u001b[0;32m    <a href='file:///c%3A/Users/COBOD/AppData/Local/Programs/Python/Python39/lib/site-packages/pandas/core/accessor.py?line=182'>183</a>\u001b[0m \u001b[39m# https://www.pydanny.com/cached-property.html\u001b[39;00m\n\u001b[0;32m    <a href='file:///c%3A/Users/COBOD/AppData/Local/Programs/Python/Python39/lib/site-packages/pandas/core/accessor.py?line=183'>184</a>\u001b[0m \u001b[39m# We need to use object.__setattr__ because we overwrite __setattr__ on\u001b[39;00m\n\u001b[0;32m    <a href='file:///c%3A/Users/COBOD/AppData/Local/Programs/Python/Python39/lib/site-packages/pandas/core/accessor.py?line=184'>185</a>\u001b[0m \u001b[39m# NDFrame\u001b[39;00m\n\u001b[0;32m    <a href='file:///c%3A/Users/COBOD/AppData/Local/Programs/Python/Python39/lib/site-packages/pandas/core/accessor.py?line=185'>186</a>\u001b[0m \u001b[39mobject\u001b[39m\u001b[39m.\u001b[39m\u001b[39m__setattr__\u001b[39m(obj, \u001b[39mself\u001b[39m\u001b[39m.\u001b[39m_name, accessor_obj)\n",
      "File \u001b[1;32m~\\AppData\\Local\\Programs\\Python\\Python39\\lib\\site-packages\\pandas\\core\\indexes\\accessors.py:506\u001b[0m, in \u001b[0;36mCombinedDatetimelikeProperties.__new__\u001b[1;34m(cls, data)\u001b[0m\n\u001b[0;32m    <a href='file:///c%3A/Users/COBOD/AppData/Local/Programs/Python/Python39/lib/site-packages/pandas/core/indexes/accessors.py?line=502'>503</a>\u001b[0m \u001b[39melif\u001b[39;00m is_period_dtype(data\u001b[39m.\u001b[39mdtype):\n\u001b[0;32m    <a href='file:///c%3A/Users/COBOD/AppData/Local/Programs/Python/Python39/lib/site-packages/pandas/core/indexes/accessors.py?line=503'>504</a>\u001b[0m     \u001b[39mreturn\u001b[39;00m PeriodProperties(data, orig)\n\u001b[1;32m--> <a href='file:///c%3A/Users/COBOD/AppData/Local/Programs/Python/Python39/lib/site-packages/pandas/core/indexes/accessors.py?line=505'>506</a>\u001b[0m \u001b[39mraise\u001b[39;00m \u001b[39mAttributeError\u001b[39;00m(\u001b[39m\"\u001b[39m\u001b[39mCan only use .dt accessor with datetimelike values\u001b[39m\u001b[39m\"\u001b[39m)\n",
      "\u001b[1;31mAttributeError\u001b[0m: Can only use .dt accessor with datetimelike values"
     ]
    }
   ],
   "source": [
    "stacked = climate.groupby(['party', climate['date'].dt.to_period('Y')],axis=(0)).count()\n",
    "\n",
    "stacked = stacked[['text']]\n",
    "\n",
    "stacked.rename({'text':'quotes'}, inplace=True, axis=1)\n",
    "\n",
    "stacked = stacked[0:-6]\n",
    "\n",
    "\n",
    "stacked.reset_index(inplace=True)\n",
    "\n",
    "\n",
    "#stacked.reset_index(inplace=True)\n",
    "\n",
    "# stacked.set_index('date', inplace=True)\n",
    "\n",
    "# stacked\n",
    "lst = [i for i in stacked['party'].unique()]\n",
    "\n",
    "view = stacked[stacked.party == lst[0]]\n",
    "view = view.set_index('date')[['quotes']]\n",
    "view.rename({'quotes':lst[0]}, axis=1)\n",
    "view = view.transpose()\n",
    "\n"
   ]
  },
  {
   "cell_type": "code",
   "execution_count": 257,
   "metadata": {},
   "outputs": [],
   "source": [
    "# Creating the template to append the rest\n",
    "full_view = stacked[stacked.party == lst[1]]\n",
    "full_view = full_view.set_index('date')[['quotes']]\n",
    "full_view.rename({'quotes':lst[1]}, axis=1, inplace= True)\n",
    "full_view = full_view.transpose()"
   ]
  },
  {
   "cell_type": "code",
   "execution_count": 297,
   "metadata": {},
   "outputs": [],
   "source": [
    "full_view = pd.DataFrame()\n",
    "\n",
    "for i in lst:\n",
    "    view = stacked[stacked.party == i]\n",
    "    view = view.set_index('date')[['quotes']]\n",
    "    view = view.rename({'quotes':i}, axis=1).transpose()\n",
    "    #print(view)\n",
    "    full_view = full_view.append(view)\n",
    "    \n",
    "#full_view.reset_index(inplace=True)\n",
    "full_view.rename({'date':'party'}, axis=0)\n",
    "\n",
    "full_view = full_view.transpose()"
   ]
  },
  {
   "cell_type": "code",
   "execution_count": 299,
   "metadata": {},
   "outputs": [],
   "source": [
    "# Taking out some the smaller parties\n",
    "full_view.drop(['(NQ)', '(NB)', '(JF)', '(SIU)', '(SP)', '(T)', '(UFG)', '(IA)', '(KD)'], axis=1, inplace=True)"
   ]
  },
  {
   "cell_type": "code",
   "execution_count": 300,
   "metadata": {},
   "outputs": [
    {
     "data": {
      "text/html": [
       "<div>\n",
       "<style scoped>\n",
       "    .dataframe tbody tr th:only-of-type {\n",
       "        vertical-align: middle;\n",
       "    }\n",
       "\n",
       "    .dataframe tbody tr th {\n",
       "        vertical-align: top;\n",
       "    }\n",
       "\n",
       "    .dataframe thead th {\n",
       "        text-align: right;\n",
       "    }\n",
       "</style>\n",
       "<table border=\"1\" class=\"dataframe\">\n",
       "  <thead>\n",
       "    <tr style=\"text-align: right;\">\n",
       "      <th></th>\n",
       "      <th>(ALT)</th>\n",
       "      <th>(DF)</th>\n",
       "      <th>(EL)</th>\n",
       "      <th>(KF)</th>\n",
       "      <th>(LA)</th>\n",
       "      <th>(RV)</th>\n",
       "      <th>(S)</th>\n",
       "      <th>(SF)</th>\n",
       "      <th>(V)</th>\n",
       "    </tr>\n",
       "    <tr>\n",
       "      <th>date</th>\n",
       "      <th></th>\n",
       "      <th></th>\n",
       "      <th></th>\n",
       "      <th></th>\n",
       "      <th></th>\n",
       "      <th></th>\n",
       "      <th></th>\n",
       "      <th></th>\n",
       "      <th></th>\n",
       "    </tr>\n",
       "  </thead>\n",
       "  <tbody>\n",
       "    <tr>\n",
       "      <th>2012</th>\n",
       "      <td>NaN</td>\n",
       "      <td>7.0</td>\n",
       "      <td>14.0</td>\n",
       "      <td>1.0</td>\n",
       "      <td>17.0</td>\n",
       "      <td>15.0</td>\n",
       "      <td>13.0</td>\n",
       "      <td>8.0</td>\n",
       "      <td>7.0</td>\n",
       "    </tr>\n",
       "    <tr>\n",
       "      <th>2013</th>\n",
       "      <td>NaN</td>\n",
       "      <td>22.0</td>\n",
       "      <td>60.0</td>\n",
       "      <td>15.0</td>\n",
       "      <td>19.0</td>\n",
       "      <td>41.0</td>\n",
       "      <td>37.0</td>\n",
       "      <td>24.0</td>\n",
       "      <td>52.0</td>\n",
       "    </tr>\n",
       "    <tr>\n",
       "      <th>2014</th>\n",
       "      <td>NaN</td>\n",
       "      <td>51.0</td>\n",
       "      <td>78.0</td>\n",
       "      <td>27.0</td>\n",
       "      <td>20.0</td>\n",
       "      <td>53.0</td>\n",
       "      <td>63.0</td>\n",
       "      <td>38.0</td>\n",
       "      <td>77.0</td>\n",
       "    </tr>\n",
       "    <tr>\n",
       "      <th>2015</th>\n",
       "      <td>51.0</td>\n",
       "      <td>67.0</td>\n",
       "      <td>158.0</td>\n",
       "      <td>35.0</td>\n",
       "      <td>56.0</td>\n",
       "      <td>56.0</td>\n",
       "      <td>68.0</td>\n",
       "      <td>77.0</td>\n",
       "      <td>122.0</td>\n",
       "    </tr>\n",
       "    <tr>\n",
       "      <th>2016</th>\n",
       "      <td>157.0</td>\n",
       "      <td>45.0</td>\n",
       "      <td>146.0</td>\n",
       "      <td>29.0</td>\n",
       "      <td>58.0</td>\n",
       "      <td>55.0</td>\n",
       "      <td>86.0</td>\n",
       "      <td>63.0</td>\n",
       "      <td>157.0</td>\n",
       "    </tr>\n",
       "    <tr>\n",
       "      <th>2017</th>\n",
       "      <td>152.0</td>\n",
       "      <td>51.0</td>\n",
       "      <td>137.0</td>\n",
       "      <td>38.0</td>\n",
       "      <td>58.0</td>\n",
       "      <td>38.0</td>\n",
       "      <td>64.0</td>\n",
       "      <td>58.0</td>\n",
       "      <td>143.0</td>\n",
       "    </tr>\n",
       "    <tr>\n",
       "      <th>2018</th>\n",
       "      <td>111.0</td>\n",
       "      <td>52.0</td>\n",
       "      <td>76.0</td>\n",
       "      <td>36.0</td>\n",
       "      <td>41.0</td>\n",
       "      <td>39.0</td>\n",
       "      <td>116.0</td>\n",
       "      <td>39.0</td>\n",
       "      <td>151.0</td>\n",
       "    </tr>\n",
       "    <tr>\n",
       "      <th>2019</th>\n",
       "      <td>185.0</td>\n",
       "      <td>66.0</td>\n",
       "      <td>135.0</td>\n",
       "      <td>45.0</td>\n",
       "      <td>55.0</td>\n",
       "      <td>88.0</td>\n",
       "      <td>138.0</td>\n",
       "      <td>66.0</td>\n",
       "      <td>206.0</td>\n",
       "    </tr>\n",
       "    <tr>\n",
       "      <th>2020</th>\n",
       "      <td>97.0</td>\n",
       "      <td>85.0</td>\n",
       "      <td>157.0</td>\n",
       "      <td>50.0</td>\n",
       "      <td>59.0</td>\n",
       "      <td>152.0</td>\n",
       "      <td>303.0</td>\n",
       "      <td>159.0</td>\n",
       "      <td>145.0</td>\n",
       "    </tr>\n",
       "    <tr>\n",
       "      <th>2021</th>\n",
       "      <td>75.0</td>\n",
       "      <td>64.0</td>\n",
       "      <td>79.0</td>\n",
       "      <td>34.0</td>\n",
       "      <td>17.0</td>\n",
       "      <td>34.0</td>\n",
       "      <td>181.0</td>\n",
       "      <td>100.0</td>\n",
       "      <td>76.0</td>\n",
       "    </tr>\n",
       "  </tbody>\n",
       "</table>\n",
       "</div>"
      ],
      "text/plain": [
       "      (ALT)  (DF)   (EL)  (KF)  (LA)   (RV)    (S)   (SF)    (V)\n",
       "date                                                            \n",
       "2012    NaN   7.0   14.0   1.0  17.0   15.0   13.0    8.0    7.0\n",
       "2013    NaN  22.0   60.0  15.0  19.0   41.0   37.0   24.0   52.0\n",
       "2014    NaN  51.0   78.0  27.0  20.0   53.0   63.0   38.0   77.0\n",
       "2015   51.0  67.0  158.0  35.0  56.0   56.0   68.0   77.0  122.0\n",
       "2016  157.0  45.0  146.0  29.0  58.0   55.0   86.0   63.0  157.0\n",
       "2017  152.0  51.0  137.0  38.0  58.0   38.0   64.0   58.0  143.0\n",
       "2018  111.0  52.0   76.0  36.0  41.0   39.0  116.0   39.0  151.0\n",
       "2019  185.0  66.0  135.0  45.0  55.0   88.0  138.0   66.0  206.0\n",
       "2020   97.0  85.0  157.0  50.0  59.0  152.0  303.0  159.0  145.0\n",
       "2021   75.0  64.0   79.0  34.0  17.0   34.0  181.0  100.0   76.0"
      ]
     },
     "execution_count": 300,
     "metadata": {},
     "output_type": "execute_result"
    }
   ],
   "source": [
    "full_view"
   ]
  },
  {
   "cell_type": "code",
   "execution_count": 293,
   "metadata": {},
   "outputs": [
    {
     "data": {
      "text/plain": [
       "<AxesSubplot:xlabel='date'>"
      ]
     },
     "execution_count": 293,
     "metadata": {},
     "output_type": "execute_result"
    },
    {
     "data": {
      "image/png": "[encoded data removed]",
      "text/plain": [
       "<Figure size 432x288 with 1 Axes>"
      ]
     },
     "metadata": {
      "needs_background": "light"
     },
     "output_type": "display_data"
    },
    {
     "data": {
      "image/png": "[encoded data removed]",
      "text/plain": [
       "<Figure size 432x288 with 1 Axes>"
      ]
     },
     "metadata": {
      "needs_background": "light"
     },
     "output_type": "display_data"
    }
   ],
   "source": [
    "#Raw view \n",
    "full_view.plot(kind=\"bar\", stacked=True)\n",
    "full_view.plot(kind='bar')"
   ]
  },
  {
   "cell_type": "code",
   "execution_count": 54,
   "metadata": {},
   "outputs": [
    {
     "data": {
      "text/html": [
       "<div>\n",
       "<style scoped>\n",
       "    .dataframe tbody tr th:only-of-type {\n",
       "        vertical-align: middle;\n",
       "    }\n",
       "\n",
       "    .dataframe tbody tr th {\n",
       "        vertical-align: top;\n",
       "    }\n",
       "\n",
       "    .dataframe thead th {\n",
       "        text-align: right;\n",
       "    }\n",
       "</style>\n",
       "<table border=\"1\" class=\"dataframe\">\n",
       "  <thead>\n",
       "    <tr style=\"text-align: right;\">\n",
       "      <th></th>\n",
       "      <th>text</th>\n",
       "    </tr>\n",
       "    <tr>\n",
       "      <th>date</th>\n",
       "      <th></th>\n",
       "    </tr>\n",
       "  </thead>\n",
       "  <tbody>\n",
       "    <tr>\n",
       "      <th>2012Q4</th>\n",
       "      <td>84</td>\n",
       "    </tr>\n",
       "    <tr>\n",
       "      <th>2013Q1</th>\n",
       "      <td>53</td>\n",
       "    </tr>\n",
       "    <tr>\n",
       "      <th>2013Q2</th>\n",
       "      <td>132</td>\n",
       "    </tr>\n",
       "    <tr>\n",
       "      <th>2013Q4</th>\n",
       "      <td>88</td>\n",
       "    </tr>\n",
       "    <tr>\n",
       "      <th>2014Q1</th>\n",
       "      <td>99</td>\n",
       "    </tr>\n",
       "    <tr>\n",
       "      <th>2014Q2</th>\n",
       "      <td>204</td>\n",
       "    </tr>\n",
       "    <tr>\n",
       "      <th>2014Q3</th>\n",
       "      <td>1</td>\n",
       "    </tr>\n",
       "    <tr>\n",
       "      <th>2014Q4</th>\n",
       "      <td>107</td>\n",
       "    </tr>\n",
       "    <tr>\n",
       "      <th>2015Q1</th>\n",
       "      <td>177</td>\n",
       "    </tr>\n",
       "    <tr>\n",
       "      <th>2015Q2</th>\n",
       "      <td>106</td>\n",
       "    </tr>\n",
       "    <tr>\n",
       "      <th>2015Q4</th>\n",
       "      <td>411</td>\n",
       "    </tr>\n",
       "    <tr>\n",
       "      <th>2016Q1</th>\n",
       "      <td>188</td>\n",
       "    </tr>\n",
       "    <tr>\n",
       "      <th>2016Q2</th>\n",
       "      <td>272</td>\n",
       "    </tr>\n",
       "    <tr>\n",
       "      <th>2016Q3</th>\n",
       "      <td>22</td>\n",
       "    </tr>\n",
       "    <tr>\n",
       "      <th>2016Q4</th>\n",
       "      <td>329</td>\n",
       "    </tr>\n",
       "    <tr>\n",
       "      <th>2017Q1</th>\n",
       "      <td>129</td>\n",
       "    </tr>\n",
       "    <tr>\n",
       "      <th>2017Q2</th>\n",
       "      <td>326</td>\n",
       "    </tr>\n",
       "    <tr>\n",
       "      <th>2017Q3</th>\n",
       "      <td>30</td>\n",
       "    </tr>\n",
       "    <tr>\n",
       "      <th>2017Q4</th>\n",
       "      <td>266</td>\n",
       "    </tr>\n",
       "    <tr>\n",
       "      <th>2018Q1</th>\n",
       "      <td>145</td>\n",
       "    </tr>\n",
       "    <tr>\n",
       "      <th>2018Q2</th>\n",
       "      <td>197</td>\n",
       "    </tr>\n",
       "    <tr>\n",
       "      <th>2018Q3</th>\n",
       "      <td>60</td>\n",
       "    </tr>\n",
       "    <tr>\n",
       "      <th>2018Q4</th>\n",
       "      <td>266</td>\n",
       "    </tr>\n",
       "    <tr>\n",
       "      <th>2019Q1</th>\n",
       "      <td>365</td>\n",
       "    </tr>\n",
       "    <tr>\n",
       "      <th>2019Q2</th>\n",
       "      <td>196</td>\n",
       "    </tr>\n",
       "    <tr>\n",
       "      <th>2019Q4</th>\n",
       "      <td>449</td>\n",
       "    </tr>\n",
       "    <tr>\n",
       "      <th>2020Q1</th>\n",
       "      <td>358</td>\n",
       "    </tr>\n",
       "    <tr>\n",
       "      <th>2020Q2</th>\n",
       "      <td>386</td>\n",
       "    </tr>\n",
       "    <tr>\n",
       "      <th>2020Q3</th>\n",
       "      <td>73</td>\n",
       "    </tr>\n",
       "    <tr>\n",
       "      <th>2020Q4</th>\n",
       "      <td>467</td>\n",
       "    </tr>\n",
       "    <tr>\n",
       "      <th>2021Q1</th>\n",
       "      <td>301</td>\n",
       "    </tr>\n",
       "    <tr>\n",
       "      <th>2021Q2</th>\n",
       "      <td>457</td>\n",
       "    </tr>\n",
       "  </tbody>\n",
       "</table>\n",
       "</div>"
      ],
      "text/plain": [
       "        text\n",
       "date        \n",
       "2012Q4    84\n",
       "2013Q1    53\n",
       "2013Q2   132\n",
       "2013Q4    88\n",
       "2014Q1    99\n",
       "2014Q2   204\n",
       "2014Q3     1\n",
       "2014Q4   107\n",
       "2015Q1   177\n",
       "2015Q2   106\n",
       "2015Q4   411\n",
       "2016Q1   188\n",
       "2016Q2   272\n",
       "2016Q3    22\n",
       "2016Q4   329\n",
       "2017Q1   129\n",
       "2017Q2   326\n",
       "2017Q3    30\n",
       "2017Q4   266\n",
       "2018Q1   145\n",
       "2018Q2   197\n",
       "2018Q3    60\n",
       "2018Q4   266\n",
       "2019Q1   365\n",
       "2019Q2   196\n",
       "2019Q4   449\n",
       "2020Q1   358\n",
       "2020Q2   386\n",
       "2020Q3    73\n",
       "2020Q4   467\n",
       "2021Q1   301\n",
       "2021Q2   457"
      ]
     },
     "execution_count": 54,
     "metadata": {},
     "output_type": "execute_result"
    }
   ],
   "source": [
    "climate['date'] = pd.to_datetime(climate['date'])\n",
    "temporal_raw = climate.groupby(climate['date'].dt.to_period('Q')).agg({'text': 'count'})\n",
    "\n"
   ]
  },
  {
   "cell_type": "code",
   "execution_count": 14,
   "metadata": {},
   "outputs": [],
   "source": [
    "temporal_raw['qa'] = temporal_raw.index\n",
    "temporal_raw['qa'] = temporal_raw['qa'].apply(lambda x: str(x))"
   ]
  },
  {
   "cell_type": "code",
   "execution_count": 45,
   "metadata": {},
   "outputs": [],
   "source": [
    "q3s = temporal_raw[temporal_raw.qa.str.contains(\"Q3\")].index\n",
    "temporal_nq3 = temporal_raw.drop(q3s)\n"
   ]
  },
  {
   "cell_type": "code",
   "execution_count": 16,
   "metadata": {},
   "outputs": [
    {
     "data": {
      "image/png": "[encoded data removed]",
      "text/plain": [
       "<Figure size 432x288 with 1 Axes>"
      ]
     },
     "metadata": {
      "needs_background": "light"
     },
     "output_type": "display_data"
    },
    {
     "data": {
      "image/png": "[encoded data removed]",
      "text/plain": [
       "<Figure size 432x288 with 1 Axes>"
      ]
     },
     "metadata": {
      "needs_background": "light"
     },
     "output_type": "display_data"
    }
   ],
   "source": [
    "temporal_raw.plot()\n",
    "temporal_nq3.plot()\n",
    "plt.show()\n",
    "\n",
    "# barplots instead!"
   ]
  },
  {
   "cell_type": "code",
   "execution_count": 17,
   "metadata": {},
   "outputs": [],
   "source": [
    "full['date'] = pd.to_datetime(full['date'])\n",
    "full.drop(columns='index', inplace=True)\n"
   ]
  },
  {
   "cell_type": "code",
   "execution_count": 18,
   "metadata": {},
   "outputs": [],
   "source": [
    "full['climate'] = full['y_pred'].apply(lambda x: 1 if x==\"climate\" else 0)"
   ]
  },
  {
   "cell_type": "code",
   "execution_count": 19,
   "metadata": {},
   "outputs": [],
   "source": [
    "full['non-climate'] = full['y_pred'].apply(lambda x: 1 if x==\"non-climate\" else 0)"
   ]
  },
  {
   "cell_type": "code",
   "execution_count": 20,
   "metadata": {},
   "outputs": [
    {
     "data": {
      "text/plain": [
       "30"
      ]
     },
     "execution_count": 20,
     "metadata": {},
     "output_type": "execute_result"
    }
   ],
   "source": [
    "len(full[(full['text'].str.contains(\"covid\")) & (full['y_pred']=='climate')])"
   ]
  },
  {
   "cell_type": "code",
   "execution_count": 316,
   "metadata": {},
   "outputs": [],
   "source": [
    "quarterly = full.groupby(full['date'].dt.to_period('Q')).agg({'climate': 'sum', 'non-climate':'sum'})\n",
    "quarterly['percentage_climate'] = quarterly.apply(lambda x: (x['climate']/(x['climate']+x['non-climate']))*100, axis=1)\n",
    "\n",
    "view = quarterly.drop(columns=['climate', 'non-climate'])"
   ]
  },
  {
   "cell_type": "code",
   "execution_count": null,
   "metadata": {},
   "outputs": [],
   "source": []
  },
  {
   "cell_type": "markdown",
   "metadata": {},
   "source": [
    "### Temporal Dynamics"
   ]
  },
  {
   "cell_type": "code",
   "execution_count": 318,
   "metadata": {},
   "outputs": [],
   "source": [
    "yearly = full.groupby(full['date'].dt.to_period('Y')).agg({'climate': 'sum', 'non-climate':'sum'})\n",
    "yearly['percentage_climate'] = yearly.apply(lambda x: (x['climate']/(x['climate']+x['non-climate']))*100, axis=1)\n",
    "\n",
    "view2 = yearly.drop(columns=['climate', 'non-climate'])"
   ]
  },
  {
   "cell_type": "code",
   "execution_count": 319,
   "metadata": {},
   "outputs": [
    {
     "data": {
      "text/html": [
       "<div>\n",
       "<style scoped>\n",
       "    .dataframe tbody tr th:only-of-type {\n",
       "        vertical-align: middle;\n",
       "    }\n",
       "\n",
       "    .dataframe tbody tr th {\n",
       "        vertical-align: top;\n",
       "    }\n",
       "\n",
       "    .dataframe thead th {\n",
       "        text-align: right;\n",
       "    }\n",
       "</style>\n",
       "<table border=\"1\" class=\"dataframe\">\n",
       "  <thead>\n",
       "    <tr style=\"text-align: right;\">\n",
       "      <th></th>\n",
       "      <th>percentage_climate</th>\n",
       "    </tr>\n",
       "    <tr>\n",
       "      <th>date</th>\n",
       "      <th></th>\n",
       "    </tr>\n",
       "  </thead>\n",
       "  <tbody>\n",
       "    <tr>\n",
       "      <th>2012</th>\n",
       "      <td>1.171875</td>\n",
       "    </tr>\n",
       "    <tr>\n",
       "      <th>2013</th>\n",
       "      <td>1.479434</td>\n",
       "    </tr>\n",
       "    <tr>\n",
       "      <th>2014</th>\n",
       "      <td>2.323347</td>\n",
       "    </tr>\n",
       "    <tr>\n",
       "      <th>2015</th>\n",
       "      <td>3.455831</td>\n",
       "    </tr>\n",
       "    <tr>\n",
       "      <th>2016</th>\n",
       "      <td>2.915169</td>\n",
       "    </tr>\n",
       "    <tr>\n",
       "      <th>2017</th>\n",
       "      <td>3.045418</td>\n",
       "    </tr>\n",
       "    <tr>\n",
       "      <th>2018</th>\n",
       "      <td>3.195102</td>\n",
       "    </tr>\n",
       "    <tr>\n",
       "      <th>2019</th>\n",
       "      <td>5.076397</td>\n",
       "    </tr>\n",
       "    <tr>\n",
       "      <th>2020</th>\n",
       "      <td>4.472309</td>\n",
       "    </tr>\n",
       "    <tr>\n",
       "      <th>2021</th>\n",
       "      <td>3.784890</td>\n",
       "    </tr>\n",
       "  </tbody>\n",
       "</table>\n",
       "</div>"
      ],
      "text/plain": [
       "      percentage_climate\n",
       "date                    \n",
       "2012            1.171875\n",
       "2013            1.479434\n",
       "2014            2.323347\n",
       "2015            3.455831\n",
       "2016            2.915169\n",
       "2017            3.045418\n",
       "2018            3.195102\n",
       "2019            5.076397\n",
       "2020            4.472309\n",
       "2021            3.784890"
      ]
     },
     "execution_count": 319,
     "metadata": {},
     "output_type": "execute_result"
    }
   ],
   "source": [
    "view2"
   ]
  },
  {
   "cell_type": "code",
   "execution_count": 321,
   "metadata": {},
   "outputs": [
    {
     "data": {
      "text/plain": [
       "<AxesSubplot:title={'center':'Overall Distribution of Climate Quotes'}, xlabel='date', ylabel='% climate quotes'>"
      ]
     },
     "execution_count": 321,
     "metadata": {},
     "output_type": "execute_result"
    },
    {
     "data": {
      "image/png": "[encoded data removed]",
      "text/plain": [
       "<Figure size 432x288 with 1 Axes>"
      ]
     },
     "metadata": {
      "needs_background": "light"
     },
     "output_type": "display_data"
    }
   ],
   "source": [
    "view2.plot(kind='bar', title='Overall Distribution of Climate Quotes', ylabel=\"% climate quotes\")"
   ]
  },
  {
   "cell_type": "code",
   "execution_count": 322,
   "metadata": {},
   "outputs": [],
   "source": [
    "#view2.percentage_climate"
   ]
  },
  {
   "cell_type": "markdown",
   "metadata": {},
   "source": [
    "We see that the 3rd quarter has fewer quotes and meetings because of the summer holidays. On the lower data_sample there seem to be spikes on climate, but the overall data level is also lower here. This could cause a bias in the representation, as smaller fallouts will have an influence on the percentage of quotes.\n",
    "Hence we will have to normalize for the months that"
   ]
  },
  {
   "cell_type": "code",
   "execution_count": null,
   "metadata": {},
   "outputs": [],
   "source": []
  }
 ],
 "metadata": {
  "interpreter": {
   "hash": "36e2581dfb10b7e3de3547be529c2e8e9e4d59798f578734b808d68ebdb931d0"
  },
  "kernelspec": {
   "display_name": "Python 3.9.7 ('anaconda3')",
   "language": "python",
   "name": "python3"
  },
  "language_info": {
   "codemirror_mode": {
    "name": "ipython",
    "version": 3
   },
   "file_extension": ".py",
   "mimetype": "text/x-python",
   "name": "python",
   "nbconvert_exporter": "python",
   "pygments_lexer": "ipython3",
   "version": "3.9.2"
  },
  "orig_nbformat": 4
 },
 "nbformat": 4,
 "nbformat_minor": 2
}
