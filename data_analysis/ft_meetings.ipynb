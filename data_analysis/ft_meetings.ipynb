{
 "cells": [
  {
   "cell_type": "code",
   "execution_count": 1,
   "metadata": {},
   "outputs": [],
   "source": [
    "## Imports\n",
    "import pandas as pd\n",
    "import json\n",
    "import matplotlib.pyplot as plt\n",
    "from datetime import datetime\n"
   ]
  },
  {
   "cell_type": "code",
   "execution_count": 32,
   "metadata": {},
   "outputs": [
    {
     "data": {
      "text/html": [
       "<div>\n",
       "<style scoped>\n",
       "    .dataframe tbody tr th:only-of-type {\n",
       "        vertical-align: middle;\n",
       "    }\n",
       "\n",
       "    .dataframe tbody tr th {\n",
       "        vertical-align: top;\n",
       "    }\n",
       "\n",
       "    .dataframe thead th {\n",
       "        text-align: right;\n",
       "    }\n",
       "</style>\n",
       "<table border=\"1\" class=\"dataframe\">\n",
       "  <thead>\n",
       "    <tr style=\"text-align: right;\">\n",
       "      <th></th>\n",
       "      <th>speaker</th>\n",
       "      <th>politician</th>\n",
       "      <th>title</th>\n",
       "      <th>party</th>\n",
       "      <th>text</th>\n",
       "      <th>date</th>\n",
       "      <th>y_pred</th>\n",
       "      <th>year</th>\n",
       "      <th>month</th>\n",
       "      <th>id</th>\n",
       "    </tr>\n",
       "  </thead>\n",
       "  <tbody>\n",
       "    <tr>\n",
       "      <th>0</th>\n",
       "      <td>Statsministeren Helle Thorning-Schmidt</td>\n",
       "      <td>Helle Thorning-Schmidt</td>\n",
       "      <td>Statsministeren</td>\n",
       "      <td>(S)</td>\n",
       "      <td>(Talen er under udarbejdelse) (Talen er under ...</td>\n",
       "      <td>2012-10-02</td>\n",
       "      <td>non-climate</td>\n",
       "      <td>2012</td>\n",
       "      <td>10</td>\n",
       "      <td>0</td>\n",
       "    </tr>\n",
       "    <tr>\n",
       "      <th>1</th>\n",
       "      <td>Statsministeren Helle Thorning-Schmidt</td>\n",
       "      <td>Helle Thorning-Schmidt</td>\n",
       "      <td>Statsministeren</td>\n",
       "      <td>(S)</td>\n",
       "      <td>Vi skal bringe Danmark godt og trygt gennem kr...</td>\n",
       "      <td>2012-10-02</td>\n",
       "      <td>non-climate</td>\n",
       "      <td>2012</td>\n",
       "      <td>10</td>\n",
       "      <td>0</td>\n",
       "    </tr>\n",
       "  </tbody>\n",
       "</table>\n",
       "</div>"
      ],
      "text/plain": [
       "                                  speaker              politician  \\\n",
       "0  Statsministeren Helle Thorning-Schmidt  Helle Thorning-Schmidt   \n",
       "1  Statsministeren Helle Thorning-Schmidt  Helle Thorning-Schmidt   \n",
       "\n",
       "             title party                                               text  \\\n",
       "0  Statsministeren   (S)  (Talen er under udarbejdelse) (Talen er under ...   \n",
       "1  Statsministeren   (S)  Vi skal bringe Danmark godt og trygt gennem kr...   \n",
       "\n",
       "        date       y_pred  year month  id  \n",
       "0 2012-10-02  non-climate  2012    10   0  \n",
       "1 2012-10-02  non-climate  2012    10   0  "
      ]
     },
     "execution_count": 32,
     "metadata": {},
     "output_type": "execute_result"
    }
   ],
   "source": [
    "## Load data\n",
    "all = pd.read_pickle(\"../climate_classifier/scored_data/ft_meetings_all_2.2.pkl\")\n",
    "\n",
    "all[\"year\"] = all[\"date\"].astype(\"str\").str[:4]\n",
    "all[\"month\"] = all[\"date\"].astype(\"str\").str[5:7]\n",
    "all[\"politician\"] = all[\"politician\"].str.strip()\n",
    "all[\"id\"] = all[\"date\"]\n",
    "all[\"id\"] = all[\"id\"].astype(\"category\")\n",
    "all[\"id\"] = all[\"id\"].cat.codes\n",
    "all.head(2)"
   ]
  },
  {
   "cell_type": "code",
   "execution_count": 33,
   "metadata": {},
   "outputs": [
    {
     "name": "stdout",
     "output_type": "stream",
     "text": [
      "240114\n",
      "220456\n"
     ]
    }
   ],
   "source": [
    "print(len(all))\n",
    "all = all.drop_duplicates(subset=\"text\")\n",
    "print(len(all))"
   ]
  },
  {
   "cell_type": "code",
   "execution_count": 34,
   "metadata": {},
   "outputs": [
    {
     "name": "stdout",
     "output_type": "stream",
     "text": [
      "220456\n",
      "10401\n"
     ]
    }
   ],
   "source": [
    "climate = all[all[\"y_pred\"]==\"climate\"]\n",
    "print(len(all))\n",
    "print(len(climate))"
   ]
  },
  {
   "cell_type": "markdown",
   "metadata": {},
   "source": [
    "### General stats"
   ]
  },
  {
   "cell_type": "code",
   "execution_count": 35,
   "metadata": {},
   "outputs": [
    {
     "data": {
      "text/html": [
       "<div>\n",
       "<style scoped>\n",
       "    .dataframe tbody tr th:only-of-type {\n",
       "        vertical-align: middle;\n",
       "    }\n",
       "\n",
       "    .dataframe tbody tr th {\n",
       "        vertical-align: top;\n",
       "    }\n",
       "\n",
       "    .dataframe thead th {\n",
       "        text-align: right;\n",
       "    }\n",
       "</style>\n",
       "<table border=\"1\" class=\"dataframe\">\n",
       "  <thead>\n",
       "    <tr style=\"text-align: right;\">\n",
       "      <th></th>\n",
       "      <th>speaker</th>\n",
       "      <th>politician</th>\n",
       "      <th>title</th>\n",
       "      <th>party</th>\n",
       "      <th>text</th>\n",
       "      <th>date</th>\n",
       "      <th>year</th>\n",
       "      <th>month</th>\n",
       "      <th>id</th>\n",
       "    </tr>\n",
       "    <tr>\n",
       "      <th>y_pred</th>\n",
       "      <th></th>\n",
       "      <th></th>\n",
       "      <th></th>\n",
       "      <th></th>\n",
       "      <th></th>\n",
       "      <th></th>\n",
       "      <th></th>\n",
       "      <th></th>\n",
       "      <th></th>\n",
       "    </tr>\n",
       "  </thead>\n",
       "  <tbody>\n",
       "    <tr>\n",
       "      <th>climate</th>\n",
       "      <td>10401</td>\n",
       "      <td>10401</td>\n",
       "      <td>10401</td>\n",
       "      <td>10401</td>\n",
       "      <td>10401</td>\n",
       "      <td>10401</td>\n",
       "      <td>10401</td>\n",
       "      <td>10401</td>\n",
       "      <td>10401</td>\n",
       "    </tr>\n",
       "    <tr>\n",
       "      <th>non-climate</th>\n",
       "      <td>210055</td>\n",
       "      <td>210055</td>\n",
       "      <td>210055</td>\n",
       "      <td>210055</td>\n",
       "      <td>210055</td>\n",
       "      <td>210055</td>\n",
       "      <td>210055</td>\n",
       "      <td>210055</td>\n",
       "      <td>210055</td>\n",
       "    </tr>\n",
       "  </tbody>\n",
       "</table>\n",
       "</div>"
      ],
      "text/plain": [
       "             speaker  politician   title   party    text    date    year  \\\n",
       "y_pred                                                                     \n",
       "climate        10401       10401   10401   10401   10401   10401   10401   \n",
       "non-climate   210055      210055  210055  210055  210055  210055  210055   \n",
       "\n",
       "              month      id  \n",
       "y_pred                       \n",
       "climate       10401   10401  \n",
       "non-climate  210055  210055  "
      ]
     },
     "execution_count": 35,
     "metadata": {},
     "output_type": "execute_result"
    }
   ],
   "source": [
    "all.groupby(\"y_pred\").count()"
   ]
  },
  {
   "cell_type": "code",
   "execution_count": 37,
   "metadata": {},
   "outputs": [
    {
     "data": {
      "text/plain": [
       "speaker         516\n",
       "politician      305\n",
       "title            38\n",
       "party            19\n",
       "text          10401\n",
       "date            587\n",
       "y_pred            1\n",
       "year             11\n",
       "month            10\n",
       "id              587\n",
       "dtype: int64"
      ]
     },
     "execution_count": 37,
     "metadata": {},
     "output_type": "execute_result"
    }
   ],
   "source": [
    "all[all[\"y_pred\"]==\"climate\"].nunique()"
   ]
  },
  {
   "cell_type": "code",
   "execution_count": 40,
   "metadata": {},
   "outputs": [],
   "source": [
    "#pd.DataFrame(all[\"politician\"].unique()).to_csv(\"sanity_check_pol.csv\")"
   ]
  },
  {
   "cell_type": "code",
   "execution_count": 42,
   "metadata": {},
   "outputs": [
    {
     "data": {
      "text/plain": [
       "title\n",
       "Member                                               8736\n",
       "Energi-, forsynings- og klimaministeren               362\n",
       "Klima-, energi- og forsyningsministeren               205\n",
       "Skatteministeren                                      183\n",
       "Statsministeren                                       166\n",
       "Klima-, energi- og bygningsministeren                 109\n",
       "Finansministeren                                      107\n",
       "Miljøministeren                                       101\n",
       "Transportministeren                                    85\n",
       "Miljø- og fødevareministeren                           57\n",
       "Transport-, bygnings- og boligministeren               40\n",
       "Ministeren for fødevarer, landbrug og fiskeri          38\n",
       "Udenrigsministeren                                     34\n",
       "Erhvervsministeren                                     34\n",
       "Ministeren for fødevarer, fiskeri og ligestilling      25\n",
       "Morten Bødskov                                         18\n",
       "Beskæftigelsesministeren                               14\n",
       "Uddannelses- og forskningsministeren                   10\n",
       "Fødevareministeren                                      7\n",
       "Handels- og udviklingsministeren                        6\n",
       "Name: text, dtype: int64"
      ]
     },
     "execution_count": 42,
     "metadata": {},
     "output_type": "execute_result"
    }
   ],
   "source": [
    "#Raw view \n",
    "climate.groupby(['title']).count().sort_values(by='text', ascending=False)['text'].head(20)"
   ]
  },
  {
   "cell_type": "code",
   "execution_count": null,
   "metadata": {},
   "outputs": [],
   "source": []
  }
 ],
 "metadata": {
  "interpreter": {
   "hash": "fc9de61b87691b5c2df4faa10d03c8011b5237e1331d96144d761a181cf79b3d"
  },
  "kernelspec": {
   "display_name": "Python 3.9.2 64-bit",
   "language": "python",
   "name": "python3"
  },
  "language_info": {
   "codemirror_mode": {
    "name": "ipython",
    "version": 3
   },
   "file_extension": ".py",
   "mimetype": "text/x-python",
   "name": "python",
   "nbconvert_exporter": "python",
   "pygments_lexer": "ipython3",
   "version": "3.9.2"
  },
  "orig_nbformat": 4
 },
 "nbformat": 4,
 "nbformat_minor": 2
}
