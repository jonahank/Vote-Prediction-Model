{
 "cells": [
  {
   "cell_type": "code",
   "execution_count": 1,
   "metadata": {},
   "outputs": [],
   "source": [
    "## Imports\n",
    "import pandas as pd\n",
    "import json\n",
    "import matplotlib.pyplot as plt\n",
    "from datetime import datetime\n"
   ]
  },
  {
   "cell_type": "code",
   "execution_count": 4,
   "metadata": {},
   "outputs": [
    {
     "data": {
      "text/html": [
       "<div>\n",
       "<style scoped>\n",
       "    .dataframe tbody tr th:only-of-type {\n",
       "        vertical-align: middle;\n",
       "    }\n",
       "\n",
       "    .dataframe tbody tr th {\n",
       "        vertical-align: top;\n",
       "    }\n",
       "\n",
       "    .dataframe thead th {\n",
       "        text-align: right;\n",
       "    }\n",
       "</style>\n",
       "<table border=\"1\" class=\"dataframe\">\n",
       "  <thead>\n",
       "    <tr style=\"text-align: right;\">\n",
       "      <th></th>\n",
       "      <th>speaker</th>\n",
       "      <th>politician</th>\n",
       "      <th>party</th>\n",
       "      <th>text</th>\n",
       "      <th>date</th>\n",
       "      <th>y_pred</th>\n",
       "      <th>year</th>\n",
       "      <th>month</th>\n",
       "    </tr>\n",
       "  </thead>\n",
       "  <tbody>\n",
       "    <tr>\n",
       "      <th>0</th>\n",
       "      <td>Transportministeren Henrik Dam Kristensen</td>\n",
       "      <td>Henrik Dam Kristensen</td>\n",
       "      <td>(S)</td>\n",
       "      <td>Jeg synes, det er lidt ærgerligt, at hr. Lars ...</td>\n",
       "      <td>2012-10-03</td>\n",
       "      <td>climate</td>\n",
       "      <td>2012</td>\n",
       "      <td>10</td>\n",
       "    </tr>\n",
       "    <tr>\n",
       "      <th>1</th>\n",
       "      <td>Lars Christian Lilleholt (V)</td>\n",
       "      <td>Lars Christian Lilleholt</td>\n",
       "      <td>(V)</td>\n",
       "      <td>Det får jo ganske alvorlige konsekvenser både ...</td>\n",
       "      <td>2012-10-03</td>\n",
       "      <td>climate</td>\n",
       "      <td>2012</td>\n",
       "      <td>10</td>\n",
       "    </tr>\n",
       "  </tbody>\n",
       "</table>\n",
       "</div>"
      ],
      "text/plain": [
       "                                     speaker                 politician party  \\\n",
       "0  Transportministeren Henrik Dam Kristensen     Henrik Dam Kristensen    (S)   \n",
       "1               Lars Christian Lilleholt (V)  Lars Christian Lilleholt    (V)   \n",
       "\n",
       "                                                text        date   y_pred  \\\n",
       "0  Jeg synes, det er lidt ærgerligt, at hr. Lars ...  2012-10-03  climate   \n",
       "1  Det får jo ganske alvorlige konsekvenser både ...  2012-10-03  climate   \n",
       "\n",
       "   year month  \n",
       "0  2012    10  \n",
       "1  2012    10  "
      ]
     },
     "execution_count": 4,
     "metadata": {},
     "output_type": "execute_result"
    }
   ],
   "source": [
    "## Load data\n",
    "all = pd.read_pickle(\"../climate_classifier/scored_data/ft_meetings_total_2012-2022_2.1.pkl\")\n",
    "\n",
    "all[\"year\"] = all[\"date\"].str[:4]\n",
    "all[\"month\"] = all[\"date\"].str[5:7]\n",
    "all.head(2)"
   ]
  },
  {
   "cell_type": "markdown",
   "metadata": {},
   "source": [
    "### General stats"
   ]
  },
  {
   "cell_type": "code",
   "execution_count": 5,
   "metadata": {},
   "outputs": [
    {
     "data": {
      "text/html": [
       "<div>\n",
       "<style scoped>\n",
       "    .dataframe tbody tr th:only-of-type {\n",
       "        vertical-align: middle;\n",
       "    }\n",
       "\n",
       "    .dataframe tbody tr th {\n",
       "        vertical-align: top;\n",
       "    }\n",
       "\n",
       "    .dataframe thead th {\n",
       "        text-align: right;\n",
       "    }\n",
       "</style>\n",
       "<table border=\"1\" class=\"dataframe\">\n",
       "  <thead>\n",
       "    <tr style=\"text-align: right;\">\n",
       "      <th></th>\n",
       "      <th>speaker</th>\n",
       "      <th>politician</th>\n",
       "      <th>party</th>\n",
       "      <th>text</th>\n",
       "      <th>date</th>\n",
       "      <th>year</th>\n",
       "      <th>month</th>\n",
       "    </tr>\n",
       "    <tr>\n",
       "      <th>y_pred</th>\n",
       "      <th></th>\n",
       "      <th></th>\n",
       "      <th></th>\n",
       "      <th></th>\n",
       "      <th></th>\n",
       "      <th></th>\n",
       "      <th></th>\n",
       "    </tr>\n",
       "  </thead>\n",
       "  <tbody>\n",
       "    <tr>\n",
       "      <th>climate</th>\n",
       "      <td>7425</td>\n",
       "      <td>7425</td>\n",
       "      <td>7425</td>\n",
       "      <td>7425</td>\n",
       "      <td>7425</td>\n",
       "      <td>7425</td>\n",
       "      <td>7425</td>\n",
       "    </tr>\n",
       "    <tr>\n",
       "      <th>non-climate</th>\n",
       "      <td>208479</td>\n",
       "      <td>208479</td>\n",
       "      <td>208479</td>\n",
       "      <td>208479</td>\n",
       "      <td>208479</td>\n",
       "      <td>208479</td>\n",
       "      <td>208479</td>\n",
       "    </tr>\n",
       "  </tbody>\n",
       "</table>\n",
       "</div>"
      ],
      "text/plain": [
       "             speaker  politician   party    text    date    year   month\n",
       "y_pred                                                                  \n",
       "climate         7425        7425    7425    7425    7425    7425    7425\n",
       "non-climate   208479      208479  208479  208479  208479  208479  208479"
      ]
     },
     "execution_count": 5,
     "metadata": {},
     "output_type": "execute_result"
    }
   ],
   "source": [
    "all.groupby(\"y_pred\").count()"
   ]
  },
  {
   "cell_type": "code",
   "execution_count": 6,
   "metadata": {},
   "outputs": [
    {
     "data": {
      "text/plain": [
       "speaker          833\n",
       "politician       697\n",
       "party             41\n",
       "text          214835\n",
       "date             990\n",
       "y_pred             2\n",
       "year              11\n",
       "month             11\n",
       "dtype: int64"
      ]
     },
     "execution_count": 6,
     "metadata": {},
     "output_type": "execute_result"
    }
   ],
   "source": [
    "all.nunique()"
   ]
  },
  {
   "cell_type": "code",
   "execution_count": 13,
   "metadata": {},
   "outputs": [],
   "source": [
    "pd.DataFrame(all[\"politician\"].unique()).to_csv(\"sanity_check_pol.csv\")"
   ]
  },
  {
   "cell_type": "code",
   "execution_count": null,
   "metadata": {},
   "outputs": [],
   "source": []
  }
 ],
 "metadata": {
  "interpreter": {
   "hash": "6c394272594a68b0a5bd03bbb8469a449c9402c12c87bbd02bc40bbbc1d6f707"
  },
  "kernelspec": {
   "display_name": "Python 3.9.2 64-bit",
   "language": "python",
   "name": "python3"
  },
  "language_info": {
   "codemirror_mode": {
    "name": "ipython",
    "version": 3
   },
   "file_extension": ".py",
   "mimetype": "text/x-python",
   "name": "python",
   "nbconvert_exporter": "python",
   "pygments_lexer": "ipython3",
   "version": "3.9.2"
  },
  "orig_nbformat": 4
 },
 "nbformat": 4,
 "nbformat_minor": 2
}
