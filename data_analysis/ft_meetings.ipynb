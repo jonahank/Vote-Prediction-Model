{
 "cells": [
  {
   "cell_type": "code",
   "execution_count": 1,
   "metadata": {},
   "outputs": [],
   "source": [
    "## Imports\n",
    "import pandas as pd\n",
    "import json\n",
    "import matplotlib.pyplot as plt\n",
    "from datetime import datetime\n"
   ]
  },
  {
   "cell_type": "code",
   "execution_count": 2,
   "metadata": {},
   "outputs": [
    {
     "data": {
      "text/html": [
       "<div>\n",
       "<style scoped>\n",
       "    .dataframe tbody tr th:only-of-type {\n",
       "        vertical-align: middle;\n",
       "    }\n",
       "\n",
       "    .dataframe tbody tr th {\n",
       "        vertical-align: top;\n",
       "    }\n",
       "\n",
       "    .dataframe thead th {\n",
       "        text-align: right;\n",
       "    }\n",
       "</style>\n",
       "<table border=\"1\" class=\"dataframe\">\n",
       "  <thead>\n",
       "    <tr style=\"text-align: right;\">\n",
       "      <th></th>\n",
       "      <th>speaker</th>\n",
       "      <th>politician</th>\n",
       "      <th>title</th>\n",
       "      <th>party</th>\n",
       "      <th>text</th>\n",
       "      <th>date</th>\n",
       "      <th>y_pred</th>\n",
       "      <th>year</th>\n",
       "      <th>month</th>\n",
       "      <th>id</th>\n",
       "    </tr>\n",
       "  </thead>\n",
       "  <tbody>\n",
       "    <tr>\n",
       "      <th>0</th>\n",
       "      <td>Statsministeren Helle Thorning-Schmidt</td>\n",
       "      <td>Helle Thorning-Schmidt</td>\n",
       "      <td>Statsministeren</td>\n",
       "      <td>(S)</td>\n",
       "      <td>(Talen er under udarbejdelse) (Talen er under ...</td>\n",
       "      <td>2012-10-02</td>\n",
       "      <td>non-climate</td>\n",
       "      <td>2012</td>\n",
       "      <td>10</td>\n",
       "      <td>0</td>\n",
       "    </tr>\n",
       "    <tr>\n",
       "      <th>1</th>\n",
       "      <td>Statsministeren Helle Thorning-Schmidt</td>\n",
       "      <td>Helle Thorning-Schmidt</td>\n",
       "      <td>Statsministeren</td>\n",
       "      <td>(S)</td>\n",
       "      <td>Vi skal bringe Danmark godt og trygt gennem kr...</td>\n",
       "      <td>2012-10-02</td>\n",
       "      <td>non-climate</td>\n",
       "      <td>2012</td>\n",
       "      <td>10</td>\n",
       "      <td>0</td>\n",
       "    </tr>\n",
       "  </tbody>\n",
       "</table>\n",
       "</div>"
      ],
      "text/plain": [
       "                                  speaker              politician  \\\n",
       "0  Statsministeren Helle Thorning-Schmidt  Helle Thorning-Schmidt   \n",
       "1  Statsministeren Helle Thorning-Schmidt  Helle Thorning-Schmidt   \n",
       "\n",
       "             title party                                               text  \\\n",
       "0  Statsministeren   (S)  (Talen er under udarbejdelse) (Talen er under ...   \n",
       "1  Statsministeren   (S)  Vi skal bringe Danmark godt og trygt gennem kr...   \n",
       "\n",
       "        date       y_pred  year month  id  \n",
       "0 2012-10-02  non-climate  2012    10   0  \n",
       "1 2012-10-02  non-climate  2012    10   0  "
      ]
     },
     "execution_count": 2,
     "metadata": {},
     "output_type": "execute_result"
    }
   ],
   "source": [
    "## Load data\n",
    "all = pd.read_pickle(\"../climate_classifier/scored_data/ft_meetings_all_2.2.pkl\")\n",
    "\n",
    "all[\"year\"] = all[\"date\"].astype(\"str\").str[:4]\n",
    "all[\"month\"] = all[\"date\"].astype(\"str\").str[5:7]\n",
    "all[\"politician\"] = all[\"politician\"].str.strip()\n",
    "all[\"id\"] = all[\"date\"]\n",
    "all[\"id\"] = all[\"id\"].astype(\"category\")\n",
    "all[\"id\"] = all[\"id\"].cat.codes\n",
    "all.head(2)"
   ]
  },
  {
   "cell_type": "code",
   "execution_count": 3,
   "metadata": {},
   "outputs": [
    {
     "name": "stdout",
     "output_type": "stream",
     "text": [
      "240114\n",
      "220456\n"
     ]
    }
   ],
   "source": [
    "print(len(all))\n",
    "all = all.drop_duplicates(subset=\"text\")\n",
    "print(len(all))"
   ]
  },
  {
   "cell_type": "code",
   "execution_count": 4,
   "metadata": {},
   "outputs": [
    {
     "name": "stdout",
     "output_type": "stream",
     "text": [
      "220456\n",
      "10401\n"
     ]
    }
   ],
   "source": [
    "climate = all[all[\"y_pred\"]==\"climate\"]\n",
    "print(len(all))\n",
    "print(len(climate))"
   ]
  },
  {
   "cell_type": "markdown",
   "metadata": {},
   "source": [
    "### General stats"
   ]
  },
  {
   "cell_type": "code",
   "execution_count": 35,
   "metadata": {},
   "outputs": [
    {
     "data": {
      "text/html": [
       "<div>\n",
       "<style scoped>\n",
       "    .dataframe tbody tr th:only-of-type {\n",
       "        vertical-align: middle;\n",
       "    }\n",
       "\n",
       "    .dataframe tbody tr th {\n",
       "        vertical-align: top;\n",
       "    }\n",
       "\n",
       "    .dataframe thead th {\n",
       "        text-align: right;\n",
       "    }\n",
       "</style>\n",
       "<table border=\"1\" class=\"dataframe\">\n",
       "  <thead>\n",
       "    <tr style=\"text-align: right;\">\n",
       "      <th></th>\n",
       "      <th>speaker</th>\n",
       "      <th>politician</th>\n",
       "      <th>title</th>\n",
       "      <th>party</th>\n",
       "      <th>text</th>\n",
       "      <th>date</th>\n",
       "      <th>year</th>\n",
       "      <th>month</th>\n",
       "      <th>id</th>\n",
       "    </tr>\n",
       "    <tr>\n",
       "      <th>y_pred</th>\n",
       "      <th></th>\n",
       "      <th></th>\n",
       "      <th></th>\n",
       "      <th></th>\n",
       "      <th></th>\n",
       "      <th></th>\n",
       "      <th></th>\n",
       "      <th></th>\n",
       "      <th></th>\n",
       "    </tr>\n",
       "  </thead>\n",
       "  <tbody>\n",
       "    <tr>\n",
       "      <th>climate</th>\n",
       "      <td>10401</td>\n",
       "      <td>10401</td>\n",
       "      <td>10401</td>\n",
       "      <td>10401</td>\n",
       "      <td>10401</td>\n",
       "      <td>10401</td>\n",
       "      <td>10401</td>\n",
       "      <td>10401</td>\n",
       "      <td>10401</td>\n",
       "    </tr>\n",
       "    <tr>\n",
       "      <th>non-climate</th>\n",
       "      <td>210055</td>\n",
       "      <td>210055</td>\n",
       "      <td>210055</td>\n",
       "      <td>210055</td>\n",
       "      <td>210055</td>\n",
       "      <td>210055</td>\n",
       "      <td>210055</td>\n",
       "      <td>210055</td>\n",
       "      <td>210055</td>\n",
       "    </tr>\n",
       "  </tbody>\n",
       "</table>\n",
       "</div>"
      ],
      "text/plain": [
       "             speaker  politician   title   party    text    date    year  \\\n",
       "y_pred                                                                     \n",
       "climate        10401       10401   10401   10401   10401   10401   10401   \n",
       "non-climate   210055      210055  210055  210055  210055  210055  210055   \n",
       "\n",
       "              month      id  \n",
       "y_pred                       \n",
       "climate       10401   10401  \n",
       "non-climate  210055  210055  "
      ]
     },
     "execution_count": 35,
     "metadata": {},
     "output_type": "execute_result"
    }
   ],
   "source": [
    "all.groupby(\"y_pred\").count()"
   ]
  },
  {
   "cell_type": "code",
   "execution_count": 37,
   "metadata": {},
   "outputs": [
    {
     "data": {
      "text/plain": [
       "speaker         516\n",
       "politician      305\n",
       "title            38\n",
       "party            19\n",
       "text          10401\n",
       "date            587\n",
       "y_pred            1\n",
       "year             11\n",
       "month            10\n",
       "id              587\n",
       "dtype: int64"
      ]
     },
     "execution_count": 37,
     "metadata": {},
     "output_type": "execute_result"
    }
   ],
   "source": [
    "all[all[\"y_pred\"]==\"climate\"].nunique()"
   ]
  },
  {
   "cell_type": "code",
   "execution_count": 40,
   "metadata": {},
   "outputs": [],
   "source": [
    "#pd.DataFrame(all[\"politician\"].unique()).to_csv(\"sanity_check_pol.csv\")"
   ]
  },
  {
   "cell_type": "code",
   "execution_count": 42,
   "metadata": {},
   "outputs": [
    {
     "data": {
      "text/plain": [
       "title\n",
       "Member                                               8736\n",
       "Energi-, forsynings- og klimaministeren               362\n",
       "Klima-, energi- og forsyningsministeren               205\n",
       "Skatteministeren                                      183\n",
       "Statsministeren                                       166\n",
       "Klima-, energi- og bygningsministeren                 109\n",
       "Finansministeren                                      107\n",
       "Miljøministeren                                       101\n",
       "Transportministeren                                    85\n",
       "Miljø- og fødevareministeren                           57\n",
       "Transport-, bygnings- og boligministeren               40\n",
       "Ministeren for fødevarer, landbrug og fiskeri          38\n",
       "Udenrigsministeren                                     34\n",
       "Erhvervsministeren                                     34\n",
       "Ministeren for fødevarer, fiskeri og ligestilling      25\n",
       "Morten Bødskov                                         18\n",
       "Beskæftigelsesministeren                               14\n",
       "Uddannelses- og forskningsministeren                   10\n",
       "Fødevareministeren                                      7\n",
       "Handels- og udviklingsministeren                        6\n",
       "Name: text, dtype: int64"
      ]
     },
     "execution_count": 42,
     "metadata": {},
     "output_type": "execute_result"
    }
   ],
   "source": [
    "#Raw view \n",
    "climate.groupby(['title']).count().sort_values(by='text', ascending=False)['text'].head(20)"
   ]
  },
  {
   "cell_type": "code",
   "execution_count": null,
   "metadata": {},
   "outputs": [],
   "source": []
  },
  {
   "cell_type": "markdown",
   "metadata": {},
   "source": [
    "### Temporal Analysis"
   ]
  },
  {
   "cell_type": "code",
   "execution_count": 6,
   "metadata": {},
   "outputs": [
    {
     "name": "stdout",
     "output_type": "stream",
     "text": [
      "220456\n",
      "210958\n"
     ]
    }
   ],
   "source": [
    "parties_selection = [\"(S)\", \"(V)\", \"(SF)\", \"(KF)\", \"(DF)\", \"(EL)\"\n",
    "                    ,\"(RV)\", \"(ALT)\", \"(LA)\"]\n",
    "print(len(all))\n",
    "df_selection = all[all[\"party\"].isin(parties_selection)]\n",
    "df_selection\n",
    "print(len(df_selection))"
   ]
  },
  {
   "cell_type": "code",
   "execution_count": 7,
   "metadata": {},
   "outputs": [
    {
     "name": "stderr",
     "output_type": "stream",
     "text": [
      "C:\\Users\\COBOD\\AppData\\Local\\Temp\\ipykernel_5384\\990915804.py:1: SettingWithCopyWarning: \n",
      "A value is trying to be set on a copy of a slice from a DataFrame.\n",
      "Try using .loc[row_indexer,col_indexer] = value instead\n",
      "\n",
      "See the caveats in the documentation: https://pandas.pydata.org/pandas-docs/stable/user_guide/indexing.html#returning-a-view-versus-a-copy\n",
      "  df_selection['climate'] = df_selection['y_pred'].apply(lambda x: 1 if x==\"climate\" else 0)\n",
      "C:\\Users\\COBOD\\AppData\\Local\\Temp\\ipykernel_5384\\990915804.py:2: SettingWithCopyWarning: \n",
      "A value is trying to be set on a copy of a slice from a DataFrame.\n",
      "Try using .loc[row_indexer,col_indexer] = value instead\n",
      "\n",
      "See the caveats in the documentation: https://pandas.pydata.org/pandas-docs/stable/user_guide/indexing.html#returning-a-view-versus-a-copy\n",
      "  df_selection['non-climate'] = df_selection['y_pred'].apply(lambda x: 1 if x==\"non-climate\" else 0)\n"
     ]
    },
    {
     "data": {
      "text/html": [
       "<div>\n",
       "<style scoped>\n",
       "    .dataframe tbody tr th:only-of-type {\n",
       "        vertical-align: middle;\n",
       "    }\n",
       "\n",
       "    .dataframe tbody tr th {\n",
       "        vertical-align: top;\n",
       "    }\n",
       "\n",
       "    .dataframe thead th {\n",
       "        text-align: right;\n",
       "    }\n",
       "</style>\n",
       "<table border=\"1\" class=\"dataframe\">\n",
       "  <thead>\n",
       "    <tr style=\"text-align: right;\">\n",
       "      <th></th>\n",
       "      <th>speaker</th>\n",
       "      <th>politician</th>\n",
       "      <th>title</th>\n",
       "      <th>party</th>\n",
       "      <th>text</th>\n",
       "      <th>date</th>\n",
       "      <th>y_pred</th>\n",
       "      <th>year</th>\n",
       "      <th>month</th>\n",
       "      <th>id</th>\n",
       "      <th>climate</th>\n",
       "      <th>non-climate</th>\n",
       "    </tr>\n",
       "  </thead>\n",
       "  <tbody>\n",
       "    <tr>\n",
       "      <th>0</th>\n",
       "      <td>Statsministeren Helle Thorning-Schmidt</td>\n",
       "      <td>Helle Thorning-Schmidt</td>\n",
       "      <td>Statsministeren</td>\n",
       "      <td>(S)</td>\n",
       "      <td>(Talen er under udarbejdelse) (Talen er under ...</td>\n",
       "      <td>2012-10-02</td>\n",
       "      <td>non-climate</td>\n",
       "      <td>2012</td>\n",
       "      <td>10</td>\n",
       "      <td>0</td>\n",
       "      <td>0</td>\n",
       "      <td>1</td>\n",
       "    </tr>\n",
       "  </tbody>\n",
       "</table>\n",
       "</div>"
      ],
      "text/plain": [
       "                                  speaker              politician  \\\n",
       "0  Statsministeren Helle Thorning-Schmidt  Helle Thorning-Schmidt   \n",
       "\n",
       "             title party                                               text  \\\n",
       "0  Statsministeren   (S)  (Talen er under udarbejdelse) (Talen er under ...   \n",
       "\n",
       "        date       y_pred  year month  id  climate  non-climate  \n",
       "0 2012-10-02  non-climate  2012    10   0        0            1  "
      ]
     },
     "execution_count": 7,
     "metadata": {},
     "output_type": "execute_result"
    }
   ],
   "source": [
    "df_selection['climate'] = df_selection['y_pred'].apply(lambda x: 1 if x==\"climate\" else 0)\n",
    "df_selection['non-climate'] = df_selection['y_pred'].apply(lambda x: 1 if x==\"non-climate\" else 0)\n",
    "df_selection.head(1)"
   ]
  },
  {
   "cell_type": "code",
   "execution_count": 8,
   "metadata": {},
   "outputs": [],
   "source": [
    "\n",
    "quarterly = df_selection.groupby(df_selection['date'].dt.to_period('Q')).agg({'climate': 'sum', 'non-climate':'sum'})\n",
    "quarterly['percentage_climate'] = quarterly.apply(lambda x: (x['climate']/(x['climate']+x['non-climate']))*100, axis=1)\n",
    "\n",
    "view = pd.DataFrame(quarterly.drop(columns=['climate', 'non-climate']))"
   ]
  },
  {
   "cell_type": "code",
   "execution_count": 10,
   "metadata": {},
   "outputs": [],
   "source": [
    "## Drop Q3\n",
    "view[\"date2\"] = view.index.astype(str)\n",
    "viewQ = view[(view[\"date2\"].str.endswith(\"Q1\"))|(view[\"date2\"].str.endswith(\"Q2\"))|(view[\"date2\"].str.endswith(\"Q4\"))]"
   ]
  },
  {
   "cell_type": "code",
   "execution_count": 12,
   "metadata": {},
   "outputs": [
    {
     "data": {
      "text/html": [
       "<div>\n",
       "<style scoped>\n",
       "    .dataframe tbody tr th:only-of-type {\n",
       "        vertical-align: middle;\n",
       "    }\n",
       "\n",
       "    .dataframe tbody tr th {\n",
       "        vertical-align: top;\n",
       "    }\n",
       "\n",
       "    .dataframe thead th {\n",
       "        text-align: right;\n",
       "    }\n",
       "</style>\n",
       "<table border=\"1\" class=\"dataframe\">\n",
       "  <thead>\n",
       "    <tr style=\"text-align: right;\">\n",
       "      <th></th>\n",
       "      <th>percentage_climate</th>\n",
       "      <th>date2</th>\n",
       "    </tr>\n",
       "    <tr>\n",
       "      <th>date</th>\n",
       "      <th></th>\n",
       "      <th></th>\n",
       "    </tr>\n",
       "  </thead>\n",
       "  <tbody>\n",
       "    <tr>\n",
       "      <th>2012</th>\n",
       "      <td>1.697842</td>\n",
       "      <td>2012</td>\n",
       "    </tr>\n",
       "  </tbody>\n",
       "</table>\n",
       "</div>"
      ],
      "text/plain": [
       "      percentage_climate date2\n",
       "date                          \n",
       "2012            1.697842  2012"
      ]
     },
     "execution_count": 12,
     "metadata": {},
     "output_type": "execute_result"
    }
   ],
   "source": [
    "yearly = df_selection.groupby(df_selection['date'].dt.to_period('Y')).agg({'climate': 'sum', 'non-climate':'sum'})\n",
    "yearly['percentage_climate'] = yearly.apply(lambda x: (x['climate']/(x['climate']+x['non-climate']))*100, axis=1)\n",
    "\n",
    "view2 = yearly.drop(columns=['climate', 'non-climate'])\n",
    "\n",
    "## Comment out to get from 2012 ->\n",
    "view2[\"date2\"] = view2.index.astype(str)\n",
    "view2.head(1)"
   ]
  },
  {
   "cell_type": "code",
   "execution_count": 13,
   "metadata": {},
   "outputs": [
    {
     "name": "stderr",
     "output_type": "stream",
     "text": [
      "C:\\Users\\COBOD\\AppData\\Local\\Temp\\ipykernel_5384\\418275884.py:2: SettingWithCopyWarning: \n",
      "A value is trying to be set on a copy of a slice from a DataFrame.\n",
      "Try using .loc[row_indexer,col_indexer] = value instead\n",
      "\n",
      "See the caveats in the documentation: https://pandas.pydata.org/pandas-docs/stable/user_guide/indexing.html#returning-a-view-versus-a-copy\n",
      "  viewQ[\"Quarters\"] = viewQ[\"date2\"]\n",
      "C:\\Users\\COBOD\\AppData\\Local\\Temp\\ipykernel_5384\\418275884.py:3: SettingWithCopyWarning: \n",
      "A value is trying to be set on a copy of a slice from a DataFrame.\n",
      "Try using .loc[row_indexer,col_indexer] = value instead\n",
      "\n",
      "See the caveats in the documentation: https://pandas.pydata.org/pandas-docs/stable/user_guide/indexing.html#returning-a-view-versus-a-copy\n",
      "  viewQ[\"Percentage of climate\"] = viewQ[\"percentage_climate\"]\n"
     ]
    },
    {
     "data": {
      "text/plain": [
       "([<matplotlib.axis.XTick at 0x25159860bb0>,\n",
       "  <matplotlib.axis.XTick at 0x25159860b80>,\n",
       "  <matplotlib.axis.XTick at 0x25159860250>,\n",
       "  <matplotlib.axis.XTick at 0x25159939a90>,\n",
       "  <matplotlib.axis.XTick at 0x2515994e220>,\n",
       "  <matplotlib.axis.XTick at 0x25159939760>,\n",
       "  <matplotlib.axis.XTick at 0x2515994eb20>],\n",
       " [Text(0, 0, '2012Q4'),\n",
       "  Text(1, 0, '2013Q1'),\n",
       "  Text(2, 0, '2013Q2'),\n",
       "  Text(3, 0, '2013Q4'),\n",
       "  Text(4, 0, '2014Q1'),\n",
       "  Text(5, 0, '2014Q2'),\n",
       "  Text(6, 0, '2014Q4')])"
      ]
     },
     "execution_count": 13,
     "metadata": {},
     "output_type": "execute_result"
    },
    {
     "data": {
      "image/png": "[encoded data removed]",
      "text/plain": [
       "<Figure size 432x288 with 1 Axes>"
      ]
     },
     "metadata": {
      "needs_background": "light"
     },
     "output_type": "display_data"
    }
   ],
   "source": [
    "import seaborn as sns\n",
    "viewQ[\"Quarters\"] = viewQ[\"date2\"]\n",
    "viewQ[\"Percentage of climate\"] = viewQ[\"percentage_climate\"]\n",
    "g = sns.barplot(data=viewQ, x=\"Quarters\", y=\"Percentage of climate\", color=\"green\")\n",
    "plt.xticks([0, 5, 10, 15, 20, 25, 30],rotation=45)\n",
    "#viewQ.plot()\n",
    "#view2.plot()\n",
    "#plt.show()"
   ]
  },
  {
   "cell_type": "code",
   "execution_count": 14,
   "metadata": {},
   "outputs": [
    {
     "data": {
      "text/plain": [
       "(array([ 0,  1,  2,  3,  4,  5,  6,  7,  8,  9, 10]),\n",
       " [Text(0, 0, '2012'),\n",
       "  Text(1, 0, '2013'),\n",
       "  Text(2, 0, '2014'),\n",
       "  Text(3, 0, '2015'),\n",
       "  Text(4, 0, '2016'),\n",
       "  Text(5, 0, '2017'),\n",
       "  Text(6, 0, '2018'),\n",
       "  Text(7, 0, '2019'),\n",
       "  Text(8, 0, '2020'),\n",
       "  Text(9, 0, '2021'),\n",
       "  Text(10, 0, '2022')])"
      ]
     },
     "execution_count": 14,
     "metadata": {},
     "output_type": "execute_result"
    },
    {
     "data": {
      "image/png": "[encoded data removed]",
      "text/plain": [
       "<Figure size 432x288 with 1 Axes>"
      ]
     },
     "metadata": {
      "needs_background": "light"
     },
     "output_type": "display_data"
    }
   ],
   "source": [
    "view2[\"Years\"] = view2[\"date2\"]\n",
    "view2[\"Percentage of climate\"] = view2[\"percentage_climate\"]\n",
    "g = sns.barplot(data=view2, x=\"Years\", y=\"Percentage of climate\", palette=['darksalmon', 'darksalmon', 'darksalmon', 'deepskyblue', 'deepskyblue', 'deepskyblue', 'deepskyblue', 'darksalmon', 'darksalmon', 'darksalmon'])\n",
    "view2[\"Years\"] = range(len(view2))\n",
    "g = sns.regplot(x=\"Years\", y=\"Percentage of climate\", data=view2, color=\"mediumseagreen\")\n",
    "\n",
    "plt.xticks(rotation=45)"
   ]
  },
  {
   "cell_type": "code",
   "execution_count": 29,
   "metadata": {},
   "outputs": [
    {
     "name": "stdout",
     "output_type": "stream",
     "text": [
      "Tak for det. I filmen »Kærlighed ved første hik« møder vi den unge mand Viktor, som, efter at have gjort succesfuld kur til den smukke Anja, i en scene skal købe den nødvendige beskyttelse, i tilfælde af at han skulle få held til at tage forholdet til Anja til det næste trin i et ungdomskæresteforhold. Det er imidlertid en svær opgave for den unge Viktor, da han er noget pinlig berørt over at skulle købe denne beskyttelse. I stedet forlader han butikken med Coronaer og kondivand – ak, den arme stakkel. Og han skulle ellers have købt noget, som en ung mand måske ellers kunne finde noget stolthed i at have brug for. Forestil jer så, at den arme Viktor havde været i en mindre glædelig situation end at have gjort kur til den skønne Anja, og at han havde reddet sig en sygdom, som han ikke var for stolt af. Det ville næppe have gjort situationen ved disken nemmere eller sjovere for Viktor. Måske ville han endda være endt med igen at forlade butikken med uforrettet sag og med schweizerdrops og Schweppes i stedet for den svampedræbende creme, han faktisk havde brug for. Med nærværende lovforslag gør vi det lidt lettere for typer som Viktor at få bugt med de lidelser, som kan klares med håndkøbsmedicin. Faktisk gik vi i Dansk Folkeparti gerne videre og lod lovforslaget omfatte flere typer af håndkøbsmedicin, som ellers er holdt ude af lovforslaget. Vi er meget bevidste om faren ved forgiftninger og manglende vejledning, men ved brug af attrapper ude i butikkerne mener vi, at man kan komme denne udfordring til livs, så den uheldige borger i ro og mag kan læse på indholdsfortegnelsen og orientere sig om priser uden at skulle udbasunere det foran naboen og præsten, som måske tilfældigvis står bagved i køen. Og når man når frem til disken, får man så dér udleveret det egentlige præparat og kan få den vejledning, der er nødvendig for en korrekt anvendelse. Dette vil vi fokusere på i udvalgsarbejdet vedrørende den del af lovforslaget, som omhandler håndkøbsmedicin. For så vidt angår delen vedrørende vagtordning for apoteker, skal vi meddele, at vi også støtter op omkring det. Dog mener vi, at der er et par uklarheder, bl.a. om udbringningsordningen, hvor det ikke står helt klart, om der er tale om udbringning i alle døgnets timer. Vi kan nemlig ikke se forskellen på at have akut behov for medicin kl. 23:59 og kl. 00:01, hvorfor der selvfølgelig ikke bør være forskel på de to tidspunkter. Men måske kan ministeren tydeliggøre dette. Derudover vil vi også gerne se et udkast til, hvordan ministeren ideelt set ser fordelingen af vagtapoteker. I Dansk Folkeparti er vi stærkt optaget af at få bugt med den geografiske ulighed, som desværre stadig præger vores sundhedsvæsen, hvorfor vi også stiller os undrende over for, at det nationale døgnvagtsapotek partout skal ligge i København. Der kan vel også være dygtige farmaceuter ude i kongeriget, som vil kunne varetage sådan en funktion. Det virker umiddelbart mest af alt som københavneri, og det vil vi også gerne høre ministeren forklare nødvendigheden af. Men alt i alt stiller vi os positive over for lovforslaget og ser frem til udvalgsarbejdet.\n"
     ]
    }
   ],
   "source": [
    "print(df_selection[(df_selection[\"text\"].str.contains(\"corona\", case=False))&(df_selection[\"year\"]==\"2016\")][\"text\"][84894])"
   ]
  },
  {
   "cell_type": "code",
   "execution_count": 23,
   "metadata": {},
   "outputs": [
    {
     "data": {
      "text/html": [
       "<div>\n",
       "<style scoped>\n",
       "    .dataframe tbody tr th:only-of-type {\n",
       "        vertical-align: middle;\n",
       "    }\n",
       "\n",
       "    .dataframe tbody tr th {\n",
       "        vertical-align: top;\n",
       "    }\n",
       "\n",
       "    .dataframe thead th {\n",
       "        text-align: right;\n",
       "    }\n",
       "</style>\n",
       "<table border=\"1\" class=\"dataframe\">\n",
       "  <thead>\n",
       "    <tr style=\"text-align: right;\">\n",
       "      <th></th>\n",
       "      <th>speaker</th>\n",
       "      <th>politician</th>\n",
       "      <th>title</th>\n",
       "      <th>party</th>\n",
       "      <th>text</th>\n",
       "      <th>date</th>\n",
       "      <th>y_pred</th>\n",
       "      <th>month</th>\n",
       "      <th>id</th>\n",
       "      <th>climate</th>\n",
       "      <th>non-climate</th>\n",
       "    </tr>\n",
       "    <tr>\n",
       "      <th>year</th>\n",
       "      <th></th>\n",
       "      <th></th>\n",
       "      <th></th>\n",
       "      <th></th>\n",
       "      <th></th>\n",
       "      <th></th>\n",
       "      <th></th>\n",
       "      <th></th>\n",
       "      <th></th>\n",
       "      <th></th>\n",
       "      <th></th>\n",
       "    </tr>\n",
       "  </thead>\n",
       "  <tbody>\n",
       "    <tr>\n",
       "      <th>2016</th>\n",
       "      <td>1</td>\n",
       "      <td>1</td>\n",
       "      <td>1</td>\n",
       "      <td>1</td>\n",
       "      <td>1</td>\n",
       "      <td>1</td>\n",
       "      <td>1</td>\n",
       "      <td>1</td>\n",
       "      <td>1</td>\n",
       "      <td>1</td>\n",
       "      <td>1</td>\n",
       "    </tr>\n",
       "    <tr>\n",
       "      <th>2020</th>\n",
       "      <td>2480</td>\n",
       "      <td>2480</td>\n",
       "      <td>2480</td>\n",
       "      <td>2480</td>\n",
       "      <td>2480</td>\n",
       "      <td>2480</td>\n",
       "      <td>2480</td>\n",
       "      <td>2480</td>\n",
       "      <td>2480</td>\n",
       "      <td>2480</td>\n",
       "      <td>2480</td>\n",
       "    </tr>\n",
       "    <tr>\n",
       "      <th>2021</th>\n",
       "      <td>1849</td>\n",
       "      <td>1849</td>\n",
       "      <td>1849</td>\n",
       "      <td>1849</td>\n",
       "      <td>1849</td>\n",
       "      <td>1849</td>\n",
       "      <td>1849</td>\n",
       "      <td>1849</td>\n",
       "      <td>1849</td>\n",
       "      <td>1849</td>\n",
       "      <td>1849</td>\n",
       "    </tr>\n",
       "    <tr>\n",
       "      <th>2022</th>\n",
       "      <td>91</td>\n",
       "      <td>91</td>\n",
       "      <td>91</td>\n",
       "      <td>91</td>\n",
       "      <td>91</td>\n",
       "      <td>91</td>\n",
       "      <td>91</td>\n",
       "      <td>91</td>\n",
       "      <td>91</td>\n",
       "      <td>91</td>\n",
       "      <td>91</td>\n",
       "    </tr>\n",
       "  </tbody>\n",
       "</table>\n",
       "</div>"
      ],
      "text/plain": [
       "      speaker  politician  title  party  text  date  y_pred  month    id  \\\n",
       "year                                                                       \n",
       "2016        1           1      1      1     1     1       1      1     1   \n",
       "2020     2480        2480   2480   2480  2480  2480    2480   2480  2480   \n",
       "2021     1849        1849   1849   1849  1849  1849    1849   1849  1849   \n",
       "2022       91          91     91     91    91    91      91     91    91   \n",
       "\n",
       "      climate  non-climate  \n",
       "year                        \n",
       "2016        1            1  \n",
       "2020     2480         2480  \n",
       "2021     1849         1849  \n",
       "2022       91           91  "
      ]
     },
     "execution_count": 23,
     "metadata": {},
     "output_type": "execute_result"
    }
   ],
   "source": [
    "df_selection[(df_selection[\"text\"].str.contains(\"corona\", case=False))|(df_selection[\"text\"].str.contains(\"covid\", case=False))].groupby(\"year\").count()"
   ]
  },
  {
   "cell_type": "code",
   "execution_count": 24,
   "metadata": {},
   "outputs": [
    {
     "name": "stdout",
     "output_type": "stream",
     "text": [
      "0.08743169398907104\n",
      "0.06988170376809404\n"
     ]
    },
    {
     "data": {
      "text/html": [
       "<div>\n",
       "<style scoped>\n",
       "    .dataframe tbody tr th:only-of-type {\n",
       "        vertical-align: middle;\n",
       "    }\n",
       "\n",
       "    .dataframe tbody tr th {\n",
       "        vertical-align: top;\n",
       "    }\n",
       "\n",
       "    .dataframe thead th {\n",
       "        text-align: right;\n",
       "    }\n",
       "</style>\n",
       "<table border=\"1\" class=\"dataframe\">\n",
       "  <thead>\n",
       "    <tr style=\"text-align: right;\">\n",
       "      <th></th>\n",
       "      <th>climate</th>\n",
       "      <th>non-climate</th>\n",
       "      <th>percentage_climate</th>\n",
       "    </tr>\n",
       "    <tr>\n",
       "      <th>date</th>\n",
       "      <th></th>\n",
       "      <th></th>\n",
       "      <th></th>\n",
       "    </tr>\n",
       "  </thead>\n",
       "  <tbody>\n",
       "    <tr>\n",
       "      <th>2012</th>\n",
       "      <td>118</td>\n",
       "      <td>6832</td>\n",
       "      <td>1.697842</td>\n",
       "    </tr>\n",
       "    <tr>\n",
       "      <th>2013</th>\n",
       "      <td>325</td>\n",
       "      <td>17932</td>\n",
       "      <td>1.780139</td>\n",
       "    </tr>\n",
       "    <tr>\n",
       "      <th>2014</th>\n",
       "      <td>528</td>\n",
       "      <td>16861</td>\n",
       "      <td>3.036402</td>\n",
       "    </tr>\n",
       "    <tr>\n",
       "      <th>2015</th>\n",
       "      <td>997</td>\n",
       "      <td>18761</td>\n",
       "      <td>5.046057</td>\n",
       "    </tr>\n",
       "    <tr>\n",
       "      <th>2016</th>\n",
       "      <td>1137</td>\n",
       "      <td>26044</td>\n",
       "      <td>4.183069</td>\n",
       "    </tr>\n",
       "    <tr>\n",
       "      <th>2017</th>\n",
       "      <td>1105</td>\n",
       "      <td>23157</td>\n",
       "      <td>4.554447</td>\n",
       "    </tr>\n",
       "    <tr>\n",
       "      <th>2018</th>\n",
       "      <td>946</td>\n",
       "      <td>19504</td>\n",
       "      <td>4.625917</td>\n",
       "    </tr>\n",
       "    <tr>\n",
       "      <th>2019</th>\n",
       "      <td>1432</td>\n",
       "      <td>17484</td>\n",
       "      <td>7.570311</td>\n",
       "    </tr>\n",
       "    <tr>\n",
       "      <th>2020</th>\n",
       "      <td>1767</td>\n",
       "      <td>26495</td>\n",
       "      <td>6.252211</td>\n",
       "    </tr>\n",
       "    <tr>\n",
       "      <th>2021</th>\n",
       "      <td>1443</td>\n",
       "      <td>25016</td>\n",
       "      <td>5.453721</td>\n",
       "    </tr>\n",
       "    <tr>\n",
       "      <th>2022</th>\n",
       "      <td>229</td>\n",
       "      <td>2845</td>\n",
       "      <td>7.449577</td>\n",
       "    </tr>\n",
       "  </tbody>\n",
       "</table>\n",
       "</div>"
      ],
      "text/plain": [
       "      climate  non-climate  percentage_climate\n",
       "date                                          \n",
       "2012      118         6832            1.697842\n",
       "2013      325        17932            1.780139\n",
       "2014      528        16861            3.036402\n",
       "2015      997        18761            5.046057\n",
       "2016     1137        26044            4.183069\n",
       "2017     1105        23157            4.554447\n",
       "2018      946        19504            4.625917\n",
       "2019     1432        17484            7.570311\n",
       "2020     1767        26495            6.252211\n",
       "2021     1443        25016            5.453721\n",
       "2022      229         2845            7.449577"
      ]
     },
     "execution_count": 24,
     "metadata": {},
     "output_type": "execute_result"
    }
   ],
   "source": [
    "print(2480/(1767+26598)) ## COVID 2020\n",
    "print(1849/(1443+25016)) ## COVID 2020\n",
    "yearly"
   ]
  },
  {
   "cell_type": "code",
   "execution_count": null,
   "metadata": {},
   "outputs": [],
   "source": []
  }
 ],
 "metadata": {
  "interpreter": {
   "hash": "fc9de61b87691b5c2df4faa10d03c8011b5237e1331d96144d761a181cf79b3d"
  },
  "kernelspec": {
   "display_name": "Python 3.9.2 64-bit",
   "language": "python",
   "name": "python3"
  },
  "language_info": {
   "codemirror_mode": {
    "name": "ipython",
    "version": 3
   },
   "file_extension": ".py",
   "mimetype": "text/x-python",
   "name": "python",
   "nbconvert_exporter": "python",
   "pygments_lexer": "ipython3",
   "version": "3.9.2"
  },
  "orig_nbformat": 4
 },
 "nbformat": 4,
 "nbformat_minor": 2
}
