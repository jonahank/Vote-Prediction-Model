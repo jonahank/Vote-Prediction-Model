{
 "cells": [
  {
   "cell_type": "code",
   "execution_count": 1,
   "metadata": {},
   "outputs": [],
   "source": [
    "import word_tokenizer\n",
    "import pandas as pd\n",
    "from gensim import models"
   ]
  },
  {
   "cell_type": "markdown",
   "metadata": {},
   "source": [
    "### Load climate-related FT meetings"
   ]
  },
  {
   "cell_type": "code",
   "execution_count": 3,
   "metadata": {},
   "outputs": [
    {
     "name": "stdout",
     "output_type": "stream",
     "text": [
      "17226\n",
      "335170\n"
     ]
    },
    {
     "data": {
      "text/html": [
       "<div>\n",
       "<style scoped>\n",
       "    .dataframe tbody tr th:only-of-type {\n",
       "        vertical-align: middle;\n",
       "    }\n",
       "\n",
       "    .dataframe tbody tr th {\n",
       "        vertical-align: top;\n",
       "    }\n",
       "\n",
       "    .dataframe thead th {\n",
       "        text-align: right;\n",
       "    }\n",
       "</style>\n",
       "<table border=\"1\" class=\"dataframe\">\n",
       "  <thead>\n",
       "    <tr style=\"text-align: right;\">\n",
       "      <th></th>\n",
       "      <th>speaker</th>\n",
       "      <th>politician</th>\n",
       "      <th>title</th>\n",
       "      <th>party</th>\n",
       "      <th>text</th>\n",
       "      <th>date</th>\n",
       "      <th>y_pred</th>\n",
       "    </tr>\n",
       "  </thead>\n",
       "  <tbody>\n",
       "    <tr>\n",
       "      <th>0</th>\n",
       "      <td>Statsministeren Helle Thorning-Schmidt</td>\n",
       "      <td>Helle Thorning-Schmidt</td>\n",
       "      <td>Statsministeren</td>\n",
       "      <td>(S)</td>\n",
       "      <td>Og vi får flere arbejdspladser. Vi har beslutt...</td>\n",
       "      <td>2012-10-02</td>\n",
       "      <td>climate</td>\n",
       "    </tr>\n",
       "  </tbody>\n",
       "</table>\n",
       "</div>"
      ],
      "text/plain": [
       "                                  speaker              politician  \\\n",
       "0  Statsministeren Helle Thorning-Schmidt  Helle Thorning-Schmidt   \n",
       "\n",
       "             title party                                               text  \\\n",
       "0  Statsministeren   (S)  Og vi får flere arbejdspladser. Vi har beslutt...   \n",
       "\n",
       "        date   y_pred  \n",
       "0 2012-10-02  climate  "
      ]
     },
     "execution_count": 3,
     "metadata": {},
     "output_type": "execute_result"
    }
   ],
   "source": [
    "df = pd.read_pickle(\"../../climate_classifier/scored_data/ft_meetings_all_2.3.pkl\")\n",
    "df_c = df[df[\"y_pred\"]==\"climate\"].reset_index(drop=True)\n",
    "print(len(df_c))\n",
    "print(len(df))\n",
    "df_c.head(1)"
   ]
  },
  {
   "cell_type": "code",
   "execution_count": 4,
   "metadata": {},
   "outputs": [
    {
     "data": {
      "text/plain": [
       "politician\n",
       "Aaja Chemnitz Larsen     I det sidste års tid har der været rigtig mege...\n",
       "Aki-Matilda Høegh-Dam    Tak. Først tak for den her redegørelse, som er...\n",
       "Aleqa Hammond            Dette lykkedes fint i den forrige regerings ti...\n",
       "Alex Ahrendtsen          Det vil være en lillebitte afgift for boligeje...\n",
       "Alex Vanopslagh          Tak til ordføreren for en passioneret tale om ...\n",
       "                                               ...                        \n",
       "Victoria Velasquez       Tak for spørgsmålet. Jeg synes egentlig ikke, ...\n",
       "Villum Christensen       Tak for det. Liberal Alliance synes, at intent...\n",
       "Villy Søvndal            Det er, når vi snart er mere tydeligt til sted...\n",
       "Zenia Stampe             Hvis vi ikke var med i EU, ville vi jo alligev...\n",
       "Øjvind Vilsholm          .Hvilke tiltag vil regeringen så tage, hvis EU...\n",
       "Name: text, Length: 325, dtype: object"
      ]
     },
     "execution_count": 4,
     "metadata": {},
     "output_type": "execute_result"
    }
   ],
   "source": [
    "## Add a comma + space in end of all texts\n",
    "df_c[\"text\"] = df_c[\"text\"]+\"<> \"\n",
    "df_c[\"politician\"] = df_c[\"politician\"].str.strip()\n",
    "pol_c = df_c.groupby(['politician'])['text'].sum()\n",
    "pol_c"
   ]
  },
  {
   "cell_type": "code",
   "execution_count": 5,
   "metadata": {},
   "outputs": [
    {
     "name": "stdout",
     "output_type": "stream",
     "text": [
      "39835\n"
     ]
    },
    {
     "data": {
      "text/html": [
       "<div>\n",
       "<style scoped>\n",
       "    .dataframe tbody tr th:only-of-type {\n",
       "        vertical-align: middle;\n",
       "    }\n",
       "\n",
       "    .dataframe tbody tr th {\n",
       "        vertical-align: top;\n",
       "    }\n",
       "\n",
       "    .dataframe thead th {\n",
       "        text-align: right;\n",
       "    }\n",
       "</style>\n",
       "<table border=\"1\" class=\"dataframe\">\n",
       "  <thead>\n",
       "    <tr style=\"text-align: right;\">\n",
       "      <th></th>\n",
       "      <th>politician</th>\n",
       "      <th>text</th>\n",
       "    </tr>\n",
       "  </thead>\n",
       "  <tbody>\n",
       "    <tr>\n",
       "      <th>0</th>\n",
       "      <td>Aaja Chemnitz Larsen</td>\n",
       "      <td>I det sidste års tid har der været rigtig mege...</td>\n",
       "    </tr>\n",
       "    <tr>\n",
       "      <th>1</th>\n",
       "      <td>Aki-Matilda Høegh-Dam</td>\n",
       "      <td>Tak. Først tak for den her redegørelse, som er...</td>\n",
       "    </tr>\n",
       "    <tr>\n",
       "      <th>2</th>\n",
       "      <td>Aleqa Hammond</td>\n",
       "      <td>Dette lykkedes fint i den forrige regerings ti...</td>\n",
       "    </tr>\n",
       "    <tr>\n",
       "      <th>3</th>\n",
       "      <td>Alex Ahrendtsen</td>\n",
       "      <td>Det vil være en lillebitte afgift for boligeje...</td>\n",
       "    </tr>\n",
       "    <tr>\n",
       "      <th>4</th>\n",
       "      <td>Alex Vanopslagh</td>\n",
       "      <td>Tak til ordføreren for en passioneret tale om ...</td>\n",
       "    </tr>\n",
       "    <tr>\n",
       "      <th>...</th>\n",
       "      <td>...</td>\n",
       "      <td>...</td>\n",
       "    </tr>\n",
       "    <tr>\n",
       "      <th>320</th>\n",
       "      <td>Victoria Velasquez</td>\n",
       "      <td>Tak for spørgsmålet. Jeg synes egentlig ikke, ...</td>\n",
       "    </tr>\n",
       "    <tr>\n",
       "      <th>321</th>\n",
       "      <td>Villum Christensen</td>\n",
       "      <td>Tak for det. Liberal Alliance synes, at intent...</td>\n",
       "    </tr>\n",
       "    <tr>\n",
       "      <th>322</th>\n",
       "      <td>Villy Søvndal</td>\n",
       "      <td>Det er, når vi snart er mere tydeligt til sted...</td>\n",
       "    </tr>\n",
       "    <tr>\n",
       "      <th>323</th>\n",
       "      <td>Zenia Stampe</td>\n",
       "      <td>Hvis vi ikke var med i EU, ville vi jo alligev...</td>\n",
       "    </tr>\n",
       "    <tr>\n",
       "      <th>324</th>\n",
       "      <td>Øjvind Vilsholm</td>\n",
       "      <td>.Hvilke tiltag vil regeringen så tage, hvis EU...</td>\n",
       "    </tr>\n",
       "  </tbody>\n",
       "</table>\n",
       "<p>325 rows × 2 columns</p>\n",
       "</div>"
      ],
      "text/plain": [
       "                politician                                               text\n",
       "0     Aaja Chemnitz Larsen  I det sidste års tid har der været rigtig mege...\n",
       "1    Aki-Matilda Høegh-Dam  Tak. Først tak for den her redegørelse, som er...\n",
       "2            Aleqa Hammond  Dette lykkedes fint i den forrige regerings ti...\n",
       "3          Alex Ahrendtsen  Det vil være en lillebitte afgift for boligeje...\n",
       "4          Alex Vanopslagh  Tak til ordføreren for en passioneret tale om ...\n",
       "..                     ...                                                ...\n",
       "320     Victoria Velasquez  Tak for spørgsmålet. Jeg synes egentlig ikke, ...\n",
       "321     Villum Christensen  Tak for det. Liberal Alliance synes, at intent...\n",
       "322          Villy Søvndal  Det er, når vi snart er mere tydeligt til sted...\n",
       "323           Zenia Stampe  Hvis vi ikke var med i EU, ville vi jo alligev...\n",
       "324        Øjvind Vilsholm  .Hvilke tiltag vil regeringen så tage, hvis EU...\n",
       "\n",
       "[325 rows x 2 columns]"
      ]
     },
     "execution_count": 5,
     "metadata": {},
     "output_type": "execute_result"
    }
   ],
   "source": [
    "df_pol_c = pd.DataFrame(pol_c)\n",
    "df_pol_c[\"politician\"] = df_pol_c.index\n",
    "df_pol_c = df_pol_c[[\"politician\", \"text\"]].reset_index(drop=True)\n",
    "print(len(df_pol_c.loc[4][\"text\"]))\n",
    "df_pol_c"
   ]
  },
  {
   "cell_type": "markdown",
   "metadata": {},
   "source": [
    "### Vectorize texts"
   ]
  },
  {
   "cell_type": "code",
   "execution_count": 8,
   "metadata": {},
   "outputs": [],
   "source": [
    "MODEL_FILE = '../../../../Models/word2vec/dsl_skipgram_2020_m5_f500_epoch2_w5.models/dsl_skipgram_2020_m5_f500_epoch2_w5.model'\n",
    "model = models.Word2Vec.load(MODEL_FILE)\n",
    "\n",
    "        ## Takes 2 min to load on Jonathan PC 2\n",
    "\n",
    "## Used for vectorizing the description text (filtered)\n",
    "words = set(model.wv.index_to_key)"
   ]
  },
  {
   "cell_type": "code",
   "execution_count": 9,
   "metadata": {},
   "outputs": [
    {
     "data": {
      "text/html": [
       "<div>\n",
       "<style scoped>\n",
       "    .dataframe tbody tr th:only-of-type {\n",
       "        vertical-align: middle;\n",
       "    }\n",
       "\n",
       "    .dataframe tbody tr th {\n",
       "        vertical-align: top;\n",
       "    }\n",
       "\n",
       "    .dataframe thead th {\n",
       "        text-align: right;\n",
       "    }\n",
       "</style>\n",
       "<table border=\"1\" class=\"dataframe\">\n",
       "  <thead>\n",
       "    <tr style=\"text-align: right;\">\n",
       "      <th></th>\n",
       "      <th>politician</th>\n",
       "      <th>text</th>\n",
       "      <th>text_clean</th>\n",
       "    </tr>\n",
       "  </thead>\n",
       "  <tbody>\n",
       "    <tr>\n",
       "      <th>0</th>\n",
       "      <td>Aaja Chemnitz Larsen</td>\n",
       "      <td>I det sidste års tid har der været rigtig mege...</td>\n",
       "      <td>[sidste, år, tid, rigtig, fokus, arktis, grønl...</td>\n",
       "    </tr>\n",
       "    <tr>\n",
       "      <th>1</th>\n",
       "      <td>Aki-Matilda Høegh-Dam</td>\n",
       "      <td>Tak. Først tak for den her redegørelse, som er...</td>\n",
       "      <td>[tak, først, tak, redegørelse, basere, status,...</td>\n",
       "    </tr>\n",
       "    <tr>\n",
       "      <th>2</th>\n",
       "      <td>Aleqa Hammond</td>\n",
       "      <td>Dette lykkedes fint i den forrige regerings ti...</td>\n",
       "      <td>[lykkes, finte, forrige, regering, tid, håbe, ...</td>\n",
       "    </tr>\n",
       "  </tbody>\n",
       "</table>\n",
       "</div>"
      ],
      "text/plain": [
       "              politician                                               text  \\\n",
       "0   Aaja Chemnitz Larsen  I det sidste års tid har der været rigtig mege...   \n",
       "1  Aki-Matilda Høegh-Dam  Tak. Først tak for den her redegørelse, som er...   \n",
       "2          Aleqa Hammond  Dette lykkedes fint i den forrige regerings ti...   \n",
       "\n",
       "                                          text_clean  \n",
       "0  [sidste, år, tid, rigtig, fokus, arktis, grønl...  \n",
       "1  [tak, først, tak, redegørelse, basere, status,...  \n",
       "2  [lykkes, finte, forrige, regering, tid, håbe, ...  "
      ]
     },
     "execution_count": 9,
     "metadata": {},
     "output_type": "execute_result"
    }
   ],
   "source": [
    "## Remove stopwords and create lists containing words\n",
    "df_pol_c['text_clean'] = df_pol_c['text'].apply(lambda x: word_tokenizer.tokenize(x))\n",
    "df_pol_c.head(3)"
   ]
  },
  {
   "cell_type": "code",
   "execution_count": 10,
   "metadata": {},
   "outputs": [
    {
     "name": "stderr",
     "output_type": "stream",
     "text": [
      "C:\\Users\\COBOD\\AppData\\Local\\Temp/ipykernel_13284/2123071034.py:2: VisibleDeprecationWarning: Creating an ndarray from ragged nested sequences (which is a list-or-tuple of lists-or-tuples-or ndarrays with different lengths or shapes) is deprecated. If you meant to do this, you must specify 'dtype=object' when creating the ndarray\n",
      "  pol_vect = np.array([np.array([model.wv[i] for i in ls if i in words])\n"
     ]
    }
   ],
   "source": [
    "import numpy as np\n",
    "pol_vect = np.array([np.array([model.wv[i] for i in ls if i in words])\n",
    "                         for ls in df_pol_c[\"text_clean\"]])\n",
    "                         ## Takes 32 sec on Jonathan PC 2"
   ]
  },
  {
   "cell_type": "code",
   "execution_count": 11,
   "metadata": {},
   "outputs": [],
   "source": [
    "pol_vec_avg = []\n",
    "for v in pol_vect:\n",
    "    if v.size:\n",
    "        pol_vec_avg.append(v.mean(axis=0))\n",
    "    else:\n",
    "        pol_vec_avg.append(np.zeros(100, dtype=float))\n",
    "\n",
    "        ## Takes 0.4 sec Jonathan PC 2"
   ]
  },
  {
   "cell_type": "code",
   "execution_count": 12,
   "metadata": {},
   "outputs": [
    {
     "data": {
      "text/html": [
       "<div>\n",
       "<style scoped>\n",
       "    .dataframe tbody tr th:only-of-type {\n",
       "        vertical-align: middle;\n",
       "    }\n",
       "\n",
       "    .dataframe tbody tr th {\n",
       "        vertical-align: top;\n",
       "    }\n",
       "\n",
       "    .dataframe thead th {\n",
       "        text-align: right;\n",
       "    }\n",
       "</style>\n",
       "<table border=\"1\" class=\"dataframe\">\n",
       "  <thead>\n",
       "    <tr style=\"text-align: right;\">\n",
       "      <th></th>\n",
       "      <th>politician</th>\n",
       "      <th>text</th>\n",
       "      <th>text_clean</th>\n",
       "      <th>vec</th>\n",
       "    </tr>\n",
       "  </thead>\n",
       "  <tbody>\n",
       "    <tr>\n",
       "      <th>0</th>\n",
       "      <td>Aaja Chemnitz Larsen</td>\n",
       "      <td>I det sidste års tid har der været rigtig mege...</td>\n",
       "      <td>[sidste, år, tid, rigtig, fokus, arktis, grønl...</td>\n",
       "      <td>[-0.10230713, 0.023683876, 0.079156294, -0.159...</td>\n",
       "    </tr>\n",
       "  </tbody>\n",
       "</table>\n",
       "</div>"
      ],
      "text/plain": [
       "             politician                                               text  \\\n",
       "0  Aaja Chemnitz Larsen  I det sidste års tid har der været rigtig mege...   \n",
       "\n",
       "                                          text_clean  \\\n",
       "0  [sidste, år, tid, rigtig, fokus, arktis, grønl...   \n",
       "\n",
       "                                                 vec  \n",
       "0  [-0.10230713, 0.023683876, 0.079156294, -0.159...  "
      ]
     },
     "execution_count": 12,
     "metadata": {},
     "output_type": "execute_result"
    }
   ],
   "source": [
    "df_pol_c[\"vec\"] = pol_vec_avg\n",
    "df_pol_c.head(1)"
   ]
  },
  {
   "cell_type": "code",
   "execution_count": 13,
   "metadata": {},
   "outputs": [
    {
     "name": "stdout",
     "output_type": "stream",
     "text": [
      "[('retsundtagelse', 0.8501923084259033), ('2025aftale', 0.849542498588562), ('libyenstrategi', 0.8495377898216248), ('fossiltfrit', 0.8486163020133972), ('lidelsesreduktion', 0.8483492136001587)]\n",
      "[('alenejeg', 0.8445197343826294), ('licensmuligheder', 0.8414653539657593), ('supertrist', 0.8411604762077332), ('allerallerhelst', 0.8409302234649658), ('dobbeltstraffe', 0.840675950050354)]\n",
      "[('upatruljeret', 0.8430442810058594), ('alenejeg', 0.8399696350097656), ('muntjaken', 0.8393654227256775), ('0skabeloner', 0.8391795754432678), ('dobbeltstraffe', 0.8378236889839172)]\n"
     ]
    },
    {
     "ename": "KeyError",
     "evalue": "0",
     "output_type": "error",
     "traceback": [
      "\u001b[1;31m---------------------------------------------------------------------------\u001b[0m",
      "\u001b[1;31mValueError\u001b[0m                                Traceback (most recent call last)",
      "\u001b[1;32mc:\\Users\\COBOD\\AppData\\Local\\Programs\\Python\\Python39\\lib\\site-packages\\pandas\\core\\indexes\\range.py\u001b[0m in \u001b[0;36mget_loc\u001b[1;34m(self, key, method, tolerance)\u001b[0m\n\u001b[0;32m    384\u001b[0m                 \u001b[1;32mtry\u001b[0m\u001b[1;33m:\u001b[0m\u001b[1;33m\u001b[0m\u001b[1;33m\u001b[0m\u001b[0m\n\u001b[1;32m--> 385\u001b[1;33m                     \u001b[1;32mreturn\u001b[0m \u001b[0mself\u001b[0m\u001b[1;33m.\u001b[0m\u001b[0m_range\u001b[0m\u001b[1;33m.\u001b[0m\u001b[0mindex\u001b[0m\u001b[1;33m(\u001b[0m\u001b[0mnew_key\u001b[0m\u001b[1;33m)\u001b[0m\u001b[1;33m\u001b[0m\u001b[1;33m\u001b[0m\u001b[0m\n\u001b[0m\u001b[0;32m    386\u001b[0m                 \u001b[1;32mexcept\u001b[0m \u001b[0mValueError\u001b[0m \u001b[1;32mas\u001b[0m \u001b[0merr\u001b[0m\u001b[1;33m:\u001b[0m\u001b[1;33m\u001b[0m\u001b[1;33m\u001b[0m\u001b[0m\n",
      "\u001b[1;31mValueError\u001b[0m: 0 is not in range",
      "\nThe above exception was the direct cause of the following exception:\n",
      "\u001b[1;31mKeyError\u001b[0m                                  Traceback (most recent call last)",
      "\u001b[1;32m~\\AppData\\Local\\Temp/ipykernel_13284/457476684.py\u001b[0m in \u001b[0;36m<module>\u001b[1;34m\u001b[0m\n\u001b[0;32m     11\u001b[0m \u001b[0mprint\u001b[0m\u001b[1;33m(\u001b[0m\u001b[0mmodel\u001b[0m\u001b[1;33m.\u001b[0m\u001b[0mwv\u001b[0m\u001b[1;33m.\u001b[0m\u001b[0mmost_similar\u001b[0m\u001b[1;33m(\u001b[0m\u001b[0mpositive\u001b[0m\u001b[1;33m=\u001b[0m\u001b[1;33m[\u001b[0m\u001b[0mup2\u001b[0m\u001b[1;33m[\u001b[0m\u001b[1;34m\"vec\"\u001b[0m\u001b[1;33m]\u001b[0m\u001b[1;33m[\u001b[0m\u001b[1;36m0\u001b[0m\u001b[1;33m]\u001b[0m\u001b[1;33m]\u001b[0m\u001b[1;33m)\u001b[0m\u001b[1;33m[\u001b[0m\u001b[1;33m:\u001b[0m\u001b[1;36m5\u001b[0m\u001b[1;33m]\u001b[0m\u001b[1;33m)\u001b[0m\u001b[1;33m\u001b[0m\u001b[1;33m\u001b[0m\u001b[0m\n\u001b[0;32m     12\u001b[0m \u001b[0mprint\u001b[0m\u001b[1;33m(\u001b[0m\u001b[0mmodel\u001b[0m\u001b[1;33m.\u001b[0m\u001b[0mwv\u001b[0m\u001b[1;33m.\u001b[0m\u001b[0mmost_similar\u001b[0m\u001b[1;33m(\u001b[0m\u001b[0mpositive\u001b[0m\u001b[1;33m=\u001b[0m\u001b[1;33m[\u001b[0m\u001b[0mbot1\u001b[0m\u001b[1;33m[\u001b[0m\u001b[1;34m\"vec\"\u001b[0m\u001b[1;33m]\u001b[0m\u001b[1;33m[\u001b[0m\u001b[1;36m0\u001b[0m\u001b[1;33m]\u001b[0m\u001b[1;33m]\u001b[0m\u001b[1;33m)\u001b[0m\u001b[1;33m[\u001b[0m\u001b[1;33m:\u001b[0m\u001b[1;36m5\u001b[0m\u001b[1;33m]\u001b[0m\u001b[1;33m)\u001b[0m\u001b[1;33m\u001b[0m\u001b[1;33m\u001b[0m\u001b[0m\n\u001b[1;32m---> 13\u001b[1;33m \u001b[0mprint\u001b[0m\u001b[1;33m(\u001b[0m\u001b[0mmodel\u001b[0m\u001b[1;33m.\u001b[0m\u001b[0mwv\u001b[0m\u001b[1;33m.\u001b[0m\u001b[0mmost_similar\u001b[0m\u001b[1;33m(\u001b[0m\u001b[0mpositive\u001b[0m\u001b[1;33m=\u001b[0m\u001b[1;33m[\u001b[0m\u001b[0mbot2\u001b[0m\u001b[1;33m[\u001b[0m\u001b[1;34m\"vec\"\u001b[0m\u001b[1;33m]\u001b[0m\u001b[1;33m[\u001b[0m\u001b[1;36m0\u001b[0m\u001b[1;33m]\u001b[0m\u001b[1;33m]\u001b[0m\u001b[1;33m)\u001b[0m\u001b[1;33m[\u001b[0m\u001b[1;33m:\u001b[0m\u001b[1;36m5\u001b[0m\u001b[1;33m]\u001b[0m\u001b[1;33m)\u001b[0m\u001b[1;33m\u001b[0m\u001b[1;33m\u001b[0m\u001b[0m\n\u001b[0m",
      "\u001b[1;32mc:\\Users\\COBOD\\AppData\\Local\\Programs\\Python\\Python39\\lib\\site-packages\\pandas\\core\\series.py\u001b[0m in \u001b[0;36m__getitem__\u001b[1;34m(self, key)\u001b[0m\n\u001b[0;32m    940\u001b[0m \u001b[1;33m\u001b[0m\u001b[0m\n\u001b[0;32m    941\u001b[0m         \u001b[1;32melif\u001b[0m \u001b[0mkey_is_scalar\u001b[0m\u001b[1;33m:\u001b[0m\u001b[1;33m\u001b[0m\u001b[1;33m\u001b[0m\u001b[0m\n\u001b[1;32m--> 942\u001b[1;33m             \u001b[1;32mreturn\u001b[0m \u001b[0mself\u001b[0m\u001b[1;33m.\u001b[0m\u001b[0m_get_value\u001b[0m\u001b[1;33m(\u001b[0m\u001b[0mkey\u001b[0m\u001b[1;33m)\u001b[0m\u001b[1;33m\u001b[0m\u001b[1;33m\u001b[0m\u001b[0m\n\u001b[0m\u001b[0;32m    943\u001b[0m \u001b[1;33m\u001b[0m\u001b[0m\n\u001b[0;32m    944\u001b[0m         \u001b[1;32mif\u001b[0m \u001b[0mis_hashable\u001b[0m\u001b[1;33m(\u001b[0m\u001b[0mkey\u001b[0m\u001b[1;33m)\u001b[0m\u001b[1;33m:\u001b[0m\u001b[1;33m\u001b[0m\u001b[1;33m\u001b[0m\u001b[0m\n",
      "\u001b[1;32mc:\\Users\\COBOD\\AppData\\Local\\Programs\\Python\\Python39\\lib\\site-packages\\pandas\\core\\series.py\u001b[0m in \u001b[0;36m_get_value\u001b[1;34m(self, label, takeable)\u001b[0m\n\u001b[0;32m   1049\u001b[0m \u001b[1;33m\u001b[0m\u001b[0m\n\u001b[0;32m   1050\u001b[0m         \u001b[1;31m# Similar to Index.get_value, but we do not fall back to positional\u001b[0m\u001b[1;33m\u001b[0m\u001b[1;33m\u001b[0m\u001b[0m\n\u001b[1;32m-> 1051\u001b[1;33m         \u001b[0mloc\u001b[0m \u001b[1;33m=\u001b[0m \u001b[0mself\u001b[0m\u001b[1;33m.\u001b[0m\u001b[0mindex\u001b[0m\u001b[1;33m.\u001b[0m\u001b[0mget_loc\u001b[0m\u001b[1;33m(\u001b[0m\u001b[0mlabel\u001b[0m\u001b[1;33m)\u001b[0m\u001b[1;33m\u001b[0m\u001b[1;33m\u001b[0m\u001b[0m\n\u001b[0m\u001b[0;32m   1052\u001b[0m         \u001b[1;32mreturn\u001b[0m \u001b[0mself\u001b[0m\u001b[1;33m.\u001b[0m\u001b[0mindex\u001b[0m\u001b[1;33m.\u001b[0m\u001b[0m_get_values_for_loc\u001b[0m\u001b[1;33m(\u001b[0m\u001b[0mself\u001b[0m\u001b[1;33m,\u001b[0m \u001b[0mloc\u001b[0m\u001b[1;33m,\u001b[0m \u001b[0mlabel\u001b[0m\u001b[1;33m)\u001b[0m\u001b[1;33m\u001b[0m\u001b[1;33m\u001b[0m\u001b[0m\n\u001b[0;32m   1053\u001b[0m \u001b[1;33m\u001b[0m\u001b[0m\n",
      "\u001b[1;32mc:\\Users\\COBOD\\AppData\\Local\\Programs\\Python\\Python39\\lib\\site-packages\\pandas\\core\\indexes\\range.py\u001b[0m in \u001b[0;36mget_loc\u001b[1;34m(self, key, method, tolerance)\u001b[0m\n\u001b[0;32m    385\u001b[0m                     \u001b[1;32mreturn\u001b[0m \u001b[0mself\u001b[0m\u001b[1;33m.\u001b[0m\u001b[0m_range\u001b[0m\u001b[1;33m.\u001b[0m\u001b[0mindex\u001b[0m\u001b[1;33m(\u001b[0m\u001b[0mnew_key\u001b[0m\u001b[1;33m)\u001b[0m\u001b[1;33m\u001b[0m\u001b[1;33m\u001b[0m\u001b[0m\n\u001b[0;32m    386\u001b[0m                 \u001b[1;32mexcept\u001b[0m \u001b[0mValueError\u001b[0m \u001b[1;32mas\u001b[0m \u001b[0merr\u001b[0m\u001b[1;33m:\u001b[0m\u001b[1;33m\u001b[0m\u001b[1;33m\u001b[0m\u001b[0m\n\u001b[1;32m--> 387\u001b[1;33m                     \u001b[1;32mraise\u001b[0m \u001b[0mKeyError\u001b[0m\u001b[1;33m(\u001b[0m\u001b[0mkey\u001b[0m\u001b[1;33m)\u001b[0m \u001b[1;32mfrom\u001b[0m \u001b[0merr\u001b[0m\u001b[1;33m\u001b[0m\u001b[1;33m\u001b[0m\u001b[0m\n\u001b[0m\u001b[0;32m    388\u001b[0m             \u001b[1;32mraise\u001b[0m \u001b[0mKeyError\u001b[0m\u001b[1;33m(\u001b[0m\u001b[0mkey\u001b[0m\u001b[1;33m)\u001b[0m\u001b[1;33m\u001b[0m\u001b[1;33m\u001b[0m\u001b[0m\n\u001b[0;32m    389\u001b[0m         \u001b[1;32mreturn\u001b[0m \u001b[0msuper\u001b[0m\u001b[1;33m(\u001b[0m\u001b[1;33m)\u001b[0m\u001b[1;33m.\u001b[0m\u001b[0mget_loc\u001b[0m\u001b[1;33m(\u001b[0m\u001b[0mkey\u001b[0m\u001b[1;33m,\u001b[0m \u001b[0mmethod\u001b[0m\u001b[1;33m=\u001b[0m\u001b[0mmethod\u001b[0m\u001b[1;33m,\u001b[0m \u001b[0mtolerance\u001b[0m\u001b[1;33m=\u001b[0m\u001b[0mtolerance\u001b[0m\u001b[1;33m)\u001b[0m\u001b[1;33m\u001b[0m\u001b[1;33m\u001b[0m\u001b[0m\n",
      "\u001b[1;31mKeyError\u001b[0m: 0"
     ]
    }
   ],
   "source": [
    "### Test politicians \n",
    "## Upper bound: Lars Christian Lilleholt, Mai Villadsen\n",
    "## Not so much: Mette Gjerskov, Karen Hækkerup\n",
    "\n",
    "up1 = df_pol_c[df_pol_c[\"politician\"]==\"Lars Christian Lilleholt\"].reset_index(drop=True)\n",
    "up2 = df_pol_c[df_pol_c[\"politician\"]==\"Mai Villadsen\"].reset_index(drop=True)\n",
    "bot1 = df_pol_c[df_pol_c[\"politician\"]==\"Mette Gjerskov\"].reset_index(drop=True)\n",
    "bot2 = df_pol_c[df_pol_c[\"politician\"]==\"Karen Hækkerup\"].reset_index(drop=True)\n",
    "\n",
    "print(model.wv.most_similar(positive=[up1[\"vec\"][0]])[:5])\n",
    "print(model.wv.most_similar(positive=[up2[\"vec\"][0]])[:5])\n",
    "print(model.wv.most_similar(positive=[bot1[\"vec\"][0]])[:5])\n",
    "print(model.wv.most_similar(positive=[bot2[\"vec\"][0]])[:5])\n"
   ]
  },
  {
   "cell_type": "code",
   "execution_count": null,
   "metadata": {},
   "outputs": [
    {
     "name": "stdout",
     "output_type": "stream",
     "text": [
      "[0.97670025]\n",
      "[0.968652]\n",
      "[0.9421233]\n"
     ]
    }
   ],
   "source": [
    "print(model.wv.cosine_similarities(up1[\"vec\"][0], [up2[\"vec\"][0]])) ## Mai\n",
    "print(model.wv.cosine_similarities(up1[\"vec\"][0], [bot1[\"vec\"][0]])) ## Mette G\n",
    "print(model.wv.cosine_similarities(up1[\"vec\"][0], [bot2[\"vec\"][0]]) )## Karen Hæk"
   ]
  },
  {
   "cell_type": "code",
   "execution_count": 39,
   "metadata": {},
   "outputs": [
    {
     "data": {
      "text/html": [
       "<div>\n",
       "<style scoped>\n",
       "    .dataframe tbody tr th:only-of-type {\n",
       "        vertical-align: middle;\n",
       "    }\n",
       "\n",
       "    .dataframe tbody tr th {\n",
       "        vertical-align: top;\n",
       "    }\n",
       "\n",
       "    .dataframe thead th {\n",
       "        text-align: right;\n",
       "    }\n",
       "</style>\n",
       "<table border=\"1\" class=\"dataframe\">\n",
       "  <thead>\n",
       "    <tr style=\"text-align: right;\">\n",
       "      <th></th>\n",
       "      <th>party</th>\n",
       "      <th>politician</th>\n",
       "      <th>vote</th>\n",
       "      <th>description</th>\n",
       "      <th>date</th>\n",
       "      <th>vote_caller</th>\n",
       "      <th>y_pred</th>\n",
       "      <th>set</th>\n",
       "      <th>vote_id</th>\n",
       "      <th>Socialdemokratiet_weight_for</th>\n",
       "      <th>Socialdemokratiet_weight_against</th>\n",
       "      <th>Venstre_weight_for</th>\n",
       "      <th>Venstre_weight_against</th>\n",
       "      <th>vec</th>\n",
       "      <th>vec2</th>\n",
       "      <th>w_for</th>\n",
       "      <th>w_against</th>\n",
       "      <th>party2</th>\n",
       "      <th>vote_caller2</th>\n",
       "    </tr>\n",
       "  </thead>\n",
       "  <tbody>\n",
       "    <tr>\n",
       "      <th>1</th>\n",
       "      <td>Dansk Folkeparti (DF)</td>\n",
       "      <td>Alex Ahrendtsen</td>\n",
       "      <td>For</td>\n",
       "      <td>Folketinget konstaterer, at den hidtil førte e...</td>\n",
       "      <td>2015-12-17</td>\n",
       "      <td>['Mikkel Dencker (DF)']</td>\n",
       "      <td>climate</td>\n",
       "      <td>train</td>\n",
       "      <td>Afstemning nr. 183, 2015-16</td>\n",
       "      <td>0.570332</td>\n",
       "      <td>0.429668</td>\n",
       "      <td>0.079625</td>\n",
       "      <td>0.920375</td>\n",
       "      <td>[-1.04358420e-01 -1.38448412e-02  7.39112943e-...</td>\n",
       "      <td>[-0.10435842, -0.0138448412, 0.0739112943, -0....</td>\n",
       "      <td>0.079625</td>\n",
       "      <td>0.920375</td>\n",
       "      <td>(DF)</td>\n",
       "      <td>(DF)</td>\n",
       "    </tr>\n",
       "  </tbody>\n",
       "</table>\n",
       "</div>"
      ],
      "text/plain": [
       "                   party       politician vote  \\\n",
       "1  Dansk Folkeparti (DF)  Alex Ahrendtsen  For   \n",
       "\n",
       "                                         description        date  \\\n",
       "1  Folketinget konstaterer, at den hidtil førte e...  2015-12-17   \n",
       "\n",
       "               vote_caller   y_pred    set                      vote_id  \\\n",
       "1  ['Mikkel Dencker (DF)']  climate  train  Afstemning nr. 183, 2015-16   \n",
       "\n",
       "   Socialdemokratiet_weight_for  Socialdemokratiet_weight_against  \\\n",
       "1                      0.570332                          0.429668   \n",
       "\n",
       "   Venstre_weight_for  Venstre_weight_against  \\\n",
       "1            0.079625                0.920375   \n",
       "\n",
       "                                                 vec  \\\n",
       "1  [-1.04358420e-01 -1.38448412e-02  7.39112943e-...   \n",
       "\n",
       "                                                vec2     w_for  w_against  \\\n",
       "1  [-0.10435842, -0.0138448412, 0.0739112943, -0....  0.079625   0.920375   \n",
       "\n",
       "  party2 vote_caller2  \n",
       "1   (DF)         (DF)  "
      ]
     },
     "execution_count": 39,
     "metadata": {},
     "output_type": "execute_result"
    }
   ],
   "source": [
    "df_votes_c = pd.read_pickle(\"./scikitv2/c_all_trans.pkl\")\n",
    "df_votes_c.head(1)"
   ]
  },
  {
   "cell_type": "code",
   "execution_count": 45,
   "metadata": {},
   "outputs": [
    {
     "name": "stdout",
     "output_type": "stream",
     "text": [
      "[0.93099058]\n",
      "[0.87828027]\n",
      "[0.86871]\n",
      "[0.84866758]\n"
     ]
    }
   ],
   "source": [
    "vote1 = df_votes_c.loc[1][\"vec2\"]\n",
    "print(model.wv.cosine_similarities(vote1, [up1[\"vec\"][0]]))\n",
    "print(model.wv.cosine_similarities(vote1, [up2[\"vec\"][0]]))\n",
    "print(model.wv.cosine_similarities(vote1, [bot1[\"vec\"][0]]))\n",
    "print(model.wv.cosine_similarities(vote1, [bot2[\"vec\"][0]]))"
   ]
  },
  {
   "cell_type": "code",
   "execution_count": 14,
   "metadata": {},
   "outputs": [],
   "source": [
    "df_pol_c\n",
    "df_pol_c.to_pickle(\"pol2vec.2.3.pkl\")"
   ]
  },
  {
   "cell_type": "code",
   "execution_count": null,
   "metadata": {},
   "outputs": [],
   "source": []
  }
 ],
 "metadata": {
  "interpreter": {
   "hash": "fc9de61b87691b5c2df4faa10d03c8011b5237e1331d96144d761a181cf79b3d"
  },
  "kernelspec": {
   "display_name": "Python 3.9.7 64-bit",
   "language": "python",
   "name": "python3"
  },
  "language_info": {
   "codemirror_mode": {
    "name": "ipython",
    "version": 3
   },
   "file_extension": ".py",
   "mimetype": "text/x-python",
   "name": "python",
   "nbconvert_exporter": "python",
   "pygments_lexer": "ipython3",
   "version": "3.9.7"
  },
  "orig_nbformat": 4
 },
 "nbformat": 4,
 "nbformat_minor": 2
}
