{
 "cells": [
  {
   "cell_type": "code",
   "execution_count": 1,
   "metadata": {},
   "outputs": [],
   "source": [
    "## Import\n",
    "import pandas as pd\n",
    "import json\n",
    "import matplotlib.pyplot as plt\n",
    "from datetime import datetime"
   ]
  },
  {
   "cell_type": "code",
   "execution_count": 6,
   "metadata": {},
   "outputs": [
    {
     "data": {
      "text/html": [
       "<div>\n",
       "<style scoped>\n",
       "    .dataframe tbody tr th:only-of-type {\n",
       "        vertical-align: middle;\n",
       "    }\n",
       "\n",
       "    .dataframe tbody tr th {\n",
       "        vertical-align: top;\n",
       "    }\n",
       "\n",
       "    .dataframe thead th {\n",
       "        text-align: right;\n",
       "    }\n",
       "</style>\n",
       "<table border=\"1\" class=\"dataframe\">\n",
       "  <thead>\n",
       "    <tr style=\"text-align: right;\">\n",
       "      <th></th>\n",
       "      <th>party</th>\n",
       "      <th>politician</th>\n",
       "      <th>vote</th>\n",
       "      <th>description</th>\n",
       "      <th>date</th>\n",
       "      <th>vote_id</th>\n",
       "      <th>y_pred</th>\n",
       "      <th>vote_id2</th>\n",
       "    </tr>\n",
       "  </thead>\n",
       "  <tbody>\n",
       "    <tr>\n",
       "      <th>0</th>\n",
       "      <td>Siumut (SIU)</td>\n",
       "      <td>Aki-Matilda Høegh-Dam</td>\n",
       "      <td>Fraværende</td>\n",
       "      <td>Forslaget går ud på at lovfæste klippekortordn...</td>\n",
       "      <td>2022-03-15</td>\n",
       "      <td>Afstemning nr. 320, 2021-22</td>\n",
       "      <td>non-climate</td>\n",
       "      <td>2821</td>\n",
       "    </tr>\n",
       "  </tbody>\n",
       "</table>\n",
       "</div>"
      ],
      "text/plain": [
       "          party             politician        vote  \\\n",
       "0  Siumut (SIU)  Aki-Matilda Høegh-Dam  Fraværende   \n",
       "\n",
       "                                         description        date  \\\n",
       "0  Forslaget går ud på at lovfæste klippekortordn...  2022-03-15   \n",
       "\n",
       "                       vote_id       y_pred  vote_id2  \n",
       "0  Afstemning nr. 320, 2021-22  non-climate      2821  "
      ]
     },
     "execution_count": 6,
     "metadata": {},
     "output_type": "execute_result"
    }
   ],
   "source": [
    "## Load data\n",
    "#df = pd.read_csv(\"../political_vote_classifiers/votes_scored_v2_1_utf.csv\").drop(columns=[\"Unnamed: 0\"]).rename(columns={\"description\":\"text\"})\n",
    "#df = pd.read_csv(\"../political_vote_classifiers/votes_scored_v2_1_utf.csv\").drop(columns=[\"Unnamed: 0\"]).rename(columns={\"description\":\"text\"})\n",
    "df = pd.read_pickle(\"../climate_classifier/scored_data/votes_data_all_expanded_politician.pkl\") \n",
    "df.head(1)"
   ]
  },
  {
   "cell_type": "code",
   "execution_count": 7,
   "metadata": {},
   "outputs": [],
   "source": [
    "df['date'] = pd.to_datetime(df['date'])"
   ]
  },
  {
   "cell_type": "code",
   "execution_count": 8,
   "metadata": {},
   "outputs": [],
   "source": [
    "df['climate'] = df['y_pred'].apply(lambda x: 1 if x==\"climate\" else 0)\n",
    "df['non-climate'] = df['y_pred'].apply(lambda x: 1 if x==\"non-climate\" else 0)"
   ]
  },
  {
   "cell_type": "code",
   "execution_count": 11,
   "metadata": {},
   "outputs": [
    {
     "data": {
      "text/plain": [
       "358"
      ]
     },
     "execution_count": 11,
     "metadata": {},
     "output_type": "execute_result"
    }
   ],
   "source": [
    "len(df[(df['description'].str.contains(\"covid\")) & (df['y_pred']=='climate')]) ## It is only 2 meetings with 179 members in each"
   ]
  },
  {
   "cell_type": "markdown",
   "metadata": {},
   "source": [
    "## Temporal analysis"
   ]
  },
  {
   "cell_type": "code",
   "execution_count": 12,
   "metadata": {},
   "outputs": [],
   "source": [
    "quarterly = df.groupby(df['date'].dt.to_period('Q')).agg({'climate': 'sum', 'non-climate':'sum'})\n",
    "quarterly['percentage_climate'] = quarterly.apply(lambda x: (x['climate']/(x['climate']+x['non-climate']))*100, axis=1)\n",
    "\n",
    "view = pd.DataFrame(quarterly.drop(columns=['climate', 'non-climate']))"
   ]
  },
  {
   "cell_type": "code",
   "execution_count": 13,
   "metadata": {},
   "outputs": [],
   "source": [
    "view[\"date2\"] = view.index.astype(str)\n",
    "viewQ = view[(view[\"date2\"].str.endswith(\"Q1\"))|(view[\"date2\"].str.endswith(\"Q2\"))|(view[\"date2\"].str.endswith(\"Q4\"))].drop(columns=[\"date2\"])\n",
    "#view"
   ]
  },
  {
   "cell_type": "code",
   "execution_count": 14,
   "metadata": {},
   "outputs": [
    {
     "name": "stderr",
     "output_type": "stream",
     "text": [
      "C:\\Users\\COBOD\\AppData\\Local\\Temp\\ipykernel_7408\\1701748752.py:7: FutureWarning: casting period[A-DEC] values to int64 with .astype(...) is deprecated and will raise in a future version. Use .view(...) instead.\n",
      "  view2[\"date2\"] = view2.index.astype(int) ## wierd stuff... 2012 = 42 in this\n"
     ]
    }
   ],
   "source": [
    "yearly = df.groupby(df['date'].dt.to_period('Y')).agg({'climate': 'sum', 'non-climate':'sum'})\n",
    "yearly['percentage_climate'] = yearly.apply(lambda x: (x['climate']/(x['climate']+x['non-climate']))*100, axis=1)\n",
    "\n",
    "view2 = yearly.drop(columns=['climate', 'non-climate'])\n",
    "\n",
    "## Comment out to get from 2012 ->\n",
    "view2[\"date2\"] = view2.index.astype(int) ## wierd stuff... 2012 = 42 in this\n",
    "view2 = view2[view2[\"date2\"]>=42].drop(columns=['date2'])"
   ]
  },
  {
   "cell_type": "code",
   "execution_count": 15,
   "metadata": {},
   "outputs": [
    {
     "data": {
      "image/png": "[encoded data removed]",
      "text/plain": [
       "<Figure size 432x288 with 1 Axes>"
      ]
     },
     "metadata": {
      "needs_background": "light"
     },
     "output_type": "display_data"
    },
    {
     "data": {
      "image/png": "[encoded data removed]",
      "text/plain": [
       "<Figure size 432x288 with 1 Axes>"
      ]
     },
     "metadata": {
      "needs_background": "light"
     },
     "output_type": "display_data"
    },
    {
     "data": {
      "image/png": "[encoded data removed]",
      "text/plain": [
       "<Figure size 432x288 with 1 Axes>"
      ]
     },
     "metadata": {
      "needs_background": "light"
     },
     "output_type": "display_data"
    }
   ],
   "source": [
    "view.plot()\n",
    "viewQ.plot()\n",
    "view2.plot()\n",
    "plt.show()"
   ]
  },
  {
   "cell_type": "code",
   "execution_count": 78,
   "metadata": {},
   "outputs": [],
   "source": [
    "import numpy as np\n",
    "import pandas as pd\n",
    "import matplotlib.pyplot as plt\n",
    "#view"
   ]
  },
  {
   "cell_type": "code",
   "execution_count": 79,
   "metadata": {},
   "outputs": [],
   "source": [
    "\n",
    "x = range(len(view2))\n",
    "y = view2[\"percentage_climate\"].values\n"
   ]
  },
  {
   "cell_type": "code",
   "execution_count": 80,
   "metadata": {},
   "outputs": [
    {
     "data": {
      "text/plain": [
       "array([ 8.62619808,  6.03825137,  5.73248408,  8.09716599,  6.26865672,\n",
       "        6.23145401,  4.32569975,  8.01217039, 13.14741036,  8.09409888,\n",
       "        8.5106383 ])"
      ]
     },
     "execution_count": 80,
     "metadata": {},
     "output_type": "execute_result"
    }
   ],
   "source": [
    "y"
   ]
  },
  {
   "cell_type": "code",
   "execution_count": 89,
   "metadata": {},
   "outputs": [
    {
     "data": {
      "image/png": "[encoded data removed]",
      "text/plain": [
       "<Figure size 432x288 with 1 Axes>"
      ]
     },
     "metadata": {
      "needs_background": "light"
     },
     "output_type": "display_data"
    }
   ],
   "source": [
    "\n",
    "model1 = np.poly1d(np.polyfit(x, y, 1))\n",
    "model2 = np.poly1d(np.polyfit(x, y, 2))\n",
    "model3 = np.poly1d(np.polyfit(x, y, 3))\n",
    "model4 = np.poly1d(np.polyfit(x, y, 4))\n",
    "model5 = np.poly1d(np.polyfit(x, y, 5))\n",
    "\n",
    "plt.scatter(x,y,color=\"red\")\n",
    "plt.title(\"Scatter Plot of the data\")\n",
    "plt.xlabel(\"X\")\n",
    "plt.ylabel(\"Y\")\n",
    "\n",
    "#create scatterplot\n",
    "polyline = np.linspace(0, 10, 50)\n",
    "plt.scatter(x, y)\n",
    "\n",
    "#add fitted polynomial lines to scatterplot \n",
    "plt.plot(polyline, model1(polyline), color='green')\n",
    "#plt.plot(polyline, model2(polyline), color='red')\n",
    "#plt.plot(polyline, model3(polyline), color='purple')\n",
    "plt.plot(polyline, model4(polyline), color='blue')\n",
    "#plt.plot(polyline, model5(polyline), color='orange')\n",
    "plt.xticks(x, view2.index, rotation ='vertical')\n",
    "plt.show()"
   ]
  },
  {
   "cell_type": "code",
   "execution_count": 171,
   "metadata": {},
   "outputs": [],
   "source": [
    "## 2012-2022\n",
    "import numpy as np\n",
    "import pandas as pd\n",
    "import matplotlib.pyplot as plt\n",
    "\n",
    "df_2012 = df[df[\"date\"]>='2012-01-01']\n",
    "#df_2012"
   ]
  },
  {
   "cell_type": "code",
   "execution_count": 172,
   "metadata": {},
   "outputs": [
    {
     "data": {
      "text/html": [
       "<div>\n",
       "<style scoped>\n",
       "    .dataframe tbody tr th:only-of-type {\n",
       "        vertical-align: middle;\n",
       "    }\n",
       "\n",
       "    .dataframe tbody tr th {\n",
       "        vertical-align: top;\n",
       "    }\n",
       "\n",
       "    .dataframe thead th {\n",
       "        text-align: right;\n",
       "    }\n",
       "</style>\n",
       "<table border=\"1\" class=\"dataframe\">\n",
       "  <thead>\n",
       "    <tr style=\"text-align: right;\">\n",
       "      <th></th>\n",
       "      <th>percentage_climate</th>\n",
       "    </tr>\n",
       "    <tr>\n",
       "      <th>date</th>\n",
       "      <th></th>\n",
       "    </tr>\n",
       "  </thead>\n",
       "  <tbody>\n",
       "    <tr>\n",
       "      <th>2012</th>\n",
       "      <td>8.626198</td>\n",
       "    </tr>\n",
       "    <tr>\n",
       "      <th>2013</th>\n",
       "      <td>6.038251</td>\n",
       "    </tr>\n",
       "    <tr>\n",
       "      <th>2014</th>\n",
       "      <td>5.732484</td>\n",
       "    </tr>\n",
       "    <tr>\n",
       "      <th>2015</th>\n",
       "      <td>8.097166</td>\n",
       "    </tr>\n",
       "    <tr>\n",
       "      <th>2016</th>\n",
       "      <td>6.268657</td>\n",
       "    </tr>\n",
       "    <tr>\n",
       "      <th>2017</th>\n",
       "      <td>6.231454</td>\n",
       "    </tr>\n",
       "    <tr>\n",
       "      <th>2018</th>\n",
       "      <td>4.325700</td>\n",
       "    </tr>\n",
       "    <tr>\n",
       "      <th>2019</th>\n",
       "      <td>8.012170</td>\n",
       "    </tr>\n",
       "    <tr>\n",
       "      <th>2020</th>\n",
       "      <td>13.147410</td>\n",
       "    </tr>\n",
       "    <tr>\n",
       "      <th>2021</th>\n",
       "      <td>8.094099</td>\n",
       "    </tr>\n",
       "    <tr>\n",
       "      <th>2022</th>\n",
       "      <td>8.510638</td>\n",
       "    </tr>\n",
       "  </tbody>\n",
       "</table>\n",
       "</div>"
      ],
      "text/plain": [
       "      percentage_climate\n",
       "date                    \n",
       "2012            8.626198\n",
       "2013            6.038251\n",
       "2014            5.732484\n",
       "2015            8.097166\n",
       "2016            6.268657\n",
       "2017            6.231454\n",
       "2018            4.325700\n",
       "2019            8.012170\n",
       "2020           13.147410\n",
       "2021            8.094099\n",
       "2022            8.510638"
      ]
     },
     "execution_count": 172,
     "metadata": {},
     "output_type": "execute_result"
    }
   ],
   "source": [
    "\n",
    "yearly2 = df_2012.groupby(df_2012['date'].dt.to_period('Y')).agg({'climate': 'sum', 'non-climate':'sum'})\n",
    "yearly2['percentage_climate'] = yearly2.apply(lambda x: (x['climate']/(x['climate']+x['non-climate']))*100, axis=1)\n",
    "\n",
    "view2012 = pd.DataFrame(yearly2.drop(columns=['climate', 'non-climate']))\n",
    "view2012"
   ]
  },
  {
   "cell_type": "code",
   "execution_count": 173,
   "metadata": {},
   "outputs": [
    {
     "data": {
      "image/png": "[encoded data removed]",
      "text/plain": [
       "<Figure size 432x288 with 1 Axes>"
      ]
     },
     "metadata": {
      "needs_background": "light"
     },
     "output_type": "display_data"
    }
   ],
   "source": [
    "x = range(len(view2012))\n",
    "y = view2012[\"percentage_climate\"].values\n",
    "\n",
    "model1 = np.poly1d(np.polyfit(x, y, 1))\n",
    "model2 = np.poly1d(np.polyfit(x, y, 2))\n",
    "model3 = np.poly1d(np.polyfit(x, y, 3))\n",
    "model4 = np.poly1d(np.polyfit(x, y, 4))\n",
    "model5 = np.poly1d(np.polyfit(x, y, 5))\n",
    "\n",
    "plt.scatter(x,y,color=\"red\")\n",
    "plt.title(\"Scatter Plot of the data\")\n",
    "plt.xlabel(\"X\")\n",
    "plt.ylabel(\"Y\")\n",
    "\n",
    "#create scatterplot\n",
    "polyline = np.linspace(0, 10, 50)\n",
    "plt.scatter(x, y)\n",
    "\n",
    "#add fitted polynomial lines to scatterplot \n",
    "plt.plot(polyline, model1(polyline), color='green')\n",
    "#plt.plot(polyline, model2(polyline), color='red')\n",
    "plt.plot(polyline, model3(polyline), color='purple')\n",
    "#plt.plot(polyline, model4(polyline), color='blue')\n",
    "#plt.plot(polyline, model5(polyline), color='orange')\n",
    "plt.show()"
   ]
  },
  {
   "cell_type": "markdown",
   "metadata": {},
   "source": [
    "## Consensus and \"pro\""
   ]
  },
  {
   "cell_type": "code",
   "execution_count": 18,
   "metadata": {},
   "outputs": [
    {
     "data": {
      "text/html": [
       "<div>\n",
       "<style scoped>\n",
       "    .dataframe tbody tr th:only-of-type {\n",
       "        vertical-align: middle;\n",
       "    }\n",
       "\n",
       "    .dataframe tbody tr th {\n",
       "        vertical-align: top;\n",
       "    }\n",
       "\n",
       "    .dataframe thead th {\n",
       "        text-align: right;\n",
       "    }\n",
       "</style>\n",
       "<table border=\"1\" class=\"dataframe\">\n",
       "  <thead>\n",
       "    <tr style=\"text-align: right;\">\n",
       "      <th></th>\n",
       "      <th>party</th>\n",
       "      <th>politician</th>\n",
       "      <th>vote</th>\n",
       "      <th>description</th>\n",
       "      <th>date</th>\n",
       "      <th>vote_id</th>\n",
       "      <th>y_pred</th>\n",
       "      <th>vote_id2</th>\n",
       "      <th>climate</th>\n",
       "      <th>non-climate</th>\n",
       "    </tr>\n",
       "  </thead>\n",
       "  <tbody>\n",
       "    <tr>\n",
       "      <th>174</th>\n",
       "      <td>Alternativet (ALT)</td>\n",
       "      <td>Ulla Sandbæk</td>\n",
       "      <td>For</td>\n",
       "      <td>Formålet med lovforslaget er at gøre reglerne ...</td>\n",
       "      <td>2018-12-27</td>\n",
       "      <td>Afstemning nr. 124, 2018-19 (1. samling)</td>\n",
       "      <td>non-climate</td>\n",
       "      <td>233</td>\n",
       "      <td>0</td>\n",
       "      <td>1</td>\n",
       "    </tr>\n",
       "    <tr>\n",
       "      <th>121</th>\n",
       "      <td>Socialdemokratiet (S)</td>\n",
       "      <td>Morten Bødskov</td>\n",
       "      <td>Fraværende</td>\n",
       "      <td>Lovens hovedformål er at sikre, at der forelig...</td>\n",
       "      <td>2010-05-26</td>\n",
       "      <td>Afstemning nr. 335, 2009-10</td>\n",
       "      <td>non-climate</td>\n",
       "      <td>3011</td>\n",
       "      <td>0</td>\n",
       "      <td>1</td>\n",
       "    </tr>\n",
       "    <tr>\n",
       "      <th>72</th>\n",
       "      <td>Socialdemokratiet (S)</td>\n",
       "      <td>John Dyrby Paulsen</td>\n",
       "      <td>Fraværende</td>\n",
       "      <td>Folketingsbeslutningen sikrer Folketingets sam...</td>\n",
       "      <td>2014-12-18</td>\n",
       "      <td>Afstemning nr. 175, 2014-15 (1. samling)</td>\n",
       "      <td>non-climate</td>\n",
       "      <td>728</td>\n",
       "      <td>0</td>\n",
       "      <td>1</td>\n",
       "    </tr>\n",
       "  </tbody>\n",
       "</table>\n",
       "</div>"
      ],
      "text/plain": [
       "                     party          politician        vote  \\\n",
       "174     Alternativet (ALT)        Ulla Sandbæk         For   \n",
       "121  Socialdemokratiet (S)      Morten Bødskov  Fraværende   \n",
       "72   Socialdemokratiet (S)  John Dyrby Paulsen  Fraværende   \n",
       "\n",
       "                                           description       date  \\\n",
       "174  Formålet med lovforslaget er at gøre reglerne ... 2018-12-27   \n",
       "121  Lovens hovedformål er at sikre, at der forelig... 2010-05-26   \n",
       "72   Folketingsbeslutningen sikrer Folketingets sam... 2014-12-18   \n",
       "\n",
       "                                      vote_id       y_pred  vote_id2  climate  \\\n",
       "174  Afstemning nr. 124, 2018-19 (1. samling)  non-climate       233        0   \n",
       "121               Afstemning nr. 335, 2009-10  non-climate      3011        0   \n",
       "72   Afstemning nr. 175, 2014-15 (1. samling)  non-climate       728        0   \n",
       "\n",
       "     non-climate  \n",
       "174            1  \n",
       "121            1  \n",
       "72             1  "
      ]
     },
     "execution_count": 18,
     "metadata": {},
     "output_type": "execute_result"
    }
   ],
   "source": [
    "df.sample(3)"
   ]
  },
  {
   "cell_type": "code",
   "execution_count": 19,
   "metadata": {},
   "outputs": [
    {
     "name": "stdout",
     "output_type": "stream",
     "text": [
      "969642\n",
      "933876\n"
     ]
    },
    {
     "data": {
      "text/html": [
       "<div>\n",
       "<style scoped>\n",
       "    .dataframe tbody tr th:only-of-type {\n",
       "        vertical-align: middle;\n",
       "    }\n",
       "\n",
       "    .dataframe tbody tr th {\n",
       "        vertical-align: top;\n",
       "    }\n",
       "\n",
       "    .dataframe thead th {\n",
       "        text-align: right;\n",
       "    }\n",
       "</style>\n",
       "<table border=\"1\" class=\"dataframe\">\n",
       "  <thead>\n",
       "    <tr style=\"text-align: right;\">\n",
       "      <th></th>\n",
       "      <th>party</th>\n",
       "      <th>politician</th>\n",
       "      <th>vote</th>\n",
       "      <th>description</th>\n",
       "      <th>date</th>\n",
       "      <th>vote_id</th>\n",
       "      <th>y_pred</th>\n",
       "      <th>vote_id2</th>\n",
       "      <th>climate</th>\n",
       "      <th>non-climate</th>\n",
       "    </tr>\n",
       "  </thead>\n",
       "  <tbody>\n",
       "    <tr>\n",
       "      <th>1</th>\n",
       "      <td>Dansk Folkeparti (DF)</td>\n",
       "      <td>Alex Ahrendtsen</td>\n",
       "      <td>For</td>\n",
       "      <td>Forslaget går ud på at lovfæste klippekortordn...</td>\n",
       "      <td>2022-03-15</td>\n",
       "      <td>Afstemning nr. 320, 2021-22</td>\n",
       "      <td>non-climate</td>\n",
       "      <td>2821</td>\n",
       "      <td>0</td>\n",
       "      <td>1</td>\n",
       "    </tr>\n",
       "    <tr>\n",
       "      <th>2</th>\n",
       "      <td>Liberal Alliance (LA)</td>\n",
       "      <td>Alex Vanopslagh</td>\n",
       "      <td>Fraværende</td>\n",
       "      <td>Forslaget går ud på at lovfæste klippekortordn...</td>\n",
       "      <td>2022-03-15</td>\n",
       "      <td>Afstemning nr. 320, 2021-22</td>\n",
       "      <td>non-climate</td>\n",
       "      <td>2821</td>\n",
       "      <td>0</td>\n",
       "      <td>1</td>\n",
       "    </tr>\n",
       "    <tr>\n",
       "      <th>3</th>\n",
       "      <td>Socialdemokratiet (S)</td>\n",
       "      <td>Anders Kronborg</td>\n",
       "      <td>Imod</td>\n",
       "      <td>Forslaget går ud på at lovfæste klippekortordn...</td>\n",
       "      <td>2022-03-15</td>\n",
       "      <td>Afstemning nr. 320, 2021-22</td>\n",
       "      <td>non-climate</td>\n",
       "      <td>2821</td>\n",
       "      <td>0</td>\n",
       "      <td>1</td>\n",
       "    </tr>\n",
       "    <tr>\n",
       "      <th>4</th>\n",
       "      <td>Det Radikale Venstre (RV)</td>\n",
       "      <td>Andreas Steenberg</td>\n",
       "      <td>Imod</td>\n",
       "      <td>Forslaget går ud på at lovfæste klippekortordn...</td>\n",
       "      <td>2022-03-15</td>\n",
       "      <td>Afstemning nr. 320, 2021-22</td>\n",
       "      <td>non-climate</td>\n",
       "      <td>2821</td>\n",
       "      <td>0</td>\n",
       "      <td>1</td>\n",
       "    </tr>\n",
       "    <tr>\n",
       "      <th>5</th>\n",
       "      <td>Socialdemokratiet (S)</td>\n",
       "      <td>Ane Halsboe-Jørgensen</td>\n",
       "      <td>Fraværende</td>\n",
       "      <td>Forslaget går ud på at lovfæste klippekortordn...</td>\n",
       "      <td>2022-03-15</td>\n",
       "      <td>Afstemning nr. 320, 2021-22</td>\n",
       "      <td>non-climate</td>\n",
       "      <td>2821</td>\n",
       "      <td>0</td>\n",
       "      <td>1</td>\n",
       "    </tr>\n",
       "    <tr>\n",
       "      <th>...</th>\n",
       "      <td>...</td>\n",
       "      <td>...</td>\n",
       "      <td>...</td>\n",
       "      <td>...</td>\n",
       "      <td>...</td>\n",
       "      <td>...</td>\n",
       "      <td>...</td>\n",
       "      <td>...</td>\n",
       "      <td>...</td>\n",
       "      <td>...</td>\n",
       "    </tr>\n",
       "    <tr>\n",
       "      <th>174</th>\n",
       "      <td>Venstre (V)</td>\n",
       "      <td>Ulrik Kragh</td>\n",
       "      <td>Fraværende</td>\n",
       "      <td>Idet Folketinget konstaterer,- at aftalen mell...</td>\n",
       "      <td>2004-10-07</td>\n",
       "      <td>Afstemning nr. 2, 2004-05 (1. samling)</td>\n",
       "      <td>non-climate</td>\n",
       "      <td>1035</td>\n",
       "      <td>0</td>\n",
       "      <td>1</td>\n",
       "    </tr>\n",
       "    <tr>\n",
       "      <th>175</th>\n",
       "      <td>Dansk Folkeparti (DF)</td>\n",
       "      <td>Uno Larsson</td>\n",
       "      <td>Fraværende</td>\n",
       "      <td>Idet Folketinget konstaterer,- at aftalen mell...</td>\n",
       "      <td>2004-10-07</td>\n",
       "      <td>Afstemning nr. 2, 2004-05 (1. samling)</td>\n",
       "      <td>non-climate</td>\n",
       "      <td>1035</td>\n",
       "      <td>0</td>\n",
       "      <td>1</td>\n",
       "    </tr>\n",
       "    <tr>\n",
       "      <th>176</th>\n",
       "      <td>Socialistisk Folkeparti (SF)</td>\n",
       "      <td>Villy Søvndal</td>\n",
       "      <td>For</td>\n",
       "      <td>Idet Folketinget konstaterer,- at aftalen mell...</td>\n",
       "      <td>2004-10-07</td>\n",
       "      <td>Afstemning nr. 2, 2004-05 (1. samling)</td>\n",
       "      <td>non-climate</td>\n",
       "      <td>1035</td>\n",
       "      <td>0</td>\n",
       "      <td>1</td>\n",
       "    </tr>\n",
       "    <tr>\n",
       "      <th>177</th>\n",
       "      <td>Socialistisk Folkeparti (SF)</td>\n",
       "      <td>Aage Frandsen</td>\n",
       "      <td>For</td>\n",
       "      <td>Idet Folketinget konstaterer,- at aftalen mell...</td>\n",
       "      <td>2004-10-07</td>\n",
       "      <td>Afstemning nr. 2, 2004-05 (1. samling)</td>\n",
       "      <td>non-climate</td>\n",
       "      <td>1035</td>\n",
       "      <td>0</td>\n",
       "      <td>1</td>\n",
       "    </tr>\n",
       "    <tr>\n",
       "      <th>178</th>\n",
       "      <td>Dansk Folkeparti (DF)</td>\n",
       "      <td>Aase D. Madsen</td>\n",
       "      <td>Fraværende</td>\n",
       "      <td>Idet Folketinget konstaterer,- at aftalen mell...</td>\n",
       "      <td>2004-10-07</td>\n",
       "      <td>Afstemning nr. 2, 2004-05 (1. samling)</td>\n",
       "      <td>non-climate</td>\n",
       "      <td>1035</td>\n",
       "      <td>0</td>\n",
       "      <td>1</td>\n",
       "    </tr>\n",
       "  </tbody>\n",
       "</table>\n",
       "<p>933876 rows × 10 columns</p>\n",
       "</div>"
      ],
      "text/plain": [
       "                            party             politician        vote  \\\n",
       "1           Dansk Folkeparti (DF)        Alex Ahrendtsen         For   \n",
       "2           Liberal Alliance (LA)        Alex Vanopslagh  Fraværende   \n",
       "3           Socialdemokratiet (S)        Anders Kronborg        Imod   \n",
       "4       Det Radikale Venstre (RV)      Andreas Steenberg        Imod   \n",
       "5           Socialdemokratiet (S)  Ane Halsboe-Jørgensen  Fraværende   \n",
       "..                            ...                    ...         ...   \n",
       "174                   Venstre (V)            Ulrik Kragh  Fraværende   \n",
       "175         Dansk Folkeparti (DF)            Uno Larsson  Fraværende   \n",
       "176  Socialistisk Folkeparti (SF)          Villy Søvndal         For   \n",
       "177  Socialistisk Folkeparti (SF)          Aage Frandsen         For   \n",
       "178         Dansk Folkeparti (DF)         Aase D. Madsen  Fraværende   \n",
       "\n",
       "                                           description       date  \\\n",
       "1    Forslaget går ud på at lovfæste klippekortordn... 2022-03-15   \n",
       "2    Forslaget går ud på at lovfæste klippekortordn... 2022-03-15   \n",
       "3    Forslaget går ud på at lovfæste klippekortordn... 2022-03-15   \n",
       "4    Forslaget går ud på at lovfæste klippekortordn... 2022-03-15   \n",
       "5    Forslaget går ud på at lovfæste klippekortordn... 2022-03-15   \n",
       "..                                                 ...        ...   \n",
       "174  Idet Folketinget konstaterer,- at aftalen mell... 2004-10-07   \n",
       "175  Idet Folketinget konstaterer,- at aftalen mell... 2004-10-07   \n",
       "176  Idet Folketinget konstaterer,- at aftalen mell... 2004-10-07   \n",
       "177  Idet Folketinget konstaterer,- at aftalen mell... 2004-10-07   \n",
       "178  Idet Folketinget konstaterer,- at aftalen mell... 2004-10-07   \n",
       "\n",
       "                                    vote_id       y_pred  vote_id2  climate  \\\n",
       "1               Afstemning nr. 320, 2021-22  non-climate      2821        0   \n",
       "2               Afstemning nr. 320, 2021-22  non-climate      2821        0   \n",
       "3               Afstemning nr. 320, 2021-22  non-climate      2821        0   \n",
       "4               Afstemning nr. 320, 2021-22  non-climate      2821        0   \n",
       "5               Afstemning nr. 320, 2021-22  non-climate      2821        0   \n",
       "..                                      ...          ...       ...      ...   \n",
       "174  Afstemning nr. 2, 2004-05 (1. samling)  non-climate      1035        0   \n",
       "175  Afstemning nr. 2, 2004-05 (1. samling)  non-climate      1035        0   \n",
       "176  Afstemning nr. 2, 2004-05 (1. samling)  non-climate      1035        0   \n",
       "177  Afstemning nr. 2, 2004-05 (1. samling)  non-climate      1035        0   \n",
       "178  Afstemning nr. 2, 2004-05 (1. samling)  non-climate      1035        0   \n",
       "\n",
       "     non-climate  \n",
       "1              1  \n",
       "2              1  \n",
       "3              1  \n",
       "4              1  \n",
       "5              1  \n",
       "..           ...  \n",
       "174            1  \n",
       "175            1  \n",
       "176            1  \n",
       "177            1  \n",
       "178            1  \n",
       "\n",
       "[933876 rows x 10 columns]"
      ]
     },
     "execution_count": 19,
     "metadata": {},
     "output_type": "execute_result"
    }
   ],
   "source": [
    "parties_selection = [\"Socialdemokratiet (S)\", \"Venstre (V)\", \"Socialistisk Folkeparti (SF)\", \"Det Konservative Folkeparti (KF)\", \"Dansk Folkeparti (DF)\", \"Enhedslisten (EL)\"\n",
    "                    ,\"Det Radikale Venstre (RV)\", \"Alternativet (ALT)\", \"Liberal Alliance (LA)\"]\n",
    "print(len(df))\n",
    "df_selection = df[df[\"party\"].isin(parties_selection)]\n",
    "df_selection\n",
    "print(len(df_selection))\n",
    "df_selection"
   ]
  },
  {
   "cell_type": "code",
   "execution_count": 21,
   "metadata": {},
   "outputs": [
    {
     "ename": "KeyError",
     "evalue": "\"None of [Index(['For', 'Neutral', 'Against', 'Absent'], dtype='object')] are in the [columns]\"",
     "output_type": "error",
     "traceback": [
      "\u001b[1;31m---------------------------------------------------------------------------\u001b[0m",
      "\u001b[1;31mKeyError\u001b[0m                                  Traceback (most recent call last)",
      "\u001b[1;32mc:\\Users\\COBOD\\OneDrive\\CBS doku\\ITU\\4semester\\finalRepo\\Vote-Prediction-Model\\data_analysis\\votes_exploration.ipynb Cell 21'\u001b[0m in \u001b[0;36m<module>\u001b[1;34m\u001b[0m\n\u001b[1;32m----> <a href='vscode-notebook-cell:/c%3A/Users/COBOD/OneDrive/CBS%20doku/ITU/4semester/finalRepo/Vote-Prediction-Model/data_analysis/votes_exploration.ipynb#ch0000020?line=0'>1</a>\u001b[0m df_agree \u001b[39m=\u001b[39m df_selection\u001b[39m.\u001b[39;49mgroupby([\u001b[39m\"\u001b[39;49m\u001b[39mparty\u001b[39;49m\u001b[39m\"\u001b[39;49m,\u001b[39m\"\u001b[39;49m\u001b[39mclimate\u001b[39;49m\u001b[39m\"\u001b[39;49m])\u001b[39m.\u001b[39;49msum()[[\u001b[39m\"\u001b[39;49m\u001b[39mFor\u001b[39;49m\u001b[39m\"\u001b[39;49m, \u001b[39m\"\u001b[39;49m\u001b[39mNeutral\u001b[39;49m\u001b[39m\"\u001b[39;49m, \u001b[39m\"\u001b[39;49m\u001b[39mAgainst\u001b[39;49m\u001b[39m\"\u001b[39;49m, \u001b[39m\"\u001b[39;49m\u001b[39mAbsent\u001b[39;49m\u001b[39m\"\u001b[39;49m]]\n\u001b[0;32m      <a href='vscode-notebook-cell:/c%3A/Users/COBOD/OneDrive/CBS%20doku/ITU/4semester/finalRepo/Vote-Prediction-Model/data_analysis/votes_exploration.ipynb#ch0000020?line=1'>2</a>\u001b[0m df_agree\n\u001b[0;32m      <a href='vscode-notebook-cell:/c%3A/Users/COBOD/OneDrive/CBS%20doku/ITU/4semester/finalRepo/Vote-Prediction-Model/data_analysis/votes_exploration.ipynb#ch0000020?line=3'>4</a>\u001b[0m df_agree[\u001b[39m\"\u001b[39m\u001b[39mTotal\u001b[39m\u001b[39m\"\u001b[39m] \u001b[39m=\u001b[39m df_agree[\u001b[39m\"\u001b[39m\u001b[39mFor\u001b[39m\u001b[39m\"\u001b[39m]\u001b[39m+\u001b[39mdf_agree[\u001b[39m\"\u001b[39m\u001b[39mAgainst\u001b[39m\u001b[39m\"\u001b[39m]\u001b[39m+\u001b[39mdf_agree[\u001b[39m\"\u001b[39m\u001b[39mNeutral\u001b[39m\u001b[39m\"\u001b[39m]\n",
      "File \u001b[1;32m~\\AppData\\Local\\Programs\\Python\\Python39\\lib\\site-packages\\pandas\\core\\frame.py:3464\u001b[0m, in \u001b[0;36mDataFrame.__getitem__\u001b[1;34m(self, key)\u001b[0m\n\u001b[0;32m   <a href='file:///c%3A/Users/COBOD/AppData/Local/Programs/Python/Python39/lib/site-packages/pandas/core/frame.py?line=3461'>3462</a>\u001b[0m     \u001b[39mif\u001b[39;00m is_iterator(key):\n\u001b[0;32m   <a href='file:///c%3A/Users/COBOD/AppData/Local/Programs/Python/Python39/lib/site-packages/pandas/core/frame.py?line=3462'>3463</a>\u001b[0m         key \u001b[39m=\u001b[39m \u001b[39mlist\u001b[39m(key)\n\u001b[1;32m-> <a href='file:///c%3A/Users/COBOD/AppData/Local/Programs/Python/Python39/lib/site-packages/pandas/core/frame.py?line=3463'>3464</a>\u001b[0m     indexer \u001b[39m=\u001b[39m \u001b[39mself\u001b[39;49m\u001b[39m.\u001b[39;49mloc\u001b[39m.\u001b[39;49m_get_listlike_indexer(key, axis\u001b[39m=\u001b[39;49m\u001b[39m1\u001b[39;49m)[\u001b[39m1\u001b[39m]\n\u001b[0;32m   <a href='file:///c%3A/Users/COBOD/AppData/Local/Programs/Python/Python39/lib/site-packages/pandas/core/frame.py?line=3465'>3466</a>\u001b[0m \u001b[39m# take() does not accept boolean indexers\u001b[39;00m\n\u001b[0;32m   <a href='file:///c%3A/Users/COBOD/AppData/Local/Programs/Python/Python39/lib/site-packages/pandas/core/frame.py?line=3466'>3467</a>\u001b[0m \u001b[39mif\u001b[39;00m \u001b[39mgetattr\u001b[39m(indexer, \u001b[39m\"\u001b[39m\u001b[39mdtype\u001b[39m\u001b[39m\"\u001b[39m, \u001b[39mNone\u001b[39;00m) \u001b[39m==\u001b[39m \u001b[39mbool\u001b[39m:\n",
      "File \u001b[1;32m~\\AppData\\Local\\Programs\\Python\\Python39\\lib\\site-packages\\pandas\\core\\indexing.py:1314\u001b[0m, in \u001b[0;36m_LocIndexer._get_listlike_indexer\u001b[1;34m(self, key, axis)\u001b[0m\n\u001b[0;32m   <a href='file:///c%3A/Users/COBOD/AppData/Local/Programs/Python/Python39/lib/site-packages/pandas/core/indexing.py?line=1310'>1311</a>\u001b[0m \u001b[39melse\u001b[39;00m:\n\u001b[0;32m   <a href='file:///c%3A/Users/COBOD/AppData/Local/Programs/Python/Python39/lib/site-packages/pandas/core/indexing.py?line=1311'>1312</a>\u001b[0m     keyarr, indexer, new_indexer \u001b[39m=\u001b[39m ax\u001b[39m.\u001b[39m_reindex_non_unique(keyarr)\n\u001b[1;32m-> <a href='file:///c%3A/Users/COBOD/AppData/Local/Programs/Python/Python39/lib/site-packages/pandas/core/indexing.py?line=1313'>1314</a>\u001b[0m \u001b[39mself\u001b[39;49m\u001b[39m.\u001b[39;49m_validate_read_indexer(keyarr, indexer, axis)\n\u001b[0;32m   <a href='file:///c%3A/Users/COBOD/AppData/Local/Programs/Python/Python39/lib/site-packages/pandas/core/indexing.py?line=1315'>1316</a>\u001b[0m \u001b[39mif\u001b[39;00m needs_i8_conversion(ax\u001b[39m.\u001b[39mdtype) \u001b[39mor\u001b[39;00m \u001b[39misinstance\u001b[39m(\n\u001b[0;32m   <a href='file:///c%3A/Users/COBOD/AppData/Local/Programs/Python/Python39/lib/site-packages/pandas/core/indexing.py?line=1316'>1317</a>\u001b[0m     ax, (IntervalIndex, CategoricalIndex)\n\u001b[0;32m   <a href='file:///c%3A/Users/COBOD/AppData/Local/Programs/Python/Python39/lib/site-packages/pandas/core/indexing.py?line=1317'>1318</a>\u001b[0m ):\n\u001b[0;32m   <a href='file:///c%3A/Users/COBOD/AppData/Local/Programs/Python/Python39/lib/site-packages/pandas/core/indexing.py?line=1318'>1319</a>\u001b[0m     \u001b[39m# For CategoricalIndex take instead of reindex to preserve dtype.\u001b[39;00m\n\u001b[0;32m   <a href='file:///c%3A/Users/COBOD/AppData/Local/Programs/Python/Python39/lib/site-packages/pandas/core/indexing.py?line=1319'>1320</a>\u001b[0m     \u001b[39m#  For IntervalIndex this is to map integers to the Intervals they match to.\u001b[39;00m\n\u001b[0;32m   <a href='file:///c%3A/Users/COBOD/AppData/Local/Programs/Python/Python39/lib/site-packages/pandas/core/indexing.py?line=1320'>1321</a>\u001b[0m     keyarr \u001b[39m=\u001b[39m ax\u001b[39m.\u001b[39mtake(indexer)\n",
      "File \u001b[1;32m~\\AppData\\Local\\Programs\\Python\\Python39\\lib\\site-packages\\pandas\\core\\indexing.py:1374\u001b[0m, in \u001b[0;36m_LocIndexer._validate_read_indexer\u001b[1;34m(self, key, indexer, axis)\u001b[0m\n\u001b[0;32m   <a href='file:///c%3A/Users/COBOD/AppData/Local/Programs/Python/Python39/lib/site-packages/pandas/core/indexing.py?line=1371'>1372</a>\u001b[0m     \u001b[39mif\u001b[39;00m use_interval_msg:\n\u001b[0;32m   <a href='file:///c%3A/Users/COBOD/AppData/Local/Programs/Python/Python39/lib/site-packages/pandas/core/indexing.py?line=1372'>1373</a>\u001b[0m         key \u001b[39m=\u001b[39m \u001b[39mlist\u001b[39m(key)\n\u001b[1;32m-> <a href='file:///c%3A/Users/COBOD/AppData/Local/Programs/Python/Python39/lib/site-packages/pandas/core/indexing.py?line=1373'>1374</a>\u001b[0m     \u001b[39mraise\u001b[39;00m \u001b[39mKeyError\u001b[39;00m(\u001b[39mf\u001b[39m\u001b[39m\"\u001b[39m\u001b[39mNone of [\u001b[39m\u001b[39m{\u001b[39;00mkey\u001b[39m}\u001b[39;00m\u001b[39m] are in the [\u001b[39m\u001b[39m{\u001b[39;00maxis_name\u001b[39m}\u001b[39;00m\u001b[39m]\u001b[39m\u001b[39m\"\u001b[39m)\n\u001b[0;32m   <a href='file:///c%3A/Users/COBOD/AppData/Local/Programs/Python/Python39/lib/site-packages/pandas/core/indexing.py?line=1375'>1376</a>\u001b[0m not_found \u001b[39m=\u001b[39m \u001b[39mlist\u001b[39m(ensure_index(key)[missing_mask\u001b[39m.\u001b[39mnonzero()[\u001b[39m0\u001b[39m]]\u001b[39m.\u001b[39munique())\n\u001b[0;32m   <a href='file:///c%3A/Users/COBOD/AppData/Local/Programs/Python/Python39/lib/site-packages/pandas/core/indexing.py?line=1376'>1377</a>\u001b[0m \u001b[39mraise\u001b[39;00m \u001b[39mKeyError\u001b[39;00m(\u001b[39mf\u001b[39m\u001b[39m\"\u001b[39m\u001b[39m{\u001b[39;00mnot_found\u001b[39m}\u001b[39;00m\u001b[39m not in index\u001b[39m\u001b[39m\"\u001b[39m)\n",
      "\u001b[1;31mKeyError\u001b[0m: \"None of [Index(['For', 'Neutral', 'Against', 'Absent'], dtype='object')] are in the [columns]\""
     ]
    }
   ],
   "source": [
    "df_agree = df_selection.groupby([\"party\",\"climate\"]).sum()[[\"For\", \"Neutral\", \"Against\", \"Absent\"]]\n",
    "df_agree\n",
    "\n",
    "df_agree[\"Total\"] = df_agree[\"For\"]+df_agree[\"Against\"]+df_agree[\"Neutral\"]\n",
    "df_agree[\"Agree\"] = df_agree[\"For\"]/df_agree[\"Total\"]\n",
    "df_agree[\"Neutrality\"] = df_agree[\"Neutral\"]/df_agree[\"Total\"]\n",
    "df_agree[\"Disagree\"] = df_agree[\"Against\"]/df_agree[\"Total\"]\n",
    "df_agree[\"Absence\"] = df_agree[\"Absent\"]/df_agree[\"Total\"]\n",
    "df_agree"
   ]
  },
  {
   "cell_type": "code",
   "execution_count": 93,
   "metadata": {},
   "outputs": [
    {
     "data": {
      "text/html": [
       "<div>\n",
       "<style scoped>\n",
       "    .dataframe tbody tr th:only-of-type {\n",
       "        vertical-align: middle;\n",
       "    }\n",
       "\n",
       "    .dataframe tbody tr th {\n",
       "        vertical-align: top;\n",
       "    }\n",
       "\n",
       "    .dataframe thead th {\n",
       "        text-align: right;\n",
       "    }\n",
       "</style>\n",
       "<table border=\"1\" class=\"dataframe\">\n",
       "  <thead>\n",
       "    <tr style=\"text-align: right;\">\n",
       "      <th></th>\n",
       "      <th>For</th>\n",
       "      <th>Neutral</th>\n",
       "      <th>Against</th>\n",
       "      <th>Absent</th>\n",
       "      <th>Total</th>\n",
       "      <th>Agree</th>\n",
       "      <th>Neutrality</th>\n",
       "      <th>Disagree</th>\n",
       "      <th>Absence</th>\n",
       "    </tr>\n",
       "    <tr>\n",
       "      <th>climate</th>\n",
       "      <th></th>\n",
       "      <th></th>\n",
       "      <th></th>\n",
       "      <th></th>\n",
       "      <th></th>\n",
       "      <th></th>\n",
       "      <th></th>\n",
       "      <th></th>\n",
       "      <th></th>\n",
       "    </tr>\n",
       "  </thead>\n",
       "  <tbody>\n",
       "    <tr>\n",
       "      <th>0</th>\n",
       "      <td>379725</td>\n",
       "      <td>10028</td>\n",
       "      <td>142537</td>\n",
       "      <td>336452</td>\n",
       "      <td>532290</td>\n",
       "      <td>0.713380</td>\n",
       "      <td>0.018839</td>\n",
       "      <td>0.267781</td>\n",
       "      <td>0.632084</td>\n",
       "    </tr>\n",
       "    <tr>\n",
       "      <th>1</th>\n",
       "      <td>28246</td>\n",
       "      <td>1470</td>\n",
       "      <td>9793</td>\n",
       "      <td>25625</td>\n",
       "      <td>39509</td>\n",
       "      <td>0.714926</td>\n",
       "      <td>0.037207</td>\n",
       "      <td>0.247868</td>\n",
       "      <td>0.648586</td>\n",
       "    </tr>\n",
       "  </tbody>\n",
       "</table>\n",
       "</div>"
      ],
      "text/plain": [
       "            For  Neutral  Against  Absent   Total     Agree  Neutrality  \\\n",
       "climate                                                                   \n",
       "0        379725    10028   142537  336452  532290  0.713380    0.018839   \n",
       "1         28246     1470     9793   25625   39509  0.714926    0.037207   \n",
       "\n",
       "         Disagree   Absence  \n",
       "climate                      \n",
       "0        0.267781  0.632084  \n",
       "1        0.247868  0.648586  "
      ]
     },
     "execution_count": 93,
     "metadata": {},
     "output_type": "execute_result"
    }
   ],
   "source": [
    "df_agree_all = df_agree[[\"For\", \"Neutral\", \"Against\", \"Absent\"]]\n",
    "df_agree_all = df_agree_all.groupby(\"climate\").sum()\n",
    "\n",
    "df_agree_all[\"Total\"] = df_agree_all[\"For\"]+df_agree_all[\"Against\"]+df_agree_all[\"Neutral\"]\n",
    "df_agree_all[\"Agree\"] = df_agree_all[\"For\"]/df_agree_all[\"Total\"]\n",
    "df_agree_all[\"Neutrality\"] = df_agree_all[\"Neutral\"]/df_agree_all[\"Total\"]\n",
    "df_agree_all[\"Disagree\"] = df_agree_all[\"Against\"]/df_agree_all[\"Total\"]\n",
    "df_agree_all[\"Absence\"] = df_agree_all[\"Absent\"]/df_agree_all[\"Total\"]\n",
    "df_agree_all"
   ]
  },
  {
   "cell_type": "code",
   "execution_count": 94,
   "metadata": {},
   "outputs": [
    {
     "data": {
      "text/html": [
       "<div>\n",
       "<style scoped>\n",
       "    .dataframe tbody tr th:only-of-type {\n",
       "        vertical-align: middle;\n",
       "    }\n",
       "\n",
       "    .dataframe tbody tr th {\n",
       "        vertical-align: top;\n",
       "    }\n",
       "\n",
       "    .dataframe thead th {\n",
       "        text-align: right;\n",
       "    }\n",
       "</style>\n",
       "<table border=\"1\" class=\"dataframe\">\n",
       "  <thead>\n",
       "    <tr style=\"text-align: right;\">\n",
       "      <th></th>\n",
       "      <th>Agree</th>\n",
       "      <th>Neutrality</th>\n",
       "      <th>Disagree</th>\n",
       "      <th>Absence</th>\n",
       "    </tr>\n",
       "  </thead>\n",
       "  <tbody>\n",
       "    <tr>\n",
       "      <th>count</th>\n",
       "      <td>18.000000</td>\n",
       "      <td>18.000000</td>\n",
       "      <td>18.000000</td>\n",
       "      <td>18.000000</td>\n",
       "    </tr>\n",
       "    <tr>\n",
       "      <th>mean</th>\n",
       "      <td>0.692529</td>\n",
       "      <td>0.028538</td>\n",
       "      <td>0.278934</td>\n",
       "      <td>0.662036</td>\n",
       "    </tr>\n",
       "    <tr>\n",
       "      <th>std</th>\n",
       "      <td>0.055835</td>\n",
       "      <td>0.022713</td>\n",
       "      <td>0.058996</td>\n",
       "      <td>0.055853</td>\n",
       "    </tr>\n",
       "    <tr>\n",
       "      <th>min</th>\n",
       "      <td>0.568843</td>\n",
       "      <td>0.002908</td>\n",
       "      <td>0.195703</td>\n",
       "      <td>0.586610</td>\n",
       "    </tr>\n",
       "    <tr>\n",
       "      <th>25%</th>\n",
       "      <td>0.675538</td>\n",
       "      <td>0.012818</td>\n",
       "      <td>0.245170</td>\n",
       "      <td>0.621360</td>\n",
       "    </tr>\n",
       "    <tr>\n",
       "      <th>50%</th>\n",
       "      <td>0.709121</td>\n",
       "      <td>0.023267</td>\n",
       "      <td>0.269264</td>\n",
       "      <td>0.640850</td>\n",
       "    </tr>\n",
       "    <tr>\n",
       "      <th>75%</th>\n",
       "      <td>0.736507</td>\n",
       "      <td>0.036601</td>\n",
       "      <td>0.303642</td>\n",
       "      <td>0.705485</td>\n",
       "    </tr>\n",
       "    <tr>\n",
       "      <th>max</th>\n",
       "      <td>0.753719</td>\n",
       "      <td>0.088560</td>\n",
       "      <td>0.419355</td>\n",
       "      <td>0.757654</td>\n",
       "    </tr>\n",
       "  </tbody>\n",
       "</table>\n",
       "</div>"
      ],
      "text/plain": [
       "           Agree  Neutrality   Disagree    Absence\n",
       "count  18.000000   18.000000  18.000000  18.000000\n",
       "mean    0.692529    0.028538   0.278934   0.662036\n",
       "std     0.055835    0.022713   0.058996   0.055853\n",
       "min     0.568843    0.002908   0.195703   0.586610\n",
       "25%     0.675538    0.012818   0.245170   0.621360\n",
       "50%     0.709121    0.023267   0.269264   0.640850\n",
       "75%     0.736507    0.036601   0.303642   0.705485\n",
       "max     0.753719    0.088560   0.419355   0.757654"
      ]
     },
     "execution_count": 94,
     "metadata": {},
     "output_type": "execute_result"
    }
   ],
   "source": [
    "df_agree[[\"Agree\", \"Neutrality\", \"Disagree\", \"Absence\"]].describe()"
   ]
  },
  {
   "cell_type": "code",
   "execution_count": 97,
   "metadata": {},
   "outputs": [
    {
     "data": {
      "text/plain": [
       "<AxesSubplot:>"
      ]
     },
     "execution_count": 97,
     "metadata": {},
     "output_type": "execute_result"
    },
    {
     "data": {
      "image/png": "[encoded data removed]",
      "text/plain": [
       "<Figure size 432x288 with 1 Axes>"
      ]
     },
     "metadata": {
      "needs_background": "light"
     },
     "output_type": "display_data"
    }
   ],
   "source": [
    "df_agree[[\"Agree\", \"Neutrality\", \"Disagree\", \"Absence\"]].boxplot()"
   ]
  },
  {
   "cell_type": "code",
   "execution_count": null,
   "metadata": {},
   "outputs": [],
   "source": []
  }
 ],
 "metadata": {
  "interpreter": {
   "hash": "6c394272594a68b0a5bd03bbb8469a449c9402c12c87bbd02bc40bbbc1d6f707"
  },
  "kernelspec": {
   "display_name": "Python 3.9.2 64-bit",
   "language": "python",
   "name": "python3"
  },
  "language_info": {
   "codemirror_mode": {
    "name": "ipython",
    "version": 3
   },
   "file_extension": ".py",
   "mimetype": "text/x-python",
   "name": "python",
   "nbconvert_exporter": "python",
   "pygments_lexer": "ipython3",
   "version": "3.9.2"
  },
  "orig_nbformat": 4
 },
 "nbformat": 4,
 "nbformat_minor": 2
}
