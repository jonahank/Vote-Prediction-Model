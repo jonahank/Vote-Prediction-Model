{
 "cells": [
  {
   "cell_type": "code",
   "execution_count": 1,
   "metadata": {},
   "outputs": [],
   "source": [
    "import pandas as pd"
   ]
  },
  {
   "cell_type": "code",
   "execution_count": 6,
   "metadata": {},
   "outputs": [],
   "source": [
    "# the 703 quotes originally labeled\n",
    "original_data = pd.read_csv(\"800_3sent_label703.csv\")\n",
    "\n",
    "# false negatives from klimaBERT_v1 run on votes data (votes_false_true_negatives.pkl)\n",
    "votes_false_negatives = pd.read_pickle(\"/home/gugy/Documents/NLP-Climate-Politics-DK/climate_classifier/fine_tuning/false_negatives_improvements/votes_false_true_negatives.pkl\")\n",
    "\n",
    "# false negatives from klimaBERT_v1 run on meeting quotes data ()\n",
    "quotes_false_negatives= pd.read_pickle(\"/home/gugy/Documents/NLP-Climate-Politics-DK/climate_classifier/fine_tuning/false_negatives_improvements/50k_ft_meetings_false_negatives.pkl\")\n",
    "\n",
    "# to get a 50/50 data sample\n",
    "positives_added_180 = pd.read_pickle(\"180climate_related_270322.pkl\")\n",
    "\n"
   ]
  },
  {
   "cell_type": "code",
   "execution_count": 10,
   "metadata": {},
   "outputs": [],
   "source": [
    "original_data = original_data[['text', 'label']][0:703]\n",
    "original_data['label'] = original_data['label'].apply(lambda x: int(x))"
   ]
  },
  {
   "cell_type": "code",
   "execution_count": 19,
   "metadata": {},
   "outputs": [],
   "source": [
    "votes_false_negatives.rename(columns={'description_text': 'text'}, inplace=True)"
   ]
  },
  {
   "cell_type": "code",
   "execution_count": 20,
   "metadata": {},
   "outputs": [],
   "source": [
    "frames = [original_data, votes_false_negatives, quotes_false_negatives, positives_added_180]\n",
    "\n",
    "new_dataset = pd.concat(frames)"
   ]
  },
  {
   "cell_type": "code",
   "execution_count": 23,
   "metadata": {},
   "outputs": [
    {
     "data": {
      "text/html": [
       "<div>\n",
       "<style scoped>\n",
       "    .dataframe tbody tr th:only-of-type {\n",
       "        vertical-align: middle;\n",
       "    }\n",
       "\n",
       "    .dataframe tbody tr th {\n",
       "        vertical-align: top;\n",
       "    }\n",
       "\n",
       "    .dataframe thead th {\n",
       "        text-align: right;\n",
       "    }\n",
       "</style>\n",
       "<table border=\"1\" class=\"dataframe\">\n",
       "  <thead>\n",
       "    <tr style=\"text-align: right;\">\n",
       "      <th></th>\n",
       "      <th>text</th>\n",
       "      <th>label</th>\n",
       "    </tr>\n",
       "  </thead>\n",
       "  <tbody>\n",
       "    <tr>\n",
       "      <th>0</th>\n",
       "      <td>Det her gør vi med åbent sind, med løftet pand...</td>\n",
       "      <td>0</td>\n",
       "    </tr>\n",
       "    <tr>\n",
       "      <th>1</th>\n",
       "      <td>For hvordan kan vi fejre demokratiet, når det ...</td>\n",
       "      <td>0</td>\n",
       "    </tr>\n",
       "    <tr>\n",
       "      <th>2</th>\n",
       "      <td>Børn, som vokser op i sådanne områder, får ind...</td>\n",
       "      <td>0</td>\n",
       "    </tr>\n",
       "    <tr>\n",
       "      <th>4</th>\n",
       "      <td>Men jeg vil blot helt overordnet sige, at rege...</td>\n",
       "      <td>0</td>\n",
       "    </tr>\n",
       "    <tr>\n",
       "      <th>5</th>\n",
       "      <td>I Nye Borgerlige foreslog vi, at dagens beslut...</td>\n",
       "      <td>0</td>\n",
       "    </tr>\n",
       "    <tr>\n",
       "      <th>...</th>\n",
       "      <td>...</td>\n",
       "      <td>...</td>\n",
       "    </tr>\n",
       "    <tr>\n",
       "      <th>712</th>\n",
       "      <td>I loven indgår tre elementer fra finansloven f...</td>\n",
       "      <td>0</td>\n",
       "    </tr>\n",
       "    <tr>\n",
       "      <th>713</th>\n",
       "      <td>Lovforslaget har bl.a. til formål at bringe de...</td>\n",
       "      <td>0</td>\n",
       "    </tr>\n",
       "    <tr>\n",
       "      <th>714</th>\n",
       "      <td>Finanslovforslaget fastlægger størrelsen og fo...</td>\n",
       "      <td>0</td>\n",
       "    </tr>\n",
       "    <tr>\n",
       "      <th>715</th>\n",
       "      <td>Finansloven fastlægger størrelsen og fordeling...</td>\n",
       "      <td>0</td>\n",
       "    </tr>\n",
       "    <tr>\n",
       "      <th>716</th>\n",
       "      <td>Lovforslaget indebærer en præcisering af regle...</td>\n",
       "      <td>0</td>\n",
       "    </tr>\n",
       "  </tbody>\n",
       "</table>\n",
       "<p>488 rows × 2 columns</p>\n",
       "</div>"
      ],
      "text/plain": [
       "                                                  text  label\n",
       "0    Det her gør vi med åbent sind, med løftet pand...      0\n",
       "1    For hvordan kan vi fejre demokratiet, når det ...      0\n",
       "2    Børn, som vokser op i sådanne områder, får ind...      0\n",
       "4    Men jeg vil blot helt overordnet sige, at rege...      0\n",
       "5    I Nye Borgerlige foreslog vi, at dagens beslut...      0\n",
       "..                                                 ...    ...\n",
       "712  I loven indgår tre elementer fra finansloven f...      0\n",
       "713  Lovforslaget har bl.a. til formål at bringe de...      0\n",
       "714  Finanslovforslaget fastlægger størrelsen og fo...      0\n",
       "715  Finansloven fastlægger størrelsen og fordeling...      0\n",
       "716  Lovforslaget indebærer en præcisering af regle...      0\n",
       "\n",
       "[488 rows x 2 columns]"
      ]
     },
     "execution_count": 23,
     "metadata": {},
     "output_type": "execute_result"
    }
   ],
   "source": [
    "new_dataset.reset_index(drop=True, inplace=True)\n",
    "\n",
    "#50/50 split in data (50% climate related 50% non-climate related)\n",
    "new_dataset[new_dataset.label == 0]"
   ]
  },
  {
   "cell_type": "code",
   "execution_count": 25,
   "metadata": {},
   "outputs": [],
   "source": [
    "new_dataset.to_pickle(\"klimaBERT_trainingdata_270322.pkl\")"
   ]
  },
  {
   "cell_type": "code",
   "execution_count": null,
   "metadata": {},
   "outputs": [],
   "source": []
  }
 ],
 "metadata": {
  "interpreter": {
   "hash": "36e2581dfb10b7e3de3547be529c2e8e9e4d59798f578734b808d68ebdb931d0"
  },
  "kernelspec": {
   "display_name": "Python 3.7.0 64-bit",
   "language": "python",
   "name": "python3"
  },
  "language_info": {
   "codemirror_mode": {
    "name": "ipython",
    "version": 3
   },
   "file_extension": ".py",
   "mimetype": "text/x-python",
   "name": "python",
   "nbconvert_exporter": "python",
   "pygments_lexer": "ipython3",
   "version": "3.7.0"
  },
  "orig_nbformat": 4
 },
 "nbformat": 4,
 "nbformat_minor": 2
}
