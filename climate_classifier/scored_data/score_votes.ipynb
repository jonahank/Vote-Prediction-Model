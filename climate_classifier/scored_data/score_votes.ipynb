{
 "cells": [
  {
   "cell_type": "code",
   "execution_count": 1,
   "metadata": {},
   "outputs": [
    {
     "name": "stderr",
     "output_type": "stream",
     "text": [
      "2022-03-28 13:09:02.169790: W tensorflow/stream_executor/platform/default/dso_loader.cc:64] Could not load dynamic library 'libcudart.so.11.0'; dlerror: libcudart.so.11.0: cannot open shared object file: No such file or directory\n",
      "2022-03-28 13:09:02.169893: I tensorflow/stream_executor/cuda/cudart_stub.cc:29] Ignore above cudart dlerror if you do not have a GPU set up on your machine.\n"
     ]
    }
   ],
   "source": [
    "## Imports\n",
    "import pandas as pd\n",
    "from datasets import Dataset, DatasetDict\n",
    "from transformers import AutoTokenizer, DataCollatorWithPadding\n",
    "from transformers import Trainer, TrainingArguments\n",
    "from transformers import AutoModelForSequenceClassification\n",
    "from datasets import load_metric\n",
    "import numpy as np"
   ]
  },
  {
   "cell_type": "code",
   "execution_count": 2,
   "metadata": {},
   "outputs": [
    {
     "data": {
      "text/plain": [
       "Dataset({\n",
       "    features: ['vote_id', 'description', 'votes', 'votes_by_party', 'vote_caller', 'url', 'description_text', 'date'],\n",
       "    num_rows: 5559\n",
       "})"
      ]
     },
     "execution_count": 2,
     "metadata": {},
     "output_type": "execute_result"
    }
   ],
   "source": [
    "## Data\n",
    "filename = 'votes_data_cleaned_V2.pkl'\n",
    "df = pd.read_pickle(\"../../data_collection/\"+filename) #data_collection/votes_data_cleaned.pkl\n",
    "\n",
    "test_set = Dataset.from_pandas(df, preserve_index=False)\n",
    "\n",
    "test_set"
   ]
  },
  {
   "cell_type": "code",
   "execution_count": 4,
   "metadata": {},
   "outputs": [
    {
     "name": "stderr",
     "output_type": "stream",
     "text": [
      "Didn't find file /home/gugy/.cache/huggingface/transformers/klimaBERTe11_v2/added_tokens.json. We won't load it.\n",
      "loading file /home/gugy/.cache/huggingface/transformers/klimaBERTe11_v2/vocab.txt\n",
      "loading file /home/gugy/.cache/huggingface/transformers/klimaBERTe11_v2/tokenizer.json\n",
      "loading file None\n",
      "loading file /home/gugy/.cache/huggingface/transformers/klimaBERTe11_v2/special_tokens_map.json\n",
      "loading file /home/gugy/.cache/huggingface/transformers/klimaBERTe11_v2/tokenizer_config.json\n",
      "PyTorch: setting up devices\n",
      "The default value for the training argument `--report_to` will change in v5 (from all installed integrations to none). In v5, you will need to use `--report_to all` to get the same behavior as now. You should start updating your code and make this info disappear :-).\n",
      "loading configuration file /home/gugy/.cache/huggingface/transformers/klimaBERTe11_v2/config.json\n",
      "Model config BertConfig {\n",
      "  \"_name_or_path\": \"/home/gugy/.cache/huggingface/transformers/klimaBERTe11_v2\",\n",
      "  \"architectures\": [\n",
      "    \"BertForSequenceClassification\"\n",
      "  ],\n",
      "  \"attention_probs_dropout_prob\": 0.1,\n",
      "  \"classifier_dropout\": null,\n",
      "  \"directionality\": \"bidi\",\n",
      "  \"gradient_checkpointing\": false,\n",
      "  \"hidden_act\": \"gelu\",\n",
      "  \"hidden_dropout_prob\": 0.1,\n",
      "  \"hidden_size\": 768,\n",
      "  \"initializer_range\": 0.02,\n",
      "  \"intermediate_size\": 3072,\n",
      "  \"layer_norm_eps\": 1e-12,\n",
      "  \"max_position_embeddings\": 512,\n",
      "  \"model_type\": \"bert\",\n",
      "  \"num_attention_heads\": 12,\n",
      "  \"num_hidden_layers\": 12,\n",
      "  \"pad_token_id\": 0,\n",
      "  \"pooler_fc_size\": 768,\n",
      "  \"pooler_num_attention_heads\": 12,\n",
      "  \"pooler_num_fc_layers\": 3,\n",
      "  \"pooler_size_per_head\": 128,\n",
      "  \"pooler_type\": \"first_token_transform\",\n",
      "  \"position_embedding_type\": \"absolute\",\n",
      "  \"problem_type\": \"single_label_classification\",\n",
      "  \"torch_dtype\": \"float32\",\n",
      "  \"transformers_version\": \"4.17.0\",\n",
      "  \"type_vocab_size\": 2,\n",
      "  \"use_cache\": true,\n",
      "  \"vocab_size\": 32000\n",
      "}\n",
      "\n",
      "loading weights file /home/gugy/.cache/huggingface/transformers/klimaBERTe11_v2/pytorch_model.bin\n",
      "All model checkpoint weights were used when initializing BertForSequenceClassification.\n",
      "\n",
      "All the weights of BertForSequenceClassification were initialized from the model checkpoint at /home/gugy/.cache/huggingface/transformers/klimaBERTe11_v2.\n",
      "If your task is similar to the task the model of the checkpoint was trained on, you can already use BertForSequenceClassification for predictions without further training.\n",
      "No `TrainingArguments` passed, using `output_dir=tmp_trainer`.\n",
      "PyTorch: setting up devices\n",
      "The default value for the training argument `--report_to` will change in v5 (from all installed integrations to none). In v5, you will need to use `--report_to all` to get the same behavior as now. You should start updating your code and make this info disappear :-).\n"
     ]
    }
   ],
   "source": [
    "## Load (part1)\n",
    "from transformers import Trainer, TrainingArguments\n",
    "from transformers import AutoModelForSequenceClassification\n",
    "from datasets import load_metric\n",
    "\n",
    "def compute_metrics(eval_preds):\n",
    "    metric = load_metric(\"glue\", \"mrpc\")\n",
    "    logits, labels = eval_preds\n",
    "    predictions = np.argmax(logits, axis=-1)\n",
    "    return metric.compute(predictions=predictions, references=labels)\n",
    "\n",
    "checkpoint = \"/home/gugy/.cache/huggingface/transformers/klimaBERTe11_v2\"\n",
    "\n",
    "tokenizer = AutoTokenizer.from_pretrained(checkpoint, local_files_only=True)\n",
    "training_args = TrainingArguments(\"test-trainer\", evaluation_strategy=\"epoch\")\n",
    "model = AutoModelForSequenceClassification.from_pretrained(checkpoint, num_labels=2, local_files_only=True)\n",
    "\n",
    "## Load trainer API\n",
    "trainer = Trainer(\n",
    "    model,\n",
    "    tokenizer=tokenizer,\n",
    "    compute_metrics=compute_metrics,\n",
    ")\n"
   ]
  },
  {
   "cell_type": "code",
   "execution_count": 5,
   "metadata": {},
   "outputs": [
    {
     "data": {
      "text/plain": [
       "device(type='cpu')"
      ]
     },
     "execution_count": 5,
     "metadata": {},
     "output_type": "execute_result"
    }
   ],
   "source": [
    "## Set to use GPU\n",
    "import torch\n",
    "\n",
    "device = torch.device(\"cuda\") if torch.cuda.is_available() else torch.device(\"cpu\")\n",
    "model.to(device)\n",
    "device"
   ]
  },
  {
   "cell_type": "code",
   "execution_count": 6,
   "metadata": {},
   "outputs": [
    {
     "data": {
      "application/vnd.jupyter.widget-view+json": {
       "model_id": "30bcd2aa5de34ed2b88fb1257683c88e",
       "version_major": 2,
       "version_minor": 0
      },
      "text/plain": [
       "  0%|          | 0/6 [00:00<?, ?ba/s]"
      ]
     },
     "metadata": {},
     "output_type": "display_data"
    }
   ],
   "source": [
    "## Load FT data and tokenize it\n",
    "def tokenize(batch):\n",
    "    tokenized_batch = tokenizer(batch['description_text'], padding=True, truncation=True, max_length=512)\n",
    "    return tokenized_batch\n",
    "\n",
    "dataset = test_set\n",
    "tokenized_datasets = dataset.map(tokenize, batched=True)\n",
    "tokenized_datasets.set_format(\"torch\")"
   ]
  },
  {
   "cell_type": "code",
   "execution_count": null,
   "metadata": {},
   "outputs": [],
   "source": [
    "## Predict on sub-set\n",
    "predictions2 = trainer.predict(tokenized_datasets)\n",
    "predictions2"
   ]
  },
  {
   "cell_type": "code",
   "execution_count": 8,
   "metadata": {},
   "outputs": [],
   "source": [
    "label = []\n",
    "\n",
    "for (i,j) in predictions2[0]:\n",
    "  if i > j: label.append(\"non-climate\")\n",
    "  else: label.append(\"climate\")"
   ]
  },
  {
   "cell_type": "code",
   "execution_count": 9,
   "metadata": {},
   "outputs": [],
   "source": [
    "## Compare y_real with y_pred\n",
    "df_compare = pd.DataFrame()\n",
    "df_compare = dataset.to_pandas()\n",
    "df_compare[\"y_pred\"] = label"
   ]
  },
  {
   "cell_type": "code",
   "execution_count": 10,
   "metadata": {},
   "outputs": [
    {
     "name": "stdout",
     "output_type": "stream",
     "text": [
      "y_pred:climate 236\n",
      "y_pred:non-climate 8432\n"
     ]
    }
   ],
   "source": [
    "df_climate = df_compare[df_compare[\"y_pred\"]==\"climate\"].reset_index()\n",
    "df_non_climate = df_compare[df_compare[\"y_pred\"]==\"non-climate\"].reset_index()\n",
    "print(\"y_pred:climate\",len(df_climate.index))\n",
    "print(\"y_pred:non-climate\",len(df_non_climate.index))\n",
    "\n",
    "# df_climate.to_csv(\"votes_data_climate.csv\")\n",
    "# df_non_climate.to_csv(\"votes_data_non_climate.csv\")\n",
    "\n",
    "df_climate.to_pickle(\"votes_data_climate.pkl\")\n",
    "df_non_climate.to_pickle(\"votes_data_non_climate.pkl\")"
   ]
  },
  {
   "cell_type": "code",
   "execution_count": 3,
   "metadata": {},
   "outputs": [],
   "source": [
    "climate_votes = pd.read_pickle(\"votes_data_climate.pkl\")\n",
    "no_climate_votes = pd.read_pickle(\"votes_data_non_climate.pkl\")\n"
   ]
  },
  {
   "cell_type": "code",
   "execution_count": 4,
   "metadata": {},
   "outputs": [],
   "source": [
    "no_climate_votes.dropna(inplace=True)"
   ]
  },
  {
   "cell_type": "code",
   "execution_count": 5,
   "metadata": {},
   "outputs": [],
   "source": [
    "climate_votes.drop_duplicates(subset='description_text', inplace=True)\n",
    "\n",
    "climate_votes.reset_index(drop=True, inplace=True)\n",
    "\n"
   ]
  },
  {
   "cell_type": "code",
   "execution_count": 6,
   "metadata": {},
   "outputs": [
    {
     "data": {
      "text/plain": [
       "0      2004-12-07\n",
       "1      2005-05-17\n",
       "2      2005-05-26\n",
       "3      2005-06-01\n",
       "4      2005-12-21\n",
       "          ...    \n",
       "196    2021-12-28\n",
       "197    2022-03-03\n",
       "198    2022-03-03\n",
       "199    2022-03-03\n",
       "200    2022-03-03\n",
       "Name: date, Length: 201, dtype: object"
      ]
     },
     "execution_count": 6,
     "metadata": {},
     "output_type": "execute_result"
    }
   ],
   "source": [
    "climate_votes['date']"
   ]
  },
  {
   "cell_type": "code",
   "execution_count": 7,
   "metadata": {},
   "outputs": [
    {
     "data": {
      "text/plain": [
       "\"Beslutningsforslaget opfordrede finansministeren til at trække aktstykke nr. 53 om salg af aktier i DONG Energy A/S tilbage. Ifølge forslagsstillerne var der flere gode grunde til at revurdere det fremlagte aktstykke, bl.a. et usædvanligt forslag om, at ledelsen, banker og rådgivere i forbindelse med salget fritages for ansvar. Endvidere var der en række verserende sager mod DONG fra kunder og andre aktionærer i DONG, og fra en klimapolitisk synsvinkel var det efter forslagsstillernes opfattelse forkert at privatisere landets største energiproducent. En aktuel sag med DONG Energy's byggeri af et kulkraftværk i Tyskland viste de negative klimapolitiske konsekvenser ved at drive selskabet efter økonomiske og ikke klimamæssige hensyn.\""
      ]
     },
     "execution_count": 7,
     "metadata": {},
     "output_type": "execute_result"
    }
   ],
   "source": [
    "climate_votes['description_text'][15]"
   ]
  },
  {
   "cell_type": "code",
   "execution_count": 8,
   "metadata": {},
   "outputs": [],
   "source": [
    "import re\n",
    "\n",
    "klimaforandringer = re.compile(r\"(K|k)lima(forandringer)?(ne)?\")\n",
    "co2 = re.compile(r\"(CO 2)|(CO2)|(kulstof(udledning(en)?)?)|(co2)|drivhusgas(ser)?|klimaplan\")\n",
    "grøn_omstilling = re.compile(r\"grøn(ne)? omstilling\")\n",
    "global_opvarmning = re.compile(r\"global(e)? opvarmning\")\n"
   ]
  },
  {
   "cell_type": "code",
   "execution_count": 9,
   "metadata": {},
   "outputs": [],
   "source": [
    "no_climate_votes['klimaforandringer'] = no_climate_votes['description_text'].apply(lambda x: 1 if re.search(klimaforandringer, x)!=None else 0)\n",
    "no_climate_votes['CO2'] = no_climate_votes['description_text'].apply(lambda x: 1 if re.search(co2, x)!=None else 0)\n",
    "no_climate_votes['grøn_omstilling'] = no_climate_votes['description_text'].apply(lambda x: 1 if re.search(grøn_omstilling, x)!=None else 0)\n",
    "no_climate_votes['global_opvarmning'] = no_climate_votes['description_text'].apply(lambda x: 1 if re.search(global_opvarmning, x)!=None else 0)\n"
   ]
  },
  {
   "cell_type": "code",
   "execution_count": null,
   "metadata": {},
   "outputs": [],
   "source": []
  },
  {
   "cell_type": "code",
   "execution_count": 10,
   "metadata": {},
   "outputs": [
    {
     "name": "stderr",
     "output_type": "stream",
     "text": [
      "/home/gugy/anaconda3/lib/python3.7/site-packages/ipykernel_launcher.py:5: SettingWithCopyWarning: \n",
      "A value is trying to be set on a copy of a slice from a DataFrame\n",
      "\n",
      "See the caveats in the documentation: https://pandas.pydata.org/pandas-docs/stable/user_guide/indexing.html#returning-a-view-versus-a-copy\n",
      "  \"\"\"\n"
     ]
    }
   ],
   "source": [
    "p_false_negatives = no_climate_votes[(no_climate_votes.CO2 == 1) | (no_climate_votes.klimaforandringer==1) | (no_climate_votes.grøn_omstilling==1)]\n",
    "\n",
    "p_false_negatives['description_text']\n",
    "#There seem to be some duplicates (Worth looking into some data_cleaning here)\n",
    "p_false_negatives.drop_duplicates(subset='description_text', inplace=True)\n",
    "p_false_negatives.reset_index(inplace=True, drop=True)\n"
   ]
  },
  {
   "cell_type": "code",
   "execution_count": 11,
   "metadata": {},
   "outputs": [
    {
     "name": "stdout",
     "output_type": "stream",
     "text": [
      "58\n"
     ]
    },
    {
     "name": "stderr",
     "output_type": "stream",
     "text": [
      "/home/gugy/anaconda3/lib/python3.7/site-packages/ipykernel_launcher.py:2: SettingWithCopyWarning: \n",
      "A value is trying to be set on a copy of a slice from a DataFrame.\n",
      "Try using .loc[row_indexer,col_indexer] = value instead\n",
      "\n",
      "See the caveats in the documentation: https://pandas.pydata.org/pandas-docs/stable/user_guide/indexing.html#returning-a-view-versus-a-copy\n",
      "  \n"
     ]
    }
   ],
   "source": [
    "print(len(p_false_negatives))\n",
    "p_false_negatives['false_negative'] = 0"
   ]
  },
  {
   "cell_type": "code",
   "execution_count": 12,
   "metadata": {},
   "outputs": [
    {
     "data": {
      "text/plain": [
       "'Formålet med lovforslaget er at fremme udnyttelsen af overskudsvarme. Lovforslaget gennemfører initiativer, der har ophæng i Energiaftale af 29. juni 2018, Aftale om øget udnyttelse af overskudsvarme af 23. marts 2019, Klimaaftale for energi og industri mv. af 22. juni 2020  (S, V, DF, RV, SF, EL, KF, LA og ALT) og Opfølgende aftale om fremme af overskudsvarme af 7. september 2021 mellem samme partier. Lovforslaget indeholder tre hovedpunkter; prisregulering af overskudsvarme, herunder en bagatelgrænse for prisregulering, en energieffektiviseringsordning for overskudsvarme og afgiftsfritagelse for energieffektiv ekstern overskudsvarme.'"
      ]
     },
     "execution_count": 12,
     "metadata": {},
     "output_type": "execute_result"
    }
   ],
   "source": [
    "p_false_negatives['description_text'][57]"
   ]
  },
  {
   "cell_type": "code",
   "execution_count": 13,
   "metadata": {},
   "outputs": [],
   "source": [
    "index_lst = [0, 1, 2, 6, 9, 13, 17, 18, 20, 26, 52, 53, 56, 57]\n",
    "for i in index_lst:\n",
    "    p_false_negatives.at[i, 'false_negative'] = 1"
   ]
  },
  {
   "cell_type": "code",
   "execution_count": 14,
   "metadata": {},
   "outputs": [
    {
     "data": {
      "text/plain": [
       "14"
      ]
     },
     "execution_count": 14,
     "metadata": {},
     "output_type": "execute_result"
    }
   ],
   "source": [
    "p_false_negatives[['description_text', 'false_negative']]\n",
    "\n",
    "len(p_false_negatives[p_false_negatives['false_negative']==1])\n"
   ]
  },
  {
   "cell_type": "code",
   "execution_count": 15,
   "metadata": {},
   "outputs": [
    {
     "data": {
      "text/html": [
       "<div>\n",
       "<style scoped>\n",
       "    .dataframe tbody tr th:only-of-type {\n",
       "        vertical-align: middle;\n",
       "    }\n",
       "\n",
       "    .dataframe tbody tr th {\n",
       "        vertical-align: top;\n",
       "    }\n",
       "\n",
       "    .dataframe thead th {\n",
       "        text-align: right;\n",
       "    }\n",
       "</style>\n",
       "<table border=\"1\" class=\"dataframe\">\n",
       "  <thead>\n",
       "    <tr style=\"text-align: right;\">\n",
       "      <th></th>\n",
       "      <th>index</th>\n",
       "      <th>vote_id</th>\n",
       "      <th>description</th>\n",
       "      <th>votes</th>\n",
       "      <th>votes_by_party</th>\n",
       "      <th>vote_caller</th>\n",
       "      <th>url</th>\n",
       "      <th>description_text</th>\n",
       "      <th>date</th>\n",
       "      <th>y_pred</th>\n",
       "      <th>klimaforandringer</th>\n",
       "      <th>CO2</th>\n",
       "      <th>grøn_omstilling</th>\n",
       "      <th>global_opvarmning</th>\n",
       "      <th>false_negative</th>\n",
       "    </tr>\n",
       "  </thead>\n",
       "  <tbody>\n",
       "    <tr>\n",
       "      <th>0</th>\n",
       "      <td>78</td>\n",
       "      <td>Afstemning nr. 270, 2004-05 (1. samling)</td>\n",
       "      <td>[Sagsgang:, Fremsat 17-11-2004, 1. behandlet /...</td>\n",
       "      <td>{'party': ['Venstre (V)', 'Uden for folketings...</td>\n",
       "      <td>{'Absent': ['14', '18', '7', '9', '6', '5', '3...</td>\n",
       "      <td>[Skatteminister, Kristian Jensen (V)]</td>\n",
       "      <td>https://www.ft.dk//samling/20041/afstemning/27...</td>\n",
       "      <td>Loven indeholder følgende elementer: - CO2-afg...</td>\n",
       "      <td>2004-12-20</td>\n",
       "      <td>non-climate</td>\n",
       "      <td>0</td>\n",
       "      <td>1</td>\n",
       "      <td>0</td>\n",
       "      <td>0</td>\n",
       "      <td>1</td>\n",
       "    </tr>\n",
       "    <tr>\n",
       "      <th>1</th>\n",
       "      <td>95</td>\n",
       "      <td>Afstemning nr. 264, 2004-05 (1. samling)</td>\n",
       "      <td>[Sagsgang:, Fremsat 07-10-2004, 1. behandlet /...</td>\n",
       "      <td>{'party': ['Venstre (V)', 'Uden for folketings...</td>\n",
       "      <td>{'Absent': ['18', '17', '7', '9', '6', '5', '3...</td>\n",
       "      <td>[Skatteminister, Kristian Jensen (V)]</td>\n",
       "      <td>https://www.ft.dk//samling/20041/afstemning/26...</td>\n",
       "      <td>Loven indfører regler om den skattemæssige beh...</td>\n",
       "      <td>2004-12-20</td>\n",
       "      <td>non-climate</td>\n",
       "      <td>0</td>\n",
       "      <td>1</td>\n",
       "      <td>0</td>\n",
       "      <td>0</td>\n",
       "      <td>1</td>\n",
       "    </tr>\n",
       "    <tr>\n",
       "      <th>2</th>\n",
       "      <td>1469</td>\n",
       "      <td>Afstemning nr. 503, 2006-07</td>\n",
       "      <td>[Sagsgang:, Fremsat 25-04-2007, 1. behandlet /...</td>\n",
       "      <td>{'party': ['Det Konservative Folkeparti (KF)',...</td>\n",
       "      <td>{'Absent': ['17', '17', '8', '7', '8', '2', '4...</td>\n",
       "      <td>[Skatteminister, Kristian Jensen (V)]</td>\n",
       "      <td>https://www.ft.dk//samling/20061/afstemning/50...</td>\n",
       "      <td>Loven medfører en omlægning af den samlede bil...</td>\n",
       "      <td>2007-06-06</td>\n",
       "      <td>non-climate</td>\n",
       "      <td>0</td>\n",
       "      <td>1</td>\n",
       "      <td>0</td>\n",
       "      <td>0</td>\n",
       "      <td>1</td>\n",
       "    </tr>\n",
       "    <tr>\n",
       "      <th>6</th>\n",
       "      <td>2309</td>\n",
       "      <td>Afstemning nr. 466, 2008-09</td>\n",
       "      <td>[Sagsgang:, Fremsat 22-04-2009, 1. behandlet /...</td>\n",
       "      <td>{'party': ['Liberal Alliance (LA)', 'Dansk Fol...</td>\n",
       "      <td>{'Absent': ['13', '17', '7', '5', '7', '4', '2...</td>\n",
       "      <td>[Skatteminister, Kristian Jensen (V)]</td>\n",
       "      <td>https://www.ft.dk//samling/20081/afstemning/46...</td>\n",
       "      <td>Energiafgiftslovene ændres som led i udmøntnin...</td>\n",
       "      <td>2009-05-12</td>\n",
       "      <td>non-climate</td>\n",
       "      <td>1</td>\n",
       "      <td>1</td>\n",
       "      <td>0</td>\n",
       "      <td>0</td>\n",
       "      <td>1</td>\n",
       "    </tr>\n",
       "    <tr>\n",
       "      <th>9</th>\n",
       "      <td>2444</td>\n",
       "      <td>Afstemning nr. 403, 2008-09</td>\n",
       "      <td>[Sagsgang:, Fremsat 04-02-2009, 1. behandlet /...</td>\n",
       "      <td>{'party': ['Liberal Alliance (LA)', 'Dansk Fol...</td>\n",
       "      <td>{'Absent': ['16', '18', '8', '7', '8', '4', '2...</td>\n",
       "      <td>[Skatteminister, Kristian Jensen (V)]</td>\n",
       "      <td>https://www.ft.dk//samling/20081/afstemning/40...</td>\n",
       "      <td>Loven omlægger forbrændingsafgiften af affald ...</td>\n",
       "      <td>2009-06-12</td>\n",
       "      <td>non-climate</td>\n",
       "      <td>0</td>\n",
       "      <td>1</td>\n",
       "      <td>0</td>\n",
       "      <td>0</td>\n",
       "      <td>1</td>\n",
       "    </tr>\n",
       "    <tr>\n",
       "      <th>13</th>\n",
       "      <td>2468</td>\n",
       "      <td>Afstemning nr. 413, 2008-09</td>\n",
       "      <td>[Sagsgang:, Fremsat 22-04-2009, 1. behandlet /...</td>\n",
       "      <td>{'party': ['Liberal Alliance (LA)', 'Dansk Fol...</td>\n",
       "      <td>{'Absent': ['15', '19', '8', '7', '8', '4', '2...</td>\n",
       "      <td>[Skatteminister, Kristian Jensen (V)]</td>\n",
       "      <td>https://www.ft.dk//samling/20081/afstemning/41...</td>\n",
       "      <td>Loven var en udmøntning af forårspakke 2.0 på ...</td>\n",
       "      <td>2009-06-12</td>\n",
       "      <td>non-climate</td>\n",
       "      <td>0</td>\n",
       "      <td>1</td>\n",
       "      <td>0</td>\n",
       "      <td>0</td>\n",
       "      <td>1</td>\n",
       "    </tr>\n",
       "    <tr>\n",
       "      <th>17</th>\n",
       "      <td>2699</td>\n",
       "      <td>Afstemning nr. 214, 2009-10</td>\n",
       "      <td>[Sagsgang:, Fremsat 25-11-2009, 1. behandlet /...</td>\n",
       "      <td>{'party': ['Liberal Alliance (LA)', 'Dansk Fol...</td>\n",
       "      <td>{'Absent': ['15', '17', '7', '9', '5', '4', '2...</td>\n",
       "      <td>[Skatteminister, Kristian Jensen (V)]</td>\n",
       "      <td>https://www.ft.dk//samling/20091/afstemning/21...</td>\n",
       "      <td>Med loven indføres der fradrag for udgifter ti...</td>\n",
       "      <td>2010-02-24</td>\n",
       "      <td>non-climate</td>\n",
       "      <td>1</td>\n",
       "      <td>1</td>\n",
       "      <td>0</td>\n",
       "      <td>0</td>\n",
       "      <td>1</td>\n",
       "    </tr>\n",
       "    <tr>\n",
       "      <th>18</th>\n",
       "      <td>2810</td>\n",
       "      <td>Afstemning nr. 355, 2009-10</td>\n",
       "      <td>[Sagsgang:, Fremsat 10-02-2010, 1. behandlet /...</td>\n",
       "      <td>{'party': ['Liberal Alliance (LA)', 'Dansk Fol...</td>\n",
       "      <td>{'Absent': ['15', '16', '8', '8', '7', '6', '2...</td>\n",
       "      <td>[Økonomi- og erhvervsminister, Lene Espersen (...</td>\n",
       "      <td>https://www.ft.dk//samling/20091/afstemning/35...</td>\n",
       "      <td>Formålet med loven er at fastsætte nye regler ...</td>\n",
       "      <td>2010-05-26</td>\n",
       "      <td>non-climate</td>\n",
       "      <td>1</td>\n",
       "      <td>0</td>\n",
       "      <td>0</td>\n",
       "      <td>0</td>\n",
       "      <td>1</td>\n",
       "    </tr>\n",
       "    <tr>\n",
       "      <th>20</th>\n",
       "      <td>2982</td>\n",
       "      <td>Afstemning nr. 135, 2010-11 (1. samling)</td>\n",
       "      <td>[Fremsat:, 14-12-2010, Forslag til vedtagelse:...</td>\n",
       "      <td>{'party': ['Liberal Alliance (LA)', 'Dansk Fol...</td>\n",
       "      <td>{'Absent': ['16', '17', '7', '8', '7', '4', '2...</td>\n",
       "      <td>[Jørgen S. Lundsgaard (KF), Lars Christian Lil...</td>\n",
       "      <td>https://www.ft.dk//samling/20101/afstemning/13...</td>\n",
       "      <td>Folketinget konstaterer med tilfredshed, at ma...</td>\n",
       "      <td>2010-12-14</td>\n",
       "      <td>non-climate</td>\n",
       "      <td>1</td>\n",
       "      <td>0</td>\n",
       "      <td>0</td>\n",
       "      <td>0</td>\n",
       "      <td>1</td>\n",
       "    </tr>\n",
       "    <tr>\n",
       "      <th>26</th>\n",
       "      <td>3976</td>\n",
       "      <td>Afstemning nr. 204, 2012-13</td>\n",
       "      <td>[Sagsgang:, Fremsat 16-11-2012, 1. behandlet /...</td>\n",
       "      <td>{'party': ['Dansk Folkeparti (DF)', 'Liberal A...</td>\n",
       "      <td>{'Absent': ['18', '16', '9', '5', '4', '4', '4...</td>\n",
       "      <td>[Skatteminister, Holger K. Nielsen (SF)]</td>\n",
       "      <td>https://www.ft.dk//samling/20121/afstemning/20...</td>\n",
       "      <td>Loven sanerer erhvervsstøtten på følgende områ...</td>\n",
       "      <td>2012-12-23</td>\n",
       "      <td>non-climate</td>\n",
       "      <td>0</td>\n",
       "      <td>1</td>\n",
       "      <td>0</td>\n",
       "      <td>0</td>\n",
       "      <td>1</td>\n",
       "    </tr>\n",
       "    <tr>\n",
       "      <th>52</th>\n",
       "      <td>7458</td>\n",
       "      <td>Afstemning nr. 311, 2019-20</td>\n",
       "      <td>[Sagsgang:, Fremsat 25-10-2019, 1. behandlet/h...</td>\n",
       "      <td>{'party': ['Siumut (SIU)', 'Liberal Alliance (...</td>\n",
       "      <td>{'Absent': ['19', '21', '8', '7', '7', '7', '6...</td>\n",
       "      <td>[Søren Egge Rasmussen (EL), Eva Flyvholm (EL),...</td>\n",
       "      <td>https://www.ft.dk//samling/20191/afstemning/31...</td>\n",
       "      <td>Forslaget går ud på at stoppe for import af kø...</td>\n",
       "      <td>2020-05-19</td>\n",
       "      <td>non-climate</td>\n",
       "      <td>1</td>\n",
       "      <td>0</td>\n",
       "      <td>0</td>\n",
       "      <td>0</td>\n",
       "      <td>1</td>\n",
       "    </tr>\n",
       "    <tr>\n",
       "      <th>53</th>\n",
       "      <td>7566</td>\n",
       "      <td>Afstemning nr. 439, 2019-20</td>\n",
       "      <td>[Sagsgang:, Fremsat 06-02-2020, 1. behandlet/h...</td>\n",
       "      <td>{'party': [], 'politician': [], 'vote': []}</td>\n",
       "      <td>{'Absent': [], 'Against': [], 'For': [], 'Neut...</td>\n",
       "      <td>[Karina Lorentzen Dehnhardt (SF), Jacob Mark (...</td>\n",
       "      <td>https://www.ft.dk//samling/20191/afstemning/43...</td>\n",
       "      <td>Med forslaget pålægges regeringen at gøre det ...</td>\n",
       "      <td>2020-06-23</td>\n",
       "      <td>non-climate</td>\n",
       "      <td>1</td>\n",
       "      <td>0</td>\n",
       "      <td>0</td>\n",
       "      <td>0</td>\n",
       "      <td>1</td>\n",
       "    </tr>\n",
       "    <tr>\n",
       "      <th>56</th>\n",
       "      <td>7827</td>\n",
       "      <td>Afstemning nr. 157, 2020-21</td>\n",
       "      <td>[Sagsgang:, Fremsat 12-11-2020, 1. behandlet /...</td>\n",
       "      <td>{'party': ['Siumut (SIU)', 'Dansk Folkeparti (...</td>\n",
       "      <td>{'Absent': ['20', '18', '8', '7', '7', '8', '6...</td>\n",
       "      <td>[Klima-, energi- og forsyningsminister, Dan Jø...</td>\n",
       "      <td>https://www.ft.dk//samling/20201/afstemning/15...</td>\n",
       "      <td>Lovforslaget handler om at sætte gang i en bil...</td>\n",
       "      <td>2020-12-29</td>\n",
       "      <td>non-climate</td>\n",
       "      <td>1</td>\n",
       "      <td>0</td>\n",
       "      <td>0</td>\n",
       "      <td>0</td>\n",
       "      <td>1</td>\n",
       "    </tr>\n",
       "    <tr>\n",
       "      <th>57</th>\n",
       "      <td>8588</td>\n",
       "      <td>Afstemning nr. 137, 2021-22</td>\n",
       "      <td>[Sagsgang:, Fremsat 10-11-2021, 1. behandlet /...</td>\n",
       "      <td>{'party': ['Det Radikale Venstre (RV)', 'Siumu...</td>\n",
       "      <td>{'Absent': ['19', '16', '5', '7', '7', '6', '5...</td>\n",
       "      <td>[Klima-, energi- og forsyningsminister, Dan Jø...</td>\n",
       "      <td>https://www.ft.dk//samling/20211/afstemning/13...</td>\n",
       "      <td>Formålet med lovforslaget er at fremme udnytte...</td>\n",
       "      <td>2021-12-28</td>\n",
       "      <td>non-climate</td>\n",
       "      <td>1</td>\n",
       "      <td>0</td>\n",
       "      <td>0</td>\n",
       "      <td>0</td>\n",
       "      <td>1</td>\n",
       "    </tr>\n",
       "  </tbody>\n",
       "</table>\n",
       "</div>"
      ],
      "text/plain": [
       "    index                                   vote_id  \\\n",
       "0      78  Afstemning nr. 270, 2004-05 (1. samling)   \n",
       "1      95  Afstemning nr. 264, 2004-05 (1. samling)   \n",
       "2    1469               Afstemning nr. 503, 2006-07   \n",
       "6    2309               Afstemning nr. 466, 2008-09   \n",
       "9    2444               Afstemning nr. 403, 2008-09   \n",
       "13   2468               Afstemning nr. 413, 2008-09   \n",
       "17   2699               Afstemning nr. 214, 2009-10   \n",
       "18   2810               Afstemning nr. 355, 2009-10   \n",
       "20   2982  Afstemning nr. 135, 2010-11 (1. samling)   \n",
       "26   3976               Afstemning nr. 204, 2012-13   \n",
       "52   7458               Afstemning nr. 311, 2019-20   \n",
       "53   7566               Afstemning nr. 439, 2019-20   \n",
       "56   7827               Afstemning nr. 157, 2020-21   \n",
       "57   8588               Afstemning nr. 137, 2021-22   \n",
       "\n",
       "                                          description  \\\n",
       "0   [Sagsgang:, Fremsat 17-11-2004, 1. behandlet /...   \n",
       "1   [Sagsgang:, Fremsat 07-10-2004, 1. behandlet /...   \n",
       "2   [Sagsgang:, Fremsat 25-04-2007, 1. behandlet /...   \n",
       "6   [Sagsgang:, Fremsat 22-04-2009, 1. behandlet /...   \n",
       "9   [Sagsgang:, Fremsat 04-02-2009, 1. behandlet /...   \n",
       "13  [Sagsgang:, Fremsat 22-04-2009, 1. behandlet /...   \n",
       "17  [Sagsgang:, Fremsat 25-11-2009, 1. behandlet /...   \n",
       "18  [Sagsgang:, Fremsat 10-02-2010, 1. behandlet /...   \n",
       "20  [Fremsat:, 14-12-2010, Forslag til vedtagelse:...   \n",
       "26  [Sagsgang:, Fremsat 16-11-2012, 1. behandlet /...   \n",
       "52  [Sagsgang:, Fremsat 25-10-2019, 1. behandlet/h...   \n",
       "53  [Sagsgang:, Fremsat 06-02-2020, 1. behandlet/h...   \n",
       "56  [Sagsgang:, Fremsat 12-11-2020, 1. behandlet /...   \n",
       "57  [Sagsgang:, Fremsat 10-11-2021, 1. behandlet /...   \n",
       "\n",
       "                                                votes  \\\n",
       "0   {'party': ['Venstre (V)', 'Uden for folketings...   \n",
       "1   {'party': ['Venstre (V)', 'Uden for folketings...   \n",
       "2   {'party': ['Det Konservative Folkeparti (KF)',...   \n",
       "6   {'party': ['Liberal Alliance (LA)', 'Dansk Fol...   \n",
       "9   {'party': ['Liberal Alliance (LA)', 'Dansk Fol...   \n",
       "13  {'party': ['Liberal Alliance (LA)', 'Dansk Fol...   \n",
       "17  {'party': ['Liberal Alliance (LA)', 'Dansk Fol...   \n",
       "18  {'party': ['Liberal Alliance (LA)', 'Dansk Fol...   \n",
       "20  {'party': ['Liberal Alliance (LA)', 'Dansk Fol...   \n",
       "26  {'party': ['Dansk Folkeparti (DF)', 'Liberal A...   \n",
       "52  {'party': ['Siumut (SIU)', 'Liberal Alliance (...   \n",
       "53        {'party': [], 'politician': [], 'vote': []}   \n",
       "56  {'party': ['Siumut (SIU)', 'Dansk Folkeparti (...   \n",
       "57  {'party': ['Det Radikale Venstre (RV)', 'Siumu...   \n",
       "\n",
       "                                       votes_by_party  \\\n",
       "0   {'Absent': ['14', '18', '7', '9', '6', '5', '3...   \n",
       "1   {'Absent': ['18', '17', '7', '9', '6', '5', '3...   \n",
       "2   {'Absent': ['17', '17', '8', '7', '8', '2', '4...   \n",
       "6   {'Absent': ['13', '17', '7', '5', '7', '4', '2...   \n",
       "9   {'Absent': ['16', '18', '8', '7', '8', '4', '2...   \n",
       "13  {'Absent': ['15', '19', '8', '7', '8', '4', '2...   \n",
       "17  {'Absent': ['15', '17', '7', '9', '5', '4', '2...   \n",
       "18  {'Absent': ['15', '16', '8', '8', '7', '6', '2...   \n",
       "20  {'Absent': ['16', '17', '7', '8', '7', '4', '2...   \n",
       "26  {'Absent': ['18', '16', '9', '5', '4', '4', '4...   \n",
       "52  {'Absent': ['19', '21', '8', '7', '7', '7', '6...   \n",
       "53  {'Absent': [], 'Against': [], 'For': [], 'Neut...   \n",
       "56  {'Absent': ['20', '18', '8', '7', '7', '8', '6...   \n",
       "57  {'Absent': ['19', '16', '5', '7', '7', '6', '5...   \n",
       "\n",
       "                                          vote_caller  \\\n",
       "0               [Skatteminister, Kristian Jensen (V)]   \n",
       "1               [Skatteminister, Kristian Jensen (V)]   \n",
       "2               [Skatteminister, Kristian Jensen (V)]   \n",
       "6               [Skatteminister, Kristian Jensen (V)]   \n",
       "9               [Skatteminister, Kristian Jensen (V)]   \n",
       "13              [Skatteminister, Kristian Jensen (V)]   \n",
       "17              [Skatteminister, Kristian Jensen (V)]   \n",
       "18  [Økonomi- og erhvervsminister, Lene Espersen (...   \n",
       "20  [Jørgen S. Lundsgaard (KF), Lars Christian Lil...   \n",
       "26           [Skatteminister, Holger K. Nielsen (SF)]   \n",
       "52  [Søren Egge Rasmussen (EL), Eva Flyvholm (EL),...   \n",
       "53  [Karina Lorentzen Dehnhardt (SF), Jacob Mark (...   \n",
       "56  [Klima-, energi- og forsyningsminister, Dan Jø...   \n",
       "57  [Klima-, energi- og forsyningsminister, Dan Jø...   \n",
       "\n",
       "                                                  url  \\\n",
       "0   https://www.ft.dk//samling/20041/afstemning/27...   \n",
       "1   https://www.ft.dk//samling/20041/afstemning/26...   \n",
       "2   https://www.ft.dk//samling/20061/afstemning/50...   \n",
       "6   https://www.ft.dk//samling/20081/afstemning/46...   \n",
       "9   https://www.ft.dk//samling/20081/afstemning/40...   \n",
       "13  https://www.ft.dk//samling/20081/afstemning/41...   \n",
       "17  https://www.ft.dk//samling/20091/afstemning/21...   \n",
       "18  https://www.ft.dk//samling/20091/afstemning/35...   \n",
       "20  https://www.ft.dk//samling/20101/afstemning/13...   \n",
       "26  https://www.ft.dk//samling/20121/afstemning/20...   \n",
       "52  https://www.ft.dk//samling/20191/afstemning/31...   \n",
       "53  https://www.ft.dk//samling/20191/afstemning/43...   \n",
       "56  https://www.ft.dk//samling/20201/afstemning/15...   \n",
       "57  https://www.ft.dk//samling/20211/afstemning/13...   \n",
       "\n",
       "                                     description_text        date  \\\n",
       "0   Loven indeholder følgende elementer: - CO2-afg...  2004-12-20   \n",
       "1   Loven indfører regler om den skattemæssige beh...  2004-12-20   \n",
       "2   Loven medfører en omlægning af den samlede bil...  2007-06-06   \n",
       "6   Energiafgiftslovene ændres som led i udmøntnin...  2009-05-12   \n",
       "9   Loven omlægger forbrændingsafgiften af affald ...  2009-06-12   \n",
       "13  Loven var en udmøntning af forårspakke 2.0 på ...  2009-06-12   \n",
       "17  Med loven indføres der fradrag for udgifter ti...  2010-02-24   \n",
       "18  Formålet med loven er at fastsætte nye regler ...  2010-05-26   \n",
       "20  Folketinget konstaterer med tilfredshed, at ma...  2010-12-14   \n",
       "26  Loven sanerer erhvervsstøtten på følgende områ...  2012-12-23   \n",
       "52  Forslaget går ud på at stoppe for import af kø...  2020-05-19   \n",
       "53  Med forslaget pålægges regeringen at gøre det ...  2020-06-23   \n",
       "56  Lovforslaget handler om at sætte gang i en bil...  2020-12-29   \n",
       "57  Formålet med lovforslaget er at fremme udnytte...  2021-12-28   \n",
       "\n",
       "         y_pred  klimaforandringer  CO2  grøn_omstilling  global_opvarmning  \\\n",
       "0   non-climate                  0    1                0                  0   \n",
       "1   non-climate                  0    1                0                  0   \n",
       "2   non-climate                  0    1                0                  0   \n",
       "6   non-climate                  1    1                0                  0   \n",
       "9   non-climate                  0    1                0                  0   \n",
       "13  non-climate                  0    1                0                  0   \n",
       "17  non-climate                  1    1                0                  0   \n",
       "18  non-climate                  1    0                0                  0   \n",
       "20  non-climate                  1    0                0                  0   \n",
       "26  non-climate                  0    1                0                  0   \n",
       "52  non-climate                  1    0                0                  0   \n",
       "53  non-climate                  1    0                0                  0   \n",
       "56  non-climate                  1    0                0                  0   \n",
       "57  non-climate                  1    0                0                  0   \n",
       "\n",
       "    false_negative  \n",
       "0                1  \n",
       "1                1  \n",
       "2                1  \n",
       "6                1  \n",
       "9                1  \n",
       "13               1  \n",
       "17               1  \n",
       "18               1  \n",
       "20               1  \n",
       "26               1  \n",
       "52               1  \n",
       "53               1  \n",
       "56               1  \n",
       "57               1  "
      ]
     },
     "execution_count": 15,
     "metadata": {},
     "output_type": "execute_result"
    }
   ],
   "source": [
    "view = p_false_negatives[p_false_negatives['false_negative']==1]\n",
    "\n"
   ]
  },
  {
   "cell_type": "code",
   "execution_count": null,
   "metadata": {},
   "outputs": [],
   "source": []
  }
 ],
 "metadata": {
  "interpreter": {
   "hash": "6c394272594a68b0a5bd03bbb8469a449c9402c12c87bbd02bc40bbbc1d6f707"
  },
  "kernelspec": {
   "display_name": "Python 3.9.7 64-bit",
   "language": "python",
   "name": "python3"
  },
  "language_info": {
   "codemirror_mode": {
    "name": "ipython",
    "version": 3
   },
   "file_extension": ".py",
   "mimetype": "text/x-python",
   "name": "python",
   "nbconvert_exporter": "python",
   "pygments_lexer": "ipython3",
   "version": "3.9.7"
  },
  "orig_nbformat": 4
 },
 "nbformat": 4,
 "nbformat_minor": 2
}
