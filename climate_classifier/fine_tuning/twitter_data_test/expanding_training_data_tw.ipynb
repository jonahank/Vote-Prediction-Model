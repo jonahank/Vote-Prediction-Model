{
 "cells": [
  {
   "cell_type": "code",
   "execution_count": 1,
   "metadata": {},
   "outputs": [],
   "source": [
    "import pandas as pd\n",
    "from sklearn.model_selection import train_test_split"
   ]
  },
  {
   "cell_type": "code",
   "execution_count": 5,
   "metadata": {},
   "outputs": [],
   "source": [
    "climate_twitter_sample = pd.read_csv(\"klima_sample_twitter230.csv\")\n",
    "data_labeled_ft = pd.read_csv(\"/home/gugy/Documents/NLP-Climate-Politics-DK/climate_classifier/labeling/800_3sent_label703.csv\")\n",
    "data_twitter = pd.read_pickle(\"tw460.pkl\")"
   ]
  },
  {
   "cell_type": "code",
   "execution_count": 8,
   "metadata": {},
   "outputs": [
    {
     "data": {
      "text/html": [
       "<div>\n",
       "<style scoped>\n",
       "    .dataframe tbody tr th:only-of-type {\n",
       "        vertical-align: middle;\n",
       "    }\n",
       "\n",
       "    .dataframe tbody tr th {\n",
       "        vertical-align: top;\n",
       "    }\n",
       "\n",
       "    .dataframe thead th {\n",
       "        text-align: right;\n",
       "    }\n",
       "</style>\n",
       "<table border=\"1\" class=\"dataframe\">\n",
       "  <thead>\n",
       "    <tr style=\"text-align: right;\">\n",
       "      <th></th>\n",
       "      <th>text</th>\n",
       "      <th>label</th>\n",
       "    </tr>\n",
       "  </thead>\n",
       "  <tbody>\n",
       "    <tr>\n",
       "      <th>121</th>\n",
       "      <td>@BirtheLauridsen .. som virksomhed, hvorfor fa...</td>\n",
       "      <td>0</td>\n",
       "    </tr>\n",
       "    <tr>\n",
       "      <th>76</th>\n",
       "      <td>RT @olebirkolesen: Politik er ikke et 100 mete...</td>\n",
       "      <td>0</td>\n",
       "    </tr>\n",
       "    <tr>\n",
       "      <th>26</th>\n",
       "      <td>En stor del af folketinget må have røde ører. ...</td>\n",
       "      <td>0</td>\n",
       "    </tr>\n",
       "    <tr>\n",
       "      <th>218</th>\n",
       "      <td>@EBjerkrheim Det fortæller mere end ord, hvor ...</td>\n",
       "      <td>0</td>\n",
       "    </tr>\n",
       "    <tr>\n",
       "      <th>209</th>\n",
       "      <td>RT @PPBjerregaard: Tidligere på ugen fremlagde...</td>\n",
       "      <td>1</td>\n",
       "    </tr>\n",
       "    <tr>\n",
       "      <th>...</th>\n",
       "      <td>...</td>\n",
       "      <td>...</td>\n",
       "    </tr>\n",
       "    <tr>\n",
       "      <th>20</th>\n",
       "      <td>@Susanne_Zimmer_ Der er en grund til at Frie G...</td>\n",
       "      <td>0</td>\n",
       "    </tr>\n",
       "    <tr>\n",
       "      <th>22</th>\n",
       "      <td>@folketinget Er regeringen begyndt at have lov...</td>\n",
       "      <td>0</td>\n",
       "    </tr>\n",
       "    <tr>\n",
       "      <th>23</th>\n",
       "      <td>RT @madsfuglede: Ukrainske landmænd viser os h...</td>\n",
       "      <td>0</td>\n",
       "    </tr>\n",
       "    <tr>\n",
       "      <th>122</th>\n",
       "      <td>@VestergaardJorn @alexsjoeberg @majatgreenwood...</td>\n",
       "      <td>0</td>\n",
       "    </tr>\n",
       "    <tr>\n",
       "      <th>12</th>\n",
       "      <td>RT @concitoinfo: Hvis vi tænker løsningen af f...</td>\n",
       "      <td>1</td>\n",
       "    </tr>\n",
       "  </tbody>\n",
       "</table>\n",
       "<p>138 rows × 2 columns</p>\n",
       "</div>"
      ],
      "text/plain": [
       "                                                  text  label\n",
       "121  @BirtheLauridsen .. som virksomhed, hvorfor fa...      0\n",
       "76   RT @olebirkolesen: Politik er ikke et 100 mete...      0\n",
       "26   En stor del af folketinget må have røde ører. ...      0\n",
       "218  @EBjerkrheim Det fortæller mere end ord, hvor ...      0\n",
       "209  RT @PPBjerregaard: Tidligere på ugen fremlagde...      1\n",
       "..                                                 ...    ...\n",
       "20   @Susanne_Zimmer_ Der er en grund til at Frie G...      0\n",
       "22   @folketinget Er regeringen begyndt at have lov...      0\n",
       "23   RT @madsfuglede: Ukrainske landmænd viser os h...      0\n",
       "122  @VestergaardJorn @alexsjoeberg @majatgreenwood...      0\n",
       "12   RT @concitoinfo: Hvis vi tænker løsningen af f...      1\n",
       "\n",
       "[138 rows x 2 columns]"
      ]
     },
     "execution_count": 8,
     "metadata": {},
     "output_type": "execute_result"
    }
   ],
   "source": [
    "data_twitter = data_twitter.rename({'tweet':'text'}, axis=1)\n",
    "data_twitter = data_twitter[['text', 'label']]\n",
    "train, test = train_test_split(data_twitter, test_size=.30)\n",
    "train.reset_index(drop=True)\n",
    "test.reset_index(drop=True)\n"
   ]
  },
  {
   "cell_type": "code",
   "execution_count": 9,
   "metadata": {},
   "outputs": [
    {
     "data": {
      "text/plain": [
       "703"
      ]
     },
     "execution_count": 9,
     "metadata": {},
     "output_type": "execute_result"
    }
   ],
   "source": [
    "data_labeled_ft = data_labeled_ft[['text', 'label']]\n",
    "data_labeled_ft.dropna(inplace=True)\n",
    "len(data_labeled_ft)"
   ]
  },
  {
   "cell_type": "code",
   "execution_count": 10,
   "metadata": {},
   "outputs": [
    {
     "data": {
      "text/html": [
       "<div>\n",
       "<style scoped>\n",
       "    .dataframe tbody tr th:only-of-type {\n",
       "        vertical-align: middle;\n",
       "    }\n",
       "\n",
       "    .dataframe tbody tr th {\n",
       "        vertical-align: top;\n",
       "    }\n",
       "\n",
       "    .dataframe thead th {\n",
       "        text-align: right;\n",
       "    }\n",
       "</style>\n",
       "<table border=\"1\" class=\"dataframe\">\n",
       "  <thead>\n",
       "    <tr style=\"text-align: right;\">\n",
       "      <th></th>\n",
       "      <th>text</th>\n",
       "      <th>label</th>\n",
       "    </tr>\n",
       "  </thead>\n",
       "  <tbody>\n",
       "    <tr>\n",
       "      <th>0</th>\n",
       "      <td>Det her gør vi med åbent sind, med løftet pand...</td>\n",
       "      <td>0</td>\n",
       "    </tr>\n",
       "    <tr>\n",
       "      <th>1</th>\n",
       "      <td>For hvordan kan vi fejre demokratiet, når det ...</td>\n",
       "      <td>0</td>\n",
       "    </tr>\n",
       "    <tr>\n",
       "      <th>2</th>\n",
       "      <td>Børn, som vokser op i sådanne områder, får ind...</td>\n",
       "      <td>0</td>\n",
       "    </tr>\n",
       "    <tr>\n",
       "      <th>3</th>\n",
       "      <td>Tak til ordføreren for talen. Jeg ved, at noge...</td>\n",
       "      <td>1</td>\n",
       "    </tr>\n",
       "    <tr>\n",
       "      <th>4</th>\n",
       "      <td>Men jeg vil blot helt overordnet sige, at rege...</td>\n",
       "      <td>0</td>\n",
       "    </tr>\n",
       "    <tr>\n",
       "      <th>...</th>\n",
       "      <td>...</td>\n",
       "      <td>...</td>\n",
       "    </tr>\n",
       "    <tr>\n",
       "      <th>121</th>\n",
       "      <td>@petertstaal @larskohler Det fundamentale prob...</td>\n",
       "      <td>1</td>\n",
       "    </tr>\n",
       "    <tr>\n",
       "      <th>213</th>\n",
       "      <td>RT @MariaGjerding: 2/2 Men i en tid med risiko...</td>\n",
       "      <td>0</td>\n",
       "    </tr>\n",
       "    <tr>\n",
       "      <th>62</th>\n",
       "      <td>RT @MariaGjerding: 2/2 Men i en tid med risiko...</td>\n",
       "      <td>0</td>\n",
       "    </tr>\n",
       "    <tr>\n",
       "      <th>47</th>\n",
       "      <td>Magten beskytter de villige soldater:\\n\"For go...</td>\n",
       "      <td>0</td>\n",
       "    </tr>\n",
       "    <tr>\n",
       "      <th>48</th>\n",
       "      <td>RT @wessendorfk: Klimaforandringerne oprethold...</td>\n",
       "      <td>1</td>\n",
       "    </tr>\n",
       "  </tbody>\n",
       "</table>\n",
       "<p>1025 rows × 2 columns</p>\n",
       "</div>"
      ],
      "text/plain": [
       "                                                  text  label\n",
       "0    Det her gør vi med åbent sind, med løftet pand...      0\n",
       "1    For hvordan kan vi fejre demokratiet, når det ...      0\n",
       "2    Børn, som vokser op i sådanne områder, får ind...      0\n",
       "3    Tak til ordføreren for talen. Jeg ved, at noge...      1\n",
       "4    Men jeg vil blot helt overordnet sige, at rege...      0\n",
       "..                                                 ...    ...\n",
       "121  @petertstaal @larskohler Det fundamentale prob...      1\n",
       "213  RT @MariaGjerding: 2/2 Men i en tid med risiko...      0\n",
       "62   RT @MariaGjerding: 2/2 Men i en tid med risiko...      0\n",
       "47   Magten beskytter de villige soldater:\\n\"For go...      0\n",
       "48   RT @wessendorfk: Klimaforandringerne oprethold...      1\n",
       "\n",
       "[1025 rows x 2 columns]"
      ]
     },
     "execution_count": 10,
     "metadata": {},
     "output_type": "execute_result"
    }
   ],
   "source": [
    "combined = pd.concat([data_labeled_ft, train])\n",
    "combined['label'] = combined.apply(lambda x: int(x['label']), axis=1)"
   ]
  },
  {
   "cell_type": "code",
   "execution_count": 11,
   "metadata": {},
   "outputs": [],
   "source": [
    "combined.to_csv(\"labeled_ft_tw1025.csv\")\n",
    "test.to_csv(\"labeled_tw138_testing.csv\")"
   ]
  }
 ],
 "metadata": {
  "interpreter": {
   "hash": "36e2581dfb10b7e3de3547be529c2e8e9e4d59798f578734b808d68ebdb931d0"
  },
  "kernelspec": {
   "display_name": "Python 3.7.0 64-bit",
   "language": "python",
   "name": "python3"
  },
  "language_info": {
   "codemirror_mode": {
    "name": "ipython",
    "version": 3
   },
   "file_extension": ".py",
   "mimetype": "text/x-python",
   "name": "python",
   "nbconvert_exporter": "python",
   "pygments_lexer": "ipython3",
   "version": "3.7.0"
  },
  "orig_nbformat": 4
 },
 "nbformat": 4,
 "nbformat_minor": 2
}
