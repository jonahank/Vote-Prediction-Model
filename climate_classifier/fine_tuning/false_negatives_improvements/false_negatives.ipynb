{
 "cells": [
  {
   "cell_type": "markdown",
   "metadata": {},
   "source": [
    "# The Purpose of this code section is to add false negatives to our training data sample for klimaBERT\n"
   ]
  },
  {
   "cell_type": "code",
   "execution_count": 6,
   "metadata": {},
   "outputs": [],
   "source": [
    "import pandas as pd"
   ]
  },
  {
   "cell_type": "markdown",
   "metadata": {},
   "source": [
    "First run of KlimaBERT on the votes data. Finding false negatives in the sample to feed them back to the algorithm as new training data."
   ]
  },
  {
   "cell_type": "code",
   "execution_count": 2,
   "metadata": {},
   "outputs": [],
   "source": [
    "climate_votes = pd.read_pickle(\"/home/gugy/Documents/NLP-Climate-Politics-DK/climate_classifier/scored_data/votes_data_climate.pkl\")\n",
    "no_climate_votes = pd.read_pickle(\"/home/gugy/Documents/NLP-Climate-Politics-DK/climate_classifier/scored_data/votes_data_non_climate.pkl\")\n"
   ]
  },
  {
   "cell_type": "code",
   "execution_count": 3,
   "metadata": {},
   "outputs": [],
   "source": [
    "no_climate_votes.dropna(inplace=True)\n",
    "climate_votes.drop_duplicates(subset='description_text', inplace=True)\n",
    "climate_votes.reset_index(drop=True, inplace=True)\n"
   ]
  },
  {
   "cell_type": "markdown",
   "metadata": {},
   "source": [
    "Generally good quality data for the climate votes (True Positives) --> Can be inspected below"
   ]
  },
  {
   "cell_type": "code",
   "execution_count": 4,
   "metadata": {},
   "outputs": [
    {
     "data": {
      "text/plain": [
       "\"Beslutningsforslaget opfordrede finansministeren til at trække aktstykke nr. 53 om salg af aktier i DONG Energy A/S tilbage. Ifølge forslagsstillerne var der flere gode grunde til at revurdere det fremlagte aktstykke, bl.a. et usædvanligt forslag om, at ledelsen, banker og rådgivere i forbindelse med salget fritages for ansvar. Endvidere var der en række verserende sager mod DONG fra kunder og andre aktionærer i DONG, og fra en klimapolitisk synsvinkel var det efter forslagsstillernes opfattelse forkert at privatisere landets største energiproducent. En aktuel sag med DONG Energy's byggeri af et kulkraftværk i Tyskland viste de negative klimapolitiske konsekvenser ved at drive selskabet efter økonomiske og ikke klimamæssige hensyn.\""
      ]
     },
     "execution_count": 4,
     "metadata": {},
     "output_type": "execute_result"
    }
   ],
   "source": [
    "climate_votes['date']\n",
    "climate_votes['description_text'][15]"
   ]
  },
  {
   "cell_type": "markdown",
   "metadata": {},
   "source": [
    "Looking for false negatives to add as new training data for klimaBERT"
   ]
  },
  {
   "cell_type": "code",
   "execution_count": 5,
   "metadata": {},
   "outputs": [],
   "source": [
    "import re\n",
    "\n",
    "klimaforandringer = re.compile(r\"(K|k)lima(forandringer)?(ne)?\")\n",
    "co2 = re.compile(r\"(CO 2)|(CO2)|(kulstof(udledning(en)?)?)|(co2)|drivhusgas(ser)?|klimaplan\")\n",
    "grøn_omstilling = re.compile(r\"grøn(ne)? omstilling\")\n",
    "global_opvarmning = re.compile(r\"global(e)? opvarmning\")\n",
    "\n"
   ]
  },
  {
   "cell_type": "markdown",
   "metadata": {},
   "source": [
    "First inspection with some regex queries"
   ]
  },
  {
   "cell_type": "code",
   "execution_count": 6,
   "metadata": {},
   "outputs": [],
   "source": [
    "no_climate_votes['klimaforandringer'] = no_climate_votes['description_text'].apply(lambda x: 1 if re.search(klimaforandringer, x)!=None else 0)\n",
    "no_climate_votes['CO2'] = no_climate_votes['description_text'].apply(lambda x: 1 if re.search(co2, x)!=None else 0)\n",
    "no_climate_votes['grøn_omstilling'] = no_climate_votes['description_text'].apply(lambda x: 1 if re.search(grøn_omstilling, x)!=None else 0)\n",
    "no_climate_votes['global_opvarmning'] = no_climate_votes['description_text'].apply(lambda x: 1 if re.search(global_opvarmning, x)!=None else 0)\n"
   ]
  },
  {
   "cell_type": "markdown",
   "metadata": {},
   "source": [
    "There seem to be some duplicates (Worth looking into some data_cleaning here perhaps --> alternative drop the duplicates)"
   ]
  },
  {
   "cell_type": "code",
   "execution_count": 7,
   "metadata": {},
   "outputs": [
    {
     "name": "stderr",
     "output_type": "stream",
     "text": [
      "/home/gugy/anaconda3/lib/python3.7/site-packages/ipykernel_launcher.py:6: SettingWithCopyWarning: \n",
      "A value is trying to be set on a copy of a slice from a DataFrame\n",
      "\n",
      "See the caveats in the documentation: https://pandas.pydata.org/pandas-docs/stable/user_guide/indexing.html#returning-a-view-versus-a-copy\n",
      "  \n"
     ]
    }
   ],
   "source": [
    "p_false_negatives = no_climate_votes[(no_climate_votes.CO2 == 1) | (no_climate_votes.klimaforandringer==1) | (no_climate_votes.grøn_omstilling==1)]\n",
    "\n",
    "p_false_negatives['description_text']\n",
    "\n",
    "#There seem to be some duplicates (Worth looking into some data_cleaning here)\n",
    "p_false_negatives.drop_duplicates(subset='description_text', inplace=True)\n",
    "p_false_negatives.reset_index(inplace=True, drop=True)\n"
   ]
  },
  {
   "cell_type": "code",
   "execution_count": 8,
   "metadata": {},
   "outputs": [
    {
     "name": "stdout",
     "output_type": "stream",
     "text": [
      "58\n"
     ]
    },
    {
     "name": "stderr",
     "output_type": "stream",
     "text": [
      "/home/gugy/anaconda3/lib/python3.7/site-packages/ipykernel_launcher.py:2: SettingWithCopyWarning: \n",
      "A value is trying to be set on a copy of a slice from a DataFrame.\n",
      "Try using .loc[row_indexer,col_indexer] = value instead\n",
      "\n",
      "See the caveats in the documentation: https://pandas.pydata.org/pandas-docs/stable/user_guide/indexing.html#returning-a-view-versus-a-copy\n",
      "  \n"
     ]
    },
    {
     "data": {
      "text/plain": [
       "'Formålet med lovforslaget er at fremme udnyttelsen af overskudsvarme. Lovforslaget gennemfører initiativer, der har ophæng i Energiaftale af 29. juni 2018, Aftale om øget udnyttelse af overskudsvarme af 23. marts 2019, Klimaaftale for energi og industri mv. af 22. juni 2020  (S, V, DF, RV, SF, EL, KF, LA og ALT) og Opfølgende aftale om fremme af overskudsvarme af 7. september 2021 mellem samme partier. Lovforslaget indeholder tre hovedpunkter; prisregulering af overskudsvarme, herunder en bagatelgrænse for prisregulering, en energieffektiviseringsordning for overskudsvarme og afgiftsfritagelse for energieffektiv ekstern overskudsvarme.'"
      ]
     },
     "execution_count": 8,
     "metadata": {},
     "output_type": "execute_result"
    }
   ],
   "source": [
    "print(len(p_false_negatives))\n",
    "p_false_negatives['false_negative'] = 0\n",
    "p_false_negatives['description_text'][57]"
   ]
  },
  {
   "cell_type": "code",
   "execution_count": 12,
   "metadata": {},
   "outputs": [],
   "source": [
    "index_lst = [0, 1, 2, 6, 9, 13, 17, 18, 20, 26, 52, 53, 56, 57]\n",
    "\n",
    "for i in index_lst:\n",
    "    p_false_negatives.at[i, 'false_negative'] = 1\n",
    "p_false_negatives[['description_text', 'false_negative']]\n",
    "\n",
    "len(p_false_negatives[p_false_negatives['false_negative']==1])\n",
    "\n",
    "view_false_negatives = p_false_negatives[p_false_negatives['false_negative']==1]"
   ]
  },
  {
   "cell_type": "code",
   "execution_count": 18,
   "metadata": {},
   "outputs": [
    {
     "name": "stderr",
     "output_type": "stream",
     "text": [
      "/home/gugy/anaconda3/lib/python3.7/site-packages/ipykernel_launcher.py:1: SettingWithCopyWarning: \n",
      "A value is trying to be set on a copy of a slice from a DataFrame.\n",
      "Try using .loc[row_indexer,col_indexer] = value instead\n",
      "\n",
      "See the caveats in the documentation: https://pandas.pydata.org/pandas-docs/stable/user_guide/indexing.html#returning-a-view-versus-a-copy\n",
      "  \"\"\"Entry point for launching an IPython kernel.\n"
     ]
    }
   ],
   "source": [
    "view_false_negatives['label'] = 1 \n",
    "view_false_negatives = view_false_negatives[['description_text', 'label']]\n"
   ]
  },
  {
   "cell_type": "code",
   "execution_count": 28,
   "metadata": {},
   "outputs": [],
   "source": [
    "view_true_negatives = no_climate_votes.sample(n=14, random_state=30)\n",
    "view_true_negatives['label'] = 0\n",
    "\n",
    "view_true_negatives = view_true_negatives[['description_text', 'label']]"
   ]
  },
  {
   "cell_type": "code",
   "execution_count": 32,
   "metadata": {},
   "outputs": [],
   "source": [
    "frames = [view_true_negatives, view_false_negatives]\n",
    "\n",
    "votes_to_add = pd.concat(frames)\n",
    "\n",
    "votes_to_add.to_pickle(\"votes_false_true_negatives.pkl\")\n"
   ]
  },
  {
   "cell_type": "markdown",
   "metadata": {},
   "source": [
    "### Improvements based on the meetings data\n",
    "\n",
    "The following added data is based on the negatives from a first prediction iteration using KlimaBert V2 (with twitter_data and folketings data)"
   ]
  },
  {
   "cell_type": "code",
   "execution_count": 39,
   "metadata": {},
   "outputs": [],
   "source": [
    "non_climate_meeting_quotes = pd.read_csv('ft_meetings_non_climate_50k_1.csv')"
   ]
  },
  {
   "cell_type": "code",
   "execution_count": 40,
   "metadata": {},
   "outputs": [
    {
     "data": {
      "text/plain": [
       "re.compile(r'((K|k)lima(forandringer)(ne)?|global(e)? opvarmning|(K|k)limakrise(n)|klimabelastende?|CO 2|CO2|CO_2|Co_2|CO2|Kuldioxid|drivhusgas(udledning(en)?)?|kulstofsudledningen|grøn(ne)? omstilling|CO 2-reduction|CO 2-neutral|Paris-aftalen|COP\\d{1,2}|CO 2-afgift|CO 2-skat)',\n",
       "re.UNICODE)"
      ]
     },
     "execution_count": 40,
     "metadata": {},
     "output_type": "execute_result"
    }
   ],
   "source": [
    "import re\n",
    "\n",
    "#Some Danish climate-related regex:\n",
    "#klima = '(K|k)limaet)'\n",
    "klima_forandringer = '(K|k)lima(forandringer)(ne)?|global(e)? opvarmning|(K|k)limakrise(n)|klimabelastende?'\n",
    "co2 = 'CO 2|CO2|CO_2|Co_2|CO2|Kuldioxid|drivhusgas(udledning(en)?)?|kulstofsudledningen'\n",
    "målsætning = 'grøn(ne)? omstilling|CO 2-reduction|CO 2-neutral'\n",
    "politik = 'Paris-aftalen|COP\\d{1,2}|CO 2-afgift|CO 2-skat'\n",
    "løsninger = 'klimaløsning|CO 2-nedsættende'\n",
    "\n",
    "complete_klima_regex = re.compile(\"(%s|%s|%s|%s)\" % (klima_forandringer, co2, målsætning, politik))\n",
    "\n",
    "complete_klima_regex"
   ]
  },
  {
   "cell_type": "code",
   "execution_count": 44,
   "metadata": {},
   "outputs": [],
   "source": [
    "non_climate_meeting_quotes['climate_regex'] = non_climate_meeting_quotes['text'].apply(lambda x: 1 if re.search(complete_klima_regex, x)!=None else 0)"
   ]
  },
  {
   "cell_type": "code",
   "execution_count": 49,
   "metadata": {},
   "outputs": [],
   "source": [
    "view_quotes = non_climate_meeting_quotes[non_climate_meeting_quotes['climate_regex'] == 1]\n",
    "view_quotes.reset_index(drop=True, inplace=True)"
   ]
  },
  {
   "cell_type": "code",
   "execution_count": 292,
   "metadata": {},
   "outputs": [
    {
     "data": {
      "text/plain": [
       "\"Jeg vil gerne starte med at nævne det lille jubilæum, som dagen i dag faktisk også markerer, for vi har jo 1-års-jubilæum her i Folketinget nu i dag. Jeg ved godt, at det ikke altid har været lige nemt. Jeg tror også, at der er mange, for hvem det er overraskende, at vi ville komme op på et helt år, og der er også delte meninger i salen om det. Jeg vil gerne være den første til at ønske tillykke med, at der her ved åbningsdebatten er gået præcis 1 år, siden vi sidste gang havde fornøjelsen af at have hr. Lars Løkke Rasmussen heroppe på talerstolen til at holde en tale. Det er 1 år siden, Venstres formand havde noget politik, som han mente han kunne stå på mål for her på landets vigtigste talerstol. Dengang tog han ordet kl. 23.57 som privatist, hedder det, og det er måske meget sigende, altså det her med privatist – dermed mener jeg alle de millionergaver i form af overbetaling af privathospitaler, som hr. Lars Løkke Rasmussen stod for som sundhedsminister; opblomstringen af private sundhedsforsikringer betalt af de skatteydere, der ikke selv havde råd under VKO. Med alle de angreb på fællesskabets værdier, som Venstre står for under hr. Lars Løkke Rasmussen, så er det vel netop som privatist, danskerne kender ham. Den sidste reelle tale, jeg faktisk kan huske at oppositionens leder holdt, holdt han, sidste gang han stod her på Folketingets talerstol som partiformand. Det er 1 ½ år siden. Da prøvede han at bilde danskerne ind, at krisen var overstået, forsvundet som dug for solen, takket være hans såkaldte lederskab. Efter at han havde tabt 130 job om dagen, hver eneste dag, som statsminister i Danmark, sagde han, og jeg citerer: Vi er netop kommet igennem den værste økonomiske krise i mange år. Vi har nu lagt krisen bag os. »Vi har nu lagt krisen bag os«! Venstre opdagede krisen for sent, Venstre håndterede krisen forkert, og Venstre afblæste krisen alt for tidligt. Derfor var det dyrt for Danmark at have hr. Lars Løkke Rasmussen som statsminister. Derfor har vi nu en regering baseret på et nyt flertal, som skaber arbejdspladser, som sikrer en troværdig økonomi, og som ruster nationen til fremtiden ved at investere i vores skoler, i grøn energi og i et socialt løft til dem, der har allermest behov for det. Jeg synes, det er en styrke, at vi bruger kriser til at bygge Danmark op. I 1930'erne under Stauning byggede vi Storstrømsbroen og Lillebæltsbroen, bl.a. for at skaffe arbejde til de mange arbejdsløse. I 1970'erne brugte vi energikrisen til at gøre Danmark til et af de lande, der varmer husene op på den mest effektive måde. I 1990'erne fik vi bl.a. bugt med den høje arbejdsløshed ved for alvor at sparke den nye industri omkring vindmølleindustrien i gang. Her i 10'erne har vi fat i alle håndtag igen. Der bliver bygget tunnel til Tyskland. Vi bygger storstrømsbro en gang til. Vi energirenoverer huse og vores institutioner for fuld kraft. Vi sætter vindmøller på havet, solceller på tagene. Vi skaber tusindvis af arbejdspladser ved at fremtidssikre vores fælles velfærdssamfund, og vi skaber jo samtidig en vej ud af krisen, nemlig den krise, som de 10 spildte år i de brølende 00'ere slet ikke rustede os til at møde. Når jeg i dag hører Venstre, er det, som om de fuldstændig har fået slettet de sidste 10 år af hukommelsen. Skal vi virkelig have den politik, der ved at give kæmpe skattelettelser til de rigeste skabte økonomiske bobler, tilbage? Skal vi virkelig have mere af den politik, der overhørte alle advarsler og førte Danmark lige direkte ind i krisen? Skal vi virkelig have mere af den politik, der forværrede krisens konsekvenser for tusindvis af danske familier? Nej. Nu skal fællesskabet styrkes. Nu skal der løftes i flok. Nu skal Danmark tilbage på sporet. Vi Socialdemokrater ved i vores hjerter, hvad det betyder for en far eller en mor at gå den tunge vej hjem, sætte sig ved køkkenbordet og skulle fortælle familien, at nu er det slut for denne gang, nu kommer der ikke mere løn ind, nu er der ikke længere brug for far eller mor på arbejdsmarkedet. Vi ved, hvilken utryghed det skaber i familierne, når man er bange for, at man skal miste jobbet. Vi ved også, hvordan nedskæringer i vores fælles velfærd først og fremmest rammer helt almindelige danske familier, der er afhængige af gode skoler, et godt og gratis sundhedsvæsen og en værdig ældrepleje. Derfor standsede vi den blødning, som Venstre lod fortsætte, af de danske arbejdspladser. Derfor skaber vi næste år 21.000 job i vores kickstart, og derfor er vi stolte af at være Danmarks arbejderparti nr. 1. Imens sidder de hos Venstre og venter på, at en samling superhelte skal komme flyvende. Det er dem, hr. Løkke Rasmussen kalder hverdagens helte. Og hvem er så er det? Er en hverdagshelt en skolelærer, der tager fat i kraven på en ung, begavet knægt, som bruger for meget tid på at hænge ud med de forkerte og for lidt tid på lektierne? Nej, ikke hos Venstre. Er det måske den travle tømrer, der bruger aftener og weekender som træner i den lokale fodboldklub? Er han en af hverdagens helte? Nej, ikke ifølge Venstre. Hvad så med en arbejdsløs nyuddannet elektriker, der fik en fyreseddel sammen med sit svendebrev og siden har knoklet i løntilskudsjob, virksomhedspraktik og taget kurser, og som stadig klør på for at få det svære fodfæste på arbejdsmarkedet? Nej, det er ikke hverdagens helte i en Venstremands øjne. Spørg bare hr. Løkke Rasmussen. Han stod forleden til topmødet i Dansk Industri og så ud over forsamlingen af erhvervslivets spidser – det er jo primært mænd – mennesker med millioner på kontoen, Mercedes i garagen, villaer i landets dyreste kvarterer, altså folk, der jo tilhører den absolutte økonomiske elite i Danmark. Da lod hr. Lars Løkke Rasmussen hjertet løbe af med sig og erklærede: I er hverdagens helte. Jeg vil gerne slå fast, at jeg har en kæmpe respekt for de danske erhvervsledere. Vi har masser af dygtige, fremsynede erhvervsfolk i Danmark – og godt for det! Sammen med dygtige medarbejdere er det jo helt afgørende for, at Danmark efter 10 års stilstand kan rykke frem igen med konkurrencekraft og eksport. Men der er jo også dele af erhvervslivet, der har, jeg tror man må kalde mindre format. Forleden kunne en nyudnævnt direktør forlade Svendborg Sparekasse efter kun 19 dage, under 3 ugers arbejde, men med en bonus på 1 mio. kr. på lommen. Det er jo velbetalt dovenskab. Og han hed vist ikke engang Robert. Denne bankdirektør repræsenterer selvfølgelig ikke dansk erhvervsliv, lige så lidt som Robert repræsenterer danske arbejdsløse, men kontrasten er jo alligevel slående. På den ene side er der de vellønnede direktører med bonus i inderlommen, Venstres helte, og på den anden side er de danske lønmodtagere, der i år – uden strejker, uden arbejdsnedlæggelser, uden demonstrationer – har accepteret historisk ansvarlige overenskomster. Mange oplever en reel lønnedgang, men de accepterer det, for de ved godt, at Danmark står i en svær situation. Hvad er så Venstres budskab til de mennesker, dem, der knokler hver eneste dag for at få Danmark ud af krisen? Ja, budskabet fra Venstre er, at de danske familier godt kan forberede sig på dramatiske lønnedgange, for det er jo lige netop konsekvensen af Venstre og Dansk Folkepartis forslag om at fjerne danske lønmodtageres ret til at sige fra over for polske og rumænske overenskomster her i Danmark. Der er i sandhed en ny alliance her i dansk politik – en alliance mellem Venstre og Dansk Folkeparti; en alliance med målrettede angreb på de lavtlønnede danskere; en alliance, der sætter spørgsmålstegn ved noget helt grundlæggende, nemlig om man skal kunne leve og forsørge sin familie ved at have et fuldtidsarbejde i Danmark. Jeg tror faktisk, der er en del borgerlige vælgere, som vil opfatte det som noget af et tvangsægteskab sådan at slå pjalterne sammen mellem Venstre og Dansk Folkeparti, og konsekvensen af deres forslag er, at vi risikerer at få en ny underklasse i Danmark, og at vi skubber de familier ud i fattigdom, hvor far og mor arbejder 40, 50, 60 timer om ugen, men til så lav en timeløn, at der alligevel ikke er råd til at forsørge familien. Den måde ser vi ikke på mennesker på i Danmark. Det har vi aldrig gjort, og det kommer vi aldrig til at gøre. Derfor vil jeg på vegne af partierne Socialdemokraterne, Det Radikale Venstre, SF og Enhedslisten fremsætte og med formandens tilladelse oplæse følgende: Forslag til vedtagelse »Folketinget konstaterer, at Danmark stod dårligt rustet til at stå imod den økonomiske krise og derfor mistede uforholdsmæssigt mange arbejdspladser. Den økonomiske krise har fortsat et alvorligt tag i Danmark. I den situation er der fortsat behov for en politisk indsats for at skabe arbejdspladser på kort og på lang sigt, bl.a. gennem grøn omstilling, at bekæmpe ulighed, fattigdom og social dumping samt at løfte Danmark uddannelsesmæssigt, så den næste generation bliver den dygtigste nogen sinde. (Forslag til vedtagelse nr. V 2).\""
      ]
     },
     "execution_count": 292,
     "metadata": {},
     "output_type": "execute_result"
    }
   ],
   "source": [
    "view_quotes['text'][3]\n",
    "\n",
    "#One key finding here is that many of the false negatives are the very long texts"
   ]
  },
  {
   "cell_type": "code",
   "execution_count": 97,
   "metadata": {},
   "outputs": [],
   "source": [
    "import nltk\n",
    "\n",
    "sent_breakdown = {'text': [],\n",
    "}\n",
    "\n",
    "#Change this to get a different quote sample (random vs. cliamte regexed)\n",
    "full_quotes = view_quotes  #full_quotes_climate_sample\n",
    "\n",
    "for index, row in full_quotes.iterrows():\n",
    "    \n",
    "    full_stops = re.compile(\"\\.|\\?|\\!\")\n",
    "    sents = re.split(full_stops, row.text)\n",
    "    \n",
    "    number_of_sentences = 6\n",
    "    \n",
    "    previous_index = 0\n",
    "    for i in range(0,len(sents), number_of_sentences):\n",
    "        sent_breakdown['text'].append(\".\".join(sents[previous_index:i]).strip()+\".\")\n",
    "        \n",
    "        previous_index = i\n",
    "        if i + 2 >= len(sents):\n",
    "            sent_breakdown['text'][-1] += \".\".join(sents[i:-1])\n",
    "        elif i + 3 >= len(sents):\n",
    "            sent_breakdown['text'].append(\".\".join(sents[i:-1]).strip()+\".\")\n",
    "    "
   ]
  },
  {
   "cell_type": "code",
   "execution_count": 98,
   "metadata": {},
   "outputs": [],
   "source": [
    "#Actually 6 sents!\n",
    "three_sent_breakdown_view = pd.DataFrame(sent_breakdown)"
   ]
  },
  {
   "cell_type": "code",
   "execution_count": 99,
   "metadata": {},
   "outputs": [],
   "source": [
    "three_sent_breakdown_view['climate_regex'] = three_sent_breakdown_view['text'].apply(lambda x: 1 if re.search(complete_klima_regex, x)!=None else 0)"
   ]
  },
  {
   "cell_type": "code",
   "execution_count": 132,
   "metadata": {},
   "outputs": [],
   "source": [
    "six_sent_view = three_sent_breakdown_view[three_sent_breakdown_view['climate_regex']==1].reset_index(drop=True)\n"
   ]
  },
  {
   "cell_type": "code",
   "execution_count": 134,
   "metadata": {},
   "outputs": [],
   "source": [
    "i = 10"
   ]
  },
  {
   "cell_type": "code",
   "execution_count": 339,
   "metadata": {},
   "outputs": [
    {
     "name": "stdout",
     "output_type": "stream",
     "text": [
      "183\n",
      "Tak for det, formand. Jeg vil gerne takke Enhedslisten for at have taget initiativ til den her debat om, hvilke konkrete initiativer regeringen vil tage for at opfylde sin egen målsætning om at reducere udledningen af CO 2 -udslippet med 40 pct. i 2020. Det er jo ikke noget nyt forslag. Både før valget og i regeringsgrundlaget så vi jo det her helt konkrete forslag om at reducere CO 2 -udledningen i 2020 med 40 pct. Man kan vel godt på en dag som denne sådan lidt frækt sige, at det her jo er et af de få valgløfter, som regeringen har i sinde at gennemføre.\n"
     ]
    }
   ],
   "source": [
    "i += 1\n",
    "print(i)\n",
    "print(six_sent_view['text'][i])"
   ]
  },
  {
   "cell_type": "code",
   "execution_count": 340,
   "metadata": {},
   "outputs": [
    {
     "data": {
      "text/plain": [
       "65"
      ]
     },
     "execution_count": 340,
     "metadata": {},
     "output_type": "execute_result"
    }
   ],
   "source": [
    "#climate related texts from the the false negatives sample (when broken up)\n",
    "index_lst2 = [0, 4, 5, 20, 21, 22, 23, 24, 25, 27, 28, 29, 30, 33, 34, 37, 38, 44, 47, 48, 49, 50, 51, 52, 53, 54, 55, 56, 62, 63, 64, 66, 67, 68, 69, 70, 71, 72, 78, 81, 84, 85, 86, 87, 92, 93, 94, 100, 103, 106, 107, 110, 111, 114, 115, \n",
    "              117, 118, 130, 142, 143, 144, 163, 172, 179, 182]\n",
    "len(index_lst2)\n"
   ]
  },
  {
   "cell_type": "code",
   "execution_count": 13,
   "metadata": {},
   "outputs": [
    {
     "name": "stdout",
     "output_type": "stream",
     "text": [
      "308\n",
      "488\n",
      "diff 180\n",
      "796\n",
      "0.3869346733668342\n"
     ]
    }
   ],
   "source": [
    "positives = 229 + 65 + 14\n",
    "print(positives)\n",
    "negatives = 14 + 474\n",
    "print(negatives)\n",
    "print(\"diff\", negatives-positives)\n",
    "\n",
    "total = negatives + positives\n",
    "print(total)\n",
    "balance = positives / total\n",
    "print(balance)\n"
   ]
  },
  {
   "cell_type": "code",
   "execution_count": null,
   "metadata": {},
   "outputs": [],
   "source": [
    "for i in index_lst2:\n",
    "    six_sent_view.at[i, 'label'] = 1\n",
    "\n",
    "six_sent_false_negatives = six_sent_view[six_sent_view.label == 1.0]\n",
    "six_sent_false_negatives['label'] =six_sent_false_negatives['label'].apply(lambda x: int(x))\n"
   ]
  },
  {
   "cell_type": "code",
   "execution_count": 350,
   "metadata": {},
   "outputs": [],
   "source": [
    "\n",
    "six_sent_false_negatives[['text', 'label']].to_pickle(\"50k_ft_meetings_false_negatives.pkl\")"
   ]
  },
  {
   "cell_type": "markdown",
   "metadata": {},
   "source": [
    "### Inspecting the originally labeled data"
   ]
  },
  {
   "cell_type": "code",
   "execution_count": 7,
   "metadata": {},
   "outputs": [],
   "source": [
    "original_labeled_data = pd.read_csv(\"/home/gugy/Documents/NLP-Climate-Politics-DK/climate_classifier/labeling/800_3sent_label703.csv\")"
   ]
  },
  {
   "cell_type": "code",
   "execution_count": 8,
   "metadata": {},
   "outputs": [],
   "source": [
    "original_labeled = original_labeled_data[['text', 'label']][0:703]"
   ]
  },
  {
   "cell_type": "code",
   "execution_count": 313,
   "metadata": {},
   "outputs": [],
   "source": [
    "original_labeled['label'] = original_labeled['label'].apply(lambda x: int(x))"
   ]
  },
  {
   "cell_type": "code",
   "execution_count": 9,
   "metadata": {},
   "outputs": [
    {
     "data": {
      "text/html": [
       "<div>\n",
       "<style scoped>\n",
       "    .dataframe tbody tr th:only-of-type {\n",
       "        vertical-align: middle;\n",
       "    }\n",
       "\n",
       "    .dataframe tbody tr th {\n",
       "        vertical-align: top;\n",
       "    }\n",
       "\n",
       "    .dataframe thead th {\n",
       "        text-align: right;\n",
       "    }\n",
       "</style>\n",
       "<table border=\"1\" class=\"dataframe\">\n",
       "  <thead>\n",
       "    <tr style=\"text-align: right;\">\n",
       "      <th></th>\n",
       "      <th>text</th>\n",
       "      <th>label</th>\n",
       "    </tr>\n",
       "  </thead>\n",
       "  <tbody>\n",
       "    <tr>\n",
       "      <th>0</th>\n",
       "      <td>Det her gør vi med åbent sind, med løftet pand...</td>\n",
       "      <td>0.0</td>\n",
       "    </tr>\n",
       "    <tr>\n",
       "      <th>1</th>\n",
       "      <td>For hvordan kan vi fejre demokratiet, når det ...</td>\n",
       "      <td>0.0</td>\n",
       "    </tr>\n",
       "    <tr>\n",
       "      <th>2</th>\n",
       "      <td>Børn, som vokser op i sådanne områder, får ind...</td>\n",
       "      <td>0.0</td>\n",
       "    </tr>\n",
       "    <tr>\n",
       "      <th>4</th>\n",
       "      <td>Men jeg vil blot helt overordnet sige, at rege...</td>\n",
       "      <td>0.0</td>\n",
       "    </tr>\n",
       "    <tr>\n",
       "      <th>5</th>\n",
       "      <td>I Nye Borgerlige foreslog vi, at dagens beslut...</td>\n",
       "      <td>0.0</td>\n",
       "    </tr>\n",
       "    <tr>\n",
       "      <th>...</th>\n",
       "      <td>...</td>\n",
       "      <td>...</td>\n",
       "    </tr>\n",
       "    <tr>\n",
       "      <th>697</th>\n",
       "      <td>For eksempel var der en diskussion før mellem ...</td>\n",
       "      <td>0.0</td>\n",
       "    </tr>\n",
       "    <tr>\n",
       "      <th>698</th>\n",
       "      <td>I en situation, hvor den Venstreledede regerin...</td>\n",
       "      <td>0.0</td>\n",
       "    </tr>\n",
       "    <tr>\n",
       "      <th>700</th>\n",
       "      <td>Og lige så vel som på andre dele af natur- og ...</td>\n",
       "      <td>0.0</td>\n",
       "    </tr>\n",
       "    <tr>\n",
       "      <th>701</th>\n",
       "      <td>Vi kunne ikke være med, fordi den indeholder f...</td>\n",
       "      <td>0.0</td>\n",
       "    </tr>\n",
       "    <tr>\n",
       "      <th>702</th>\n",
       "      <td>Det handler jo om, at vi skal have forlænget f...</td>\n",
       "      <td>0.0</td>\n",
       "    </tr>\n",
       "  </tbody>\n",
       "</table>\n",
       "<p>474 rows × 2 columns</p>\n",
       "</div>"
      ],
      "text/plain": [
       "                                                  text  label\n",
       "0    Det her gør vi med åbent sind, med løftet pand...    0.0\n",
       "1    For hvordan kan vi fejre demokratiet, når det ...    0.0\n",
       "2    Børn, som vokser op i sådanne områder, får ind...    0.0\n",
       "4    Men jeg vil blot helt overordnet sige, at rege...    0.0\n",
       "5    I Nye Borgerlige foreslog vi, at dagens beslut...    0.0\n",
       "..                                                 ...    ...\n",
       "697  For eksempel var der en diskussion før mellem ...    0.0\n",
       "698  I en situation, hvor den Venstreledede regerin...    0.0\n",
       "700  Og lige så vel som på andre dele af natur- og ...    0.0\n",
       "701  Vi kunne ikke være med, fordi den indeholder f...    0.0\n",
       "702  Det handler jo om, at vi skal have forlænget f...    0.0\n",
       "\n",
       "[474 rows x 2 columns]"
      ]
     },
     "execution_count": 9,
     "metadata": {},
     "output_type": "execute_result"
    }
   ],
   "source": [
    "original_labeled[original_labeled['label'] == 0]"
   ]
  },
  {
   "cell_type": "code",
   "execution_count": null,
   "metadata": {},
   "outputs": [],
   "source": []
  }
 ],
 "metadata": {
  "interpreter": {
   "hash": "31f2aee4e71d21fbe5cf8b01ff0e069b9275f58929596ceb00d14d90e3e16cd6"
  },
  "kernelspec": {
   "display_name": "Python 3.8.10 64-bit",
   "language": "python",
   "name": "python3"
  },
  "language_info": {
   "codemirror_mode": {
    "name": "ipython",
    "version": 3
   },
   "file_extension": ".py",
   "mimetype": "text/x-python",
   "name": "python",
   "nbconvert_exporter": "python",
   "pygments_lexer": "ipython3",
   "version": "3.7.0"
  },
  "orig_nbformat": 4
 },
 "nbformat": 4,
 "nbformat_minor": 2
}
