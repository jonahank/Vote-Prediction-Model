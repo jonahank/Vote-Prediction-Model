{
 "cells": [
  {
   "cell_type": "code",
   "execution_count": 8,
   "metadata": {},
   "outputs": [],
   "source": [
    "## imports\n",
    "import pandas as pd\n",
    "import json"
   ]
  },
  {
   "cell_type": "code",
   "execution_count": 9,
   "metadata": {},
   "outputs": [
    {
     "data": {
      "text/plain": [
       "['Socialdemokratiet',\n",
       " 'Venstre',\n",
       " 'Socialistisk Folkeparti',\n",
       " 'Det Radikale Venstre',\n",
       " 'Enhedslisten',\n",
       " 'Det Konservative Folkeparti',\n",
       " 'Dansk Folkeparti',\n",
       " 'Liberal Alliance',\n",
       " 'Alternativet']"
      ]
     },
     "execution_count": 9,
     "metadata": {},
     "output_type": "execute_result"
    }
   ],
   "source": [
    "with open('./party_lst.json') as json_file:\n",
    "    parties = json.load(json_file)\n",
    "parties"
   ]
  },
  {
   "cell_type": "code",
   "execution_count": 15,
   "metadata": {},
   "outputs": [],
   "source": [
    "pr_auc = [0.52,0.57,0.45,0.45,0.48,0.55,0.54,0.67,0.8]\n",
    "roc_auc = [0.73,0.72,0.64,0.67,0.63,0.71,0.75,0.66,0.75]\n",
    "prec = [0.41, 0.6, 0.33, 0.44, 0.5, 0.43, 0.53, 0.5, 0.88]\n",
    "recall = [0.39, 0.53, 0.22, 0.39, 0.35, 0.53, 0.53, 0.61, 0.58 ]\n",
    "f1_micro = [0.4,0.56,0.27,0.41,0.41,0.48,0.53,0.55,0.7]\n",
    "f1_macro = [0.6,0.71,0.54,0.61,0.57,0.66,0.68,0.60,0.76]\n",
    "abbr = [\"(S)\", \"(V)\",\"(SF)\",\"(RV)\",\"(EL)\", \"(KF)\", \"(DF)\", \"(LA)\", \"(ALT)\"]\n"
   ]
  },
  {
   "cell_type": "code",
   "execution_count": 18,
   "metadata": {},
   "outputs": [
    {
     "data": {
      "text/html": [
       "<div>\n",
       "<style scoped>\n",
       "    .dataframe tbody tr th:only-of-type {\n",
       "        vertical-align: middle;\n",
       "    }\n",
       "\n",
       "    .dataframe tbody tr th {\n",
       "        vertical-align: top;\n",
       "    }\n",
       "\n",
       "    .dataframe thead th {\n",
       "        text-align: right;\n",
       "    }\n",
       "</style>\n",
       "<table border=\"1\" class=\"dataframe\">\n",
       "  <thead>\n",
       "    <tr style=\"text-align: right;\">\n",
       "      <th></th>\n",
       "      <th>party</th>\n",
       "      <th>abbr</th>\n",
       "      <th>pr-auc</th>\n",
       "      <th>roc-auc</th>\n",
       "      <th>f1-micro</th>\n",
       "      <th>f1-macro</th>\n",
       "      <th>avg</th>\n",
       "      <th>precision</th>\n",
       "      <th>recall</th>\n",
       "    </tr>\n",
       "  </thead>\n",
       "  <tbody>\n",
       "    <tr>\n",
       "      <th>0</th>\n",
       "      <td>Socialdemokratiet</td>\n",
       "      <td>(S)</td>\n",
       "      <td>0.52</td>\n",
       "      <td>0.73</td>\n",
       "      <td>0.4</td>\n",
       "      <td>0.6</td>\n",
       "      <td>0.5625</td>\n",
       "      <td>0.41</td>\n",
       "      <td>0.39</td>\n",
       "    </tr>\n",
       "  </tbody>\n",
       "</table>\n",
       "</div>"
      ],
      "text/plain": [
       "               party abbr  pr-auc  roc-auc  f1-micro  f1-macro     avg  \\\n",
       "0  Socialdemokratiet  (S)    0.52     0.73       0.4       0.6  0.5625   \n",
       "\n",
       "   precision  recall  \n",
       "0       0.41    0.39  "
      ]
     },
     "execution_count": 18,
     "metadata": {},
     "output_type": "execute_result"
    }
   ],
   "source": [
    "\n",
    "df = pd.DataFrame()\n",
    "df[\"party\"] = parties\n",
    "df[\"abbr\"] = abbr\n",
    "df[\"pr-auc\"] = pr_auc\n",
    "df[\"roc-auc\"] = roc_auc\n",
    "df[\"f1-micro\"] = f1_micro\n",
    "df[\"f1-macro\"] = f1_macro\n",
    "df[\"avg\"] = df.mean(numeric_only=True, axis=1)\n",
    "df[\"precision\"] = prec\n",
    "df[\"recall\"] = recall\n",
    "df.head(1)\n"
   ]
  },
  {
   "cell_type": "code",
   "execution_count": 19,
   "metadata": {},
   "outputs": [
    {
     "data": {
      "text/html": [
       "<div>\n",
       "<style scoped>\n",
       "    .dataframe tbody tr th:only-of-type {\n",
       "        vertical-align: middle;\n",
       "    }\n",
       "\n",
       "    .dataframe tbody tr th {\n",
       "        vertical-align: top;\n",
       "    }\n",
       "\n",
       "    .dataframe thead th {\n",
       "        text-align: right;\n",
       "    }\n",
       "</style>\n",
       "<table border=\"1\" class=\"dataframe\">\n",
       "  <thead>\n",
       "    <tr style=\"text-align: right;\">\n",
       "      <th></th>\n",
       "      <th>pr-auc</th>\n",
       "      <th>roc-auc</th>\n",
       "      <th>f1-micro</th>\n",
       "      <th>f1-macro</th>\n",
       "      <th>avg</th>\n",
       "      <th>precision</th>\n",
       "      <th>recall</th>\n",
       "    </tr>\n",
       "  </thead>\n",
       "  <tbody>\n",
       "    <tr>\n",
       "      <th>count</th>\n",
       "      <td>9.00</td>\n",
       "      <td>9.00</td>\n",
       "      <td>9.00</td>\n",
       "      <td>9.00</td>\n",
       "      <td>9.00</td>\n",
       "      <td>9.00</td>\n",
       "      <td>9.00</td>\n",
       "    </tr>\n",
       "    <tr>\n",
       "      <th>mean</th>\n",
       "      <td>0.56</td>\n",
       "      <td>0.70</td>\n",
       "      <td>0.48</td>\n",
       "      <td>0.64</td>\n",
       "      <td>0.59</td>\n",
       "      <td>0.51</td>\n",
       "      <td>0.46</td>\n",
       "    </tr>\n",
       "    <tr>\n",
       "      <th>std</th>\n",
       "      <td>0.11</td>\n",
       "      <td>0.05</td>\n",
       "      <td>0.12</td>\n",
       "      <td>0.07</td>\n",
       "      <td>0.08</td>\n",
       "      <td>0.16</td>\n",
       "      <td>0.13</td>\n",
       "    </tr>\n",
       "    <tr>\n",
       "      <th>min</th>\n",
       "      <td>0.45</td>\n",
       "      <td>0.63</td>\n",
       "      <td>0.27</td>\n",
       "      <td>0.54</td>\n",
       "      <td>0.48</td>\n",
       "      <td>0.33</td>\n",
       "      <td>0.22</td>\n",
       "    </tr>\n",
       "    <tr>\n",
       "      <th>50%</th>\n",
       "      <td>0.54</td>\n",
       "      <td>0.71</td>\n",
       "      <td>0.48</td>\n",
       "      <td>0.61</td>\n",
       "      <td>0.60</td>\n",
       "      <td>0.50</td>\n",
       "      <td>0.53</td>\n",
       "    </tr>\n",
       "    <tr>\n",
       "      <th>max</th>\n",
       "      <td>0.80</td>\n",
       "      <td>0.75</td>\n",
       "      <td>0.70</td>\n",
       "      <td>0.76</td>\n",
       "      <td>0.75</td>\n",
       "      <td>0.88</td>\n",
       "      <td>0.61</td>\n",
       "    </tr>\n",
       "  </tbody>\n",
       "</table>\n",
       "</div>"
      ],
      "text/plain": [
       "       pr-auc  roc-auc  f1-micro  f1-macro   avg  precision  recall\n",
       "count    9.00     9.00      9.00      9.00  9.00       9.00    9.00\n",
       "mean     0.56     0.70      0.48      0.64  0.59       0.51    0.46\n",
       "std      0.11     0.05      0.12      0.07  0.08       0.16    0.13\n",
       "min      0.45     0.63      0.27      0.54  0.48       0.33    0.22\n",
       "50%      0.54     0.71      0.48      0.61  0.60       0.50    0.53\n",
       "max      0.80     0.75      0.70      0.76  0.75       0.88    0.61"
      ]
     },
     "execution_count": 19,
     "metadata": {},
     "output_type": "execute_result"
    }
   ],
   "source": [
    "df.describe(percentiles=[0.5],).round(2)"
   ]
  },
  {
   "cell_type": "code",
   "execution_count": 20,
   "metadata": {},
   "outputs": [],
   "source": [
    "import seaborn as sns\n"
   ]
  },
  {
   "cell_type": "code",
   "execution_count": 21,
   "metadata": {},
   "outputs": [
    {
     "data": {
      "image/png": "[encoded data removed]",
      "text/plain": [
       "<Figure size 432x288 with 1 Axes>"
      ]
     },
     "metadata": {
      "needs_background": "light"
     },
     "output_type": "display_data"
    }
   ],
   "source": [
    "g = sns.barplot(x=\"abbr\", y=\"avg\", data=df)"
   ]
  },
  {
   "cell_type": "code",
   "execution_count": null,
   "metadata": {},
   "outputs": [],
   "source": []
  }
 ],
 "metadata": {
  "interpreter": {
   "hash": "6c394272594a68b0a5bd03bbb8469a449c9402c12c87bbd02bc40bbbc1d6f707"
  },
  "kernelspec": {
   "display_name": "Python 3.9.2 64-bit",
   "language": "python",
   "name": "python3"
  },
  "language_info": {
   "codemirror_mode": {
    "name": "ipython",
    "version": 3
   },
   "file_extension": ".py",
   "mimetype": "text/x-python",
   "name": "python",
   "nbconvert_exporter": "python",
   "pygments_lexer": "ipython3",
   "version": "3.9.7"
  },
  "orig_nbformat": 4
 },
 "nbformat": 4,
 "nbformat_minor": 2
}
