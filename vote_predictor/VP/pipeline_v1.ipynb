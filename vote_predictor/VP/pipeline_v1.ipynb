{
 "cells": [
  {
   "cell_type": "code",
   "execution_count": 1,
   "metadata": {},
   "outputs": [],
   "source": [
    "import pandas as pd\n",
    "from encode_desc import transform_description, tokenize_description"
   ]
  },
  {
   "cell_type": "markdown",
   "metadata": {},
   "source": [
    "### Pre-model training"
   ]
  },
  {
   "cell_type": "markdown",
   "metadata": {},
   "source": [
    "#### Load data"
   ]
  },
  {
   "cell_type": "code",
   "execution_count": null,
   "metadata": {},
   "outputs": [],
   "source": [
    "df_test = pd.read_pickle(\"./c_test_V2.1.pkl\")\n",
    "df_test[\"set\"] = 'test'\n",
    "df = pd.read_pickle(\"./c_train_V2.1.pkl\")\n",
    "df[\"set\"] = 'train'\n",
    "print(len(df))\n",
    "df = pd.concat([df, df_test])\n",
    "print(len(df))\n",
    "df.sample(10)"
   ]
  },
  {
   "cell_type": "code",
   "execution_count": null,
   "metadata": {},
   "outputs": [],
   "source": [
    "\n",
    "print(len(df))\n",
    "df = df.drop_duplicates(subset='description_text').reset_index(drop=True)\n",
    "df = df.drop(columns=[\"index\"])\n",
    "df[\"vote_caller\"] = df[\"vote_caller\"].astype(str)\n",
    "print(len(df))\n",
    "df.head(5)"
   ]
  },
  {
   "cell_type": "code",
   "execution_count": null,
   "metadata": {},
   "outputs": [],
   "source": [
    "# Uncomment if only want to run on smaller sample\n",
    "#df = df.sample(60, random_state=42).reset_index(drop=True)"
   ]
  },
  {
   "cell_type": "markdown",
   "metadata": {},
   "source": [
    "#### Tokenize vote-summaries"
   ]
  },
  {
   "cell_type": "code",
   "execution_count": null,
   "metadata": {},
   "outputs": [],
   "source": [
    "df_tokenized = tokenize_description(df, \"Venstre\", \"../BL/models_binary_party/\", True)\n",
    "print(len(df_tokenized))\n",
    "df_tokenized.head(3)"
   ]
  },
  {
   "cell_type": "markdown",
   "metadata": {},
   "source": [
    "#### Transformation (party probs)\n",
    "transform tokenized vote-summaries into party probs (for the 9 chosen parties)"
   ]
  },
  {
   "cell_type": "code",
   "execution_count": null,
   "metadata": {},
   "outputs": [],
   "source": [
    "parties = [\"Alternativet\", \"Dansk Folkeparti\", \"Det Konservative Folkeparti\", \"Det Radikale Venstre\", \"Enhedslisten\", \"Liberal Alliance\", \"Socialdemokratiet\", \"Socialistisk Folkeparti\" ,\"Venstre\"]\n",
    "df_trans = df_tokenized\n",
    "for party in parties:\n",
    "    df_trans = transform_description(df_trans, party, \"../../../../Models/binary/\", 2, True)\n",
    "\n",
    "df_trans.head(3)\n",
    "## On GPU Jonathan PC 2 30s per party"
   ]
  },
  {
   "cell_type": "code",
   "execution_count": null,
   "metadata": {},
   "outputs": [],
   "source": [
    "df_trans.to_pickle(\"c_all_w_party_probs_v2.1.pkl\")"
   ]
  },
  {
   "cell_type": "markdown",
   "metadata": {},
   "source": [
    "#### Transformation (Word2Vec embeddings)\n",
    "add 500d Word2Vec embeddings for vote-summaries"
   ]
  },
  {
   "cell_type": "code",
   "execution_count": null,
   "metadata": {},
   "outputs": [],
   "source": [
    "df_trans = pd.read_pickle(\"./c_all_w_party_probs_v2.1.pkl\")\n",
    "import os\n",
    "os.chdir(\"../\")"
   ]
  },
  {
   "cell_type": "code",
   "execution_count": null,
   "metadata": {},
   "outputs": [],
   "source": [
    "import word_tokenizer\n",
    "import pandas as pd\n",
    "from gensim import models"
   ]
  },
  {
   "cell_type": "code",
   "execution_count": null,
   "metadata": {},
   "outputs": [],
   "source": [
    "df_trans.head(1)"
   ]
  },
  {
   "cell_type": "code",
   "execution_count": null,
   "metadata": {},
   "outputs": [],
   "source": [
    "## Remove stopwords and lemmatize\n",
    "df_trans['description_filtered'] = df_trans['description_text'].apply(lambda x: word_tokenizer.tokenize(x))"
   ]
  },
  {
   "cell_type": "code",
   "execution_count": null,
   "metadata": {},
   "outputs": [],
   "source": [
    "df_trans.head(1)"
   ]
  },
  {
   "cell_type": "code",
   "execution_count": null,
   "metadata": {},
   "outputs": [],
   "source": [
    "## Gustav\n",
    "#MODEL_FILE = '../dsl_skipgram_2020_m5_f500_epoch2_w5.model/dsl_skipgram_2020_m5_f500_epoch2_w5.model'\n",
    "\n",
    "## Jonathan\n",
    "MODEL_FILE = '../../../Models/word2vec/dsl_skipgram_2020_m5_f500_epoch2_w5.models/dsl_skipgram_2020_m5_f500_epoch2_w5.model'\n",
    "model = models.Word2Vec.load(MODEL_FILE)\n",
    "\n",
    "## Used for vectorizing the description text (filtered)\n",
    "words = set(model.wv.index_to_key)"
   ]
  },
  {
   "cell_type": "code",
   "execution_count": null,
   "metadata": {},
   "outputs": [],
   "source": [
    "'''def vec_summary(row):\n",
    "    val = model.wv['start']\n",
    "    for word in row:\n",
    "        try:\n",
    "            val = val + model.wv[word]\n",
    "        except:\n",
    "            print(word)\n",
    "    return val.mean(axis=0)\n",
    "\n",
    "v0 = vec_summary(df_trans[\"description_filtered\"][0])\n",
    "v1 = vec_summary(df_trans[\"description_filtered\"][1])'''"
   ]
  },
  {
   "cell_type": "code",
   "execution_count": null,
   "metadata": {},
   "outputs": [],
   "source": [
    "import numpy as np\n",
    "X_train_vect = np.array([np.array([model.wv[i] for i in ls if i in words])\n",
    "                         for ls in df_trans[\"description_filtered\"]])\n"
   ]
  },
  {
   "cell_type": "code",
   "execution_count": null,
   "metadata": {},
   "outputs": [],
   "source": [
    "# Why is the length of the sentence different than the length of the sentence vector?\n",
    "for i, v in enumerate(X_train_vect):\n",
    "    print(len(df_trans[\"description_filtered\"].iloc[i]), len(v))\n"
   ]
  },
  {
   "cell_type": "code",
   "execution_count": null,
   "metadata": {},
   "outputs": [],
   "source": [
    "X_train_vect_avg = []\n",
    "for v in X_train_vect:\n",
    "    if v.size:\n",
    "        X_train_vect_avg.append(v.mean(axis=0))\n",
    "    else:\n",
    "        X_train_vect_avg.append(np.zeros(100, dtype=float))"
   ]
  },
  {
   "cell_type": "code",
   "execution_count": null,
   "metadata": {},
   "outputs": [],
   "source": [
    "# Are our sentence vector lengths consistent?\n",
    "for i, v in enumerate(X_train_vect_avg):\n",
    "    print(len(df_trans[\"description_filtered\"].iloc[i]), len(v))"
   ]
  },
  {
   "cell_type": "code",
   "execution_count": null,
   "metadata": {},
   "outputs": [],
   "source": [
    "#v_un = v0 - v1\n",
    "#print(model.wv.most_similar(positive=[v_un])[:3])\n",
    "#print(model.wv.most_similar(positive=[v0])[:3])\n",
    "#print(model.wv.most_similar(positive=[v1])[:3])\n",
    "\n",
    "## Outputs:\n",
    "## Please note: both meetings, based on their word vectors are energy related: lets check\n",
    "'''\n",
    "[('udarbejdelsen', 0.16276699304580688), ('odenseafdeling', 0.15484489500522614), ('udarbejdelse', 0.14360615611076355)]\n",
    "[('sundhedsovervågning', 0.8051859140396118), ('sdgerne', 0.8033974766731262), ('kystmøller', 0.7973899841308594)]\n",
    "[('kulstoffattig', 0.7970796823501587), ('vindkraftel', 0.7832463383674622), ('ikkefossil', 0.782241940498352)]\n",
    "'''"
   ]
  },
  {
   "cell_type": "code",
   "execution_count": null,
   "metadata": {},
   "outputs": [],
   "source": [
    "#print(df_trans[\"description_text\"][0])\n",
    "#print(df_trans[\"description_text\"][1])\n",
    "\n",
    "## Outputs:\n",
    "'''\n",
    "Beslutningsforslaget gik ud på, at regeringen skulle udarbejde et nyt program for udnyttelse af bølgeenergi. Programmet skulle støtte udvikling og afprøvning af nye bølgekraftmodeller og bl.a. etablere prøvestationer på havet. Der skulle endvidere gives økonomisk støtte til etablering og drift af bølgekraftanlæg og sikres en fast, høj afregningspris for den producerede strøm.\n",
    "Beslutningsforslaget gik ud på at fritage elektricitet, der produceredes af vedvarende energikilder, for CO2-afgift. Der blev lagt CO2-afgift oven i elprisen, hvad enten elektriciteten var produceret ved vedvarende energi eller ved kul eller andre fossile energikilder. Ved at fritage elektricitet, der produceredes ved vedvarende energikilder, ville udbydere, der satsede på vedvarende energi, kunne få en markedsfordel.\n",
    "'''\n",
    "\n",
    "## As seen this is exactly the case!"
   ]
  },
  {
   "cell_type": "code",
   "execution_count": null,
   "metadata": {},
   "outputs": [],
   "source": [
    "df_trans2 = df_trans\n",
    "df_trans2[\"vec\"] = X_train_vect_avg"
   ]
  },
  {
   "cell_type": "code",
   "execution_count": null,
   "metadata": {},
   "outputs": [],
   "source": [
    "df_trans2.head(5)"
   ]
  },
  {
   "cell_type": "markdown",
   "metadata": {},
   "source": [
    "#### Expand to per politician"
   ]
  },
  {
   "cell_type": "code",
   "execution_count": null,
   "metadata": {},
   "outputs": [],
   "source": [
    "view = df_trans2.drop(columns=[\"description\", \"votes_by_party\", \"url\", \"input_ids\", \"token_type_ids\", \"attention_mask\"])\n",
    "view.columns"
   ]
  },
  {
   "cell_type": "code",
   "execution_count": null,
   "metadata": {},
   "outputs": [],
   "source": [
    "weights_available = [\"Alternativet\", \"Dansk Folkeparti\", \"Det Konservative Folkeparti\", \"Det Radikale Venstre\", \"Enhedslisten\", \"Liberal Alliance\", \"Socialdemokratiet\", \"Socialistisk Folkeparti\" ,\"Venstre\"]\n",
    "\n",
    "view[\"vec\"] = view[\"vec\"].astype(str)"
   ]
  },
  {
   "cell_type": "code",
   "execution_count": null,
   "metadata": {},
   "outputs": [],
   "source": [
    "expanded_view1 = pd.DataFrame(columns=['date', 'description', 'politician', 'vote','vote_caller', 'y_pred', 'set',\n",
    "                                        ## Transformation 1 use the 'weigths_available' from above\n",
    "                                        'vec', ## Transformation 2,\n",
    "                                        'vote_id' ## For back tracking\n",
    "                                        ])\n",
    "\n",
    "for index, row in view.iterrows():\n",
    "    \n",
    "    \n",
    "    try:\n",
    "        temp = pd.DataFrame(view['votes'][index])\n",
    "        temp['description'] = view['description_text'][index]\n",
    "        temp['date'] = view['date'][index]\n",
    "        temp['vote_caller'] = view['vote_caller'][index]\n",
    "        temp['y_pred'] = view['y_pred'][index]\n",
    "        temp['set'] = view['set'][index]\n",
    "        temp['vote_id'] = view['vote_id'][index]\n",
    "\n",
    "        ## Trans 1\n",
    "        for party in weights_available:\n",
    "            temp[f\"{party}_weight_for\"] = view[f\"{party}_weight_for\"][index]\n",
    "            temp[f\"{party}_weight_against\"] = view[f\"{party}_weight_against\"][index]\n",
    "        \n",
    "        ## Trans 2\n",
    "        temp['vec'] = view['vec'][index]\n",
    "        #temp['party'] = temp.apply(lambda row: find_party(row), axis=1)\n",
    "        \n",
    "        expanded_view1 = temp.append(expanded_view1)\n",
    "    \n",
    "    except:\n",
    "        temp['description'] = view['description_text'][index]\n",
    "        temp['date'] = view['date'][index]\n",
    "        print(\"error\")\n",
    "    \n",
    "#expanded_view1.head(20)"
   ]
  },
  {
   "cell_type": "code",
   "execution_count": null,
   "metadata": {},
   "outputs": [],
   "source": [
    "expanded_view1 = expanded_view1.reset_index(drop=True)"
   ]
  },
  {
   "cell_type": "markdown",
   "metadata": {},
   "source": [
    "##### Convert word2vec back to right format"
   ]
  },
  {
   "cell_type": "code",
   "execution_count": null,
   "metadata": {},
   "outputs": [],
   "source": [
    "from ast import literal_eval\n",
    "import re\n",
    "def str2list(row):\n",
    "    string = row\n",
    "    string = re.sub(r\"\\[\\s+\", \"[\",string)\n",
    "    string = re.sub(r\"\\s+\\]\", \"]\",string)\n",
    "    string = re.sub(r\"\\s+\", \",\",string)\n",
    "    list = literal_eval(string)\n",
    "    return list\n",
    "\n",
    "assert(str2list(\"[ -3.2    4.3    ]\")==[-3.2,4.3])"
   ]
  },
  {
   "cell_type": "code",
   "execution_count": null,
   "metadata": {},
   "outputs": [],
   "source": [
    "expanded_view1[\"vec2\"] = expanded_view1.apply(lambda row: str2list(row[\"vec\"]),axis=1)\n",
    "#expanded_view1.head(10)"
   ]
  },
  {
   "cell_type": "markdown",
   "metadata": {},
   "source": [
    "##### Select the right party probabilities"
   ]
  },
  {
   "cell_type": "code",
   "execution_count": null,
   "metadata": {},
   "outputs": [],
   "source": [
    "import numpy as np\n",
    "\n",
    "def set_weights_for(row):\n",
    "    try:\n",
    "        party = row[\"party\"].split(\" (\")[0]\n",
    "        w = row[f\"{party}_weight_for\"]\n",
    "        return w\n",
    "    except:\n",
    "        return row[f\"Venstre_weight_for\"]\n",
    "\n",
    "def set_weights_against(row):\n",
    "    try:\n",
    "        party = row[\"party\"].split(\" (\")[0]\n",
    "        w = row[f\"{party}_weight_against\"]\n",
    "        return w\n",
    "    except:\n",
    "        return row[f\"Venstre_weight_against\"]\n"
   ]
  },
  {
   "cell_type": "code",
   "execution_count": null,
   "metadata": {},
   "outputs": [],
   "source": [
    "expanded_view1[\"w_for\"] = expanded_view1.apply(lambda row: set_weights_for(row), axis=1)\n",
    "expanded_view1[\"w_against\"] = expanded_view1.apply(lambda row: set_weights_against(row), axis=1)\n",
    "\n",
    "df_trans3 = expanded_view1\n",
    "df_trans3.sample(5)"
   ]
  },
  {
   "cell_type": "markdown",
   "metadata": {},
   "source": [
    "##### Create party cols"
   ]
  },
  {
   "cell_type": "code",
   "execution_count": null,
   "metadata": {},
   "outputs": [],
   "source": [
    "def find_party1(row):\n",
    "    party = row.split(\"(\")[1]\n",
    "    return (\"(\" + party).strip()\n",
    "\n",
    "def find_party2(row):\n",
    "    party = row.split(\"(\")\n",
    "    if len(party)==1:\n",
    "        #print(party)\n",
    "        return \"(MISSING)\"\n",
    "    else:\n",
    "        return ((\"(\" + party[1]).split(\")\")[0])+\")\"\n",
    "\n",
    "df_trans3[\"party2\"] = df_trans3.apply(lambda row: find_party1(row[\"party\"]), axis=1)\n",
    "df_trans3[\"vote_caller2\"] = df_trans3.apply(lambda row: find_party2(row[\"vote_caller\"]), axis=1)\n",
    "df_trans3.head(1)"
   ]
  },
  {
   "cell_type": "markdown",
   "metadata": {},
   "source": [
    "##### Select only 'For' and 'Imod' and right parties"
   ]
  },
  {
   "cell_type": "code",
   "execution_count": null,
   "metadata": {},
   "outputs": [],
   "source": [
    "parties = '(ALT)', '(DF)', '(EL)', '(KF)', '(LA)', '(RV)', '(S)', '(SF)','(V)'\n",
    "print(len(df_trans3))\n",
    "df_trans4 = df_trans3[df_trans3[\"party2\"].isin(parties)]\n",
    "print(len(df_trans4))\n",
    "df_trans4[\"party2\"].unique()"
   ]
  },
  {
   "cell_type": "code",
   "execution_count": null,
   "metadata": {},
   "outputs": [],
   "source": [
    "df_trans4 = df_trans4[df_trans4[\"vote\"]!=\"Fraværende\"]\n",
    "df_trans4 = df_trans4[df_trans4[\"vote\"]!=\"Hverken for eller imod\"]\n",
    "print(len(df_trans4))\n",
    "df_trans4[\"vote\"].unique()"
   ]
  },
  {
   "cell_type": "markdown",
   "metadata": {},
   "source": [
    "### Add politician embeddings and calculate cos_sim"
   ]
  },
  {
   "cell_type": "code",
   "execution_count": null,
   "metadata": {},
   "outputs": [],
   "source": [
    "pol_c = pd.read_pickle(\"../data_analysis/pol2vec.pkl\")\n",
    "df_trans4[\"politician\"] = df_trans4[\"politician\"].str.strip()\n",
    "df_trans5 = df_trans4.merge(pol_c[[\"politician\", \"vec\"]], how=\"left\", on=[\"politician\"])\n",
    "\n",
    "## Drop all politicians without vec --> TODO: add interpolation to party average\n",
    "print(len(df_trans5))\n",
    "df_trans5 = df_trans5[df_trans5[\"vec_y\"].notna()].reset_index(drop=True)\n",
    "print(len(df_trans5))\n"
   ]
  },
  {
   "cell_type": "code",
   "execution_count": null,
   "metadata": {},
   "outputs": [],
   "source": [
    "## Calcuate Cosine similarity\n",
    "def cosine_similarity(row):\n",
    "    v_vote = row[\"vec2\"]\n",
    "    v_politician = row[\"vec_y\"]\n",
    "    return model.wv.cosine_similarities(v_vote,[v_politician])[0]\n",
    "\n",
    "df_trans5[\"cos_sim\"] = df_trans5.apply(lambda row: cosine_similarity(row), axis=1)"
   ]
  },
  {
   "cell_type": "code",
   "execution_count": null,
   "metadata": {},
   "outputs": [],
   "source": [
    "df_trans5[\"cos_sim\"].describe()"
   ]
  },
  {
   "cell_type": "code",
   "execution_count": null,
   "metadata": {},
   "outputs": [],
   "source": [
    "## Final look at DF before pipeline\n",
    "df_trans5.sample(4)\n",
    "df_trans5.to_pickle(\"c_all_trans_v2.1.pkl\")\n",
    "df_trans5[df_trans5[\"set\"]!=\"train\"]\n"
   ]
  },
  {
   "cell_type": "markdown",
   "metadata": {},
   "source": [
    "### Model training\n",
    "+ choose features\n",
    "+ feed into SK-pipeline\n",
    "+ train a random forest model\n",
    "+ gg"
   ]
  },
  {
   "cell_type": "code",
   "execution_count": 144,
   "metadata": {},
   "outputs": [],
   "source": [
    "import pandas as pd\n",
    "df_trans5 = pd.read_pickle(\"./c_all_trans_v2.1.pkl\")\n"
   ]
  },
  {
   "cell_type": "code",
   "execution_count": 145,
   "metadata": {},
   "outputs": [
    {
     "name": "stdout",
     "output_type": "stream",
     "text": [
      "['(LA)' '(SF)' '(S)' '(DF)' '(KF)' '(V)' '(EL)' '(RV)' '(ALT)']\n"
     ]
    },
    {
     "data": {
      "text/html": [
       "<div>\n",
       "<style scoped>\n",
       "    .dataframe tbody tr th:only-of-type {\n",
       "        vertical-align: middle;\n",
       "    }\n",
       "\n",
       "    .dataframe tbody tr th {\n",
       "        vertical-align: top;\n",
       "    }\n",
       "\n",
       "    .dataframe thead th {\n",
       "        text-align: right;\n",
       "    }\n",
       "</style>\n",
       "<table border=\"1\" class=\"dataframe\">\n",
       "  <thead>\n",
       "    <tr style=\"text-align: right;\">\n",
       "      <th></th>\n",
       "      <th>party</th>\n",
       "      <th>politician</th>\n",
       "      <th>vote</th>\n",
       "      <th>description</th>\n",
       "      <th>date</th>\n",
       "      <th>vote_caller</th>\n",
       "      <th>y_pred</th>\n",
       "      <th>set</th>\n",
       "      <th>vote_id</th>\n",
       "      <th>Alternativet_weight_for</th>\n",
       "      <th>...</th>\n",
       "      <th>Venstre_weight_for</th>\n",
       "      <th>Venstre_weight_against</th>\n",
       "      <th>vec_x</th>\n",
       "      <th>vec2</th>\n",
       "      <th>w_for</th>\n",
       "      <th>w_against</th>\n",
       "      <th>party2</th>\n",
       "      <th>vote_caller2</th>\n",
       "      <th>vec_y</th>\n",
       "      <th>cos_sim</th>\n",
       "    </tr>\n",
       "  </thead>\n",
       "  <tbody>\n",
       "    <tr>\n",
       "      <th>0</th>\n",
       "      <td>Liberal Alliance (LA)</td>\n",
       "      <td>Anders Samuelsen</td>\n",
       "      <td>For</td>\n",
       "      <td>Folketinget tager ministerens redegørelse til ...</td>\n",
       "      <td>2009-02-03</td>\n",
       "      <td>['Henriette Kjær (KF)' 'Johs. Poulsen (RV)' 'K...</td>\n",
       "      <td>climate</td>\n",
       "      <td>test</td>\n",
       "      <td>Afstemning nr. 185, 2008-09</td>\n",
       "      <td>0.777311</td>\n",
       "      <td>...</td>\n",
       "      <td>0.889158</td>\n",
       "      <td>0.110842</td>\n",
       "      <td>[-1.11936651e-01  2.49612313e-02  7.70089105e-...</td>\n",
       "      <td>[-0.111936651, 0.0249612313, 0.0770089105, -0....</td>\n",
       "      <td>0.416753</td>\n",
       "      <td>0.583247</td>\n",
       "      <td>(LA)</td>\n",
       "      <td>(KF)</td>\n",
       "      <td>[-0.09889584, 0.022729391, 0.045959275, -0.142...</td>\n",
       "      <td>0.906701</td>\n",
       "    </tr>\n",
       "  </tbody>\n",
       "</table>\n",
       "<p>1 rows × 35 columns</p>\n",
       "</div>"
      ],
      "text/plain": [
       "                   party        politician vote  \\\n",
       "0  Liberal Alliance (LA)  Anders Samuelsen  For   \n",
       "\n",
       "                                         description        date  \\\n",
       "0  Folketinget tager ministerens redegørelse til ...  2009-02-03   \n",
       "\n",
       "                                         vote_caller   y_pred   set  \\\n",
       "0  ['Henriette Kjær (KF)' 'Johs. Poulsen (RV)' 'K...  climate  test   \n",
       "\n",
       "                       vote_id  Alternativet_weight_for  ...  \\\n",
       "0  Afstemning nr. 185, 2008-09                 0.777311  ...   \n",
       "\n",
       "   Venstre_weight_for  Venstre_weight_against  \\\n",
       "0            0.889158                0.110842   \n",
       "\n",
       "                                               vec_x  \\\n",
       "0  [-1.11936651e-01  2.49612313e-02  7.70089105e-...   \n",
       "\n",
       "                                                vec2     w_for  w_against  \\\n",
       "0  [-0.111936651, 0.0249612313, 0.0770089105, -0....  0.416753   0.583247   \n",
       "\n",
       "   party2  vote_caller2                                              vec_y  \\\n",
       "0    (LA)          (KF)  [-0.09889584, 0.022729391, 0.045959275, -0.142...   \n",
       "\n",
       "    cos_sim  \n",
       "0  0.906701  \n",
       "\n",
       "[1 rows x 35 columns]"
      ]
     },
     "execution_count": 145,
     "metadata": {},
     "output_type": "execute_result"
    }
   ],
   "source": [
    "print(df_trans5[\"party2\"].unique())\n",
    "df_trans5.head(1)"
   ]
  },
  {
   "cell_type": "code",
   "execution_count": 146,
   "metadata": {},
   "outputs": [
    {
     "data": {
      "text/plain": [
       "Index(['politician', 'party2', 'vote_caller2', 'w_for', 'w_against', 'cos_sim',\n",
       "       'vote', 'set'],\n",
       "      dtype='object')"
      ]
     },
     "execution_count": 146,
     "metadata": {},
     "output_type": "execute_result"
    }
   ],
   "source": [
    "X = df_trans5\n",
    "\n",
    "## Only climate\n",
    "X = X[X[\"y_pred\"]==\"climate\"]\n",
    "## Only parties we have party probs (weights) for\n",
    "# parties = [\"Alternativet\", \"Dansk Folkeparti\", \"Det Konservative Folkeparti\", \"Det Radikale Venstre\", \"Enhedslisten\", \"Liberal Alliance\", \"Socialdemokratiet\", \"Socialistisk Folkeparti\" ,\"Venstre\"]\n",
    "\n",
    "X = X[X['party2'].isin([\"(ALT)\", \"(DF)\", \"(KF)\", \"(RV)\", \"(EL)\", \"(LA)\", \"(S)\", \"(SF)\", \"(V)\"])]\n",
    "X = X[[\"politician\", \"party2\", \"vote_caller2\", \"w_for\", \"w_against\", \"cos_sim\", \"vote\", \"set\"]].reset_index(drop=True)\n",
    "X_train = X[X[\"set\"]==\"train\"]\n",
    "X_test = X[X[\"set\"]==\"test\"]\n",
    "assert((len(X))==(len(X_train)+len(X_test)))\n",
    "y_train = X_train[[\"vote\"]]\n",
    "y_test = X_test[[\"vote\"]]\n",
    "X_train.columns"
   ]
  },
  {
   "cell_type": "code",
   "execution_count": 147,
   "metadata": {},
   "outputs": [
    {
     "name": "stdout",
     "output_type": "stream",
     "text": [
      "X_train: 23750\n",
      "y_train: 23750\n",
      "X_test: 5657\n",
      "y_test: 5657\n",
      "Index(['w_for', 'w_against'], dtype='object')\n",
      "Index(['w_for', 'w_against'], dtype='object')\n"
     ]
    },
    {
     "data": {
      "text/html": [
       "<div>\n",
       "<style scoped>\n",
       "    .dataframe tbody tr th:only-of-type {\n",
       "        vertical-align: middle;\n",
       "    }\n",
       "\n",
       "    .dataframe tbody tr th {\n",
       "        vertical-align: top;\n",
       "    }\n",
       "\n",
       "    .dataframe thead th {\n",
       "        text-align: right;\n",
       "    }\n",
       "</style>\n",
       "<table border=\"1\" class=\"dataframe\">\n",
       "  <thead>\n",
       "    <tr style=\"text-align: right;\">\n",
       "      <th></th>\n",
       "      <th>w_for</th>\n",
       "      <th>w_against</th>\n",
       "    </tr>\n",
       "  </thead>\n",
       "  <tbody>\n",
       "    <tr>\n",
       "      <th>5657</th>\n",
       "      <td>0.750282</td>\n",
       "      <td>0.249718</td>\n",
       "    </tr>\n",
       "  </tbody>\n",
       "</table>\n",
       "</div>"
      ],
      "text/plain": [
       "         w_for  w_against\n",
       "5657  0.750282   0.249718"
      ]
     },
     "execution_count": 147,
     "metadata": {},
     "output_type": "execute_result"
    }
   ],
   "source": [
    "## Select the X_train variables here. See possibilities above\n",
    "X_train = X_train[[\"w_for\", \"w_against\"]]\n",
    "X_test = X_test[X_train.columns]\n",
    "print(\"X_train:\",len(X_train))\n",
    "print(\"y_train:\",len(y_train))\n",
    "print(\"X_test:\",len(X_test))\n",
    "print(\"y_test:\",len(y_test))\n",
    "print(X_train.columns)\n",
    "print(X_test.columns)\n",
    "X_test.head(2)\n",
    "X_train.head(1)"
   ]
  },
  {
   "cell_type": "markdown",
   "metadata": {},
   "source": [
    "##### Test run for random forrest to determine dimension (skipable)"
   ]
  },
  {
   "cell_type": "code",
   "execution_count": null,
   "metadata": {},
   "outputs": [],
   "source": [
    "'''def reduce_dim(row):\n",
    "    return row[:100]\n",
    "\n",
    "print(len(X_train.head(1)[\"vec2\"][0]))\n",
    "X_train[\"vec2\"] = X_train.apply(lambda row: reduce_dim(row[\"vec2\"]),axis=1)\n",
    "X_test[\"vec2\"] = X_test.apply(lambda row: reduce_dim(row[\"vec2\"]),axis=1)\n",
    "print(len(X_train.head(1)[\"vec2\"][0]))\n",
    "X_train = X_train[:50] ##keep training set smaller\n",
    "y_train = y_train[:50]'''\n"
   ]
  },
  {
   "cell_type": "code",
   "execution_count": null,
   "metadata": {},
   "outputs": [],
   "source": [
    "'''ls = X_train[\"vec2\"].to_list()\n",
    "type(ls)'''"
   ]
  },
  {
   "cell_type": "code",
   "execution_count": null,
   "metadata": {},
   "outputs": [],
   "source": [
    "'''# Instantiate and fit a basic Random Forest model on top of the vectors\n",
    "from sklearn.ensemble import RandomForestClassifier\n",
    "rf = RandomForestClassifier()\n",
    "rf_model = rf.fit(ls, y_train)'''"
   ]
  },
  {
   "cell_type": "code",
   "execution_count": null,
   "metadata": {},
   "outputs": [],
   "source": [
    "'''# Use the trained model to make predictions on the test data\n",
    "y_pred = rf_model.predict(X_test[\"vec2\"].to_list())'''\n"
   ]
  },
  {
   "cell_type": "code",
   "execution_count": null,
   "metadata": {},
   "outputs": [],
   "source": [
    "'''# Evaluate the predictions of the model on the holdout test set\n",
    "from sklearn.metrics import precision_score, recall_score\n",
    "\n",
    "precision = precision_score(y_test, y_pred)\n",
    "recall = recall_score(y_test, y_pred)\n",
    "print('Precision: {} / Recall: {} / Accuracy: {}'.format(\n",
    "    round(precision, 3), round(recall, 3), round((y_pred==y_test).sum()/len(y_pred), 3)))'''"
   ]
  },
  {
   "cell_type": "markdown",
   "metadata": {},
   "source": [
    "##### SK Pipeline and model fit"
   ]
  },
  {
   "cell_type": "code",
   "execution_count": 148,
   "metadata": {},
   "outputs": [],
   "source": [
    "## Split and pipeline\n",
    "from sklearn.pipeline import Pipeline\n",
    "from sklearn.svm import LinearSVC\n",
    "from sklearn.compose import ColumnTransformer # used in Scaling\n",
    "from sklearn.preprocessing import OneHotEncoder ## Used for cats\n",
    "from sklearn.base import TransformerMixin, BaseEstimator\n",
    "from sklearn.ensemble import RandomForestClassifier\n",
    "from sklearn.preprocessing import MinMaxScaler # used in Scaling\n",
    "\n",
    "\n",
    "class Debug(BaseEstimator, TransformerMixin):\n",
    "    def fit(self,X,y): \n",
    "        return self\n",
    "    \n",
    "    def transform(self,X): \n",
    "        print(pd.DataFrame(X))\n",
    "        return X\n",
    "\n",
    "pipeline = Pipeline([\n",
    "    #(\"Debug1\", Debug()),\n",
    "    (\"Encode cats and scale\", ColumnTransformer([\n",
    "        #(\"MinMax\", MinMaxScaler(), [\"cos_sim\", \"w_for\", \"w_against\"]),\n",
    "        #(\"MinMax\", MinMaxScaler(), [\"cos_sim\"]),\n",
    "        (\"MinMax\", MinMaxScaler(), [\"w_for\", \"w_against\"]),\n",
    "        #(\"OneHot\", OneHotEncoder(handle_unknown=\"ignore\"), [\"politician\"]),\n",
    "        #(\"OneHot\", OneHotEncoder(handle_unknown=\"ignore\"), [\"politician\", \"vote_caller2\"]),\n",
    "        #(\"OneHot\", OneHotEncoder(handle_unknown=\"ignore\"), [\"party2\"]),\n",
    "        #(\"OneHot\", OneHotEncoder(handle_unknown=\"ignore\"), [\"party2\",\"vote_caller2\"]),\n",
    "        #(\"OneHot\", OneHotEncoder(handle_unknown=\"ignore\"), [\"party2\", \"politician\"]),\n",
    "        #(\"OneHot\", OneHotEncoder(handle_unknown=\"ignore\"), [\"party2\", \"vote_caller2\", \"politician\"]),\n",
    "        # (\"Keep Direction\", \"passthrough\", [\"DirectionDegree\"]) # This would be needed because Column Transformer \n",
    "        # drops non touched cols by default\n",
    "    ], remainder='passthrough')), # If not specified the pipeline will only include columns specific inside ColumnTransformer!    \n",
    "    #(\"Debug2\", Debug()),\n",
    "\n",
    "    # Include the model:\n",
    "    #(\"classifier\", LinearSVC(C=1.0))\n",
    "    (\"classifier\", RandomForestClassifier(random_state=0))\n",
    "    ])"
   ]
  },
  {
   "cell_type": "code",
   "execution_count": 149,
   "metadata": {},
   "outputs": [
    {
     "name": "stderr",
     "output_type": "stream",
     "text": [
      "C:\\Users\\COBOD\\AppData\\Local\\Programs\\Python\\Python39\\lib\\site-packages\\sklearn\\pipeline.py:346: DataConversionWarning: A column-vector y was passed when a 1d array was expected. Please change the shape of y to (n_samples,), for example using ravel().\n",
      "  self._final_estimator.fit(Xt, y, **fit_params_last_step)\n"
     ]
    },
    {
     "data": {
      "text/plain": [
       "Pipeline(steps=[('Encode cats and scale',\n",
       "                 ColumnTransformer(remainder='passthrough',\n",
       "                                   transformers=[('MinMax', MinMaxScaler(),\n",
       "                                                  ['w_for', 'w_against'])])),\n",
       "                ('classifier', RandomForestClassifier(random_state=0))])"
      ]
     },
     "execution_count": 149,
     "metadata": {},
     "output_type": "execute_result"
    }
   ],
   "source": [
    "pipeline.fit(X_train,y_train)"
   ]
  },
  {
   "cell_type": "code",
   "execution_count": 150,
   "metadata": {},
   "outputs": [],
   "source": [
    "y_pred = pipeline.predict(X_test)"
   ]
  },
  {
   "cell_type": "code",
   "execution_count": 151,
   "metadata": {},
   "outputs": [
    {
     "name": "stdout",
     "output_type": "stream",
     "text": [
      "5657\n"
     ]
    },
    {
     "data": {
      "text/plain": [
       "0    33\n",
       "1    33\n",
       "dtype: int64"
      ]
     },
     "execution_count": 151,
     "metadata": {},
     "output_type": "execute_result"
    }
   ],
   "source": [
    "print(len(y_pred))\n",
    "pd.DataFrame(pipeline.predict_proba(X_test)).nunique()"
   ]
  },
  {
   "cell_type": "code",
   "execution_count": 152,
   "metadata": {},
   "outputs": [
    {
     "name": "stdout",
     "output_type": "stream",
     "text": [
      "              precision    recall  f1-score   support\n",
      "\n",
      "         For       0.81      0.80      0.80      4152\n",
      "        Imod       0.46      0.48      0.47      1505\n",
      "\n",
      "    accuracy                           0.71      5657\n",
      "   macro avg       0.63      0.64      0.64      5657\n",
      "weighted avg       0.72      0.71      0.71      5657\n",
      "\n"
     ]
    }
   ],
   "source": [
    "from sklearn.metrics import classification_report\n",
    "print(classification_report(y_test, y_pred))"
   ]
  },
  {
   "cell_type": "code",
   "execution_count": 153,
   "metadata": {},
   "outputs": [],
   "source": [
    "# Evaluate the predictions of the model on the holdout test set\n",
    "from sklearn.metrics import precision_score, recall_score, accuracy_score\n",
    "from sklearn.metrics import roc_auc_score, f1_score\n",
    "lab2int = {\"For\":0, \"Imod\":1}\n",
    "y_train2 = [lab2int[item] for item in y_train[\"vote\"]]\n",
    "y_test2 = [lab2int[item] for item in y_test[\"vote\"]]\n",
    "y_pred2 = [lab2int[item] for item in y_pred]"
   ]
  },
  {
   "cell_type": "code",
   "execution_count": 154,
   "metadata": {},
   "outputs": [
    {
     "name": "stdout",
     "output_type": "stream",
     "text": [
      "Precision: 0.46 / Recall: 0.48 / AUC: 0.64 / F1: 0.47 / F1-macro: 0.64 / F1-micro 0.71  / F1-weight 0.71 \n"
     ]
    }
   ],
   "source": [
    "\n",
    "auc = roc_auc_score(y_test2, y_pred2)\n",
    "precision = precision_score(y_test2, y_pred2)\n",
    "recall = recall_score(y_test2, y_pred2)\n",
    "f1 = f1_score(y_test2, y_pred2)\n",
    "f1_macro = f1_score(y_test2, y_pred2,average=\"macro\")\n",
    "f1_micro = f1_score(y_test2, y_pred2,average=\"micro\")\n",
    "f1_weight = f1_score(y_test2, y_pred2,average=\"weighted\")\n",
    "print('Precision: {} / Recall: {} / AUC: {} / F1: {} / F1-macro: {} / F1-micro {}  / F1-weight {} '.format(\n",
    "    round(precision, 2), round(recall, 2), round(auc,2), round(f1,2), round(f1_macro,2), round(f1_micro,2), round(f1_weight,2)))"
   ]
  },
  {
   "cell_type": "markdown",
   "metadata": {},
   "source": [
    "###### AUC"
   ]
  },
  {
   "cell_type": "code",
   "execution_count": 137,
   "metadata": {},
   "outputs": [],
   "source": [
    "# example of a roc curve for a predictive model\n",
    "from sklearn.datasets import make_classification\n",
    "from sklearn.model_selection import train_test_split\n",
    "from sklearn.metrics import roc_curve\n",
    "from matplotlib import pyplot\n",
    "from sklearn.dummy import DummyClassifier\n",
    "import torch\n",
    "m = torch.nn.Softmax(dim=-1)"
   ]
  },
  {
   "cell_type": "code",
   "execution_count": 138,
   "metadata": {},
   "outputs": [
    {
     "data": {
      "image/png": "[encoded data removed]",
      "text/plain": [
       "<Figure size 432x288 with 1 Axes>"
      ]
     },
     "metadata": {
      "needs_background": "light"
     },
     "output_type": "display_data"
    },
    {
     "name": "stdout",
     "output_type": "stream",
     "text": [
      "No Skill ROC AUC 0.504\n",
      "Baseline ROC AUC 0.726\n",
      "102\n",
      "102\n"
     ]
    }
   ],
   "source": [
    "## ROC CURVE\n",
    "testy = y_test2\n",
    "\n",
    "# plot no skill roc curve\n",
    "model = DummyClassifier(strategy='stratified')\n",
    "model.fit(X_train, y_train2)\n",
    "yhat = model.predict_proba(X_test)\n",
    "pos_probs = yhat[:, 1]\n",
    "roc_auc_noskill = roc_auc_score(testy, pos_probs)\n",
    "\n",
    "pyplot.plot([0, 1], [0, 1], linestyle='--', label='No Skill')\n",
    "\n",
    "# plot the skill curve\n",
    "# retrieve just the probabilities for the positive class\n",
    "pos_probs = pipeline.predict_proba(X_test)[:,1]\n",
    "# calculate roc curve for model\n",
    "fpr, tpr, _ = roc_curve(testy, pos_probs)\n",
    "\n",
    "# plot model roc curve\n",
    "pyplot.plot(fpr, tpr, marker='.', label=f'VP-BL')\n",
    "\n",
    "# axis labels\n",
    "pyplot.xlabel('False Positive Rate')\n",
    "pyplot.ylabel('True Positive Rate')\n",
    "\n",
    "# show the legend\n",
    "pyplot.legend()\n",
    "\n",
    "# show the plot\n",
    "pyplot.show()\n",
    "\n",
    "\n",
    "roc_auc = roc_auc_score(testy, pos_probs)\n",
    "print('No Skill ROC AUC %.3f' % roc_auc_noskill)\n",
    "print('Baseline ROC AUC %.3f' % roc_auc)\n",
    "print(len(fpr))\n",
    "print(len(tpr))"
   ]
  },
  {
   "cell_type": "code",
   "execution_count": 139,
   "metadata": {},
   "outputs": [
    {
     "data": {
      "image/png": "[encoded data removed]",
      "text/plain": [
       "<Figure size 432x288 with 1 Axes>"
      ]
     },
     "metadata": {
      "needs_background": "light"
     },
     "output_type": "display_data"
    },
    {
     "name": "stdout",
     "output_type": "stream",
     "text": [
      "No Skill PR AUC: 0.361\n",
      "Logistic PR AUC: 0.541\n",
      "102\n",
      "102\n"
     ]
    }
   ],
   "source": [
    "## PR Curve\n",
    "from sklearn.metrics import precision_recall_curve\n",
    "from sklearn.metrics import auc\n",
    "y = y_test2\n",
    "no_of_pos = len(y_test[y_test[\"vote\"]==\"Imod\"])\n",
    "\n",
    "\n",
    "# calculate the no skill line as the proportion of the positive class\n",
    "no_skill = (no_of_pos / len(y))\n",
    "# plot the no skill precision-recall curve\n",
    "model = DummyClassifier(strategy='stratified')\n",
    "model.fit(X_train, y_train)\n",
    "yhat = model.predict_proba(X_test)\n",
    "pos_probs = yhat[:, 1]\n",
    "# calculate the precision-recall auc\n",
    "precision, recall, _ = precision_recall_curve(testy, pos_probs)\n",
    "auc_score_noskill = auc(recall, precision)\n",
    "pyplot.plot([0, 1], [no_skill, no_skill], linestyle='--', label='No Skill')\n",
    "\n",
    "# calculate model precision-recall curve\n",
    "pos_probs = pipeline.predict_proba(X_test)[:,1]\n",
    "precision, recall, _ = precision_recall_curve(testy, pos_probs)\n",
    "# plot the model precision-recall curve\n",
    "pyplot.plot(recall, precision, marker='.', label=f'VP-2022')\n",
    "# axis labels\n",
    "pyplot.xlabel('Recall')\n",
    "pyplot.ylabel('Precision')\n",
    "# show the legend\n",
    "pyplot.legend()\n",
    "# show the plot\n",
    "pyplot.show()\n",
    "auc_score = auc(recall, precision)\n",
    "print('No Skill PR AUC: %.3f' % auc_score_noskill)\n",
    "print('Logistic PR AUC: %.3f' % auc_score)\n",
    "print(len(recall))\n",
    "print(len(precision))"
   ]
  },
  {
   "cell_type": "markdown",
   "metadata": {},
   "source": [
    "##### Pred and KPIs per party"
   ]
  },
  {
   "cell_type": "code",
   "execution_count": null,
   "metadata": {},
   "outputs": [],
   "source": [
    "df_KPI = pd.DataFrame(X_test[\"party2\"])\n",
    "df_KPI[\"y_test\"]=y_test2\n",
    "df_KPI[\"y_pred\"]=y_pred2\n",
    "\n",
    "for party in df_KPI[\"party2\"].unique():\n",
    "    print('',party,\"- Precision:\", round(precision_score(df_KPI[df_KPI[\"party2\"]==party][\"y_test\"], df_KPI[df_KPI[\"party2\"]==party][\"y_pred\"]),2),\n",
    "            \"\\n\",party,\"- Recall:\", round(recall_score(df_KPI[df_KPI[\"party2\"]==party][\"y_test\"], df_KPI[df_KPI[\"party2\"]==party][\"y_pred\"]),2),\n",
    "            \"\\n\",party,\"- AUC:\", round(roc_auc_score(df_KPI[df_KPI[\"party2\"]==party][\"y_test\"], df_KPI[df_KPI[\"party2\"]==party][\"y_pred\"]),2),\n",
    "            \"\\n\",party,\"- F1:\", round(f1_score(df_KPI[df_KPI[\"party2\"]==party][\"y_test\"], df_KPI[df_KPI[\"party2\"]==party][\"y_pred\"]),2),\n",
    "            \"\\n**********************\")"
   ]
  },
  {
   "cell_type": "markdown",
   "metadata": {},
   "source": [
    "##### Pred and KPIs per politician"
   ]
  },
  {
   "cell_type": "code",
   "execution_count": null,
   "metadata": {},
   "outputs": [],
   "source": [
    "top_climate_voters =['Hans Kristian Skibby',\n",
    " 'Bent Bøgsted',\n",
    " 'Bjarne Laustsen',\n",
    " 'Erling Bonnesen',\n",
    " 'Torsten Schack Pedersen',\n",
    " 'Benny Engelbrecht',\n",
    " 'Bertel Haarder',\n",
    " 'Lars Christian Lilleholt',\n",
    " 'Lennart Damsbo-Andersen',\n",
    " 'Liselott Blixt',\n",
    " 'Mette Gjerskov',\n",
    " 'Jacob Jensen',\n",
    " 'Jesper Petersen',\n",
    " 'Julie Skovsby',\n",
    " 'Louise Schack Elholm',\n",
    " 'Orla Hav',\n",
    " 'Thomas Jensen',\n",
    " 'Kristian Pihl Lorentzen',\n",
    " 'Mikkel Dencker',\n",
    " 'Ellen Trane Nørby',\n",
    " 'Karsten Lauritzen',\n",
    " 'Hans Andersen',\n",
    " 'Magnus Heunicke',\n",
    " 'Rasmus Horn Langhoff',\n",
    " 'Leif Lahn Jensen',\n",
    " 'Jens Joel',\n",
    " 'Dennis Flydtkjær',\n",
    " 'Marie Krarup',\n",
    " 'Troels Lund Poulsen',\n",
    " 'Karen Ellemann',\n",
    " 'Pia Adelsteen',\n",
    " 'Rasmus Prehn',\n",
    " 'Flemming Damgaard Larsen',\n",
    " 'Kim Christiansen',\n",
    " 'Jan E. Jørgensen',\n",
    " 'Sophie Løhde',\n",
    " 'Karin Nødgaard',\n",
    " 'Trine Bramsen',\n",
    " 'Karina Adsbøl',\n",
    " 'Eyvind Vesselbo',\n",
    " 'Hans Christian Schmidt',\n",
    " 'Tom Behnke',\n",
    " 'Ole Birk Olesen',\n",
    " 'Michael Aastrup Jensen',\n",
    " 'Birgitte Josefsen',\n",
    " 'Anni Matthiesen',\n",
    " 'Flemming Møller Mortensen',\n",
    " 'Troels Ravn',\n",
    " 'Preben Bang Henriksen',\n",
    " 'Jens Henrik Thulesen Dahl',\n",
    " 'Morten Bødskov',\n",
    " 'Karen J. Klint',\n",
    " 'René Christensen',\n",
    " 'Kim Andersen',\n",
    " 'Ib Poulsen',\n",
    " 'Inger Støjberg',\n",
    " 'Marianne Jelved',\n",
    " 'Eva Kjer Hansen',\n",
    " 'Annette Lind',\n",
    " 'Jane Heitmann',\n",
    " 'Peter Juel Jensen',\n",
    " 'Daniel Toft Jakobsen',\n",
    " 'Henrik Dahl',\n",
    " 'Karsten Nonbo',\n",
    " 'Jakob Sølvhøj',\n",
    " 'Christian Juhl',\n",
    " 'Jørn Dohrmann',\n",
    " 'Kristian Jensen',\n",
    " 'Jan Johansen',\n",
    " 'Karsten Hønge',\n",
    " 'Brian Mikkelsen',\n",
    " 'Naser Khader',\n",
    " 'Thomas Danielsen',\n",
    " 'Martin Henriksen',\n",
    " 'Søren Krarup',\n",
    " 'Mette Hjermind Dencker',\n",
    " 'Astrid Krag',\n",
    " 'Holger K. Nielsen',\n",
    " 'Karin Gaardsted',\n",
    " 'Anita Knakkergaard',\n",
    " 'Alex Ahrendtsen',\n",
    " 'Per Clausen',\n",
    " 'Kirsten Brosbøl',\n",
    " 'Lotte Rod',\n",
    " 'Steen Gade',\n",
    " 'Hans Christian Thoning',\n",
    " 'Ulla Tørnæs',\n",
    " 'Martin Geertsen',\n",
    " 'Henrik Brodersen',\n",
    " 'Pernille Rosenkrantz-Theil',\n",
    " 'Preben Rudiengaard',\n",
    " 'Marcus Knuth',\n",
    " 'Tina Petersen',\n",
    " 'Tina Nedergaard',\n",
    " 'Rasmus Helveg Petersen',\n",
    " 'Mattias Tesfaye',\n",
    " 'Nick Hækkerup',\n",
    " 'Lars Aslan Rasmussen',\n",
    " 'Zenia Stampe',\n",
    " 'Ida Auken']"
   ]
  },
  {
   "cell_type": "code",
   "execution_count": null,
   "metadata": {},
   "outputs": [],
   "source": [
    "df_KPI = pd.DataFrame(X_test[\"politician\"])\n",
    "df_KPI[\"y_test\"]=y_test2\n",
    "df_KPI[\"y_pred\"]=y_pred2\n",
    "\n",
    "df_pol_KPI = pd.DataFrame()\n",
    "print(len(df_KPI[\"politician\"].unique()))\n"
   ]
  },
  {
   "cell_type": "code",
   "execution_count": null,
   "metadata": {},
   "outputs": [],
   "source": [
    "df_KPI = df_KPI[df_KPI[\"politician\"].isin(top_climate_voters)]\n",
    "print(len(top_climate_voters))\n",
    "print(len(df_KPI[\"politician\"].unique()))"
   ]
  },
  {
   "cell_type": "code",
   "execution_count": null,
   "metadata": {},
   "outputs": [],
   "source": [
    "\n",
    "for politician in df_KPI[\"politician\"].unique():\n",
    "    try:\n",
    "        temp = pd.DataFrame()\n",
    "        temp[\"politician\"] = [politician]\n",
    "        temp[\"Accuracy\"] = [accuracy_score(df_KPI[df_KPI[\"politician\"]==politician][\"y_test\"], df_KPI[df_KPI[\"politician\"]==politician][\"y_pred\"])]\n",
    "        temp[\"Precision\"] = [precision_score(df_KPI[df_KPI[\"politician\"]==politician][\"y_test\"], df_KPI[df_KPI[\"politician\"]==politician][\"y_pred\"])]\n",
    "        temp[\"Recall\"] = recall_score(df_KPI[df_KPI[\"politician\"]==politician][\"y_test\"], df_KPI[df_KPI[\"politician\"]==politician][\"y_pred\"])\n",
    "        temp[\"AUC\"] = roc_auc_score(df_KPI[df_KPI[\"politician\"]==politician][\"y_test\"], df_KPI[df_KPI[\"politician\"]==politician][\"y_pred\"])\n",
    "        temp[\"F1\"] = f1_score(df_KPI[df_KPI[\"politician\"]==politician][\"y_test\"], df_KPI[df_KPI[\"politician\"]==politician][\"y_pred\"])\n",
    "        df_pol_KPI = df_pol_KPI.append(temp)\n",
    "    except:\n",
    "        print(\"error\", politician)\n",
    "        temp = pd.DataFrame()\n",
    "        temp[\"politician\"] = [politician]\n",
    "        temp[\"Accuracy\"] = [accuracy_score(df_KPI[df_KPI[\"politician\"]==politician][\"y_test\"], df_KPI[df_KPI[\"politician\"]==politician][\"y_pred\"])]\n",
    "        temp[\"Precision\"] = [precision_score(df_KPI[df_KPI[\"politician\"]==politician][\"y_test\"], df_KPI[df_KPI[\"politician\"]==politician][\"y_pred\"])]\n",
    "        temp[\"Recall\"] = recall_score(df_KPI[df_KPI[\"politician\"]==politician][\"y_test\"], df_KPI[df_KPI[\"politician\"]==politician][\"y_pred\"])\n",
    "        #temp[\"AUC\"] = roc_auc_score(df_KPI[df_KPI[\"politician\"]==politician][\"y_test\"], df_KPI[df_KPI[\"politician\"]==politician][\"y_pred\"])\n",
    "        temp[\"F1\"] = f1_score(df_KPI[df_KPI[\"politician\"]==politician][\"y_test\"], df_KPI[df_KPI[\"politician\"]==politician][\"y_pred\"])\n",
    "        df_pol_KPI = df_pol_KPI.append(temp)\n"
   ]
  },
  {
   "cell_type": "code",
   "execution_count": null,
   "metadata": {},
   "outputs": [],
   "source": [
    "df_pol_KPI.describe()"
   ]
  },
  {
   "cell_type": "code",
   "execution_count": null,
   "metadata": {},
   "outputs": [],
   "source": [
    "df_pol_KPI.hist()"
   ]
  },
  {
   "cell_type": "code",
   "execution_count": null,
   "metadata": {},
   "outputs": [],
   "source": []
  },
  {
   "cell_type": "markdown",
   "metadata": {},
   "source": [
    "##### Feature importance (ELI5)"
   ]
  },
  {
   "cell_type": "code",
   "execution_count": null,
   "metadata": {},
   "outputs": [],
   "source": [
    "onehot_columns = list(pipeline.named_steps['Encode cats and scale'].named_transformers_['OneHot'].get_feature_names(input_features=[\"party2\", \"vote_caller2\"]))\n",
    "numeric_features_list = list([\"w_for\", \"w_against\", \"cos_sim\"])\n",
    "numeric_features_list.extend(onehot_columns)\n",
    "#numeric_features_list"
   ]
  },
  {
   "cell_type": "code",
   "execution_count": null,
   "metadata": {},
   "outputs": [],
   "source": [
    "import eli5\n",
    "eli5.explain_weights(pipeline.named_steps['classifier'], top=50, feature_names=[numeric_features_list])"
   ]
  },
  {
   "cell_type": "code",
   "execution_count": null,
   "metadata": {},
   "outputs": [],
   "source": [
    "import numpy as np\n",
    "import matplotlib.pyplot as plt\n",
    "## Link: https://scikit-learn.org/stable/auto_examples/inspection/plot_permutation_importance.html\n",
    "categorical_columns = [\"politician\"]\n",
    "numerical_columns = [\"w_for\", \"w_against\", \"cos_sim\"]\n",
    "ohe = pipeline.named_steps['Encode cats and scale'].named_transformers_['OneHot']\n",
    "feature_names = ohe.get_feature_names_out(categorical_columns)\n",
    "feature_names = np.r_[feature_names, numerical_columns]\n",
    "\n",
    "tree_feature_importances = pipeline.named_steps[\"classifier\"].feature_importances_\n",
    "sorted_idx = tree_feature_importances.argsort()\n",
    "sorted_idx = sorted_idx[:25]"
   ]
  },
  {
   "cell_type": "code",
   "execution_count": null,
   "metadata": {},
   "outputs": [],
   "source": [
    "\n",
    "y_ticks = np.arange(0, len(sorted_idx))\n",
    "fig, ax = plt.subplots()\n",
    "ax.barh(y_ticks, tree_feature_importances[sorted_idx])\n",
    "ax.set_yticks(y_ticks)\n",
    "ax.set_yticklabels(feature_names[sorted_idx])\n",
    "ax.set_title(\"Random Forest Feature Importances (MDI)\")\n",
    "fig.tight_layout()\n",
    "plt.show()"
   ]
  },
  {
   "cell_type": "code",
   "execution_count": null,
   "metadata": {},
   "outputs": [],
   "source": []
  }
 ],
 "metadata": {
  "interpreter": {
   "hash": "6c394272594a68b0a5bd03bbb8469a449c9402c12c87bbd02bc40bbbc1d6f707"
  },
  "kernelspec": {
   "display_name": "Python 3.9.2 64-bit",
   "language": "python",
   "name": "python3"
  },
  "language_info": {
   "codemirror_mode": {
    "name": "ipython",
    "version": 3
   },
   "file_extension": ".py",
   "mimetype": "text/x-python",
   "name": "python",
   "nbconvert_exporter": "python",
   "pygments_lexer": "ipython3",
   "version": "3.9.7"
  },
  "orig_nbformat": 4
 },
 "nbformat": 4,
 "nbformat_minor": 2
}
