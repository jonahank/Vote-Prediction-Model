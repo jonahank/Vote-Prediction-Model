{
 "cells": [
  {
   "cell_type": "code",
   "execution_count": 1,
   "metadata": {},
   "outputs": [],
   "source": [
    "from datasets import load_dataset\n",
    "from transformers import AutoTokenizer, DataCollatorWithPadding\n",
    "import pandas as pd\n",
    "from datasets import Dataset, DatasetDict\n",
    "import json"
   ]
  },
  {
   "cell_type": "code",
   "execution_count": 2,
   "metadata": {},
   "outputs": [
    {
     "data": {
      "text/plain": [
       "['Socialdemokratiet',\n",
       " 'Venstre',\n",
       " 'Socialistisk Folkeparti',\n",
       " 'Det Radikale Venstre',\n",
       " 'Enhedslisten',\n",
       " 'Det Konservative Folkeparti',\n",
       " 'Dansk Folkeparti',\n",
       " 'Liberal Alliance',\n",
       " 'Alternativet']"
      ]
     },
     "execution_count": 2,
     "metadata": {},
     "output_type": "execute_result"
    }
   ],
   "source": [
    "with open('./party_lst.json') as json_file:\n",
    "    parties = json.load(json_file)\n",
    "parties"
   ]
  },
  {
   "cell_type": "markdown",
   "metadata": {},
   "source": [
    "## Flow for each party"
   ]
  },
  {
   "cell_type": "markdown",
   "metadata": {},
   "source": [
    "### One by one"
   ]
  },
  {
   "cell_type": "code",
   "execution_count": 3,
   "metadata": {},
   "outputs": [],
   "source": [
    "party = \"Socialdemokratiet\""
   ]
  },
  {
   "cell_type": "code",
   "execution_count": 4,
   "metadata": {},
   "outputs": [
    {
     "data": {
      "text/html": [
       "<div>\n",
       "<style scoped>\n",
       "    .dataframe tbody tr th:only-of-type {\n",
       "        vertical-align: middle;\n",
       "    }\n",
       "\n",
       "    .dataframe tbody tr th {\n",
       "        vertical-align: top;\n",
       "    }\n",
       "\n",
       "    .dataframe thead th {\n",
       "        text-align: right;\n",
       "    }\n",
       "</style>\n",
       "<table border=\"1\" class=\"dataframe\">\n",
       "  <thead>\n",
       "    <tr style=\"text-align: right;\">\n",
       "      <th></th>\n",
       "      <th>Unnamed: 0</th>\n",
       "      <th>Absent</th>\n",
       "      <th>Against</th>\n",
       "      <th>For</th>\n",
       "      <th>Neutral</th>\n",
       "      <th>parties</th>\n",
       "      <th>description</th>\n",
       "      <th>date</th>\n",
       "    </tr>\n",
       "  </thead>\n",
       "  <tbody>\n",
       "    <tr>\n",
       "      <th>0</th>\n",
       "      <td>1</td>\n",
       "      <td>18</td>\n",
       "      <td>27</td>\n",
       "      <td>0</td>\n",
       "      <td>0</td>\n",
       "      <td>Socialdemokratiet (S)</td>\n",
       "      <td>Formålet med beslutningsforslaget var, at rege...</td>\n",
       "      <td>2010-05-06</td>\n",
       "    </tr>\n",
       "    <tr>\n",
       "      <th>1</th>\n",
       "      <td>0</td>\n",
       "      <td>19</td>\n",
       "      <td>0</td>\n",
       "      <td>30</td>\n",
       "      <td>0</td>\n",
       "      <td>Socialdemokratiet (S)</td>\n",
       "      <td>Regeringen (Socialdemokratiet), Radikale Venst...</td>\n",
       "      <td>2021-02-13</td>\n",
       "    </tr>\n",
       "  </tbody>\n",
       "</table>\n",
       "</div>"
      ],
      "text/plain": [
       "   Unnamed: 0  Absent  Against  For  Neutral                parties  \\\n",
       "0           1      18       27    0        0  Socialdemokratiet (S)   \n",
       "1           0      19        0   30        0  Socialdemokratiet (S)   \n",
       "\n",
       "                                         description        date  \n",
       "0  Formålet med beslutningsforslaget var, at rege...  2010-05-06  \n",
       "1  Regeringen (Socialdemokratiet), Radikale Venst...  2021-02-13  "
      ]
     },
     "execution_count": 4,
     "metadata": {},
     "output_type": "execute_result"
    }
   ],
   "source": [
    "df_train = pd.read_csv(\"./by_party_train/\" + party + \".csv\")\n",
    "df_test = pd.read_csv(\"./by_party_test/\" + party + \".csv\")\n",
    "df_train.head(2)"
   ]
  },
  {
   "cell_type": "code",
   "execution_count": 5,
   "metadata": {},
   "outputs": [],
   "source": [
    "def preprocess_vote(df):\n",
    "  \n",
    "  df['label'] = df.apply(lambda x: 1 if x['Neutral']<x['Against']>x['For'] else 0 if x['Neutral']<x['For']>x['Against'] else None, axis=1)\n",
    "\n",
    "  df.rename(columns={'description':'text'}, inplace=True)\n",
    "  df = df[['text', 'label']]\n",
    "  df = df.dropna()\n",
    "  df['label'] = df.apply(lambda x: int(x['label']), axis=1)\n",
    "\n",
    "  return df\n",
    "\n",
    "## Note \"Against\" = 1"
   ]
  },
  {
   "cell_type": "code",
   "execution_count": 6,
   "metadata": {},
   "outputs": [
    {
     "data": {
      "text/html": [
       "<div>\n",
       "<style scoped>\n",
       "    .dataframe tbody tr th:only-of-type {\n",
       "        vertical-align: middle;\n",
       "    }\n",
       "\n",
       "    .dataframe tbody tr th {\n",
       "        vertical-align: top;\n",
       "    }\n",
       "\n",
       "    .dataframe thead th {\n",
       "        text-align: right;\n",
       "    }\n",
       "</style>\n",
       "<table border=\"1\" class=\"dataframe\">\n",
       "  <thead>\n",
       "    <tr style=\"text-align: right;\">\n",
       "      <th></th>\n",
       "      <th>text</th>\n",
       "      <th>label</th>\n",
       "    </tr>\n",
       "  </thead>\n",
       "  <tbody>\n",
       "    <tr>\n",
       "      <th>0</th>\n",
       "      <td>Formålet med beslutningsforslaget var, at rege...</td>\n",
       "      <td>1</td>\n",
       "    </tr>\n",
       "    <tr>\n",
       "      <th>1</th>\n",
       "      <td>Regeringen (Socialdemokratiet), Radikale Venst...</td>\n",
       "      <td>0</td>\n",
       "    </tr>\n",
       "  </tbody>\n",
       "</table>\n",
       "</div>"
      ],
      "text/plain": [
       "                                                text  label\n",
       "0  Formålet med beslutningsforslaget var, at rege...      1\n",
       "1  Regeringen (Socialdemokratiet), Radikale Venst...      0"
      ]
     },
     "execution_count": 6,
     "metadata": {},
     "output_type": "execute_result"
    }
   ],
   "source": [
    "df_train = preprocess_vote(df_train)\n",
    "df_test = preprocess_vote(df_test)\n",
    "df_train.head(2)"
   ]
  },
  {
   "cell_type": "code",
   "execution_count": 7,
   "metadata": {},
   "outputs": [
    {
     "data": {
      "text/plain": [
       "DatasetDict({\n",
       "    train: Dataset({\n",
       "        features: ['text', 'label', '__index_level_0__'],\n",
       "        num_rows: 281\n",
       "    })\n",
       "    test: Dataset({\n",
       "        features: ['text', 'label', '__index_level_0__'],\n",
       "        num_rows: 70\n",
       "    })\n",
       "})"
      ]
     },
     "execution_count": 7,
     "metadata": {},
     "output_type": "execute_result"
    }
   ],
   "source": [
    "train_set = Dataset.from_pandas(df_train, preserve_index=True)\n",
    "test_set = Dataset.from_pandas(df_test, preserve_index=True)\n",
    "dataset = DatasetDict({'train':train_set,\n",
    "                        'test':test_set})\n",
    "dataset"
   ]
  },
  {
   "cell_type": "code",
   "execution_count": 8,
   "metadata": {},
   "outputs": [],
   "source": [
    "#Models\n",
    "klimaBERT = \"/klimaBERTe4_v2.1\"\n",
    "checkpoint = klimaBERT\n",
    "\n",
    "tokenizer = AutoTokenizer.from_pretrained(checkpoint)"
   ]
  },
  {
   "cell_type": "code",
   "execution_count": 9,
   "metadata": {},
   "outputs": [
    {
     "name": "stderr",
     "output_type": "stream",
     "text": [
      "100%|██████████| 1/1 [00:00<00:00,  7.35ba/s]\n",
      "100%|██████████| 1/1 [00:00<00:00, 29.41ba/s]\n"
     ]
    }
   ],
   "source": [
    "def tokenize(batch):\n",
    "    tokenized_batch = tokenizer(batch['text'], padding=True, truncation=True, max_length=512)\n",
    "    return tokenized_batch\n",
    "\n",
    "tokenized_datasets = dataset.map(tokenize, batched=True)\n",
    "\n",
    "data_collator = DataCollatorWithPadding(tokenizer=tokenizer)"
   ]
  },
  {
   "cell_type": "code",
   "execution_count": 10,
   "metadata": {},
   "outputs": [
    {
     "data": {
      "text/plain": [
       "{'train': ['labels',\n",
       "  '__index_level_0__',\n",
       "  'input_ids',\n",
       "  'token_type_ids',\n",
       "  'attention_mask'],\n",
       " 'test': ['labels',\n",
       "  '__index_level_0__',\n",
       "  'input_ids',\n",
       "  'token_type_ids',\n",
       "  'attention_mask']}"
      ]
     },
     "execution_count": 10,
     "metadata": {},
     "output_type": "execute_result"
    }
   ],
   "source": [
    "## Steps for processing data\n",
    "tokenized_datasets = tokenized_datasets.remove_columns([\"text\"])\n",
    "\n",
    "## Rename label column to labels, if not already done\n",
    "tokenized_datasets = tokenized_datasets.rename_column(\"label\", \"labels\")\n",
    "\n",
    "tokenized_datasets.set_format(\"torch\")\n",
    "tokenized_datasets.column_names\n",
    "## Our model needs columns that it already knows (the 4 below, NOT any custom columns like \"text\"):\n",
    "#['labels', 'input_ids', 'token_type_ids', 'attention_mask']"
   ]
  },
  {
   "cell_type": "code",
   "execution_count": 11,
   "metadata": {},
   "outputs": [],
   "source": [
    "from datasets import load_metric\n",
    "from datasets import load_metric\n",
    "from sklearn.metrics import precision_recall_fscore_support\n",
    "from sklearn.metrics import accuracy_score\n",
    "from sklearn.metrics import roc_auc_score\n",
    "\n",
    "def compute_metrics(pred):\n",
    "    labels = pred.label_ids\n",
    "    preds = pred.predictions.argmax(-1)\n",
    "    precision, recall, f1, _ = precision_recall_fscore_support(labels, preds, average='binary')\n",
    "    acc = accuracy_score(labels, preds)\n",
    "    roc_auc = roc_auc_score(labels, preds)\n",
    "    return {\n",
    "        'accuracy': acc,\n",
    "        'f1': f1,\n",
    "        'precision': precision,\n",
    "        'recall': recall,\n",
    "        'roc_auc_score': roc_auc\n",
    "    }"
   ]
  },
  {
   "cell_type": "code",
   "execution_count": 12,
   "metadata": {},
   "outputs": [],
   "source": [
    "from transformers import TrainingArguments\n",
    "from transformers import Trainer\n",
    "from transformers import AutoModelForSequenceClassification\n",
    "\n",
    "training_args = TrainingArguments(\"test-trainer\", evaluation_strategy=\"epoch\", per_device_train_batch_size=2, num_train_epochs=5, seed=2022)\n",
    "model = AutoModelForSequenceClassification.from_pretrained(checkpoint, num_labels=2) #Change num  of labels if needed\n",
    "\n",
    "trainer = Trainer(\n",
    "    model,\n",
    "    training_args,\n",
    "    train_dataset=tokenized_datasets[\"train\"],\n",
    "    eval_dataset=tokenized_datasets[\"test\"],\n",
    "    data_collator=data_collator,\n",
    "    tokenizer=tokenizer,\n",
    "    compute_metrics=compute_metrics,\n",
    ")"
   ]
  },
  {
   "cell_type": "code",
   "execution_count": 13,
   "metadata": {},
   "outputs": [
    {
     "data": {
      "text/plain": [
       "device(type='cuda')"
      ]
     },
     "execution_count": 13,
     "metadata": {},
     "output_type": "execute_result"
    }
   ],
   "source": [
    "## Set to use GPU\n",
    "import torch\n",
    "\n",
    "device = torch.device(\"cuda\") if torch.cuda.is_available() else torch.device(\"cpu\")\n",
    "model.to(device)\n",
    "device"
   ]
  },
  {
   "cell_type": "code",
   "execution_count": 14,
   "metadata": {},
   "outputs": [
    {
     "name": "stderr",
     "output_type": "stream",
     "text": [
      "The following columns in the training set  don't have a corresponding argument in `BertForSequenceClassification.forward` and have been ignored: __index_level_0__. If __index_level_0__ are not expected by `BertForSequenceClassification.forward`,  you can safely ignore this message.\n",
      "C:\\Users\\COBOD\\AppData\\Local\\Programs\\Python\\Python39\\lib\\site-packages\\transformers\\optimization.py:306: FutureWarning: This implementation of AdamW is deprecated and will be removed in a future version. Use the PyTorch implementation torch.optim.AdamW instead, or set `no_deprecation_warning=True` to disable this warning\n",
      "  warnings.warn(\n",
      "***** Running training *****\n",
      "  Num examples = 281\n",
      "  Num Epochs = 5\n",
      "  Instantaneous batch size per device = 2\n",
      "  Total train batch size (w. parallel, distributed & accumulation) = 2\n",
      "  Gradient Accumulation steps = 1\n",
      "  Total optimization steps = 705\n",
      " 20%|██        | 141/705 [01:19<04:36,  2.04it/s]The following columns in the evaluation set  don't have a corresponding argument in `BertForSequenceClassification.forward` and have been ignored: __index_level_0__. If __index_level_0__ are not expected by `BertForSequenceClassification.forward`,  you can safely ignore this message.\n",
      "***** Running Evaluation *****\n",
      "  Num examples = 70\n",
      "  Batch size = 8\n",
      "C:\\Users\\COBOD\\AppData\\Local\\Programs\\Python\\Python39\\lib\\site-packages\\sklearn\\metrics\\_classification.py:1248: UndefinedMetricWarning: Precision and F-score are ill-defined and being set to 0.0 due to no predicted samples. Use `zero_division` parameter to control this behavior.\n",
      "  _warn_prf(average, modifier, msg_start, len(result))\n",
      "                                                 \n",
      " 20%|██        | 141/705 [01:24<04:36,  2.04it/s]"
     ]
    },
    {
     "name": "stdout",
     "output_type": "stream",
     "text": [
      "{'eval_loss': 1.118721604347229, 'eval_accuracy': 0.7428571428571429, 'eval_f1': 0.0, 'eval_precision': 0.0, 'eval_recall': 0.0, 'eval_roc_auc_score': 0.5, 'eval_runtime': 4.6613, 'eval_samples_per_second': 15.017, 'eval_steps_per_second': 1.931, 'epoch': 1.0}\n"
     ]
    },
    {
     "name": "stderr",
     "output_type": "stream",
     "text": [
      " 40%|████      | 282/705 [02:42<03:27,  2.04it/s]The following columns in the evaluation set  don't have a corresponding argument in `BertForSequenceClassification.forward` and have been ignored: __index_level_0__. If __index_level_0__ are not expected by `BertForSequenceClassification.forward`,  you can safely ignore this message.\n",
      "***** Running Evaluation *****\n",
      "  Num examples = 70\n",
      "  Batch size = 8\n",
      "                                                 \n",
      " 40%|████      | 282/705 [02:47<03:27,  2.04it/s]"
     ]
    },
    {
     "name": "stdout",
     "output_type": "stream",
     "text": [
      "{'eval_loss': 0.8445354104042053, 'eval_accuracy': 0.7428571428571429, 'eval_f1': 0.30769230769230765, 'eval_precision': 0.5, 'eval_recall': 0.2222222222222222, 'eval_roc_auc_score': 0.5726495726495727, 'eval_runtime': 4.6491, 'eval_samples_per_second': 15.057, 'eval_steps_per_second': 1.936, 'epoch': 2.0}\n"
     ]
    },
    {
     "name": "stderr",
     "output_type": "stream",
     "text": [
      " 60%|██████    | 423/705 [04:04<02:18,  2.04it/s]The following columns in the evaluation set  don't have a corresponding argument in `BertForSequenceClassification.forward` and have been ignored: __index_level_0__. If __index_level_0__ are not expected by `BertForSequenceClassification.forward`,  you can safely ignore this message.\n",
      "***** Running Evaluation *****\n",
      "  Num examples = 70\n",
      "  Batch size = 8\n",
      "                                                 \n",
      " 60%|██████    | 423/705 [04:09<02:18,  2.04it/s]"
     ]
    },
    {
     "name": "stdout",
     "output_type": "stream",
     "text": [
      "{'eval_loss': 1.4555116891860962, 'eval_accuracy': 0.6857142857142857, 'eval_f1': 0.4761904761904762, 'eval_precision': 0.4166666666666667, 'eval_recall': 0.5555555555555556, 'eval_roc_auc_score': 0.6431623931623932, 'eval_runtime': 4.7134, 'eval_samples_per_second': 14.851, 'eval_steps_per_second': 1.909, 'epoch': 3.0}\n"
     ]
    },
    {
     "name": "stderr",
     "output_type": "stream",
     "text": [
      " 71%|███████   | 500/705 [04:52<01:54,  1.80it/s]Saving model checkpoint to test-trainer\\checkpoint-500\n",
      "Configuration saved in test-trainer\\checkpoint-500\\config.json\n"
     ]
    },
    {
     "name": "stdout",
     "output_type": "stream",
     "text": [
      "{'loss': 0.7769, 'learning_rate': 1.4539007092198581e-05, 'epoch': 3.55}\n"
     ]
    },
    {
     "name": "stderr",
     "output_type": "stream",
     "text": [
      "Model weights saved in test-trainer\\checkpoint-500\\pytorch_model.bin\n",
      "tokenizer config file saved in test-trainer\\checkpoint-500\\tokenizer_config.json\n",
      "Special tokens file saved in test-trainer\\checkpoint-500\\special_tokens_map.json\n",
      " 80%|████████  | 564/705 [05:31<01:09,  2.02it/s]The following columns in the evaluation set  don't have a corresponding argument in `BertForSequenceClassification.forward` and have been ignored: __index_level_0__. If __index_level_0__ are not expected by `BertForSequenceClassification.forward`,  you can safely ignore this message.\n",
      "***** Running Evaluation *****\n",
      "  Num examples = 70\n",
      "  Batch size = 8\n",
      "                                                 \n",
      " 80%|████████  | 564/705 [05:36<01:09,  2.02it/s]"
     ]
    },
    {
     "name": "stdout",
     "output_type": "stream",
     "text": [
      "{'eval_loss': 1.251636028289795, 'eval_accuracy': 0.7285714285714285, 'eval_f1': 0.3870967741935484, 'eval_precision': 0.46153846153846156, 'eval_recall': 0.3333333333333333, 'eval_roc_auc_score': 0.5993589743589743, 'eval_runtime': 4.7022, 'eval_samples_per_second': 14.887, 'eval_steps_per_second': 1.914, 'epoch': 4.0}\n"
     ]
    },
    {
     "name": "stderr",
     "output_type": "stream",
     "text": [
      "100%|██████████| 705/705 [06:54<00:00,  2.03it/s]The following columns in the evaluation set  don't have a corresponding argument in `BertForSequenceClassification.forward` and have been ignored: __index_level_0__. If __index_level_0__ are not expected by `BertForSequenceClassification.forward`,  you can safely ignore this message.\n",
      "***** Running Evaluation *****\n",
      "  Num examples = 70\n",
      "  Batch size = 8\n",
      "                                                 \n",
      "100%|██████████| 705/705 [06:59<00:00,  2.03it/s]\n",
      "\n",
      "Training completed. Do not forget to share your model on huggingface.co/models =)\n",
      "\n",
      "\n",
      "100%|██████████| 705/705 [06:59<00:00,  1.68it/s]"
     ]
    },
    {
     "name": "stdout",
     "output_type": "stream",
     "text": [
      "{'eval_loss': 1.5468006134033203, 'eval_accuracy': 0.7, 'eval_f1': 0.39999999999999997, 'eval_precision': 0.4117647058823529, 'eval_recall': 0.3888888888888889, 'eval_roc_auc_score': 0.5982905982905983, 'eval_runtime': 4.6823, 'eval_samples_per_second': 14.95, 'eval_steps_per_second': 1.922, 'epoch': 5.0}\n",
      "{'train_runtime': 419.5228, 'train_samples_per_second': 3.349, 'train_steps_per_second': 1.68, 'train_loss': 0.6497332525591478, 'epoch': 5.0}\n"
     ]
    },
    {
     "name": "stderr",
     "output_type": "stream",
     "text": [
      "\n"
     ]
    },
    {
     "data": {
      "text/plain": [
       "TrainOutput(global_step=705, training_loss=0.6497332525591478, metrics={'train_runtime': 419.5228, 'train_samples_per_second': 3.349, 'train_steps_per_second': 1.68, 'train_loss': 0.6497332525591478, 'epoch': 5.0})"
      ]
     },
     "execution_count": 14,
     "metadata": {},
     "output_type": "execute_result"
    }
   ],
   "source": [
    "trainer.train()"
   ]
  },
  {
   "cell_type": "code",
   "execution_count": 16,
   "metadata": {},
   "outputs": [
    {
     "name": "stderr",
     "output_type": "stream",
     "text": [
      "Saving model checkpoint to models_binary_party/Socialdemokratiet\n",
      "Configuration saved in models_binary_party/Socialdemokratiet\\config.json\n",
      "Model weights saved in models_binary_party/Socialdemokratiet\\pytorch_model.bin\n",
      "tokenizer config file saved in models_binary_party/Socialdemokratiet\\tokenizer_config.json\n",
      "Special tokens file saved in models_binary_party/Socialdemokratiet\\special_tokens_map.json\n"
     ]
    }
   ],
   "source": [
    "trainer.save_model(\"models_binary_party/\"+party)"
   ]
  },
  {
   "cell_type": "markdown",
   "metadata": {},
   "source": [
    "##### Metrics"
   ]
  },
  {
   "cell_type": "code",
   "execution_count": 28,
   "metadata": {},
   "outputs": [],
   "source": [
    "# example of a roc curve for a predictive model\n",
    "from sklearn.datasets import make_classification\n",
    "from sklearn.model_selection import train_test_split\n",
    "from sklearn.metrics import roc_curve\n",
    "from matplotlib import pyplot\n",
    "from sklearn.dummy import DummyClassifier\n",
    "m = torch.nn.Softmax(dim=-1)"
   ]
  },
  {
   "cell_type": "code",
   "execution_count": 24,
   "metadata": {},
   "outputs": [
    {
     "name": "stderr",
     "output_type": "stream",
     "text": [
      "The following columns in the test set  don't have a corresponding argument in `BertForSequenceClassification.forward` and have been ignored: __index_level_0__. If __index_level_0__ are not expected by `BertForSequenceClassification.forward`,  you can safely ignore this message.\n",
      "***** Running Prediction *****\n",
      "  Num examples = 70\n",
      "  Batch size = 8\n",
      "36it [04:32,  1.60s/it]"
     ]
    }
   ],
   "source": [
    "\n",
    "weight_pred = trainer.predict(tokenized_datasets[\"test\"])[0]\n",
    "weight_for = []\n",
    "weight_against = []\n",
    "for input in weight_pred:\n",
    "    input2 = torch.from_numpy(input)\n",
    "    (i,k) = m(input2) #i=against, k=for\n",
    "    weight_for.append(i.item())\n",
    "    weight_against.append(k.item())"
   ]
  },
  {
   "cell_type": "code",
   "execution_count": 31,
   "metadata": {},
   "outputs": [
    {
     "data": {
      "image/png": "[encoded data removed]",
      "text/plain": [
       "<Figure size 432x288 with 1 Axes>"
      ]
     },
     "metadata": {
      "needs_background": "light"
     },
     "output_type": "display_data"
    },
    {
     "name": "stdout",
     "output_type": "stream",
     "text": [
      "No Skill ROC AUC 0.467\n",
      "Baseline ROC AUC 0.733\n"
     ]
    }
   ],
   "source": [
    "## ROC CURVE\n",
    "testy = tokenized_datasets[\"test\"][\"labels\"]\n",
    "\n",
    "# plot no skill roc curve\n",
    "model = DummyClassifier(strategy='stratified')\n",
    "model.fit(tokenized_datasets[\"train\"], tokenized_datasets[\"train\"][\"labels\"])\n",
    "yhat = model.predict_proba(tokenized_datasets[\"test\"])\n",
    "pos_probs = yhat[:, 1]\n",
    "roc_auc_noskill = roc_auc_score(testy, pos_probs)\n",
    "\n",
    "pyplot.plot([0, 1], [0, 1], linestyle='--', label='No Skill')\n",
    "\n",
    "# plot the skill curve\n",
    "# retrieve just the probabilities for the positive class\n",
    "pos_probs = weight_against\n",
    "# calculate roc curve for model\n",
    "fpr, tpr, _ = roc_curve(testy, pos_probs)\n",
    "\n",
    "# plot model roc curve\n",
    "pyplot.plot(fpr, tpr, marker='.', label=f'Baseline-{party}')\n",
    "\n",
    "# axis labels\n",
    "pyplot.xlabel('False Positive Rate')\n",
    "pyplot.ylabel('True Positive Rate')\n",
    "\n",
    "# show the legend\n",
    "pyplot.legend()\n",
    "\n",
    "# show the plot\n",
    "pyplot.show()\n",
    "\n",
    "\n",
    "roc_auc = roc_auc_score(testy, pos_probs)\n",
    "print('No Skill ROC AUC %.3f' % roc_auc_noskill)\n",
    "print('Baseline ROC AUC %.3f' % roc_auc)"
   ]
  },
  {
   "cell_type": "code",
   "execution_count": 60,
   "metadata": {},
   "outputs": [
    {
     "data": {
      "text/plain": [
       "18"
      ]
     },
     "execution_count": 60,
     "metadata": {},
     "output_type": "execute_result"
    }
   ],
   "source": [
    "y[\"labels\"].sum().item()"
   ]
  },
  {
   "cell_type": "code",
   "execution_count": 68,
   "metadata": {},
   "outputs": [
    {
     "data": {
      "image/png": "[encoded data removed]",
      "text/plain": [
       "<Figure size 432x288 with 1 Axes>"
      ]
     },
     "metadata": {
      "needs_background": "light"
     },
     "output_type": "display_data"
    },
    {
     "name": "stdout",
     "output_type": "stream",
     "text": [
      "No Skill PR AUC: 0.388\n",
      "Logistic PR AUC: 0.517\n"
     ]
    }
   ],
   "source": [
    "## PR Curve\n",
    "from sklearn.metrics import precision_recall_curve\n",
    "from sklearn.metrics import auc\n",
    "y = tokenized_datasets[\"test\"]\n",
    "no_of_pos = y[\"labels\"].sum().item()\n",
    "\n",
    "\n",
    "# calculate the no skill line as the proportion of the positive class\n",
    "no_skill = (no_of_pos / len(y))\n",
    "# plot the no skill precision-recall curve\n",
    "model = DummyClassifier(strategy='stratified')\n",
    "model.fit(tokenized_datasets[\"train\"], tokenized_datasets[\"train\"][\"labels\"])\n",
    "yhat = model.predict_proba(tokenized_datasets[\"test\"])\n",
    "pos_probs = yhat[:, 1]\n",
    "# calculate the precision-recall auc\n",
    "precision, recall, _ = precision_recall_curve(testy, pos_probs)\n",
    "auc_score_noskill = auc(recall, precision)\n",
    "pyplot.plot([0, 1], [no_skill, no_skill], linestyle='--', label='No Skill')\n",
    "\n",
    "# calculate model precision-recall curve\n",
    "pos_probs = weight_against\n",
    "precision, recall, _ = precision_recall_curve(testy, pos_probs)\n",
    "# plot the model precision-recall curve\n",
    "pyplot.plot(recall, precision, marker='.', label=f'Baseline-{party}')\n",
    "# axis labels\n",
    "pyplot.xlabel('Recall')\n",
    "pyplot.ylabel('Precision')\n",
    "# show the legend\n",
    "pyplot.legend()\n",
    "# show the plot\n",
    "pyplot.show()\n",
    "auc_score = auc(recall, precision)\n",
    "print('No Skill PR AUC: %.3f' % auc_score_noskill)\n",
    "print('Logistic PR AUC: %.3f' % auc_score)"
   ]
  },
  {
   "cell_type": "markdown",
   "metadata": {},
   "source": [
    "### Loop for all parties"
   ]
  },
  {
   "cell_type": "code",
   "execution_count": null,
   "metadata": {},
   "outputs": [],
   "source": [
    "for party in parties:\n",
    "    df_train = pd.read_csv(\"./by_party_train\" + party + \".csv\")\n",
    "    df_test = pd.read_csv(\"./by_party_test\" + party + \".csv\")\n"
   ]
  }
 ],
 "metadata": {
  "interpreter": {
   "hash": "6c394272594a68b0a5bd03bbb8469a449c9402c12c87bbd02bc40bbbc1d6f707"
  },
  "kernelspec": {
   "display_name": "Python 3.9.7 64-bit",
   "language": "python",
   "name": "python3"
  },
  "language_info": {
   "codemirror_mode": {
    "name": "ipython",
    "version": 3
   },
   "file_extension": ".py",
   "mimetype": "text/x-python",
   "name": "python",
   "nbconvert_exporter": "python",
   "pygments_lexer": "ipython3",
   "version": "3.9.7"
  },
  "orig_nbformat": 4
 },
 "nbformat": 4,
 "nbformat_minor": 2
}
