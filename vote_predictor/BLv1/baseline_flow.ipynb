{
 "cells": [
  {
   "cell_type": "code",
   "execution_count": 2,
   "metadata": {},
   "outputs": [],
   "source": [
    "from datasets import load_dataset\n",
    "from transformers import AutoTokenizer, DataCollatorWithPadding\n",
    "import pandas as pd\n",
    "import numpy as np\n",
    "from datasets import Dataset, DatasetDict\n",
    "from torch.utils.data import DataLoader\n",
    "import json"
   ]
  },
  {
   "cell_type": "code",
   "execution_count": 8,
   "metadata": {},
   "outputs": [
    {
     "data": {
      "text/plain": [
       "['Socialdemokratiet',\n",
       " 'Venstre',\n",
       " 'Socialistisk Folkeparti',\n",
       " 'Det Radikale Venstre',\n",
       " 'Enhedslisten',\n",
       " 'Det Konservative Folkeparti',\n",
       " 'Dansk Folkeparti',\n",
       " 'Nye Borgerlige',\n",
       " 'Frie Grønne, Danmarks Nye Venstrefløjsparti',\n",
       " 'Liberal Alliance',\n",
       " 'Alternativet',\n",
       " 'Inuit Ataqatigiit',\n",
       " 'Javnaðarflokkurin',\n",
       " 'Kristendemokraterne',\n",
       " 'Siumut',\n",
       " 'Sambandsflokkurin',\n",
       " 'Uden for folketingsgrupperne',\n",
       " 'Nunatta Qitornai',\n",
       " 'Tjóðveldi',\n",
       " 'Tjóðveldisflokkurin',\n",
       " 'Ny Alliance',\n",
       " 'Fólkaflokkurin']"
      ]
     },
     "execution_count": 8,
     "metadata": {},
     "output_type": "execute_result"
    }
   ],
   "source": [
    "with open('./party_lst.json') as json_file:\n",
    "    parties = json.load(json_file)\n",
    "parties"
   ]
  },
  {
   "cell_type": "markdown",
   "metadata": {},
   "source": [
    "## Flow for each party"
   ]
  },
  {
   "cell_type": "code",
   "execution_count": null,
   "metadata": {},
   "outputs": [],
   "source": [
    "party = "
   ]
  },
  {
   "cell_type": "code",
   "execution_count": null,
   "metadata": {},
   "outputs": [],
   "source": [
    "df_train = pd.read_csv(\"./by_party_train\" + party + \".csv\")\n",
    "df_test = pd.read_csv(\"./by_party_test\" + party + \".csv\")"
   ]
  }
 ],
 "metadata": {
  "interpreter": {
   "hash": "6c394272594a68b0a5bd03bbb8469a449c9402c12c87bbd02bc40bbbc1d6f707"
  },
  "kernelspec": {
   "display_name": "Python 3.9.7 64-bit",
   "language": "python",
   "name": "python3"
  },
  "language_info": {
   "codemirror_mode": {
    "name": "ipython",
    "version": 3
   },
   "file_extension": ".py",
   "mimetype": "text/x-python",
   "name": "python",
   "nbconvert_exporter": "python",
   "pygments_lexer": "ipython3",
   "version": "3.9.7"
  },
  "orig_nbformat": 4
 },
 "nbformat": 4,
 "nbformat_minor": 2
}
