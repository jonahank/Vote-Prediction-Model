{
 "cells": [
  {
   "cell_type": "code",
   "execution_count": 2,
   "metadata": {},
   "outputs": [],
   "source": [
    "## Imports\n",
    "import pandas as pd\n",
    "from datasets import Dataset, DatasetDict\n",
    "import os"
   ]
  },
  {
   "cell_type": "code",
   "execution_count": 8,
   "metadata": {},
   "outputs": [
    {
     "name": "stdout",
     "output_type": "stream",
     "text": [
      "996\n"
     ]
    },
    {
     "data": {
      "text/html": [
       "<div>\n",
       "<style scoped>\n",
       "    .dataframe tbody tr th:only-of-type {\n",
       "        vertical-align: middle;\n",
       "    }\n",
       "\n",
       "    .dataframe tbody tr th {\n",
       "        vertical-align: top;\n",
       "    }\n",
       "\n",
       "    .dataframe thead th {\n",
       "        text-align: right;\n",
       "    }\n",
       "</style>\n",
       "<table border=\"1\" class=\"dataframe\">\n",
       "  <thead>\n",
       "    <tr style=\"text-align: right;\">\n",
       "      <th></th>\n",
       "      <th>text</th>\n",
       "      <th>label</th>\n",
       "    </tr>\n",
       "  </thead>\n",
       "  <tbody>\n",
       "    <tr>\n",
       "      <th>0</th>\n",
       "      <td>Det her gør vi med åbent sind, med løftet pand...</td>\n",
       "      <td>0</td>\n",
       "    </tr>\n",
       "    <tr>\n",
       "      <th>1</th>\n",
       "      <td>For hvordan kan vi fejre demokratiet, når det ...</td>\n",
       "      <td>0</td>\n",
       "    </tr>\n",
       "    <tr>\n",
       "      <th>2</th>\n",
       "      <td>Børn, som vokser op i sådanne områder, får ind...</td>\n",
       "      <td>0</td>\n",
       "    </tr>\n",
       "    <tr>\n",
       "      <th>3</th>\n",
       "      <td>Tak til ordføreren for talen. Jeg ved, at noge...</td>\n",
       "      <td>1</td>\n",
       "    </tr>\n",
       "    <tr>\n",
       "      <th>4</th>\n",
       "      <td>Men jeg vil blot helt overordnet sige, at rege...</td>\n",
       "      <td>0</td>\n",
       "    </tr>\n",
       "    <tr>\n",
       "      <th>5</th>\n",
       "      <td>I Nye Borgerlige foreslog vi, at dagens beslut...</td>\n",
       "      <td>0</td>\n",
       "    </tr>\n",
       "    <tr>\n",
       "      <th>6</th>\n",
       "      <td>I Venstre vil vi gerne bruge af det offentlige...</td>\n",
       "      <td>1</td>\n",
       "    </tr>\n",
       "    <tr>\n",
       "      <th>7</th>\n",
       "      <td>Jeg ved ikke, om jeg selv elsker biler, men je...</td>\n",
       "      <td>0</td>\n",
       "    </tr>\n",
       "    <tr>\n",
       "      <th>8</th>\n",
       "      <td>Vi har fundet en rigtig god løsning for de ned...</td>\n",
       "      <td>0</td>\n",
       "    </tr>\n",
       "    <tr>\n",
       "      <th>9</th>\n",
       "      <td>Altså, vi bliver nødt til at operere med en sa...</td>\n",
       "      <td>0</td>\n",
       "    </tr>\n",
       "  </tbody>\n",
       "</table>\n",
       "</div>"
      ],
      "text/plain": [
       "                                                text  label\n",
       "0  Det her gør vi med åbent sind, med løftet pand...      0\n",
       "1  For hvordan kan vi fejre demokratiet, når det ...      0\n",
       "2  Børn, som vokser op i sådanne områder, får ind...      0\n",
       "3  Tak til ordføreren for talen. Jeg ved, at noge...      1\n",
       "4  Men jeg vil blot helt overordnet sige, at rege...      0\n",
       "5  I Nye Borgerlige foreslog vi, at dagens beslut...      0\n",
       "6  I Venstre vil vi gerne bruge af det offentlige...      1\n",
       "7  Jeg ved ikke, om jeg selv elsker biler, men je...      0\n",
       "8  Vi har fundet en rigtig god løsning for de ned...      0\n",
       "9  Altså, vi bliver nødt til at operere med en sa...      0"
      ]
     },
     "execution_count": 8,
     "metadata": {},
     "output_type": "execute_result"
    }
   ],
   "source": [
    "## Load DataFrame from CSV\n",
    "file_path = \"../climate_classifier/fine_tuning/ft_meetings_votes_995_covid.csv\"\n",
    "\n",
    "df_raw = pd.read_csv(file_path)\n",
    "#df_raw = pd.read_pickle(file_path)\n",
    "df = df_raw.drop(columns=[\"Unnamed: 0\"])\n",
    "\n",
    "#df['label'] = 1\n",
    "\n",
    "#df = df[['tweet', 'label']]\n",
    "print(len(df))\n",
    "df.head(10)"
   ]
  },
  {
   "cell_type": "code",
   "execution_count": 9,
   "metadata": {},
   "outputs": [
    {
     "name": "stdout",
     "output_type": "stream",
     "text": [
      "996\n"
     ]
    },
    {
     "data": {
      "text/html": [
       "<div>\n",
       "<style scoped>\n",
       "    .dataframe tbody tr th:only-of-type {\n",
       "        vertical-align: middle;\n",
       "    }\n",
       "\n",
       "    .dataframe tbody tr th {\n",
       "        vertical-align: top;\n",
       "    }\n",
       "\n",
       "    .dataframe thead th {\n",
       "        text-align: right;\n",
       "    }\n",
       "</style>\n",
       "<table border=\"1\" class=\"dataframe\">\n",
       "  <thead>\n",
       "    <tr style=\"text-align: right;\">\n",
       "      <th></th>\n",
       "      <th>text</th>\n",
       "      <th>label</th>\n",
       "    </tr>\n",
       "  </thead>\n",
       "  <tbody>\n",
       "    <tr>\n",
       "      <th>0</th>\n",
       "      <td>Det her gør vi med åbent sind, med løftet pand...</td>\n",
       "      <td>0</td>\n",
       "    </tr>\n",
       "    <tr>\n",
       "      <th>1</th>\n",
       "      <td>For hvordan kan vi fejre demokratiet, når det ...</td>\n",
       "      <td>0</td>\n",
       "    </tr>\n",
       "    <tr>\n",
       "      <th>2</th>\n",
       "      <td>Børn, som vokser op i sådanne områder, får ind...</td>\n",
       "      <td>0</td>\n",
       "    </tr>\n",
       "    <tr>\n",
       "      <th>3</th>\n",
       "      <td>Tak til ordføreren for talen. Jeg ved, at noge...</td>\n",
       "      <td>1</td>\n",
       "    </tr>\n",
       "    <tr>\n",
       "      <th>4</th>\n",
       "      <td>Men jeg vil blot helt overordnet sige, at rege...</td>\n",
       "      <td>0</td>\n",
       "    </tr>\n",
       "  </tbody>\n",
       "</table>\n",
       "</div>"
      ],
      "text/plain": [
       "                                                text  label\n",
       "0  Det her gør vi med åbent sind, med løftet pand...      0\n",
       "1  For hvordan kan vi fejre demokratiet, når det ...      0\n",
       "2  Børn, som vokser op i sådanne områder, får ind...      0\n",
       "3  Tak til ordføreren for talen. Jeg ved, at noge...      1\n",
       "4  Men jeg vil blot helt overordnet sige, at rege...      0"
      ]
     },
     "execution_count": 9,
     "metadata": {},
     "output_type": "execute_result"
    }
   ],
   "source": [
    "\n",
    "\n",
    "print(len(df))\n",
    "df[\"label\"] = df[\"label\"].apply(lambda row: int(row))\n",
    "df.head()"
   ]
  },
  {
   "cell_type": "code",
   "execution_count": 10,
   "metadata": {},
   "outputs": [
    {
     "data": {
      "text/plain": [
       "{'text': Value(dtype='string', id=None),\n",
       " 'label': Value(dtype='int64', id=None)}"
      ]
     },
     "execution_count": 10,
     "metadata": {},
     "output_type": "execute_result"
    }
   ],
   "source": [
    "## Convert to Dataset\n",
    "ds = Dataset.from_pandas(df, preserve_index=False)\n",
    "ds.features"
   ]
  },
  {
   "cell_type": "code",
   "execution_count": 11,
   "metadata": {},
   "outputs": [
    {
     "data": {
      "text/plain": [
       "DatasetDict({\n",
       "    train: Dataset({\n",
       "        features: ['text', 'label'],\n",
       "        num_rows: 747\n",
       "    })\n",
       "    test: Dataset({\n",
       "        features: ['text', 'label'],\n",
       "        num_rows: 249\n",
       "    })\n",
       "})"
      ]
     },
     "execution_count": 11,
     "metadata": {},
     "output_type": "execute_result"
    }
   ],
   "source": [
    "## Make test set split\n",
    "dataset_dict_our = ds.train_test_split()\n",
    "dataset_dict_our\n",
    "\n",
    "dataset_dict_our\n"
   ]
  },
  {
   "cell_type": "code",
   "execution_count": 12,
   "metadata": {},
   "outputs": [
    {
     "name": "stdout",
     "output_type": "stream",
     "text": [
      "ft_meetings_votes_995_covid\n"
     ]
    },
    {
     "name": "stderr",
     "output_type": "stream",
     "text": [
      "Flattening the indices: 100%|██████████| 1/1 [00:00<00:00, 39.55ba/s]\n",
      "Flattening the indices: 100%|██████████| 1/1 [00:00<00:00, 116.48ba/s]\n"
     ]
    }
   ],
   "source": [
    "## Save as DatasetDict\n",
    "title_claims = \"ft-meetings-votes-996.pkl\"\n",
    "title_climate = \"ft-meetings-votes-966\"\n",
    "title_alt = file_path.split(\"/\")[-1].split(\".csv\")[0]\n",
    "print(title_alt)\n",
    "\n",
    "dataset_dict_our.save_to_disk(title_climate+\".dataset\")"
   ]
  },
  {
   "cell_type": "code",
   "execution_count": null,
   "metadata": {},
   "outputs": [],
   "source": [
    "## Test to load dataset\n",
    "ds_test = DatasetDict.load_from_disk(file_path + \"name_123.dataset\")"
   ]
  },
  {
   "cell_type": "code",
   "execution_count": null,
   "metadata": {},
   "outputs": [],
   "source": [
    "## Inspect\n",
    "ds_test"
   ]
  },
  {
   "cell_type": "code",
   "execution_count": null,
   "metadata": {},
   "outputs": [],
   "source": [
    "#zip -r danfever_folketinget_claims.dataset.zip danfever_folketinget_claims.dataset"
   ]
  }
 ],
 "metadata": {
  "interpreter": {
   "hash": "ff0f2c4642be398ce074b047a4fc0dd90074f0796b13c26fa7578c7fcb7d160f"
  },
  "kernelspec": {
   "display_name": "Python 3.8.8 ('base')",
   "language": "python",
   "name": "python3"
  },
  "language_info": {
   "codemirror_mode": {
    "name": "ipython",
    "version": 3
   },
   "file_extension": ".py",
   "mimetype": "text/x-python",
   "name": "python",
   "nbconvert_exporter": "python",
   "pygments_lexer": "ipython3",
   "version": "3.9.7"
  },
  "orig_nbformat": 4
 },
 "nbformat": 4,
 "nbformat_minor": 2
}
