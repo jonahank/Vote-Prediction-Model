{
 "cells": [
  {
   "cell_type": "code",
   "execution_count": 1,
   "metadata": {},
   "outputs": [],
   "source": [
    "import pandas as pd\n",
    "import scraper_functions as func\n",
    "import reshaping_functions as shape\n",
    "import json"
   ]
  },
  {
   "cell_type": "markdown",
   "metadata": {},
   "source": [
    "### Reading the output dataframe and modifying it"
   ]
  },
  {
   "cell_type": "code",
   "execution_count": 5,
   "metadata": {},
   "outputs": [
    {
     "data": {
      "text/html": [
       "<div>\n",
       "<style scoped>\n",
       "    .dataframe tbody tr th:only-of-type {\n",
       "        vertical-align: middle;\n",
       "    }\n",
       "\n",
       "    .dataframe tbody tr th {\n",
       "        vertical-align: top;\n",
       "    }\n",
       "\n",
       "    .dataframe thead th {\n",
       "        text-align: right;\n",
       "    }\n",
       "</style>\n",
       "<table border=\"1\" class=\"dataframe\">\n",
       "  <thead>\n",
       "    <tr style=\"text-align: right;\">\n",
       "      <th></th>\n",
       "      <th>vote_id</th>\n",
       "      <th>description</th>\n",
       "      <th>votes</th>\n",
       "      <th>votes_by_party</th>\n",
       "      <th>vote_caller</th>\n",
       "      <th>url</th>\n",
       "    </tr>\n",
       "  </thead>\n",
       "  <tbody>\n",
       "    <tr>\n",
       "      <th>0</th>\n",
       "      <td>Afstemning nr. 152, 2021-22</td>\n",
       "      <td>[Sagsgang:, Fremsat 05-10-2021, 1. behandlet /...</td>\n",
       "      <td>{'politician': ['Abbas Razvi', 'Aki-Matilda Hø...</td>\n",
       "      <td>{'parties': ['Socialdemokratiet (S)', 'Venstre...</td>\n",
       "      <td>[Finansminister, Nicolai Wammen (S)]</td>\n",
       "      <td>https://www.ft.dk//samling/20211/afstemning/15...</td>\n",
       "    </tr>\n",
       "    <tr>\n",
       "      <th>1</th>\n",
       "      <td>Afstemning nr. 164, 2021-22</td>\n",
       "      <td>[Sagsgang:, Fremsat 05-10-2021, 1. behandlet /...</td>\n",
       "      <td>{'politician': ['Abbas Razvi', 'Aki-Matilda Hø...</td>\n",
       "      <td>{'parties': ['Socialdemokratiet (S)', 'Venstre...</td>\n",
       "      <td>[Finansminister, Nicolai Wammen (S)]</td>\n",
       "      <td>https://www.ft.dk//samling/20211/afstemning/16...</td>\n",
       "    </tr>\n",
       "    <tr>\n",
       "      <th>2</th>\n",
       "      <td>Afstemning nr. 183, 2021-22</td>\n",
       "      <td>[Sagsgang:, Fremsat 05-10-2021, 1. behandlet /...</td>\n",
       "      <td>{'politician': ['Abbas Razvi', 'Aki-Matilda Hø...</td>\n",
       "      <td>{'parties': ['Socialdemokratiet (S)', 'Venstre...</td>\n",
       "      <td>[Finansminister, Nicolai Wammen (S)]</td>\n",
       "      <td>https://www.ft.dk//samling/20211/afstemning/18...</td>\n",
       "    </tr>\n",
       "    <tr>\n",
       "      <th>3</th>\n",
       "      <td>Afstemning nr. 157, 2021-22</td>\n",
       "      <td>[Sagsgang:, Fremsat 05-10-2021, 1. behandlet /...</td>\n",
       "      <td>{'politician': ['Abbas Razvi', 'Aki-Matilda Hø...</td>\n",
       "      <td>{'parties': ['Socialdemokratiet (S)', 'Venstre...</td>\n",
       "      <td>[Finansminister, Nicolai Wammen (S)]</td>\n",
       "      <td>https://www.ft.dk//samling/20211/afstemning/15...</td>\n",
       "    </tr>\n",
       "    <tr>\n",
       "      <th>4</th>\n",
       "      <td>Afstemning nr. 211, 2021-22</td>\n",
       "      <td>[Sagsgang:, Fremsat 05-10-2021, 1. behandlet /...</td>\n",
       "      <td>{'politician': ['Abbas Razvi', 'Aki-Matilda Hø...</td>\n",
       "      <td>{'parties': ['Socialdemokratiet (S)', 'Venstre...</td>\n",
       "      <td>[Finansminister, Nicolai Wammen (S)]</td>\n",
       "      <td>https://www.ft.dk//samling/20211/afstemning/21...</td>\n",
       "    </tr>\n",
       "  </tbody>\n",
       "</table>\n",
       "</div>"
      ],
      "text/plain": [
       "                       vote_id  \\\n",
       "0  Afstemning nr. 152, 2021-22   \n",
       "1  Afstemning nr. 164, 2021-22   \n",
       "2  Afstemning nr. 183, 2021-22   \n",
       "3  Afstemning nr. 157, 2021-22   \n",
       "4  Afstemning nr. 211, 2021-22   \n",
       "\n",
       "                                         description  \\\n",
       "0  [Sagsgang:, Fremsat 05-10-2021, 1. behandlet /...   \n",
       "1  [Sagsgang:, Fremsat 05-10-2021, 1. behandlet /...   \n",
       "2  [Sagsgang:, Fremsat 05-10-2021, 1. behandlet /...   \n",
       "3  [Sagsgang:, Fremsat 05-10-2021, 1. behandlet /...   \n",
       "4  [Sagsgang:, Fremsat 05-10-2021, 1. behandlet /...   \n",
       "\n",
       "                                               votes  \\\n",
       "0  {'politician': ['Abbas Razvi', 'Aki-Matilda Hø...   \n",
       "1  {'politician': ['Abbas Razvi', 'Aki-Matilda Hø...   \n",
       "2  {'politician': ['Abbas Razvi', 'Aki-Matilda Hø...   \n",
       "3  {'politician': ['Abbas Razvi', 'Aki-Matilda Hø...   \n",
       "4  {'politician': ['Abbas Razvi', 'Aki-Matilda Hø...   \n",
       "\n",
       "                                      votes_by_party  \\\n",
       "0  {'parties': ['Socialdemokratiet (S)', 'Venstre...   \n",
       "1  {'parties': ['Socialdemokratiet (S)', 'Venstre...   \n",
       "2  {'parties': ['Socialdemokratiet (S)', 'Venstre...   \n",
       "3  {'parties': ['Socialdemokratiet (S)', 'Venstre...   \n",
       "4  {'parties': ['Socialdemokratiet (S)', 'Venstre...   \n",
       "\n",
       "                            vote_caller  \\\n",
       "0  [Finansminister, Nicolai Wammen (S)]   \n",
       "1  [Finansminister, Nicolai Wammen (S)]   \n",
       "2  [Finansminister, Nicolai Wammen (S)]   \n",
       "3  [Finansminister, Nicolai Wammen (S)]   \n",
       "4  [Finansminister, Nicolai Wammen (S)]   \n",
       "\n",
       "                                                 url  \n",
       "0  https://www.ft.dk//samling/20211/afstemning/15...  \n",
       "1  https://www.ft.dk//samling/20211/afstemning/16...  \n",
       "2  https://www.ft.dk//samling/20211/afstemning/18...  \n",
       "3  https://www.ft.dk//samling/20211/afstemning/15...  \n",
       "4  https://www.ft.dk//samling/20211/afstemning/21...  "
      ]
     },
     "execution_count": 5,
     "metadata": {},
     "output_type": "execute_result"
    }
   ],
   "source": [
    "df.head(5)"
   ]
  },
  {
   "cell_type": "code",
   "execution_count": 7,
   "metadata": {},
   "outputs": [],
   "source": [
    "#Get meeting descriptions ready\n",
    "\n",
    "# Example med alternativt format \n",
    "#print(df['description'][5482])\n",
    "\n",
    "df['description'][7004]\n",
    "\n",
    "df['description_text'] = df['description'].apply(lambda x: shape.find_resume(x))\n",
    "df['date'] = df['description'].apply(lambda x: shape.find_date(x))"
   ]
  },
  {
   "cell_type": "code",
   "execution_count": null,
   "metadata": {},
   "outputs": [],
   "source": [
    "\n",
    "# 6 cases where the description text was not found\n",
    "print(df[df.description_text == 'error occured'].description)\n",
    "\n",
    "# 324+ cases where the description text was not found (26,37 about climate change)\n",
    "df[(df.description_text == 'not found') & (df.description != 'no description') & (df.description != 'no data')]\n",
    "\n",
    "df"
   ]
  },
  {
   "cell_type": "code",
   "execution_count": 50,
   "metadata": {},
   "outputs": [
    {
     "data": {
      "text/plain": [
       "['Sagsgang:',\n",
       " 'Fremsat 05-10-2021',\n",
       " '1. behandlet / henvist til udvalg 07-10-2021',\n",
       " 'Betænkning afgivet 28-10-2021',\n",
       " '2. behandlet/henvist til udvalg 11-11-2021',\n",
       " 'Tillægsbetænkning afgivet 09-12-2021',\n",
       " '3. behandlet, vedtaget 22-12-2021',\n",
       " '3. behandlet, vedtaget 22-12-2021',\n",
       " 'Se hele tidsplanen',\n",
       " 'Lov nr. LTB nr. 2',\n",
       " 'Ministerområde:',\n",
       " 'Finansministeriet',\n",
       " 'Resumé:',\n",
       " 'Finanslovforslaget fastlægger størrelsen og fordelingen af de samlede statslige udgifter og indtægter for finansåret 2022. Lovforslaget indeholder desuden overslag over statens udgifter for de efterfølgende 3 år.',\n",
       " 'Afstemning:',\n",
       " 'Forslaget blev vedtaget. For stemte 94 (S, V, DF, SF, RV, EL, KF, ALT og IA), imod stemte 6 (NB, LA og FG), hverken for eller imod stemte 0.']"
      ]
     },
     "execution_count": 50,
     "metadata": {},
     "output_type": "execute_result"
    }
   ],
   "source": [
    "df.description[0]"
   ]
  },
  {
   "cell_type": "code",
   "execution_count": 93,
   "metadata": {},
   "outputs": [
    {
     "data": {
      "text/html": [
       "<div>\n",
       "<style scoped>\n",
       "    .dataframe tbody tr th:only-of-type {\n",
       "        vertical-align: middle;\n",
       "    }\n",
       "\n",
       "    .dataframe tbody tr th {\n",
       "        vertical-align: top;\n",
       "    }\n",
       "\n",
       "    .dataframe thead th {\n",
       "        text-align: right;\n",
       "    }\n",
       "</style>\n",
       "<table border=\"1\" class=\"dataframe\">\n",
       "  <thead>\n",
       "    <tr style=\"text-align: right;\">\n",
       "      <th></th>\n",
       "      <th>vote_id</th>\n",
       "      <th>description</th>\n",
       "      <th>politician</th>\n",
       "      <th>vote</th>\n",
       "      <th>date</th>\n",
       "    </tr>\n",
       "  </thead>\n",
       "  <tbody>\n",
       "  </tbody>\n",
       "</table>\n",
       "</div>"
      ],
      "text/plain": [
       "Empty DataFrame\n",
       "Columns: [vote_id, description, politician, vote, date]\n",
       "Index: []"
      ]
     },
     "execution_count": 93,
     "metadata": {},
     "output_type": "execute_result"
    }
   ],
   "source": [
    "p = 0\n",
    "\n",
    "expanded_view = pd.DataFrame(columns=['vote_id', 'description', 'politician', 'vote', 'url'])\n",
    "\n",
    "expanded_view"
   ]
  },
  {
   "cell_type": "code",
   "execution_count": 110,
   "metadata": {},
   "outputs": [
    {
     "name": "stdout",
     "output_type": "stream",
     "text": [
      "error\n",
      "error\n",
      "error\n",
      "error\n",
      "error\n",
      "error\n",
      "error\n",
      "error\n",
      "error\n",
      "error\n",
      "error\n",
      "error\n",
      "error\n",
      "error\n",
      "error\n",
      "error\n",
      "error\n",
      "error\n",
      "error\n",
      "error\n",
      "error\n",
      "error\n"
     ]
    },
    {
     "data": {
      "text/html": [
       "<div>\n",
       "<style scoped>\n",
       "    .dataframe tbody tr th:only-of-type {\n",
       "        vertical-align: middle;\n",
       "    }\n",
       "\n",
       "    .dataframe tbody tr th {\n",
       "        vertical-align: top;\n",
       "    }\n",
       "\n",
       "    .dataframe thead th {\n",
       "        text-align: right;\n",
       "    }\n",
       "</style>\n",
       "<table border=\"1\" class=\"dataframe\">\n",
       "  <thead>\n",
       "    <tr style=\"text-align: right;\">\n",
       "      <th></th>\n",
       "      <th>politician</th>\n",
       "      <th>party</th>\n",
       "      <th>vote</th>\n",
       "      <th>description</th>\n",
       "      <th>date</th>\n",
       "      <th>vote_id</th>\n",
       "    </tr>\n",
       "  </thead>\n",
       "  <tbody>\n",
       "    <tr>\n",
       "      <th>0</th>\n",
       "      <td>Anders Fogh Rasmussen</td>\n",
       "      <td>Venstre (V)</td>\n",
       "      <td>Fraværende</td>\n",
       "      <td>Ifølge finansloven bliver overskuddet på drift...</td>\n",
       "      <td>2004-12-20</td>\n",
       "      <td>Afstemning nr. 125, 2004-05 (1. samling)</td>\n",
       "    </tr>\n",
       "    <tr>\n",
       "      <th>1</th>\n",
       "      <td>Anders Møller</td>\n",
       "      <td>Uden for folketingsgrupperne (UFG)</td>\n",
       "      <td>Fraværende</td>\n",
       "      <td>Ifølge finansloven bliver overskuddet på drift...</td>\n",
       "      <td>2004-12-20</td>\n",
       "      <td>Afstemning nr. 125, 2004-05 (1. samling)</td>\n",
       "    </tr>\n",
       "    <tr>\n",
       "      <th>2</th>\n",
       "      <td>Anita Knakkergaard</td>\n",
       "      <td>Dansk Folkeparti (DF)</td>\n",
       "      <td>Imod</td>\n",
       "      <td>Ifølge finansloven bliver overskuddet på drift...</td>\n",
       "      <td>2004-12-20</td>\n",
       "      <td>Afstemning nr. 125, 2004-05 (1. samling)</td>\n",
       "    </tr>\n",
       "    <tr>\n",
       "      <th>3</th>\n",
       "      <td>Anne Baastrup</td>\n",
       "      <td>Socialistisk Folkeparti (SF)</td>\n",
       "      <td>For</td>\n",
       "      <td>Ifølge finansloven bliver overskuddet på drift...</td>\n",
       "      <td>2004-12-20</td>\n",
       "      <td>Afstemning nr. 125, 2004-05 (1. samling)</td>\n",
       "    </tr>\n",
       "    <tr>\n",
       "      <th>4</th>\n",
       "      <td>Anne Grete Holmsgaard</td>\n",
       "      <td>Socialistisk Folkeparti (SF)</td>\n",
       "      <td>Fraværende</td>\n",
       "      <td>Ifølge finansloven bliver overskuddet på drift...</td>\n",
       "      <td>2004-12-20</td>\n",
       "      <td>Afstemning nr. 125, 2004-05 (1. samling)</td>\n",
       "    </tr>\n",
       "    <tr>\n",
       "      <th>...</th>\n",
       "      <td>...</td>\n",
       "      <td>...</td>\n",
       "      <td>...</td>\n",
       "      <td>...</td>\n",
       "      <td>...</td>\n",
       "      <td>...</td>\n",
       "    </tr>\n",
       "    <tr>\n",
       "      <th>174</th>\n",
       "      <td>Uffe Elbæk</td>\n",
       "      <td>Frie Grønne, Danmarks Nye Venstrefløjsparti (FG)</td>\n",
       "      <td>Imod</td>\n",
       "      <td>Finanslovforslaget fastlægger størrelsen og fo...</td>\n",
       "      <td>2021-12-22</td>\n",
       "      <td>Afstemning nr. 152, 2021-22</td>\n",
       "    </tr>\n",
       "    <tr>\n",
       "      <th>175</th>\n",
       "      <td>Ulla Tørnæs</td>\n",
       "      <td>Venstre (V)</td>\n",
       "      <td>Fraværende</td>\n",
       "      <td>Finanslovforslaget fastlægger størrelsen og fo...</td>\n",
       "      <td>2021-12-22</td>\n",
       "      <td>Afstemning nr. 152, 2021-22</td>\n",
       "    </tr>\n",
       "    <tr>\n",
       "      <th>176</th>\n",
       "      <td>Victoria Velasquez</td>\n",
       "      <td>Enhedslisten (EL)</td>\n",
       "      <td>Fraværende</td>\n",
       "      <td>Finanslovforslaget fastlægger størrelsen og fo...</td>\n",
       "      <td>2021-12-22</td>\n",
       "      <td>Afstemning nr. 152, 2021-22</td>\n",
       "    </tr>\n",
       "    <tr>\n",
       "      <th>177</th>\n",
       "      <td>Zenia Stampe</td>\n",
       "      <td>Det Radikale Venstre (RV)</td>\n",
       "      <td>Imod</td>\n",
       "      <td>Finanslovforslaget fastlægger størrelsen og fo...</td>\n",
       "      <td>2021-12-22</td>\n",
       "      <td>Afstemning nr. 152, 2021-22</td>\n",
       "    </tr>\n",
       "    <tr>\n",
       "      <th>178</th>\n",
       "      <td>Aaja Chemnitz Larsen</td>\n",
       "      <td>Inuit Ataqatigiit (IA)</td>\n",
       "      <td>Imod</td>\n",
       "      <td>Finanslovforslaget fastlægger størrelsen og fo...</td>\n",
       "      <td>2021-12-22</td>\n",
       "      <td>Afstemning nr. 152, 2021-22</td>\n",
       "    </tr>\n",
       "  </tbody>\n",
       "</table>\n",
       "<p>1631593 rows × 6 columns</p>\n",
       "</div>"
      ],
      "text/plain": [
       "                politician                                             party  \\\n",
       "0    Anders Fogh Rasmussen                                       Venstre (V)   \n",
       "1            Anders Møller                Uden for folketingsgrupperne (UFG)   \n",
       "2       Anita Knakkergaard                             Dansk Folkeparti (DF)   \n",
       "3            Anne Baastrup                      Socialistisk Folkeparti (SF)   \n",
       "4    Anne Grete Holmsgaard                      Socialistisk Folkeparti (SF)   \n",
       "..                     ...                                               ...   \n",
       "174             Uffe Elbæk  Frie Grønne, Danmarks Nye Venstrefløjsparti (FG)   \n",
       "175            Ulla Tørnæs                                       Venstre (V)   \n",
       "176     Victoria Velasquez                                 Enhedslisten (EL)   \n",
       "177           Zenia Stampe                         Det Radikale Venstre (RV)   \n",
       "178   Aaja Chemnitz Larsen                            Inuit Ataqatigiit (IA)   \n",
       "\n",
       "           vote                                        description  \\\n",
       "0    Fraværende  Ifølge finansloven bliver overskuddet på drift...   \n",
       "1    Fraværende  Ifølge finansloven bliver overskuddet på drift...   \n",
       "2          Imod  Ifølge finansloven bliver overskuddet på drift...   \n",
       "3           For  Ifølge finansloven bliver overskuddet på drift...   \n",
       "4    Fraværende  Ifølge finansloven bliver overskuddet på drift...   \n",
       "..          ...                                                ...   \n",
       "174        Imod  Finanslovforslaget fastlægger størrelsen og fo...   \n",
       "175  Fraværende  Finanslovforslaget fastlægger størrelsen og fo...   \n",
       "176  Fraværende  Finanslovforslaget fastlægger størrelsen og fo...   \n",
       "177        Imod  Finanslovforslaget fastlægger størrelsen og fo...   \n",
       "178        Imod  Finanslovforslaget fastlægger størrelsen og fo...   \n",
       "\n",
       "           date                                   vote_id  \n",
       "0    2004-12-20  Afstemning nr. 125, 2004-05 (1. samling)  \n",
       "1    2004-12-20  Afstemning nr. 125, 2004-05 (1. samling)  \n",
       "2    2004-12-20  Afstemning nr. 125, 2004-05 (1. samling)  \n",
       "3    2004-12-20  Afstemning nr. 125, 2004-05 (1. samling)  \n",
       "4    2004-12-20  Afstemning nr. 125, 2004-05 (1. samling)  \n",
       "..          ...                                       ...  \n",
       "174  2021-12-22               Afstemning nr. 152, 2021-22  \n",
       "175  2021-12-22               Afstemning nr. 152, 2021-22  \n",
       "176  2021-12-22               Afstemning nr. 152, 2021-22  \n",
       "177  2021-12-22               Afstemning nr. 152, 2021-22  \n",
       "178  2021-12-22               Afstemning nr. 152, 2021-22  \n",
       "\n",
       "[1631593 rows x 6 columns]"
      ]
     },
     "execution_count": 110,
     "metadata": {},
     "output_type": "execute_result"
    }
   ],
   "source": [
    "\n",
    "for index, row in df.iterrows():\n",
    "    \n",
    "    \n",
    "    try:\n",
    "        temp = pd.DataFrame(df['votes'][index])\n",
    "        temp['description'] = df['description_text'][index]\n",
    "        temp['date'] = df['date'][index]\n",
    "        temp['vote_id'] = df.vote_id[index]\n",
    "        temp['url'] = df.vote.url[index]\n",
    "        expanded_view = temp.append(expanded_view)\n",
    "    \n",
    "    except:\n",
    "        temp['description'] = df['description_text'][index]\n",
    "        temp['date'] = df['date'][index]\n",
    "        temp['vote_id'] = df.vote_id[index]\n",
    "        temp['url'] = df.vote.url[index]\n",
    "        print(\"error\")\n",
    "    \n",
    "expanded_view\n"
   ]
  },
  {
   "cell_type": "code",
   "execution_count": 113,
   "metadata": {},
   "outputs": [
    {
     "data": {
      "text/plain": [
       "politician     5563\n",
       "party          5563\n",
       "vote           5563\n",
       "description    5563\n",
       "date           5563\n",
       "vote_id        5563\n",
       "dtype: int64"
      ]
     },
     "execution_count": 113,
     "metadata": {},
     "output_type": "execute_result"
    }
   ],
   "source": [
    "expanded_view.to_pickle(\"votes_by_pol.pkl\")\n"
   ]
  },
  {
   "cell_type": "code",
   "execution_count": 124,
   "metadata": {},
   "outputs": [
    {
     "name": "stdout",
     "output_type": "stream",
     "text": [
      "Uffe Elbæk has voted for 1361 times\n"
     ]
    }
   ],
   "source": [
    "politician = 'Uffe Elbæk'\n",
    "\n",
    "view = expanded_view[expanded_view.politician == politician]\n",
    "\n",
    "\n",
    "print(\"Uffe Elbæk has voted for\", len(view[view.vote == 'For']),\"times\")"
   ]
  },
  {
   "cell_type": "code",
   "execution_count": 105,
   "metadata": {},
   "outputs": [
    {
     "data": {
      "text/html": [
       "<div>\n",
       "<style scoped>\n",
       "    .dataframe tbody tr th:only-of-type {\n",
       "        vertical-align: middle;\n",
       "    }\n",
       "\n",
       "    .dataframe tbody tr th {\n",
       "        vertical-align: top;\n",
       "    }\n",
       "\n",
       "    .dataframe thead th {\n",
       "        text-align: right;\n",
       "    }\n",
       "</style>\n",
       "<table border=\"1\" class=\"dataframe\">\n",
       "  <thead>\n",
       "    <tr style=\"text-align: right;\">\n",
       "      <th></th>\n",
       "      <th>politician</th>\n",
       "      <th>party</th>\n",
       "      <th>vote</th>\n",
       "      <th>description</th>\n",
       "      <th>date</th>\n",
       "      <th>vote_id</th>\n",
       "    </tr>\n",
       "  </thead>\n",
       "  <tbody>\n",
       "    <tr>\n",
       "      <th>0</th>\n",
       "      <td>Abbas Razvi</td>\n",
       "      <td>Det Radikale Venstre (RV)</td>\n",
       "      <td>Imod</td>\n",
       "      <td>Finanslovforslaget fastlægger størrelsen og fo...</td>\n",
       "      <td>2021-12-22</td>\n",
       "      <td>Afstemning nr. 152, 2021-22</td>\n",
       "    </tr>\n",
       "    <tr>\n",
       "      <th>1</th>\n",
       "      <td>Aki-Matilda Høegh-Dam</td>\n",
       "      <td>Siumut (SIU)</td>\n",
       "      <td>Fraværende</td>\n",
       "      <td>Finanslovforslaget fastlægger størrelsen og fo...</td>\n",
       "      <td>2021-12-22</td>\n",
       "      <td>Afstemning nr. 152, 2021-22</td>\n",
       "    </tr>\n",
       "    <tr>\n",
       "      <th>2</th>\n",
       "      <td>Alex Ahrendtsen</td>\n",
       "      <td>Dansk Folkeparti (DF)</td>\n",
       "      <td>For</td>\n",
       "      <td>Finanslovforslaget fastlægger størrelsen og fo...</td>\n",
       "      <td>2021-12-22</td>\n",
       "      <td>Afstemning nr. 152, 2021-22</td>\n",
       "    </tr>\n",
       "    <tr>\n",
       "      <th>3</th>\n",
       "      <td>Alex Vanopslagh</td>\n",
       "      <td>Liberal Alliance (LA)</td>\n",
       "      <td>Fraværende</td>\n",
       "      <td>Finanslovforslaget fastlægger størrelsen og fo...</td>\n",
       "      <td>2021-12-22</td>\n",
       "      <td>Afstemning nr. 152, 2021-22</td>\n",
       "    </tr>\n",
       "    <tr>\n",
       "      <th>4</th>\n",
       "      <td>Alexander Grandt</td>\n",
       "      <td>Socialdemokratiet (S)</td>\n",
       "      <td>Imod</td>\n",
       "      <td>Finanslovforslaget fastlægger størrelsen og fo...</td>\n",
       "      <td>2021-12-22</td>\n",
       "      <td>Afstemning nr. 152, 2021-22</td>\n",
       "    </tr>\n",
       "    <tr>\n",
       "      <th>...</th>\n",
       "      <td>...</td>\n",
       "      <td>...</td>\n",
       "      <td>...</td>\n",
       "      <td>...</td>\n",
       "      <td>...</td>\n",
       "      <td>...</td>\n",
       "    </tr>\n",
       "    <tr>\n",
       "      <th>174</th>\n",
       "      <td>Uffe Elbæk</td>\n",
       "      <td>Frie Grønne, Danmarks Nye Venstrefløjsparti (FG)</td>\n",
       "      <td>Imod</td>\n",
       "      <td>Finanslovforslaget fastlægger størrelsen og fo...</td>\n",
       "      <td>2021-12-22</td>\n",
       "      <td>Afstemning nr. 152, 2021-22</td>\n",
       "    </tr>\n",
       "    <tr>\n",
       "      <th>175</th>\n",
       "      <td>Ulla Tørnæs</td>\n",
       "      <td>Venstre (V)</td>\n",
       "      <td>Fraværende</td>\n",
       "      <td>Finanslovforslaget fastlægger størrelsen og fo...</td>\n",
       "      <td>2021-12-22</td>\n",
       "      <td>Afstemning nr. 152, 2021-22</td>\n",
       "    </tr>\n",
       "    <tr>\n",
       "      <th>176</th>\n",
       "      <td>Victoria Velasquez</td>\n",
       "      <td>Enhedslisten (EL)</td>\n",
       "      <td>Fraværende</td>\n",
       "      <td>Finanslovforslaget fastlægger størrelsen og fo...</td>\n",
       "      <td>2021-12-22</td>\n",
       "      <td>Afstemning nr. 152, 2021-22</td>\n",
       "    </tr>\n",
       "    <tr>\n",
       "      <th>177</th>\n",
       "      <td>Zenia Stampe</td>\n",
       "      <td>Det Radikale Venstre (RV)</td>\n",
       "      <td>Imod</td>\n",
       "      <td>Finanslovforslaget fastlægger størrelsen og fo...</td>\n",
       "      <td>2021-12-22</td>\n",
       "      <td>Afstemning nr. 152, 2021-22</td>\n",
       "    </tr>\n",
       "    <tr>\n",
       "      <th>178</th>\n",
       "      <td>Aaja Chemnitz Larsen</td>\n",
       "      <td>Inuit Ataqatigiit (IA)</td>\n",
       "      <td>Imod</td>\n",
       "      <td>Finanslovforslaget fastlægger størrelsen og fo...</td>\n",
       "      <td>2021-12-22</td>\n",
       "      <td>Afstemning nr. 152, 2021-22</td>\n",
       "    </tr>\n",
       "  </tbody>\n",
       "</table>\n",
       "<p>358 rows × 6 columns</p>\n",
       "</div>"
      ],
      "text/plain": [
       "                politician                                             party  \\\n",
       "0              Abbas Razvi                         Det Radikale Venstre (RV)   \n",
       "1    Aki-Matilda Høegh-Dam                                      Siumut (SIU)   \n",
       "2          Alex Ahrendtsen                             Dansk Folkeparti (DF)   \n",
       "3          Alex Vanopslagh                             Liberal Alliance (LA)   \n",
       "4         Alexander Grandt                             Socialdemokratiet (S)   \n",
       "..                     ...                                               ...   \n",
       "174             Uffe Elbæk  Frie Grønne, Danmarks Nye Venstrefløjsparti (FG)   \n",
       "175            Ulla Tørnæs                                       Venstre (V)   \n",
       "176     Victoria Velasquez                                 Enhedslisten (EL)   \n",
       "177           Zenia Stampe                         Det Radikale Venstre (RV)   \n",
       "178   Aaja Chemnitz Larsen                            Inuit Ataqatigiit (IA)   \n",
       "\n",
       "           vote                                        description  \\\n",
       "0          Imod  Finanslovforslaget fastlægger størrelsen og fo...   \n",
       "1    Fraværende  Finanslovforslaget fastlægger størrelsen og fo...   \n",
       "2           For  Finanslovforslaget fastlægger størrelsen og fo...   \n",
       "3    Fraværende  Finanslovforslaget fastlægger størrelsen og fo...   \n",
       "4          Imod  Finanslovforslaget fastlægger størrelsen og fo...   \n",
       "..          ...                                                ...   \n",
       "174        Imod  Finanslovforslaget fastlægger størrelsen og fo...   \n",
       "175  Fraværende  Finanslovforslaget fastlægger størrelsen og fo...   \n",
       "176  Fraværende  Finanslovforslaget fastlægger størrelsen og fo...   \n",
       "177        Imod  Finanslovforslaget fastlægger størrelsen og fo...   \n",
       "178        Imod  Finanslovforslaget fastlægger størrelsen og fo...   \n",
       "\n",
       "           date                      vote_id  \n",
       "0    2021-12-22  Afstemning nr. 152, 2021-22  \n",
       "1    2021-12-22  Afstemning nr. 152, 2021-22  \n",
       "2    2021-12-22  Afstemning nr. 152, 2021-22  \n",
       "3    2021-12-22  Afstemning nr. 152, 2021-22  \n",
       "4    2021-12-22  Afstemning nr. 152, 2021-22  \n",
       "..          ...                          ...  \n",
       "174  2021-12-22  Afstemning nr. 152, 2021-22  \n",
       "175  2021-12-22  Afstemning nr. 152, 2021-22  \n",
       "176  2021-12-22  Afstemning nr. 152, 2021-22  \n",
       "177  2021-12-22  Afstemning nr. 152, 2021-22  \n",
       "178  2021-12-22  Afstemning nr. 152, 2021-22  \n",
       "\n",
       "[358 rows x 6 columns]"
      ]
     },
     "execution_count": 105,
     "metadata": {},
     "output_type": "execute_result"
    }
   ],
   "source": [
    "\n",
    "temp = pd.DataFrame(df['votes'][index])\n",
    "#print(temp)\n",
    "\n",
    "temp['description'] = df['description_text'][index]\n",
    "temp['date'] = df['date'][index]\n",
    "temp['vote_id'] = df.vote_id[index]\n",
    "\n",
    "expanded_view.append(temp)\n",
    "#print(expanded_view)\n",
    "\n",
    "expanded_view = temp.append(expanded_view)\n",
    "\n"
   ]
  },
  {
   "cell_type": "code",
   "execution_count": null,
   "metadata": {},
   "outputs": [],
   "source": [
    "temp = pd.DataFrame(df['votes'][index])\n",
    "\n",
    "#print(temp)\n",
    "\n",
    "temp['description'] = df['description_text'][index]\n",
    "temp['date'] = df['date'][index]\n",
    "temp['vote_id'] = df.vote_id[index]\n",
    "\n",
    "#print(temp)\n",
    "\n",
    "expanded_view.append(temp)\n",
    "print(expanded_view)\n",
    "p+=1\n",
    "if p > 2: break\n",
    "    \n",
    "    \n",
    "#print(expanded_view)"
   ]
  }
 ],
 "metadata": {
  "interpreter": {
   "hash": "36e2581dfb10b7e3de3547be529c2e8e9e4d59798f578734b808d68ebdb931d0"
  },
  "kernelspec": {
   "display_name": "Python 3.7.0 64-bit",
   "language": "python",
   "name": "python3"
  },
  "language_info": {
   "codemirror_mode": {
    "name": "ipython",
    "version": 3
   },
   "file_extension": ".py",
   "mimetype": "text/x-python",
   "name": "python",
   "nbconvert_exporter": "python",
   "pygments_lexer": "ipython3",
   "version": "3.9.7"
  },
  "orig_nbformat": 4
 },
 "nbformat": 4,
 "nbformat_minor": 2
}
                                                                                                                                                                                                                                                                                                                                                                                                                                                                                                                                                                                                                                                                                                                                                                                                                                                                                                                                                                                                                                                                                                                                                                                                                                                                                                                                                                                                                                                                                                                                                                                                                                                                                                                                                                                                                                                                                                                                                                                                                                                                                                                                                                                                                                                                                                                                                                                                                                                                                                                  W�0     0 ����HLG�q�   ,   -  �l�� �B��}K>�>�4�%�} x, � ` fi leScanne r.cppw  $ ,F,::C heckErro rStateMi�smatch ' 62E01D72 BA27DDC1 !148500 a%MountP@oint%['0 ]\5VyMNY s7pdpZ5i ycHbHJUg \z5A-7B6 VEl_UG4y COTcYOSQ BiO-etAI oNUxL_Vy VhFY\pXe -CrGO77Q um9kowIq PBg\YkTA jbJ_-nlL LP-b92-f ce9iNBLl DvrvGfWd lCxzS9s\ -JRCjXdv IbTB1kzs AM1eDRN9 8WSmw_cJ HtwG03QG 89k\brEE QVhEh2xM Clt3Dkob RA\7saw6 V7YW_LmF bZqgM33O A\#\_iXB slFf0GJQ PHKBwbjj�fw����g݃n1�n�n�n�n\lz mUr0SWgV VcgO0jIZ(v2h�nr�nT(   93�3�� NK��ʞ t@ӥm����z1�ˁ  CoreApiAܽ  �::IsPl aceholde�rsOnňu �bA5E ���ǂV��п�J���  
@y SkyDri veClientM�� � CK: :GetDetaA dItemA}u0sEx\�	_y\2 spTI0OiR 4HMYXNue JvleJkk5 Xqc2QAzI jNfv0slo 2s\4LmQx@0ER3vJ�u6 ic3UiFQ\ N0wssUMO Uag954I- odxDScnw WKoWT67J XeoNkcVx _A0\MANW 5i93yLgE whcZQE8S hA\OoDfu DN2drXNh WcEq37u6 rX_WXxNS A-cntsMs SBlhaSfs 3nkGuJnH Vs39eSZx 8Ms\MwXE 8TI4VESe opNKRYuc JKTbVjDT s6IesJ38 4XThfrM\ f2u1t1x8 47dVjcs1 LKUV8_oC uhBSOyrT 0Lykyr8k FWPkrUAz TM1H83BV-h �8eN.i�pynb�1F  �=y�=�'  � 9l��hN� ,ȸ8���$1*a� �`N  "� Winbox`�terCo mmunicat�ionsPor�?J� 4>::HPW riteData�L�C  � � P�您_�  _�!�_�� +K�2��14_�_�?_�_�_�_ѯh�hR6 >OE46_bw UPUIoVMF�Fg�BQ �'���L��L�L�L�L�#���L��L�3
 �L�L�N�L����LG��L{#� �L��L�L�L�L�L�L�L�L�L�L�L�L�LyTH OHsTRcem RtV3PPeB WhiHbINM C7_K16dn uYtyDK54��K�K���?��?��er�?�|�3�?����?��������ό��z�l2B miH_3Eic lFVGGE8_�hgA�5Q �?��?��?�?�?�?�?��?ό�p�?ό όόt�?�����?όόόόόόόόόόόόsȌJ579Y91 eahkvm5Y tNdFb4b3 0KKoyiBL kYbx2Ji1�EPQo�?�?�������pp���rt�{�@� &! ��/��/�/�/�/�/>��/�/p�/�/^� ent.cpp�   ( 0CSk yDriveCli �::GetD etailedI temStatu sExG  % MountPoi nt%[62E0 1D72BA27 DDC1!140 ]\2spTI0 OiR4HMYX NueJvleJ kk5Xqc2Q AzIjNfv0 slo2s\4L mQx0ER3v JowI6ic3 UiFQ\N0w ssUMOUag 954I-odx DScnwWKo WT67JXeo NkcVx_A0 \MANW5i9 3yLgEwhc ZQE8ShA\ OoDfuDN2 drXNhWcE q37u6rX_ WXxNSA-c ntsMsSBl haSfs3nk GuJnHVs3 9eSZx8Ms \MwXE8TI 4VESeopN KRYucJKT bVjDTs6I esJ384XT hfrM\jxp QURktuAh g_3ACAK2 IFrS4Ky6 eb62Tdui g1KiZLpY�.ipynb��B������G�q� �,   -  �l ���B��} K>>�4�%��}  � �f��Scanne�r��w  $ F::Chec@kError�e Mismatch�	q8504@ {5VyMNY s7pdpZ5i ycHbHJUg \z5A-7B6 VEl_UG4y COTcYOSQ BiO-etAI oNUxL_Vy VhFY\pXe -CrGO77Qum9k��qPB g\YkTAjb J_-nlLLP -b92-fce 9iNBLlDv rvGfWdlC xzS9s\-J RCjXdvIb TB1kzsAM 1eDRN98W Smw_cJHt wG03QG89 k\brEEQV hEh2xMCl t3DkobRA \7saw6V7 YW_LmFbZ qgM33OA\ #\a0beWE HH3j5_9t JfUvPkXgW�_A�nȈnT��9 3�3��NK� �ʞ tӥmh����1�\�  CoreApiA�m�  �: :IsPlace holdersOn�b A5E���ǂ�V����J��@�� K�����\�	�A��������K_YW fHmjqTNL C2ULJB-n Y0ofGN6_ NJLmEgYE DI4AsQ3V ykQx1Ch_ LVmJLrxH�xdY_;��?�?��?�?�5?�¿?�?�?�?�?�?�3�Eua5 skqBXRbk EIlogv9Y�dw�m� u�_7B7��C ��a���+��60 �w\��\�\��\�\�\�\�\�\�\�\�\gzDVAmG bf3iWvM1@MO5cVS�\i ElR3lYdg 61pAaNVI V5jSP_2N r-e-KjBx zCuCAZHE�9YCQ ����y W��y�y�y��y4��7�������������������ZuQIpo 5tLIT8jY 6tkqd6X4 M2TsM3EE nOK9yd0s�F4mko������eϖ ϖϖϖ���8���ϖϖ�ϖϖϖϖϖϖϖϖÖ�9�9fMVA0 IT2uOZ8q dgIZxOWt PN7TGCJV vAj56KCy@k-9eDc������� �ϳϳ���9����������������VFq0peP zmNuY1FV vbBoW92P oYbk5iuQ AHHKcB6G�pbTY�V �����������8�510������������e� wG03QG89 k\brEEQV hEh2xMCl t3DkobRA \gzDVAmG bf3iWvM1 MO5cVSA\ #\FZgfFb 2ULuoL_J WUFAiEIZ 79K1-LdZ eZoycpTK�sDA8U  !
�����G�q�  ,   -  �l� ��B��}K >>�4�%�}-/� 0 fi leScanne r.cppw  $ F::C heckErro rStateMi�smatch ' 62E01D72 BA27DDC1 !148511�0%MountP@oint%[�0 ]\5VyMNY s7pdpZ5i ycHbHJUg \z5A-7B6 VEl_UG4y COTcYOSQ BiO-etAI oNUxL_Vy VhFY\pXe -CrGO77Q um9kowIq PBg\YkTA jbJ_-nlL LP-b92-f ce9iNBLl DvrvGfWd lCxzS9s\ -JRCjXdv IbTB1kzs AM1eDRN9 8WSmw_cJHt��-8yuS baqfK1rv YrLUzKxmNw�_A�n	H�n��� �n �n20@�n�n�n�nYo2R RfIwUzIO 8wwRLHrP f6RFo2eX J78jjHW-�6sAd_xQe{A�s�9_q_q_q3�_q14_q�9_q_q_q_qcVL2QsP Ighw0hyK@z6r-zz �V 5M7pirhp sG6UffkQ@gbDg\#O74�_7B7_q ����4_q?_7����_q����A\_7I7bSh7GJ _dddzFby�ThDBFFjP��N�9�9_q_q5��s��8_q_q_q_q_q_q_q_q_q_�S���8�8_ 3RJ58EFM 8OnwXFhT�E983�U j��_���_�_�_�_���r�Q�6�U��                                                                                                                                                                                                                                                                                                                                                                                                                                                                                                                                                                                                                                                                                                                                                                                                                                                                                                                                                                                                                                                                                                                                                                                                                                                                                                                                                                                                                                                                                                                                                                                                                                                                                                                                                                                                                                                                                                                                                                                                                                                                                                                                                                                                                                                                                                                                                                                                                                                                                                                                                                                                                                                                                                                                                                                                                                                                                                                                                                                                                                                                                                                                                                                                                                                                                                                                                                                                                                                                                                                                                                                                                                                                                                                                                                                                                                                                                                                                                                                                                                                                                                                                                                                                                                                                                                                                                                                                                                                                                                                                                                                                                                                                                                                                                                                                                                                                                                                                                                                                                                                                                                                                                                                                                                                                                                                                                                                                                                                                                                                                                                                                                                                                                                                                                                                                                       