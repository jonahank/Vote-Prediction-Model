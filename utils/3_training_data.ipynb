{
 "cells": [
  {
   "cell_type": "code",
   "execution_count": null,
   "metadata": {},
   "outputs": [],
   "source": [
    "## Imports\n",
    "import pandas as pd\n",
    "import json\n",
    "from sklearn.model_selection import train_test_split"
   ]
  },
  {
   "cell_type": "code",
   "execution_count": null,
   "metadata": {},
   "outputs": [],
   "source": [
    "file_path_all = \"../climate_classifier/scored_data/votes_data_all.pkl\"\n",
    "file_path_climate = \"../climate_classifier/scored_data/votes_data_climate.pkl\"\n",
    "\n",
    "df = pd.read_pickle(\"../climate_classifier/scored_data/votes_data_all.pkl\")"
   ]
  },
  {
   "cell_type": "markdown",
   "metadata": {},
   "source": [
    "### Train-Test Split\n",
    "Making the Train-Test split of our files to avoid data leakage and comparability between our models with the seed random_state=42"
   ]
  },
  {
   "cell_type": "code",
   "execution_count": null,
   "metadata": {},
   "outputs": [],
   "source": [
    "c_train, c_test = train_test_split(df[df['y_pred']=='climate'], test_size=.20, shuffle=True, random_state=42)\n",
    "c_train.reset_index(drop=True, inplace=True)\n",
    "c_test.reset_index(drop=True, inplace=True)"
   ]
  },
  {
   "cell_type": "code",
   "execution_count": null,
   "metadata": {},
   "outputs": [],
   "source": [
    "nc_train, nc_test = train_test_split(df[df['y_pred']=='non-climate'], test_size=.20, shuffle=True, random_state=42)"
   ]
  },
  {
   "cell_type": "code",
   "execution_count": null,
   "metadata": {},
   "outputs": [],
   "source": [
    "train = nc_train.append(c_train)\n",
    "test = nc_test.append(c_test)"
   ]
  },
  {
   "cell_type": "code",
   "execution_count": null,
   "metadata": {},
   "outputs": [],
   "source": [
    "train = train.sample(frac=1)\n",
    "test = test.sample(frac=1)\n",
    "\n",
    "train.reset_index(drop=True, inplace=True)\n",
    "test.reset_index(drop=True, inplace=True)"
   ]
  },
  {
   "cell_type": "code",
   "execution_count": null,
   "metadata": {},
   "outputs": [],
   "source": [
    "## Climate only splits\n",
    "#c_train.to_pickle(\"c_train.pkl\")\n",
    "#c_test.to_pickle(\"c_test.pkl\")"
   ]
  },
  {
   "cell_type": "code",
   "execution_count": null,
   "metadata": {},
   "outputs": [],
   "source": [
    "## All data splits\n",
    "#train.to_pickle(\"train.pkl\")\n",
    "#test.to_pickle(\"test.pkl\")"
   ]
  },
  {
   "cell_type": "markdown",
   "metadata": {},
   "source": [
    "## Preparing data for training by party and politician"
   ]
  },
  {
   "cell_type": "code",
   "execution_count": null,
   "metadata": {},
   "outputs": [],
   "source": [
    "df = df.drop_duplicates(subset='description_text').reset_index(drop=True)\n",
    "df = df[1:-1]"
   ]
  },
  {
   "cell_type": "markdown",
   "metadata": {},
   "source": [
    "### Expanded view by party"
   ]
  },
  {
   "cell_type": "code",
   "execution_count": null,
   "metadata": {},
   "outputs": [],
   "source": [
    "view = df[['date','description_text','votes', 'vote_caller']]"
   ]
  },
  {
   "cell_type": "code",
   "execution_count": null,
   "metadata": {},
   "outputs": [],
   "source": [
    "expanded_view = pd.DataFrame(columns=['date', 'description', 'politician', 'vote'])\n",
    "\n",
    "\n",
    "for index, row in view.iterrows():\n",
    "    \n",
    "    \n",
    "    try:\n",
    "        temp = pd.DataFrame(view['votes'][index])\n",
    "        temp['description'] = view['description_text'][index]\n",
    "        temp['date'] = view['date'][index]\n",
    "        \n",
    "        \n",
    "        expanded_view = temp.append(expanded_view)\n",
    "    \n",
    "    except:\n",
    "        temp['description'] = view['description_text'][index]\n",
    "        temp['date'] = view['date'][index]\n",
    "        print(\"error\")\n",
    "    \n",
    "expanded_view"
   ]
  },
  {
   "cell_type": "code",
   "execution_count": null,
   "metadata": {},
   "outputs": [],
   "source": [
    "expanded_view.to_pickle(\"../climate_classifier/scored_data/votes_data_all_expanded_politician.pkl\")"
   ]
  },
  {
   "cell_type": "markdown",
   "metadata": {},
   "source": [
    "### Expanded View by Party"
   ]
  },
  {
   "cell_type": "code",
   "execution_count": null,
   "metadata": {},
   "outputs": [],
   "source": [
    "view = df[['date', 'description_text', 'votes_by_party', 'vote_caller']]"
   ]
  },
  {
   "cell_type": "code",
   "execution_count": 13,
   "metadata": {},
   "outputs": [],
   "source": [
    "expanded_view = pd.DataFrame(columns=['date', 'description', 'party', 'vote'])\n",
    "\n",
    "\n",
    "for index, row in view.iterrows():\n",
    "    \n",
    "    \n",
    "    try:\n",
    "        temp = pd.DataFrame(view['votes_by_party'][index])\n",
    "        temp['description'] = view['description_text'][index]\n",
    "        temp['date'] = view['date'][index]\n",
    "        \n",
    "        expanded_view = temp.append(expanded_view)\n",
    "    \n",
    "    except:\n",
    "        temp['description'] = view['description_text'][index]\n",
    "        temp['date'] = view['date'][index]\n",
    "        print(\"error\")\n",
    "        \n",
    "expanded_view"
   ]
  },
  {
   "cell_type": "code",
   "execution_count": null,
   "metadata": {},
   "outputs": [],
   "source": [
    "expanded_view.drop(columns=['party', 'vote'], inplace=True)"
   ]
  },
  {
   "cell_type": "code",
   "execution_count": null,
   "metadata": {},
   "outputs": [],
   "source": [
    "## Save to csv\n",
    "import json\n",
    "\n",
    "lst = []\n",
    "\n",
    "for i in expanded_view.parties.unique():\n",
    "    lst.append(i.split(\" (\")[0])\n",
    "\n",
    "with open('party_lst.json', 'w') as outfile:\n",
    "    json.dump(lst, outfile) \n",
    "\n",
    "dir = \"by_party/\"\n",
    "for i in expanded_view.parties.unique():\n",
    "    name = i.split(\" (\")[0]\n",
    "    df = expanded_view[expanded_view.parties == i]\n",
    "    #df.to_pickle(dir+name+\".pkl\", protocol=4)\n",
    "    df.to_csv(dir+name+\".csv\")"
   ]
  }
 ],
 "metadata": {
  "interpreter": {
   "hash": "6c394272594a68b0a5bd03bbb8469a449c9402c12c87bbd02bc40bbbc1d6f707"
  },
  "kernelspec": {
   "display_name": "Python 3.9.7 64-bit",
   "language": "python",
   "name": "python3"
  },
  "language_info": {
   "codemirror_mode": {
    "name": "ipython",
    "version": 3
   },
   "file_extension": ".py",
   "mimetype": "text/x-python",
   "name": "python",
   "nbconvert_exporter": "python",
   "pygments_lexer": "ipython3",
   "version": "3.9.7"
  },
  "orig_nbformat": 4
 },
 "nbformat": 4,
 "nbformat_minor": 2
}
